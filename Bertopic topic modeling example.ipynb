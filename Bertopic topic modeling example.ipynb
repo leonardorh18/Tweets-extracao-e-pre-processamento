{
 "cells": [
  {
   "cell_type": "code",
   "execution_count": 242,
   "id": "e7348029",
   "metadata": {},
   "outputs": [],
   "source": [
    "from bertopic import BERTopic\n",
    "import pandas as pd\n",
    "import numpy as np\n",
    "from datetime import datetime\n"
   ]
  },
  {
   "cell_type": "code",
   "execution_count": 243,
   "id": "cdd6a7ff",
   "metadata": {},
   "outputs": [],
   "source": [
    "\n",
    "tweets = pd.read_csv(\"datalake/pre_proc/tweets_sobre_china.csv\")"
   ]
  },
  {
   "cell_type": "code",
   "execution_count": 244,
   "id": "31df5e4f",
   "metadata": {
    "scrolled": true
   },
   "outputs": [
    {
     "data": {
      "text/plain": [
       "20000"
      ]
     },
     "execution_count": 244,
     "metadata": {},
     "output_type": "execute_result"
    }
   ],
   "source": [
    "tweets.shape[0]"
   ]
  },
  {
   "cell_type": "code",
   "execution_count": 245,
   "id": "3ca369fa",
   "metadata": {
    "scrolled": true
   },
   "outputs": [
    {
     "data": {
      "text/plain": [
       "Unnamed: 0      0\n",
       "Unnamed: 0.1    0\n",
       "tweet_id        0\n",
       "date            0\n",
       "text            0\n",
       "user            0\n",
       "preproc         3\n",
       "dtype: int64"
      ]
     },
     "execution_count": 245,
     "metadata": {},
     "output_type": "execute_result"
    }
   ],
   "source": [
    "tweets.isna().sum()"
   ]
  },
  {
   "cell_type": "code",
   "execution_count": 246,
   "id": "907a5a5e",
   "metadata": {},
   "outputs": [],
   "source": [
    "tweets = tweets[ tweets.preproc.notnull() ]"
   ]
  },
  {
   "cell_type": "code",
   "execution_count": 247,
   "id": "ea4eb020",
   "metadata": {},
   "outputs": [
    {
     "data": {
      "text/plain": [
       "19997"
      ]
     },
     "execution_count": 247,
     "metadata": {},
     "output_type": "execute_result"
    }
   ],
   "source": [
    "tweets.shape[0]"
   ]
  },
  {
   "cell_type": "code",
   "execution_count": 248,
   "id": "43680fb5",
   "metadata": {},
   "outputs": [],
   "source": [
    "docs = tweets.preproc.to_list()\n",
    "raw_docs = tweets.text.to_list()"
   ]
  },
  {
   "cell_type": "markdown",
   "id": "469d25be",
   "metadata": {},
   "source": [
    "# Verificando se ainda tem links depois do pre processamento"
   ]
  },
  {
   "cell_type": "code",
   "execution_count": 249,
   "id": "6c9ac1b0",
   "metadata": {},
   "outputs": [],
   "source": [
    "for doc in docs:\n",
    "    if 'http' in doc:\n",
    "        print(doc)"
   ]
  },
  {
   "cell_type": "markdown",
   "id": "3f47dee8",
   "metadata": {},
   "source": [
    "# Analisando as hashtags"
   ]
  },
  {
   "cell_type": "code",
   "execution_count": 250,
   "id": "ae63b468",
   "metadata": {},
   "outputs": [],
   "source": [
    "from collections import Counter\n",
    "hashtags = []\n",
    "for doc in raw_docs:\n",
    "    for word in doc.split():\n",
    "        if \"#\" == word[0]:\n",
    "            hashtags.append(word)\n",
    "\n",
    "hashtags = Counter(hashtags)  "
   ]
  },
  {
   "cell_type": "code",
   "execution_count": 251,
   "id": "24d0f09b",
   "metadata": {
    "scrolled": true
   },
   "outputs": [
    {
     "data": {
      "text/plain": [
       "{'#China': 950,\n",
       " '#Taiwan': 633,\n",
       " '#china': 173,\n",
       " '#Pelosi': 145,\n",
       " '#ChinaTaiwanCrisis': 136,\n",
       " '#USA': 119,\n",
       " '#Russia': 95,\n",
       " '#taiwan': 79,\n",
       " '#NancyPelosi': 67,\n",
       " '#Japan': 65,\n",
       " \"#China's\": 59,\n",
       " '#Ukraine': 57,\n",
       " '#Taiwan.': 55,\n",
       " '#US': 46,\n",
       " '#TaiwanStraitsCrisis': 45,\n",
       " '#BreakingNews': 41,\n",
       " '#Chinese': 41,\n",
       " '#XiJinping': 38,\n",
       " '#thursdayvibes': 37,\n",
       " '#news': 34,\n",
       " '#CCP': 34,\n",
       " '#India': 34,\n",
       " '#onstorm': 33,\n",
       " '#AEWDynamite': 33,\n",
       " '#WWIII': 32,\n",
       " '#PokemonScarletViolet': 32,\n",
       " '#AllOrNothingArsenal': 32,\n",
       " '#ThursdayThoughts': 31,\n",
       " '#mediumwriters': 30,\n",
       " '#StarMagicOrigins': 30,\n",
       " '#SuperPets': 30,\n",
       " '#CFMTL': 30,\n",
       " '#China,': 27,\n",
       " '#RBandME:': 27,\n",
       " '#findyourthing': 27,\n",
       " '#redbubble': 27,\n",
       " '#': 27,\n",
       " '#China’s': 26,\n",
       " '#Asia': 25,\n",
       " '#China.': 25,\n",
       " '#Taiwan,': 25,\n",
       " '#NATO': 23,\n",
       " '#News': 23,\n",
       " '#Beijing': 22,\n",
       " '#1': 21,\n",
       " '#FoxNews': 21,\n",
       " '#Europe': 21,\n",
       " '#PLA': 20,\n",
       " '#ChinaTaiwan': 20,\n",
       " '#Taiwanchina': 20,\n",
       " '#Biden': 20,\n",
       " '#TaiwanStrait': 19,\n",
       " '#COVID19': 18,\n",
       " '#usa': 17,\n",
       " '#5': 17,\n",
       " '#NFTs': 16,\n",
       " '#UnitedStates': 16,\n",
       " '#Taipei': 16,\n",
       " '#PRC': 16,\n",
       " '#russia': 15,\n",
       " '#india': 15,\n",
       " '#Putin': 14,\n",
       " '#Trump': 14,\n",
       " '#military': 14,\n",
       " '#ChinaTaiwanConflict': 14,\n",
       " '#BTC': 14,\n",
       " '#cryptocurrency': 13,\n",
       " '#war': 13,\n",
       " '#Iran': 13,\n",
       " '#SmartNews': 13,\n",
       " '#TaiwanIsaCountry': 13,\n",
       " '#UN': 13,\n",
       " '#CHINA': 13,\n",
       " '#recession': 12,\n",
       " '#World': 12,\n",
       " '#ChinaTaiwanWar': 12,\n",
       " '#PelosiVisit': 12,\n",
       " '#WangYibo25thBDay': 12,\n",
       " '#Pelosi’s': 12,\n",
       " '#ETH': 12,\n",
       " '#WW3': 11,\n",
       " \"#Pelosi's\": 11,\n",
       " '#Ukraine️': 11,\n",
       " '#eBay': 11,\n",
       " '#Crypto': 11,\n",
       " '#AI': 11,\n",
       " '#Military': 11,\n",
       " '#America': 11,\n",
       " '#TaiwanIsNotChina': 11,\n",
       " '#ASEAN': 10,\n",
       " '#tech': 10,\n",
       " '#economy': 10,\n",
       " '#business': 10,\n",
       " '#SouthKorea': 10,\n",
       " '#Pakistan': 10,\n",
       " '#HongKong': 10,\n",
       " \"#Japan's\": 10,\n",
       " '#TaiwanChinaCrisis': 10,\n",
       " '#missiles': 10,\n",
       " '#gay': 9,\n",
       " '#Canada': 9,\n",
       " '#RussiaUkraineWar': 9,\n",
       " '#EU': 9,\n",
       " '#G7': 9,\n",
       " '#pelosi': 9,\n",
       " '#inflation': 9,\n",
       " '#StandWithTaiwan': 9,\n",
       " '#ccp': 9,\n",
       " '#ukraine': 8,\n",
       " '#RaviVisvesvarayaSharadaPrasad': 8,\n",
       " '#Russian': 8,\n",
       " '#art': 8,\n",
       " '#UkraineRussiaWar': 8,\n",
       " '#RussiaInvadedUkraine': 8,\n",
       " '#ZamaZamas': 8,\n",
       " '#taipei': 8,\n",
       " '#WangYibo🥳🥳': 8,\n",
       " '#TAIWAN': 8,\n",
       " '#WillChinaGoToWar': 8,\n",
       " '#NorthKorea': 8,\n",
       " '#cdnpoli': 8,\n",
       " '#BrittneyGriner': 8,\n",
       " '#BeyondTheHeadline': 8,\n",
       " '#peace': 7,\n",
       " '#Taiwan?': 7,\n",
       " '#FJB': 7,\n",
       " '#BidenDestroysAmerica': 7,\n",
       " '#MilitaryDrills': 7,\n",
       " '#Vietnam': 7,\n",
       " '#food': 7,\n",
       " '#Taiwanese': 7,\n",
       " '#SriLanka': 7,\n",
       " '#hongkong': 7,\n",
       " '#BarkingCost': 7,\n",
       " '#BREAKING': 7,\n",
       " '#technology': 7,\n",
       " '#WorldWarIII': 7,\n",
       " '#IndoPacific': 7,\n",
       " '#TikTok': 7,\n",
       " '#BB24': 7,\n",
       " '#FreeBG': 7,\n",
       " '#RHOBH': 7,\n",
       " '#trade': 7,\n",
       " '#OneChina': 7,\n",
       " \"#NancyPelosi's\": 7,\n",
       " '#Tibet': 7,\n",
       " '#RepublicOFChina': 7,\n",
       " '#NewsEpicentre': 7,\n",
       " '#USDJPY': 6,\n",
       " '#Xinjiang': 6,\n",
       " '#Gravitas': 6,\n",
       " '#War': 6,\n",
       " '#geopolitics': 6,\n",
       " '#Missiles': 6,\n",
       " '#ballistic': 6,\n",
       " '#OneChinaPolicy': 6,\n",
       " '#Japanese': 6,\n",
       " '#OOTT': 6,\n",
       " '#BREAKING:': 6,\n",
       " '#MiddleEast': 6,\n",
       " '#finance': 6,\n",
       " '#中国': 6,\n",
       " '#Australia': 6,\n",
       " '#Tokyo': 6,\n",
       " '#History': 6,\n",
       " '#Russia,': 6,\n",
       " '#Trending': 6,\n",
       " '#bitcoin': 6,\n",
       " '#StockMarket': 6,\n",
       " '#EXOLoveTurns8': 6,\n",
       " '#God': 6,\n",
       " '#monkeypox,#NFTs': 6,\n",
       " '#CNN': 6,\n",
       " '#countryhumans': 6,\n",
       " '#UAE': 6,\n",
       " '#new_taipei_city': 6,\n",
       " '#pelositaiwan': 6,\n",
       " '#HappyEXOLDay': 6,\n",
       " '#Philippines': 6,\n",
       " '#WangYibo': 6,\n",
       " '#AsiaPacific': 6,\n",
       " '#america': 6,\n",
       " '#CCPChina': 5,\n",
       " '#HumanRights': 5,\n",
       " '#world': 5,\n",
       " '#capitec': 5,\n",
       " '#Explosion': 5,\n",
       " '#International': 5,\n",
       " '#Shanghai': 5,\n",
       " '#ArtificialIntelligence': 5,\n",
       " '#China?': 5,\n",
       " '#japan': 5,\n",
       " '#China:': 5,\n",
       " '#cybersecurity': 5,\n",
       " '#Taiwan’s': 5,\n",
       " '#FreeBrittneyGriner': 5,\n",
       " '#MAGA': 5,\n",
       " '#AmericaFirst': 5,\n",
       " '#EuropeanUnion': 5,\n",
       " '#Cuba': 5,\n",
       " '#Indonesia': 5,\n",
       " '#SouthChinaSea': 5,\n",
       " '#USA.': 5,\n",
       " '#businessnews': 5,\n",
       " '#marketnews': 5,\n",
       " '#Silver': 5,\n",
       " '#oil': 5,\n",
       " '#DemocratsAreDestroyingAmerica': 5,\n",
       " '#Democrats': 5,\n",
       " '#books': 5,\n",
       " '#UkraineWar': 5,\n",
       " '#Politics': 5,\n",
       " '#Global': 5,\n",
       " '#Congress': 5,\n",
       " '#HarGharTiranga': 5,\n",
       " '#breaking': 5,\n",
       " '#politics': 5,\n",
       " '#MONEY': 5,\n",
       " '#Technology': 5,\n",
       " '#RT': 5,\n",
       " '#王一博0805生日快乐': 5,\n",
       " '#JoeBiden': 5,\n",
       " '#Nuclear': 5,\n",
       " '#ChinaVsAmerica': 5,\n",
       " '#Taiwan_crisis': 5,\n",
       " '#BulletTrainMovie': 4,\n",
       " '#MohaleOTR': 4,\n",
       " '#bi...': 4,\n",
       " '#Outnumbered': 4,\n",
       " '#Poshmark': 4,\n",
       " '#shopmycloset': 4,\n",
       " '#QixiFestival': 4,\n",
       " '#trading': 4,\n",
       " '#ROCArmdForces': 4,\n",
       " '#ROCMND': 4,\n",
       " '#GOP': 4,\n",
       " '#ecommerce': 4,\n",
       " '#WorldNews': 4,\n",
       " '#putin': 4,\n",
       " '#UkraineWillWin': 4,\n",
       " '#Nato': 4,\n",
       " '#singapore': 4,\n",
       " '#BoycottChina': 4,\n",
       " '#Israel': 4,\n",
       " '#台湾省': 4,\n",
       " '#NEWS': 4,\n",
       " '#Macau': 4,\n",
       " '#UK': 4,\n",
       " '#BritneyGriner': 4,\n",
       " '#PelosivisitsTaiwan': 4,\n",
       " '#oldphoto': 4,\n",
       " '#Ukraine.': 4,\n",
       " '#biden': 4,\n",
       " '#viral': 4,\n",
       " '#OustedButNotDefeated': 4,\n",
       " '#crypto': 4,\n",
       " '#RussianUkrainianWar': 4,\n",
       " '#Alibaba': 4,\n",
       " '#Assange': 4,\n",
       " '#Ecuador': 4,\n",
       " '#btc': 4,\n",
       " '#europe': 4,\n",
       " '#Russia.': 4,\n",
       " '#TaiwanCrisis': 4,\n",
       " '#Tech': 4,\n",
       " '#solar': 4,\n",
       " '#environment': 4,\n",
       " '#web3': 4,\n",
       " '#CryptoNews': 4,\n",
       " '#Azerbaijan': 4,\n",
       " '#American': 4,\n",
       " '#EmergingMarkets': 4,\n",
       " '#WangYi': 4,\n",
       " '#beauty': 4,\n",
       " '#YourWeeklyFix': 4,\n",
       " '#Xi_The_Eunoch': 4,\n",
       " '#HappyYiboDay': 4,\n",
       " '#uk': 4,\n",
       " '#Bitcoin': 4,\n",
       " '#Filipinosupport': 4,\n",
       " '#Markets': 4,\n",
       " '#nfscnews': 4,\n",
       " '#whistleblowermovement': 4,\n",
       " '#newfederalstateofchina': 4,\n",
       " '#nfsc': 4,\n",
       " '#CHINESE≠CCP≠China': 4,\n",
       " '#takedowntheccp': 4,\n",
       " '#IndiaFirst': 4,\n",
       " '#Copper': 4,\n",
       " '#BidenCrimeFamilly': 4,\n",
       " '#AndyVermautSharesThisNewsWithLoveAndHopes': 4,\n",
       " '#TheWorldCanBecomeABetterPlaceSomedaySometime': 4,\n",
       " '#WeNeedMoreLoveForWorldPeaceNowAndAlways': 4,\n",
       " '#Cambodia': 4,\n",
       " '#ChinaAggression': 4,\n",
       " '#ChinaCrimes': 4,\n",
       " '#Censorship': 4,\n",
       " '#BoycottChinaproducts': 4,\n",
       " '#ChinaWarCrimes': 4,\n",
       " '#NigerRepublic': 4,\n",
       " '#BBNaijaS7': 4,\n",
       " '#obituary': 4,\n",
       " '#samomatseys': 4,\n",
       " '#tinubu': 4,\n",
       " '#Ronaldo': 4,\n",
       " '#rufai': 4,\n",
       " '#sabinus': 4,\n",
       " '#Latest': 4,\n",
       " '#Adtech': 4,\n",
       " '#AppleDSP': 4,\n",
       " '#ChineseMilitary': 4,\n",
       " '#FearChina': 4,\n",
       " '#ScaredChina': 4,\n",
       " '#ChinaTaiwanCrisis?': 4,\n",
       " '#Syria': 4,\n",
       " '#energy': 3,\n",
       " '#CGTN': 3,\n",
       " '#Shipping': 3,\n",
       " '#SupplyChain': 3,\n",
       " '#strategy': 3,\n",
       " '#BBNaija': 3,\n",
       " '#PokemonPresents': 3,\n",
       " '#09': 3,\n",
       " '#airtravelbargain': 3,\n",
       " '#fusiondiner': 3,\n",
       " '#NewsUpdate': 3,\n",
       " '#kremlin': 3,\n",
       " '#VR': 3,\n",
       " '#UyghurGenocide': 3,\n",
       " '#ZhuYilong': 3,\n",
       " '#manufacturing': 3,\n",
       " '#nationalsecurity': 3,\n",
       " '#startups': 3,\n",
       " '#ML': 3,\n",
       " '#5G': 3,\n",
       " '#Hawaii': 3,\n",
       " '#Traitor': 3,\n",
       " '#agriculture': 3,\n",
       " '#nuclear': 3,\n",
       " '#NewsBreak': 3,\n",
       " '#UkraineUnderAttack': 3,\n",
       " '#RussiaTerroristState': 3,\n",
       " '#russiaisaterrorisstate': 3,\n",
       " '#Reuters': 3,\n",
       " '#COVID': 3,\n",
       " '#startup': 3,\n",
       " '#science': 3,\n",
       " '#Taiwan:': 3,\n",
       " '#2A': 3,\n",
       " '#Twitter': 3,\n",
       " '#Uyghur': 3,\n",
       " '#SanctionChina': 3,\n",
       " '#WorldWar': 3,\n",
       " '#farmers': 3,\n",
       " '#global': 3,\n",
       " '#France': 3,\n",
       " \"#XiJinping's\": 3,\n",
       " '#RussianWarCrimes': 3,\n",
       " '#China🇨🇳': 3,\n",
       " '#RealEstate': 3,\n",
       " '#CostOfLivingCrisis': 3,\n",
       " '#新闻': 3,\n",
       " '#Africa': 3,\n",
       " '#NFTCommunity': 3,\n",
       " '#CPC': 3,\n",
       " '#Communist': 3,\n",
       " '#SocialMedia': 3,\n",
       " '#EEZ.': 3,\n",
       " '#monkeypox': 3,\n",
       " '#protests': 3,\n",
       " '#Russians': 3,\n",
       " '#Xi': 3,\n",
       " '#Hypocrisy': 3,\n",
       " '#QUAD': 3,\n",
       " '#topstories': 3,\n",
       " '#berkleybearnews': 3,\n",
       " '#Business': 3,\n",
       " '#PelosiinTaiwan': 3,\n",
       " '#covid': 3,\n",
       " '#nft': 3,\n",
       " '#AamirKhan': 3,\n",
       " '#Zelensky': 3,\n",
       " '#ZhaoLusi': 3,\n",
       " '#gas': 3,\n",
       " '#investing': 3,\n",
       " '#government': 3,\n",
       " '#UnitedKingdom': 3,\n",
       " '#Vintage': 3,\n",
       " '#worldnews': 3,\n",
       " '#winmetawin': 3,\n",
       " '#nato': 3,\n",
       " '#GainOfFunction': 3,\n",
       " '#romance': 3,\n",
       " '#wnba': 3,\n",
       " '#SCS': 3,\n",
       " '#Watch': 3,\n",
       " '#Ethereum': 3,\n",
       " '#takeUsBackToChina': 3,\n",
       " '#Zambia': 3,\n",
       " '#Sanctions': 3,\n",
       " '#Haiti': 3,\n",
       " '#BidenCrimeFamily': 3,\n",
       " '#Armenia': 3,\n",
       " '#Pelosi,': 3,\n",
       " '#Germany': 3,\n",
       " '#InflationReductionAct': 3,\n",
       " '#invasion': 3,\n",
       " '#BRICS': 3,\n",
       " '#MSNBC': 3,\n",
       " '#Republican': 3,\n",
       " '#nature': 3,\n",
       " '#StandWithUkraine': 3,\n",
       " '#democracy': 3,\n",
       " '#Nancy': 3,\n",
       " '#forex': 3,\n",
       " '#us': 3,\n",
       " '#TheView': 3,\n",
       " '#fitness': 3,\n",
       " '#shorts': 3,\n",
       " '#missile': 3,\n",
       " '#Ecommerce': 3,\n",
       " '#Gold': 3,\n",
       " '#dollar': 3,\n",
       " '#hot': 3,\n",
       " '#SpaceX': 3,\n",
       " \"#China'\": 3,\n",
       " '#GBNews': 3,\n",
       " '#LoanScam': 3,\n",
       " '#shrooms': 3,\n",
       " '#BrittanyGriner': 3,\n",
       " '#WillChinaGotoWar': 3,\n",
       " '#Nifty': 3,\n",
       " '#copper': 3,\n",
       " '#Economy': 3,\n",
       " '#life': 3,\n",
       " '#123INFO': 3,\n",
       " '#Apple': 3,\n",
       " '#travel': 3,\n",
       " '#Beijing’s': 3,\n",
       " '#Resistance': 3,\n",
       " '#infrastructure': 3,\n",
       " '#MarianaLithium': 3,\n",
       " '#Lithium': 3,\n",
       " '#support': 3,\n",
       " '#congress': 3,\n",
       " '#CPEC': 3,\n",
       " '#Facts': 3,\n",
       " '#FreeTibet': 3,\n",
       " '#TibetIndependence': 3,\n",
       " '#Opinion': 3,\n",
       " '#TrudeauCorruption': 3,\n",
       " '#emily': 3,\n",
       " '#bernd': 3,\n",
       " '#DemocratsHateAmerica': 3,\n",
       " '#AUKUS': 3,\n",
       " '#Mexico': 3,\n",
       " '#AmazingChina': 3,\n",
       " '#Onmyoji': 3,\n",
       " '#Pelosi.': 3,\n",
       " '#mineralspecimens': 3,\n",
       " '#cryptocurrencies': 3,\n",
       " '#China_vs_Taiwan': 3,\n",
       " '#Taiwan_needs_Global_support': 3,\n",
       " '#Joker.': 3,\n",
       " '#FrighteningChina': 3,\n",
       " '#王一博': 3,\n",
       " '#hrdlognet': 3,\n",
       " '#Kagisoshutdown': 3,\n",
       " '#podcastandchillwithmacg': 3,\n",
       " '#DStvPrem': 3,\n",
       " '#Capitec': 3,\n",
       " '#NickiMinaj': 3,\n",
       " '#Financial': 2,\n",
       " '#pravda': 2,\n",
       " '#Freight': 2,\n",
       " '#Logistics': 2,\n",
       " '#Sudan': 2,\n",
       " '#ChineseMissiles': 2,\n",
       " '#FlatEarth': 2,\n",
       " '#Christianity': 2,\n",
       " '#LoveIsland': 2,\n",
       " '#LUNC': 2,\n",
       " '#qanda': 2,\n",
       " '#Serbia': 2,\n",
       " '#pork': 2,\n",
       " '#takeusbacktochina': 2,\n",
       " '#Qixi': 2,\n",
       " '#nancypelosi': 2,\n",
       " '#Afghanistan': 2,\n",
       " '#iran': 2,\n",
       " '#Finance': 2,\n",
       " '#NFT': 2,\n",
       " '#朱一龙,': 2,\n",
       " '#ChineseValentinesDay': 2,\n",
       " '#supplychains': 2,\n",
       " '#Pentagon': 2,\n",
       " '#virus': 2,\n",
       " '#supplychain': 2,\n",
       " '#Delivery': 2,\n",
       " '#DeepLearning': 2,\n",
       " '#investors': 2,\n",
       " '#ChinaTech': 2,\n",
       " '#Thread': 2,\n",
       " '#MadeInChina': 2,\n",
       " '#Griner': 2,\n",
       " '#Japan,': 2,\n",
       " '#propaganda': 2,\n",
       " '#SquidGrow': 2,\n",
       " '#BSC': 2,\n",
       " '#Binance': 2,\n",
       " '#shiba': 2,\n",
       " '#JoinToFight': 2,\n",
       " '#export': 2,\n",
       " '#RUSSIA': 2,\n",
       " '#2:': 2,\n",
       " '#Russia-#Ukraine': 2,\n",
       " '#ClimateAction': 2,\n",
       " '#battery': 2,\n",
       " '#queensu': 2,\n",
       " '#asia': 2,\n",
       " '#死んで欲しくなかったキャラ晒す': 2,\n",
       " '#deeplearning': 2,\n",
       " '#PaddlePaddle': 2,\n",
       " '#TensorFlow,': 2,\n",
       " '#PyTorch,': 2,\n",
       " '#Keras,': 2,\n",
       " '#crisis,': 2,\n",
       " '#Izyum': 2,\n",
       " '#Popasna': 2,\n",
       " '#Tensions': 2,\n",
       " '#Government': 2,\n",
       " '#robotics': 2,\n",
       " '#Peace': 2,\n",
       " '#China...': 2,\n",
       " '#STEM': 2,\n",
       " '#english': 2,\n",
       " '#gmsilchar': 2,\n",
       " '#goodmorningsilchar': 2,\n",
       " '#Bailout': 2,\n",
       " '#KAG': 2,\n",
       " '#Patriot': 2,\n",
       " '#FAB': 2,\n",
       " '#FJBiden': 2,\n",
       " '#Bidenflation': 2,\n",
       " '#Conservative': 2,\n",
       " '#Conservatives': 2,\n",
       " '#PatriotsUnite': 2,\n",
       " '#TCOT': 2,\n",
       " '#IFB': 2,\n",
       " '#newbie': 2,\n",
       " '#ChinaTaiwanTensions': 2,\n",
       " '#POTUS': 2,\n",
       " '#SerbiaKosovo': 2,\n",
       " '#AutonomousVehicles': 2,\n",
       " '#EV': 2,\n",
       " '#Terrorism!': 2,\n",
       " '#Uyghurs': 2,\n",
       " '#pakistan': 2,\n",
       " '#england': 2,\n",
       " '#Somalia': 2,\n",
       " '#arab': 2,\n",
       " '#sanctions': 2,\n",
       " '#China🇨🇳firing': 2,\n",
       " '#Taiwan🇹🇼while': 2,\n",
       " '#walking': 2,\n",
       " '#success': 2,\n",
       " '#CCP.': 2,\n",
       " '#WTI': 2,\n",
       " '#Taiwan;': 2,\n",
       " '#ISIS': 2,\n",
       " '#intelligence': 2,\n",
       " '#Strategy': 2,\n",
       " '#Tesla': 2,\n",
       " '#BBC': 2,\n",
       " '#Crisis,': 2,\n",
       " '#Energy': 2,\n",
       " '#SouthAsia,': 2,\n",
       " '#Overheard': 2,\n",
       " '#dogs': 2,\n",
       " '#daisy': 2,\n",
       " '#ChinaTaiwanCrisis,': 2,\n",
       " '#TSMC': 2,\n",
       " '#GDP': 2,\n",
       " '#KimJongUn': 2,\n",
       " '#effective': 2,\n",
       " '#VisionUpdates': 2,\n",
       " '#DXY': 2,\n",
       " '#PeterObi': 2,\n",
       " '#banking': 2,\n",
       " '#diplomacy': 2,\n",
       " '#Commentary': 2,\n",
       " '#NancyPelosiTaiwanVisit': 2,\n",
       " '#ICYMI': 2,\n",
       " '#Carbon': 2,\n",
       " '#DemVoice1': 2,\n",
       " '#CO2': 2,\n",
       " '#airfare': 2,\n",
       " '#Asian': 2,\n",
       " '#Thinktanks': 2,\n",
       " '#BORZZIKMAN': 2,\n",
       " '#Airdrop': 2,\n",
       " '#FreeMint': 2,\n",
       " '#eth': 2,\n",
       " '#enemies': 2,\n",
       " '#SaudiArabia': 2,\n",
       " '#palestine': 2,\n",
       " '#egypt': 2,\n",
       " '#thrillers': 2,\n",
       " '#novels': 2,\n",
       " '#newrelease': 2,\n",
       " '#TechnologyNews': 2,\n",
       " '#Nigeria': 2,\n",
       " '#TrendingNow': 2,\n",
       " '#CWG2022': 2,\n",
       " '#LoveLikeTheGalaxy': 2,\n",
       " '#Lithuania': 2,\n",
       " '#economic': 2,\n",
       " '#AhadRazaMir': 2,\n",
       " '#ZeroCovid': 2,\n",
       " '#NASDAQ': 2,\n",
       " '#crude': 2,\n",
       " '#fuckchina': 2,\n",
       " '#pla': 2,\n",
       " '#Vatican': 2,\n",
       " '#AmazingFunVintage.etsy.com': 2,\n",
       " '#EAPG': 2,\n",
       " '#Etsy': 2,\n",
       " '#News18': 2,\n",
       " '#runnden': 2,\n",
       " '#lazada': 2,\n",
       " '#baddecisions': 2,\n",
       " '#chinese': 2,\n",
       " '#Corn': 2,\n",
       " '#USChinaTaiwanTussle': 2,\n",
       " '#USChina': 2,\n",
       " '#الصين': 2,\n",
       " '#تايوان': 2,\n",
       " '#Navy': 2,\n",
       " '#RussiaIsATerroristState': 2,\n",
       " '#Okinawa': 2,\n",
       " '#Recession': 2,\n",
       " '#PiConsensus': 2,\n",
       " '#Android': 2,\n",
       " '#TechNews': 2,\n",
       " '#technologytrends': 2,\n",
       " '#Jan6': 2,\n",
       " '#TiananmenSquare': 2,\n",
       " '#LeftWing': 2,\n",
       " '#Politics...': 2,\n",
       " \"#Beijing's\": 2,\n",
       " '#NYC': 2,\n",
       " '#SolomonIslands': 2,\n",
       " '#Soybeans': 2,\n",
       " '#leadership': 2,\n",
       " '#teamfollowback': 2,\n",
       " '#EXOL': 2,\n",
       " '#EXOL8thAnniversary': 2,\n",
       " '#PakistanArmy': 2,\n",
       " '#artist': 2,\n",
       " '#air': 2,\n",
       " '#HackneyBooks': 2,\n",
       " '#Cartoon': 2,\n",
       " '#Peru': 2,\n",
       " '#Depression': 2,\n",
       " '#ThankYouJournalistsForTheNewsWeGetFromYou': 2,\n",
       " '#AndyVermautThanksYou': 2,\n",
       " '#china,': 2,\n",
       " '#lovestory': 2,\n",
       " '#histfic': 2,\n",
       " '#trilogy': 2,\n",
       " '#IARTG': 2,\n",
       " '#Kindle': 2,\n",
       " '#ebooks': 2,\n",
       " '#BeijingBiden': 2,\n",
       " '#WallStreet': 2,\n",
       " '#sleepyjoe': 2,\n",
       " '#Trump2024ToSaveAmerica': 2,\n",
       " '#ukrainerussiawar': 2,\n",
       " '#台灣': 2,\n",
       " '#Chinesemilitary': 2,\n",
       " '#Chinese.': 2,\n",
       " '#SHIB': 2,\n",
       " '#HuaChunying': 2,\n",
       " '#taiwanchinaconflict': 2,\n",
       " '#Chip': 2,\n",
       " '#eCNY': 2,\n",
       " '#GreatReset': 2,\n",
       " '#KlausSchwab': 2,\n",
       " '#Ukraine,': 2,\n",
       " '#BNB': 2,\n",
       " '#Quebec': 2,\n",
       " '#Kosovo': 2,\n",
       " '#Fauci': 2,\n",
       " '#Dollar': 2,\n",
       " '#Senate': 2,\n",
       " '#truth': 2,\n",
       " '#ChinasfinalWarning,': 2,\n",
       " '#TaiwanStraitsCrisis,': 2,\n",
       " '#2': 2,\n",
       " '#NancyPelosi,': 2,\n",
       " '#Time': 2,\n",
       " '#FangFang': 2,\n",
       " '#JWST': 2,\n",
       " '#DeSantis2024': 2,\n",
       " '#research': 2,\n",
       " '#space': 2,\n",
       " '#economics': 2,\n",
       " '#history': 2,\n",
       " '#GoTaiwan': 2,\n",
       " '#democrats': 2,\n",
       " '#Chinazi': 2,\n",
       " '#English.news.cn': 2,\n",
       " '#beautiful': 2,\n",
       " '#naturelovers': 2,\n",
       " '#landscape': 2,\n",
       " '#NatureBeauty': 2,\n",
       " '#NaturePhotography': 2,\n",
       " '#sunset': 2,\n",
       " '#moonnight': 2,\n",
       " '#Bali': 2,\n",
       " '#wildlifephotography': 2,\n",
       " '#sundayvibes': 2,\n",
       " '#swallows': 2,\n",
       " '#photo': 2,\n",
       " '#infosec': 2,\n",
       " '#UkraineRussia': 2,\n",
       " '#Dubai': 2,\n",
       " '#مكتبة_محمد_بن_راشد\\u2069': 2,\n",
       " '#RedWave': 2,\n",
       " '#BanAssaultKnives': 2,\n",
       " '#money': 2,\n",
       " '#gold': 2,\n",
       " '#BajwaTraitor': 2,\n",
       " '#thefallofputin': 2,\n",
       " '#getputin': 2,\n",
       " '#evilputin': 2,\n",
       " '#thefallofrussia': 2,\n",
       " '#FreedomOfRussia': 2,\n",
       " '#Pahonia': 2,\n",
       " '#Beijing,': 2,\n",
       " '#OneMoment': 2,\n",
       " '#asia_pacific': 2,\n",
       " '#nancy_pelosi': 2,\n",
       " '#WNN7Com': 2,\n",
       " '#stocks': 2,\n",
       " '#Donetsk': 2,\n",
       " '#Japan’s': 2,\n",
       " '#SPAR19': 2,\n",
       " '#climate': 2,\n",
       " '#etsy': 2,\n",
       " '#BidenIsADisgrace': 2,\n",
       " '#VMNews': 2,\n",
       " '#CEO': 2,\n",
       " '#extra': 2,\n",
       " '#income': 2,\n",
       " '#dream': 2,\n",
       " '#euro': 2,\n",
       " '#germany': 2,\n",
       " '#president': 2,\n",
       " '#moscow': 2,\n",
       " '#boris': 2,\n",
       " '#desire': 2,\n",
       " '#Renewable': 2,\n",
       " '#hydro': 2,\n",
       " '#wind': 2,\n",
       " '#pam': 2,\n",
       " '#palm': 2,\n",
       " '#tutorial': 2,\n",
       " \"#Russia's\": 2,\n",
       " '#GodiMedia': 2,\n",
       " '#BoycottLalSinghChaddha': 2,\n",
       " '#TrudeauMustGo': 2,\n",
       " '#LoanShark': 2,\n",
       " '#development': 2,\n",
       " '#West': 2,\n",
       " '#cgtnamerica': 2,\n",
       " '#mushroom': 2,\n",
       " '#Schumer,': 2,\n",
       " '#WarInUkraine,': 2,\n",
       " '#thursdayvibes,': 2,\n",
       " '#Truth': 2,\n",
       " '#mushrooms': 2,\n",
       " '#WillChinaGoToWar?': 2,\n",
       " '#LIVE': 2,\n",
       " '#PVTV': 2,\n",
       " '#BreonnaTaylor': 2,\n",
       " '#DOJ,': 2,\n",
       " '#CPAC': 2,\n",
       " '#China!': 2,\n",
       " '#zelensky': 2,\n",
       " '#صادق_و_امین_عمران_خان': 2,\n",
       " '#WNBA': 2,\n",
       " '#will': 2,\n",
       " '#FBI': 2,\n",
       " '#preprints': 2,\n",
       " '#NAFO': 2,\n",
       " '#BidenWorstPresidentEver': 2,\n",
       " '#socialmedia': 2,\n",
       " '#tiktok': 2,\n",
       " '#GalaxyHeroes': 2,\n",
       " '#mycology': 2,\n",
       " '#SPX': 2,\n",
       " '#psychedelics': 2,\n",
       " '#IndiaFirst,': 2,\n",
       " '#BidenIsALaughingstock': 2,\n",
       " '#carbon': 2,\n",
       " '#satellite': 2,\n",
       " '#wine': 2,\n",
       " '#work': 2,\n",
       " '#hobbies': 2,\n",
       " '#selfie': 2,\n",
       " '#scenery': 2,\n",
       " '#daily': 2,\n",
       " '#breakfast': 2,\n",
       " '#dinner': 2,\n",
       " '#goodnight': 2,\n",
       " '#Russia:': 2,\n",
       " '#tea': 2,\n",
       " '#WillofaTiger.': 2,\n",
       " '#authorinterview': 2,\n",
       " '#historicalfiction': 2,\n",
       " \"#Taiwan's\": 2,\n",
       " '#China”': 2,\n",
       " '#drone': 2,\n",
       " '#drones': 2,\n",
       " '#video': 2,\n",
       " '#music': 2,\n",
       " '#griner': 2,\n",
       " '#espn': 2,\n",
       " '#nba': 2,\n",
       " '#NewsFlash': 2,\n",
       " '#Bot': 2,\n",
       " '#TrumpWasRightAboutEverything': 2,\n",
       " '#Metaverse': 2,\n",
       " '#australia': 2,\n",
       " '#Singapore': 2,\n",
       " '#VOA.': 2,\n",
       " '#bridge': 2,\n",
       " '#PelosiTaiwanVisit': 2,\n",
       " '#OneChina.': 2,\n",
       " '#长沙': 2,\n",
       " '#education': 2,\n",
       " '#Fujian': 2,\n",
       " '#FOREVER1withSNSD': 2,\n",
       " '#media': 2,\n",
       " '#Taiwan\":': 2,\n",
       " '#Investment': 2,\n",
       " '#story': 2,\n",
       " '#ev': 2,\n",
       " '#Ganfeng:': 2,\n",
       " '#TNRGold🔋': 2,\n",
       " '#Royalties': 2,\n",
       " '#EVs': 2,\n",
       " '#ElectricCars': 2,\n",
       " '#rEVolution': 2,\n",
       " '#Batteries': 2,\n",
       " '#LGSidebySideRefridgerator': 2,\n",
       " '#Political': 2,\n",
       " '#photograph': 2,\n",
       " '#ChinaTaiwanCrisis”': 2,\n",
       " '#wars': 2,\n",
       " '#RussiaUkraineConflict': 2,\n",
       " '#England': 2,\n",
       " '#ASUU': 2,\n",
       " '#cnn': 2,\n",
       " '#msnbc': 2,\n",
       " '#PelosiVisit.': 2,\n",
       " '#CFR': 2,\n",
       " '#corruption': 2,\n",
       " '#US-#China': 2,\n",
       " '#Police': 2,\n",
       " '#Democracy': 2,\n",
       " '#Media': 2,\n",
       " '#DemocracyNotAutocracy': 2,\n",
       " '#Bangladesh': 2,\n",
       " '#ChiRus': 2,\n",
       " '#TrudeauNationalDisgrace': 2,\n",
       " '#UAE’s': 2,\n",
       " '#China’': 2,\n",
       " '#brainwashing': 2,\n",
       " '#WillChinaInvadeTaiwan': 2,\n",
       " '#ChinaInvadesTaiwan': 2,\n",
       " '#TheLiberacyEditorial': 2,\n",
       " '#TLeditorial': 2,\n",
       " '#TheLiberacy': 2,\n",
       " '#Nepal': 2,\n",
       " '#GlobalWarming': 2,\n",
       " '#AsiaCup2022': 2,\n",
       " '#Denmark': 2,\n",
       " '#TheHindu': 2,\n",
       " '#Breaking': 2,\n",
       " '#Taiwan🇹🇼': 2,\n",
       " '#smithsonites': 2,\n",
       " '#botryoidalsmithsonites': 2,\n",
       " '#smithsonitespecimens': 2,\n",
       " '#Travel': 2,\n",
       " '#うひーメモ': 2,\n",
       " '#BLM': 2,\n",
       " '#Nancy_Pelosi_Taiwan_visit': 2,\n",
       " '#oilprice': 2,\n",
       " '#GreenNewSteal': 2,\n",
       " '#Liars': 2,\n",
       " '#•-••••••--••-•-•-': 2,\n",
       " '#NarendraModi': 2,\n",
       " '#Green': 2,\n",
       " '#Turkey': 2,\n",
       " '#security': 2,\n",
       " '#8finityWithEXOLove': 2,\n",
       " '#Self_Determination': 2,\n",
       " '#CyberSecurity': 2,\n",
       " '#Manila': 2,\n",
       " '#investor': 2,\n",
       " '#Libertarian': 2,\n",
       " '#Malaysia': 2,\n",
       " '#medicine': 2,\n",
       " '#blog': 2,\n",
       " '#accept': 2,\n",
       " '#Mexican': 2,\n",
       " '#LopezObrador': 2,\n",
       " '#President': 2,\n",
       " '#rumors': 2,\n",
       " '#AzadiKaAmritMahotsav': 2,\n",
       " '#Coronavirus': 2,\n",
       " '#chemical': 2,\n",
       " '#Rahul': 2,\n",
       " '#CCTV': 2,\n",
       " '#RussianSoldiers': 2,\n",
       " '#RussianInvasion': 2,\n",
       " '#VRFB': 2,\n",
       " '#Australia.': 2,\n",
       " '#SinoBiopharm': 2,\n",
       " '#SinoVac': 2,\n",
       " '#vaccine': 2,\n",
       " '#House': 2,\n",
       " '#tensions': 2,\n",
       " '#NewsMo': 2,\n",
       " '#NationTonight': 2,\n",
       " '#Myanmar,': 2,\n",
       " '#fintech': 2,\n",
       " '#weak': 2,\n",
       " '#rockets': 2,\n",
       " '#helicopter': 2,\n",
       " '#TWICE': 2,\n",
       " '#WangYibo王一博': 2,\n",
       " '#왕이보': 2,\n",
       " '#ワンイーボー': 2,\n",
       " '#VươngNhấtBác': 2,\n",
       " '#หวังอี้ป๋อ': 2,\n",
       " '#ВанИбо': 2,\n",
       " '#ဝမ်ရိပေါ်': 2,\n",
       " '#ChinaRussia': 1,\n",
       " '#Stock': 1,\n",
       " '#Banks,': 1,\n",
       " '#Lavrov': 1,\n",
       " '#saveworld': 1,\n",
       " '#ememy': 1,\n",
       " '#boycott': 1,\n",
       " '#living': 1,\n",
       " '#suffering': 1,\n",
       " '#ConflictOfInterest': 1,\n",
       " '#competitiveintelligence': 1,\n",
       " '#marketing': 1,\n",
       " '#competitivemarketing': 1,\n",
       " '#biotech': 1,\n",
       " '#pharmaceutical': 1,\n",
       " '#pharma': 1,\n",
       " '#healthcare': 1,\n",
       " '#GreenAgenda': 1,\n",
       " '#cannabiscommunity,#cannabisculture,#cannabiscures': 1,\n",
       " '#Evergrande': 1,\n",
       " '#Us$817.8': 1,\n",
       " '#Land': 1,\n",
       " '#Use': 1,\n",
       " '#Rights': 1,\n",
       " '#Soccer': 1,\n",
       " '#Stadium': 1,\n",
       " '#channelnewsasia': 1,\n",
       " '#GlazersOut': 1,\n",
       " '#GlazersSellManUtd': 1,\n",
       " '#FOREVER1': 1,\n",
       " '#MUFC': 1,\n",
       " '#MilePhakphum': 1,\n",
       " '#rose': 1,\n",
       " '#Qanon': 1,\n",
       " '#whistleblower': 1,\n",
       " '#ukraine?': 1,\n",
       " '#Ukrainian': 1,\n",
       " '#Psychiatry': 1,\n",
       " \"#Ukraine's\": 1,\n",
       " \"#Kosovo's\": 1,\n",
       " '#Russia/#China': 1,\n",
       " '#deathsantis,': 1,\n",
       " '#NationalDivorce': 1,\n",
       " '#RedMenace.': 1,\n",
       " '#WindydayConcept,': 1,\n",
       " '#barakoutlet': 1,\n",
       " '#industry': 1,\n",
       " '#Trove': 1,\n",
       " '#NikeVR': 1,\n",
       " '#Nike': 1,\n",
       " ...}"
      ]
     },
     "execution_count": 251,
     "metadata": {},
     "output_type": "execute_result"
    }
   ],
   "source": [
    "dict(sorted(hashtags.items(), reverse= True,key=lambda item: item[1]))"
   ]
  },
  {
   "cell_type": "markdown",
   "id": "e3de6f5e",
   "metadata": {},
   "source": [
    "# Analisando usuários citados"
   ]
  },
  {
   "cell_type": "code",
   "execution_count": 252,
   "id": "25447c1f",
   "metadata": {},
   "outputs": [],
   "source": [
    "users = []\n",
    "for doc in raw_docs:\n",
    "    for word in doc.split():\n",
    "        if \"@\" == word[0]:\n",
    "            users.append(word)\n",
    "\n",
    "users = Counter(users) "
   ]
  },
  {
   "cell_type": "code",
   "execution_count": 253,
   "id": "535da255",
   "metadata": {},
   "outputs": [
    {
     "data": {
      "text/plain": [
       "{'@SpokespersonCHN': 424,\n",
       " '@POTUS': 392,\n",
       " '@SpeakerPelosi': 332,\n",
       " '@iingwen': 240,\n",
       " '@Reuters': 219,\n",
       " '@FoxNews': 196,\n",
       " '@MFA_China': 191,\n",
       " '@YouTube': 156,\n",
       " '@MahuiChina': 124,\n",
       " '@globaltimesnews': 121,\n",
       " '@zlj517': 108,\n",
       " '@CGMeifangZhang': 100,\n",
       " '@Fallen_x_King': 95,\n",
       " '@chenweihua': 94,\n",
       " '@zerohedge': 72,\n",
       " '@BBCWorld': 64,\n",
       " '@ACTBrigitte': 57,\n",
       " '@EndGameWW3': 56,\n",
       " '@caitoz': 56,\n",
       " '@CNN': 54,\n",
       " '@RepSwalwell': 52,\n",
       " '@HawleyMO': 48,\n",
       " '@narendramodi': 48,\n",
       " '@WilliamHOverhol': 45,\n",
       " '@nytimes': 45,\n",
       " '@CNBCPolitics': 44,\n",
       " '@DruidSmith': 43,\n",
       " '@JoeBiden': 41,\n",
       " '@jalebidaddy': 41,\n",
       " '@BreitbartNews': 40,\n",
       " '@SecBlinken': 40,\n",
       " '@MOFA_Taiwan': 40,\n",
       " '@newsmax': 39,\n",
       " '@jljzen': 38,\n",
       " '@MrMayfieldUSA': 37,\n",
       " '@AMFChina': 36,\n",
       " '@GOPLeader': 36,\n",
       " '@RR88656428': 36,\n",
       " '@': 35,\n",
       " '@thesiriusreport': 35,\n",
       " '@MoNDefense': 34,\n",
       " '@DrSJaishankar': 34,\n",
       " '@MarshaBlackburn': 34,\n",
       " '@robreiner': 33,\n",
       " '@MgMgrrrr8': 31,\n",
       " '@LeaderMcConnell': 31,\n",
       " '@MarkHertling': 30,\n",
       " '@marcorubio': 30,\n",
       " '@TimRunsHisMouth': 28,\n",
       " '@WhiteHouse': 28,\n",
       " '@NBA': 28,\n",
       " '@romanticboy79': 28,\n",
       " '@AmbLiuXiaoMing': 27,\n",
       " '@WSJ': 27,\n",
       " '@spectatorindex': 27,\n",
       " '@elonmusk': 26,\n",
       " '@JackPosobiec': 26,\n",
       " '@SpiritofHo': 26,\n",
       " '@IndoPac_Info': 26,\n",
       " '@robrousseau': 26,\n",
       " '@business': 26,\n",
       " '@AfamDeluxo': 26,\n",
       " '@NBCNews': 25,\n",
       " '@TheEconomist': 25,\n",
       " '@nypost': 25,\n",
       " '@NATO': 24,\n",
       " '@TGTM_Official': 24,\n",
       " '@duandang': 24,\n",
       " '@scrowder': 24,\n",
       " '@detresfa_': 24,\n",
       " '@GOP': 24,\n",
       " '@301military': 23,\n",
       " '@carlbildt': 23,\n",
       " '@SenTomCotton': 23,\n",
       " '@thehill': 23,\n",
       " '@republic': 23,\n",
       " '@1ghostofKiev': 22,\n",
       " '@GBNEWS': 22,\n",
       " '@Kasparov63': 22,\n",
       " '@washingtonpost': 22,\n",
       " '@zhang_heqing': 22,\n",
       " '@espn': 22,\n",
       " '@5267w': 22,\n",
       " '@SenTedCruz': 21,\n",
       " '@JoJoFromJerz': 20,\n",
       " '@PMOIndia': 20,\n",
       " '@feli0meow': 20,\n",
       " '@palkisu': 20,\n",
       " '@apmassaro3': 20,\n",
       " '@SCMPNews': 20,\n",
       " '@AJEnglish': 19,\n",
       " '@gmbutts': 19,\n",
       " '@mfa_russia': 19,\n",
       " '@songdezhi3': 19,\n",
       " '@AFP': 19,\n",
       " '@disclosetv': 19,\n",
       " '@NPR': 19,\n",
       " '@SkyNews': 19,\n",
       " '@HuXijin_GT': 19,\n",
       " '@fravel': 18,\n",
       " '@StateDept': 18,\n",
       " '@LinaXie18': 18,\n",
       " '@joncoopertweets': 18,\n",
       " '@JohnSimpsonNews': 18,\n",
       " '@LiYuan6': 18,\n",
       " '@CovertShores': 18,\n",
       " '@Yahoo': 18,\n",
       " '@CGTNOfficial': 18,\n",
       " '@TerceraVenida': 18,\n",
       " '@StephenMoore': 18,\n",
       " '@richimedhurst': 18,\n",
       " '@T4TM7BF4J8tZCL0': 18,\n",
       " '@PDChina': 17,\n",
       " '@DineshDSouza': 17,\n",
       " '@GovRonDeSantis': 17,\n",
       " '@MailOnline': 17,\n",
       " '@OurWorldInData': 17,\n",
       " '@TheLeoTerrell': 17,\n",
       " '@TPostMillennial': 17,\n",
       " '@TheKHardy': 17,\n",
       " '@ianbremmer': 17,\n",
       " '@melaniejoly': 17,\n",
       " '@TuckerCarlson': 17,\n",
       " '@blackintheempir': 16,\n",
       " '@XHNews': 16,\n",
       " '@Timcast': 16,\n",
       " '@trussliz': 16,\n",
       " '@AnonOpsSE': 16,\n",
       " '@WIONews': 16,\n",
       " '@CarlZha': 16,\n",
       " '@nexta_tv': 16,\n",
       " '@WilliamYang120': 16,\n",
       " '@RupprechtDeino': 16,\n",
       " '@hoje_no': 16,\n",
       " '@Saturnax1': 16,\n",
       " '@samlagrone': 16,\n",
       " '@CollinSLKoh': 16,\n",
       " '@JosephHDempsey': 16,\n",
       " '@AlexLuck9': 16,\n",
       " '@CavasShips': 16,\n",
       " '@Aviation_Intel': 16,\n",
       " '@TheLegateIN': 16,\n",
       " '@MSNBC': 16,\n",
       " '@indiatvnews': 16,\n",
       " '@wenningzhai': 16,\n",
       " '@LetsuniteGld': 16,\n",
       " '@TheBrit96': 16,\n",
       " '@UN': 15,\n",
       " '@ananthkrishnan': 15,\n",
       " '@bennyjohnson': 15,\n",
       " '@WarAgainstPutin': 15,\n",
       " '@eladgil': 15,\n",
       " '@FirstSquawk': 15,\n",
       " '@vegasrobert': 15,\n",
       " '@mtracey': 15,\n",
       " '@goldsilver_pros': 15,\n",
       " '@YanFu_China': 15,\n",
       " '@MarcoP____': 15,\n",
       " '@piush79': 15,\n",
       " '@tingtingliuTVBS': 15,\n",
       " '@VP': 14,\n",
       " '@ABC': 14,\n",
       " '@ChollimaOrg': 14,\n",
       " '@matthewstoller': 14,\n",
       " '@c333bs': 13,\n",
       " '@libsoftiktok': 13,\n",
       " '@CarlaBabbVOA': 13,\n",
       " '@PierrePoilievre': 13,\n",
       " '@FrankenforIowa': 13,\n",
       " '@RussianEmbassy': 13,\n",
       " '@Chinamission2un': 13,\n",
       " '@amnesty': 13,\n",
       " '@TomCottonAR': 13,\n",
       " '@DeptofDefense': 13,\n",
       " '@Flash43191300': 13,\n",
       " '@IngrahamAngle': 13,\n",
       " '@bikhim': 13,\n",
       " '@KevinLogan1875': 13,\n",
       " '@Hamletgarcia17': 13,\n",
       " '@gzeromedia': 13,\n",
       " '@financialjuice': 13,\n",
       " '@Strandjunker': 13,\n",
       " '@Ultrcrpdarian': 13,\n",
       " '@RishiSunak': 13,\n",
       " '@lavern_spicer': 13,\n",
       " '@Heuwiesel': 13,\n",
       " '@RW_UNP': 13,\n",
       " '@jacksonhinklle': 12,\n",
       " '@Heritage': 12,\n",
       " '@BhagwaanUvacha': 12,\n",
       " '@TaiwanRealChina': 12,\n",
       " '@guardian': 12,\n",
       " '@realDailyWire': 12,\n",
       " '@PravinSawhney': 12,\n",
       " '@cvpayne': 12,\n",
       " '@SenatorSinema': 12,\n",
       " '@BlondeMAGAinNJ': 12,\n",
       " '@kittayamari': 12,\n",
       " '@bj06970': 12,\n",
       " '@yeongno3': 12,\n",
       " '@G7': 12,\n",
       " '@HollyBriden': 12,\n",
       " '@WBrettWilson': 12,\n",
       " '@vtchakarova': 12,\n",
       " '@Milonewton': 12,\n",
       " '@MarioNawfal': 12,\n",
       " '@RichardHaass': 11,\n",
       " '@SouthAsiaIndex': 11,\n",
       " '@HSajwanization': 11,\n",
       " '@usairforce': 11,\n",
       " '@InsightGL': 11,\n",
       " '@antonioguterres': 11,\n",
       " '@GordonGChang': 11,\n",
       " '@ANI': 11,\n",
       " '@devenbajra': 11,\n",
       " '@whitelemondl': 11,\n",
       " '@democracynow': 11,\n",
       " '@thatdayin1992': 11,\n",
       " '@ModJapan_jp': 11,\n",
       " '@JohnRoss43': 11,\n",
       " '@ElbridgeColby': 11,\n",
       " '@TheDemocrats': 11,\n",
       " '@RonFilipkowski': 11,\n",
       " '@rreedsing': 11,\n",
       " '@vousmenevoyez': 11,\n",
       " '@EbongNsehe': 11,\n",
       " '@T_WJackson': 11,\n",
       " '@pamg8tr': 11,\n",
       " '@MarvinRJeffcoat': 11,\n",
       " '@SpacesVector': 11,\n",
       " '@David45189771': 11,\n",
       " '@absolutelywoman': 11,\n",
       " '@DarrellHuckleb2': 11,\n",
       " '@Gigi69030829': 11,\n",
       " '@KerryOLeary4': 11,\n",
       " '@robcarlson20': 11,\n",
       " '@GigiGreene63': 11,\n",
       " '@FrankPLP2022': 11,\n",
       " '@LivesSawyer': 11,\n",
       " '@SandraGray9': 11,\n",
       " '@S51781902': 11,\n",
       " '@RacerX29683474': 11,\n",
       " '@SimpleS22599675': 11,\n",
       " '@fireball_lady': 11,\n",
       " '@marvin_hill123': 11,\n",
       " '@coolvetnurse': 11,\n",
       " '@ernestleenot': 11,\n",
       " '@Jt5backagain': 11,\n",
       " '@keepitwilder': 11,\n",
       " '@hankins_harvey': 11,\n",
       " '@Quin4Trump': 11,\n",
       " '@yvonnecar20': 11,\n",
       " '@JaquePierre4': 11,\n",
       " '@Kimberl47031679': 11,\n",
       " '@MartinTurnbul19': 11,\n",
       " '@KellindaMaga': 11,\n",
       " '@45teammate': 11,\n",
       " '@NoBulls55224206': 11,\n",
       " '@TheHughWildman': 11,\n",
       " '@ToddWRobb1': 11,\n",
       " '@fallingtree1745': 11,\n",
       " '@DavidG30719513': 11,\n",
       " '@KishiNobuo': 11,\n",
       " '@IndiaToday': 11,\n",
       " '@RShivshankar': 11,\n",
       " '@NickAdamsinUSA': 11,\n",
       " '@gauravcsawant': 11,\n",
       " '@JohnCulver689': 11,\n",
       " '@ErikSolheim': 10,\n",
       " '@LiveAction': 10,\n",
       " '@tiktok_us': 10,\n",
       " '@LilaGraceRose': 10,\n",
       " '@BarackObama': 10,\n",
       " '@MEAIndia': 10,\n",
       " '@RightsOfCanada': 10,\n",
       " '@marwilliamson': 10,\n",
       " '@Yeti1181': 10,\n",
       " '@42066669user': 10,\n",
       " '@eltestidox': 10,\n",
       " '@laurenboebert': 10,\n",
       " '@li_xiaosi': 10,\n",
       " '@MattWalshBlog': 10,\n",
       " '@seanhannity': 10,\n",
       " '@MUZ_': 10,\n",
       " '@frankyclarke': 10,\n",
       " '@unusual_whales': 10,\n",
       " '@KyivIndependent': 10,\n",
       " '@GoogleNews': 10,\n",
       " '@ChinaEUMission': 10,\n",
       " '@JustinTrudeau': 10,\n",
       " '@JRubinBlogger': 10,\n",
       " '@itsJeffTiedrich': 10,\n",
       " '@PaulEmbery': 10,\n",
       " '@DmitryOpines': 10,\n",
       " '@IntelCrab': 10,\n",
       " '@china': 10,\n",
       " '@nicher66': 10,\n",
       " '@MarcGriff89': 10,\n",
       " '@AP': 10,\n",
       " '@OccupyDemocrats': 10,\n",
       " '@Chellaney': 10,\n",
       " '@FreyjaTarte': 10,\n",
       " '@3n53rmBC9PVfaU3': 10,\n",
       " '@Jim_Jordan': 10,\n",
       " '@mengmeng0216': 10,\n",
       " '@NAVINJALOTA': 10,\n",
       " '@GCRClassic': 10,\n",
       " '@SomethingThar': 10,\n",
       " '@DanCrenshawTX': 10,\n",
       " '@RT_com': 9,\n",
       " '@CPC_HQ': 9,\n",
       " '@RusEmbUSA': 9,\n",
       " '@timesofindia': 9,\n",
       " '@MagaRisingJohn': 9,\n",
       " '@davidpgoldman': 9,\n",
       " '@ammorespecial': 9,\n",
       " '@autumnrain04': 9,\n",
       " '@SocialistMMA': 9,\n",
       " '@AmitShah': 9,\n",
       " '@0m3ga13': 9,\n",
       " '@adamJwonnacott': 9,\n",
       " '@AZmilitary1': 9,\n",
       " '@SolomonYue': 9,\n",
       " '@axmn123': 9,\n",
       " '@royngerng': 9,\n",
       " '@MAKSIMYQY': 9,\n",
       " '@iam_John_Galt': 9,\n",
       " '@sanahashmi1': 9,\n",
       " '@FCDOGovUK': 9,\n",
       " '@Acyn': 9,\n",
       " '@niubi': 9,\n",
       " '@KingKong9888': 9,\n",
       " '@StuartKLau': 9,\n",
       " '@ChinaSpox_India': 9,\n",
       " '@ChinaAmbUN': 9,\n",
       " '@China_Amb_India': 9,\n",
       " '@RandPaul': 9,\n",
       " '@BenFRubinstein': 9,\n",
       " '@latimes': 9,\n",
       " '@thedailybeast': 9,\n",
       " '@dklmarxist': 9,\n",
       " '@Iambuk0wski': 9,\n",
       " '@aiolos007': 9,\n",
       " '@Venusupreme': 9,\n",
       " '@blackbatmarx': 9,\n",
       " '@WandLLaw99': 9,\n",
       " '@BleacherReport': 9,\n",
       " '@ProGunOne1776': 9,\n",
       " '@bluejuice258': 9,\n",
       " '@KingJames': 9,\n",
       " '@5h09un': 9,\n",
       " '@Freedomoftrut': 9,\n",
       " '@BeaverBandit': 9,\n",
       " '@Fredelapetite': 9,\n",
       " '@mitchellreports': 9,\n",
       " '@nic8766': 9,\n",
       " '@Top_Spud_': 8,\n",
       " '@SenateGOP': 8,\n",
       " '@ChinaDaily': 8,\n",
       " '@AlexAgbo23': 8,\n",
       " '@dee7287': 8,\n",
       " '@CynizenTV': 8,\n",
       " '@Tom_Fowdy': 8,\n",
       " '@RussiaUN': 8,\n",
       " '@TeamPelosi': 8,\n",
       " '@xxlengyin': 8,\n",
       " '@shaunrein': 8,\n",
       " '@eBay': 8,\n",
       " '@MereteVonDOE': 8,\n",
       " '@tony_oliver': 8,\n",
       " '@Nigel_Farage': 8,\n",
       " '@TaiwanNews886': 8,\n",
       " '@CNNPolitics': 8,\n",
       " '@INDOPACOM': 8,\n",
       " '@kylegriffin1': 8,\n",
       " '@chron': 8,\n",
       " '@redand51ue': 8,\n",
       " '@TheInsiderPaper': 8,\n",
       " '@CTVNews': 8,\n",
       " '@Naija_PR': 8,\n",
       " '@BonnieGlaser': 8,\n",
       " '@alexisderoode': 8,\n",
       " '@RedSon_0': 8,\n",
       " '@pdxnevergiveup': 8,\n",
       " '@zhiqun_zhu': 8,\n",
       " '@tedcruz': 8,\n",
       " '@WYDITS': 8,\n",
       " '@sayitnspinit': 8,\n",
       " '@babusaheb90': 8,\n",
       " '@EverydayBastiat': 8,\n",
       " '@BlairChafe': 8,\n",
       " '@MrsDoubtFireSF': 8,\n",
       " '@AMaresyev': 8,\n",
       " '@allan_cyrus': 8,\n",
       " '@ASEAN': 8,\n",
       " '@WarintheFuture': 8,\n",
       " '@YahooNews': 8,\n",
       " '@kbronz11': 8,\n",
       " '@CalvinE43701301': 8,\n",
       " '@eu_eeas': 8,\n",
       " '@EmmaVigeland': 8,\n",
       " '@FBI': 8,\n",
       " '@YYL76525946': 8,\n",
       " '@vonderleyen': 8,\n",
       " '@PCribbett': 8,\n",
       " '@KimDriver11': 8,\n",
       " '@timfprice': 8,\n",
       " '@TwitterSupport': 8,\n",
       " '@bankofengland': 8,\n",
       " '@mikepompeo': 8,\n",
       " '@VOAChinese': 8,\n",
       " '@dhookstead': 8,\n",
       " '@yadavvinay256': 8,\n",
       " '@roulinski': 8,\n",
       " '@faraway_wander': 8,\n",
       " '@_ValiantPanda_': 8,\n",
       " '@Dragondescendan': 8,\n",
       " '@AST_HQ': 8,\n",
       " '@Kenneth06732534': 8,\n",
       " '@TJQuinnESPN': 8,\n",
       " '@AbhijitChavda': 8,\n",
       " '@hobilaopo': 8,\n",
       " '@OdogwuEmmzy': 8,\n",
       " '@BreakingNews': 8,\n",
       " '@Ripman561': 8,\n",
       " '@Europarl_EN': 8,\n",
       " '@SuperCatch64': 8,\n",
       " '@Fraktl_': 8,\n",
       " '@KremlinRussia_E': 7,\n",
       " '@yin_sura': 7,\n",
       " \"@SpeakerPelosi's\": 7,\n",
       " '@Phyllis94584953': 7,\n",
       " '@DrSAKhan20': 7,\n",
       " '@DavidWolfe': 7,\n",
       " '@SecDef': 7,\n",
       " '@Etsy': 7,\n",
       " '@MarkAmesExiled': 7,\n",
       " '@USNavy': 7,\n",
       " '@USArmy': 7,\n",
       " '@MaLinda08835500': 7,\n",
       " '@JosepBorrellF': 7,\n",
       " '@Felicia72559921': 7,\n",
       " '@mwgbanks': 7,\n",
       " '@JustinSlamen': 7,\n",
       " '@AlexEpstein': 7,\n",
       " '@BBCNews': 7,\n",
       " '@DagnyTaggart369': 7,\n",
       " '@SimpleSiteman': 7,\n",
       " '@epochtimes': 7,\n",
       " '@CogentNomad': 7,\n",
       " '@TaiwanPresSPOX': 7,\n",
       " '@McFaul': 7,\n",
       " '@crakkkers': 7,\n",
       " '@AndyBxxx': 7,\n",
       " '@SOURCESIGNALINT': 7,\n",
       " '@GemsOfBollywood': 7,\n",
       " '@KTRTRS': 7,\n",
       " '@RealAndyLeeShow': 7,\n",
       " '@serpentza': 7,\n",
       " '@MayoIsSpicyy': 7,\n",
       " '@Alpaca188': 7,\n",
       " '@KariLake': 7,\n",
       " '@bombaybadboy': 7,\n",
       " '@TheLancet': 7,\n",
       " '@USForcesKorea': 7,\n",
       " '@ZelenskyyUa': 7,\n",
       " '@TrueNorthCentre': 7,\n",
       " '@TIMGOLDFINCH': 7,\n",
       " '@SwearingForex': 7,\n",
       " '@Chr1s_not_a_bot': 7,\n",
       " '@helgy2': 7,\n",
       " '@Ellis_Greenwood': 7,\n",
       " '@mindedmusically': 7,\n",
       " '@jbhearn': 7,\n",
       " '@shuma0963': 7,\n",
       " '@mike_lucullus': 7,\n",
       " '@Matt_GS': 7,\n",
       " '@David11359148': 7,\n",
       " '@SvarfvarSea': 7,\n",
       " '@PerKurowski': 7,\n",
       " '@HenricCont': 7,\n",
       " '@ShaytanTruth': 7,\n",
       " '@cm1183': 7,\n",
       " '@QE4_Countdown': 7,\n",
       " '@FistsFaceBrace': 7,\n",
       " '@DilipShah_': 7,\n",
       " '@Jo_HNGalt': 7,\n",
       " '@RedOnWight': 7,\n",
       " '@JadedJourney': 7,\n",
       " '@FreedomGeopol': 7,\n",
       " '@Satoshi2k21': 7,\n",
       " '@MoreTadpole': 7,\n",
       " '@Enea_H': 7,\n",
       " '@janineyve': 7,\n",
       " '@HarrisSamaras': 7,\n",
       " '@Andy_McLean': 7,\n",
       " '@ShaneJa16905901': 7,\n",
       " '@BONES_YARDROCK': 7,\n",
       " '@NicTrades': 7,\n",
       " '@notayesmansecon': 7,\n",
       " '@ASI': 7,\n",
       " '@jill0710': 7,\n",
       " '@EconResCouncil': 7,\n",
       " '@hmtreasury': 7,\n",
       " '@jimcramer': 7,\n",
       " '@Angry_Staffer': 7,\n",
       " '@AndrewWarrenFL': 7,\n",
       " '@DocDeezWhat': 7,\n",
       " '@rosegar17673310': 7,\n",
       " '@t_d_h_nair': 7,\n",
       " '@aarondmiller2': 7,\n",
       " '@US_China_Menu': 7,\n",
       " '@SpadeA82189452': 7,\n",
       " '@juzijing6': 7,\n",
       " '@IamSanathKumar': 7,\n",
       " '@DiamondDave_22': 7,\n",
       " '@notasoreloser': 7,\n",
       " '@kennethGalla2': 7,\n",
       " '@AmericanSuzieQ': 7,\n",
       " '@sirswa77': 7,\n",
       " '@Loretta30439235': 7,\n",
       " '@Michel757188561': 7,\n",
       " '@Booker4KY': 7,\n",
       " '@MichelleDewbs': 7,\n",
       " '@national_neeta': 7,\n",
       " '@maryashakil': 7,\n",
       " '@mutex7': 7,\n",
       " '@selinawangtv': 7,\n",
       " '@FrontalForce': 7,\n",
       " '@nebcow': 7,\n",
       " '@matsuri_111': 7,\n",
       " '@Keptopolarbear': 7,\n",
       " '@3YearLetterman': 6,\n",
       " '@Devnity10': 6,\n",
       " '@Clown_da13th': 6,\n",
       " '@Talhaboi88': 6,\n",
       " '@bpolitics': 6,\n",
       " '@Liz_Cheney': 6,\n",
       " '@WalshFreedom': 6,\n",
       " '@JeanCharest_': 6,\n",
       " '@mod_russia': 6,\n",
       " '@RusMission_EU': 6,\n",
       " '@EUinRussia': 6,\n",
       " '@MFA_Ukraine': 6,\n",
       " '@RusBotschaft': 6,\n",
       " '@mission_russian': 6,\n",
       " '@MansDuality': 6,\n",
       " '@nathaliejacoby1': 6,\n",
       " '@MetamanNFT88': 6,\n",
       " '@DanPriceSeattle': 6,\n",
       " '@ChingteLai': 6,\n",
       " '@ModJapan_en': 6,\n",
       " '@DefenceAust': 6,\n",
       " '@INCIndia': 6,\n",
       " '@KamalaHarris': 6,\n",
       " '@MuzzammilAslam3': 6,\n",
       " '@rajnathsingh': 6,\n",
       " '@marklevinshow': 6,\n",
       " '@ForeignAffairs': 6,\n",
       " '@GfJhg4b51Jj7TXy': 6,\n",
       " '@MikeCHubbard': 6,\n",
       " '@SouthernNight33': 6,\n",
       " '@HouseDemocrats': 6,\n",
       " '@mattgaetz': 6,\n",
       " '@brianhioe': 6,\n",
       " '@americanwire_': 6,\n",
       " '@MrAndyNgo': 6,\n",
       " '@julie_kelly2': 6,\n",
       " '@ShivAroor': 6,\n",
       " '@InfraHaz': 6,\n",
       " '@Niko7la': 6,\n",
       " '@ekpenyongededet': 6,\n",
       " '@jdysl72': 6,\n",
       " '@rtenews': 6,\n",
       " '@Byron_Wan': 6,\n",
       " '@JohnCornyn': 6,\n",
       " '@notXiangyu': 6,\n",
       " '@spectator': 6,\n",
       " '@jinpyokim': 6,\n",
       " '@DeerGolden': 6,\n",
       " '@santinomics': 6,\n",
       " '@BaldingsWorld': 6,\n",
       " '@AutisticHODL': 6,\n",
       " '@NiMingda_GG': 6,\n",
       " '@atrupar': 6,\n",
       " '@BRI_SL': 6,\n",
       " '@georgegalloway': 6,\n",
       " '@libijian2': 6,\n",
       " '@ThomasSirianni2': 6,\n",
       " '@NaomiLWood': 6,\n",
       " '@StewartButton': 6,\n",
       " '@ChrisMurphyCT': 6,\n",
       " '@Noahpinion': 6,\n",
       " '@anthonyzenkus': 6,\n",
       " '@Lazerkitty3': 6,\n",
       " '@LionelMedia': 6,\n",
       " '@BernieSpofforth': 6,\n",
       " '@MZHemingway': 6,\n",
       " '@Tomaste9': 6,\n",
       " '@thouba47': 6,\n",
       " '@worden_van': 6,\n",
       " '@scarecrow514': 6,\n",
       " '@mat_schmaltz': 6,\n",
       " '@sidhant': 6,\n",
       " '@SenWarren': 6,\n",
       " '@SLM_0301': 6,\n",
       " '@GeromanAT': 6,\n",
       " '@msdhonihemanth': 6,\n",
       " '@kum99171794': 6,\n",
       " '@Matthew63085684': 6,\n",
       " '@arvindnayak1': 6,\n",
       " '@Saifisl94687626': 6,\n",
       " '@flushingitgolf': 6,\n",
       " '@ypandey01997': 6,\n",
       " '@sahlmunn': 6,\n",
       " '@TreatHunterDog': 6,\n",
       " '@ElegantLadyBlue': 6,\n",
       " '@schmevilagain': 6,\n",
       " '@TastyMorsel6': 6,\n",
       " '@AmyPollano': 6,\n",
       " '@Evry1H8sGrtzLOL': 6,\n",
       " '@LadyOfTheOcean1': 6,\n",
       " '@gmarshall1965': 6,\n",
       " '@ichbinmandryka': 6,\n",
       " '@slowmotionwreck': 6,\n",
       " '@JesseIloanusi': 6,\n",
       " '@liaowenze': 6,\n",
       " '@echon62123192': 6,\n",
       " '@TamannaInamdar.': 6,\n",
       " '@VaushV': 6,\n",
       " '@CrackpotCamando': 6,\n",
       " '@XiaozhPhD04': 6,\n",
       " '@Yaenatrice': 6,\n",
       " '@HardcoreMetal89': 6,\n",
       " '@fengjianwen2': 6,\n",
       " '@ex_liberal_1990': 5,\n",
       " '@NC798322': 5,\n",
       " '@GundamNorthrop': 5,\n",
       " '@ThePrintIndia': 5,\n",
       " '@MaggieP31069': 5,\n",
       " '@SenRandPaul': 5,\n",
       " '@Saggit95': 5,\n",
       " '@Mike44502881': 5,\n",
       " '@ImagesHome': 5,\n",
       " '@cnnbrk': 5,\n",
       " '@PloutarhosP': 5,\n",
       " '@MaxBlumenthal': 5,\n",
       " '@Twitter': 5,\n",
       " '@fbermingham': 5,\n",
       " '@DEFCONWSALERTS': 5,\n",
       " '@Melissa52402305': 5,\n",
       " '@amyklobuchar': 5,\n",
       " '@Swamy39': 5,\n",
       " '@Kristyann39': 5,\n",
       " '@EU_Commission': 5,\n",
       " '@amermilnews': 5,\n",
       " '@ninaturner': 5,\n",
       " '@TalkTV': 5,\n",
       " '@8bitProdigy': 5,\n",
       " '@aajtak': 5,\n",
       " '@Nibellion': 5,\n",
       " '@JiRongMFA': 5,\n",
       " '@LeAdderNoire': 5,\n",
       " '@rwac48': 5,\n",
       " '@WeAreCanProud': 5,\n",
       " '@porncop22': 5,\n",
       " '@Breaking911': 5,\n",
       " '@TimSandaele': 5,\n",
       " '@WHO': 5,\n",
       " '@YahooFinance': 5,\n",
       " '@BretBaier': 5,\n",
       " '@Taiwan_Today': 5,\n",
       " '@pan56178100': 5,\n",
       " '@pepperedmelon': 5,\n",
       " '@BesDMarx': 5,\n",
       " '@EpochTimes': 5,\n",
       " '@brittneygriner': 5,\n",
       " '@CaoYi_MFA': 5,\n",
       " '@Flock_Undead': 5,\n",
       " '@Brochain7': 5,\n",
       " '@5uemon_Ishikawa': 5,\n",
       " '@youngtravbickle': 5,\n",
       " '@globeandmail': 5,\n",
       " '@MarxMidwest': 5,\n",
       " '@BJP4India': 5,\n",
       " '@firstladyship': 5,\n",
       " '@Apex_WW': 5,\n",
       " '@RonnyJacksonTX': 5,\n",
       " '@PolinaPomorenko': 5,\n",
       " '@SadBillAckman': 5,\n",
       " '@theblaze': 5,\n",
       " '@ksorbs': 5,\n",
       " '@LPNational': 5,\n",
       " '@Nrg8000': 5,\n",
       " '@ConceptualJames': 5,\n",
       " '@SebGorka': 5,\n",
       " '@comradephylis': 5,\n",
       " '@uselesshxty': 5,\n",
       " '@Roman_Baber': 5,\n",
       " '@I8APYAbNmKC17BC': 5,\n",
       " '@bidetmarxman': 5,\n",
       " '@ChineseZimbabwe': 5,\n",
       " '@NarenKadian': 5,\n",
       " '@NarayanM321': 5,\n",
       " '@WarMonitor3': 5,\n",
       " '@TFL1728': 5,\n",
       " '@ItsmeMalvin': 5,\n",
       " '@Peston': 5,\n",
       " '@sandilemshengu': 5,\n",
       " '@UAexposed': 5,\n",
       " '@GrahamTAllison': 5,\n",
       " '@skramerwrites': 5,\n",
       " '@advocatepulkit': 5,\n",
       " '@markito0171': 5,\n",
       " '@yezijun44': 5,\n",
       " '@xiaodaotoujike': 5,\n",
       " '@kiani00': 5,\n",
       " '@myxiaoma': 5,\n",
       " '@RepAndyBiggsAZ': 5,\n",
       " '@andylumm': 5,\n",
       " '@KennethGardine8': 5,\n",
       " '@EstherShetv604': 5,\n",
       " '@mirandadevine': 5,\n",
       " '@RepMTG': 5,\n",
       " '@GermanyDiplo': 5,\n",
       " '@M4THm4t1C': 5,\n",
       " '@onlyyoontv': 5,\n",
       " '@jonstewart': 5,\n",
       " '@JiaJia71796140': 5,\n",
       " '@shashj': 5,\n",
       " '@foxnews': 5,\n",
       " '@PentagonPresSec': 5,\n",
       " '@politico': 5,\n",
       " '@Chomskull1': 5,\n",
       " '@lfishgirl67': 5,\n",
       " '@arthur_eckart': 5,\n",
       " '@TomFitton': 5,\n",
       " '@thesamreynolds': 5,\n",
       " '@amarDgreat': 5,\n",
       " '@BabeRuthsEmpire': 5,\n",
       " '@BlackRock': 5,\n",
       " '@DeanObeidallah': 5,\n",
       " '@ClayTravis': 5,\n",
       " '@DerektheCleric': 5,\n",
       " '@prageru': 5,\n",
       " '@jcpsjournal': 5,\n",
       " '@sambitswaraj': 5,\n",
       " '@mgordonwsj': 5,\n",
       " '@leslibless': 5,\n",
       " '@LadyVelvet_HFQ': 5,\n",
       " '@China2ASEAN': 5,\n",
       " '@still_a_nerd': 5,\n",
       " '@cmseth1': 5,\n",
       " '@Justendy': 5,\n",
       " '@Mrsyumahotrod': 5,\n",
       " '@MarketRebels': 5,\n",
       " '@Prospekt1171': 5,\n",
       " '@VictorishB123': 5,\n",
       " '@PEthical': 5,\n",
       " '@ARanganathan72': 5,\n",
       " '@kantwihao': 5,\n",
       " '@moondrops111': 5,\n",
       " '@HouseGOP': 5,\n",
       " '@Modsognir2': 5,\n",
       " '@limits_stop': 5,\n",
       " '@ReassertHuang': 5,\n",
       " '@passenger747': 5,\n",
       " '@_mm85': 5,\n",
       " '@Zeus_780': 5,\n",
       " '@tweet2GAURANG': 5,\n",
       " '@OrwellNGoode': 5,\n",
       " '@RoryFaulkner80': 5,\n",
       " '@Newsweek': 5,\n",
       " '@bubble1027vp': 5,\n",
       " '@MadelineYMaga': 5,\n",
       " '@Daiohist': 5,\n",
       " '@antonioguterres:': 5,\n",
       " '@Davidmetroland': 5,\n",
       " '@RaheemKassam': 5,\n",
       " '@AmbQinGang': 5,\n",
       " '@nessiipnc': 5,\n",
       " '@mspears96': 5,\n",
       " '@calebewert': 5,\n",
       " '@robertwrighter': 5,\n",
       " '@PugulusP': 5,\n",
       " '@outlaw_starrr': 5,\n",
       " '@CcpSlayer': 5,\n",
       " '@Inconce57494141': 5,\n",
       " '@deltaal20409823': 5,\n",
       " '@TransbianBerry': 5,\n",
       " '@snob_of': 5,\n",
       " '@arny_trezzi': 5,\n",
       " '@JustCommonSens3': 5,\n",
       " '@taywu9': 5,\n",
       " '@Richardkute102': 5,\n",
       " '@MileenaUltra': 5,\n",
       " '@GidiOracle': 5,\n",
       " '@VersatileSings': 5,\n",
       " '@TheoAbuAgada': 5,\n",
       " '@BBCBreaking': 5,\n",
       " '@slickrick77777': 5,\n",
       " '@BalanceHewitt': 5,\n",
       " '@Boogie_Bandit6': 5,\n",
       " '@RD51988': 5,\n",
       " '@poponpaon': 5,\n",
       " '@jsch87': 5,\n",
       " '@i5d8m9RsTHOlAbN': 4,\n",
       " '@China_Amb_Zim': 4,\n",
       " '@NanLiu78620604': 4,\n",
       " '@dw_chinese': 4,\n",
       " '@dirk_fasshauer': 4,\n",
       " '@mtaibbi': 4,\n",
       " '@ENSanchez10': 4,\n",
       " '@zalshamsi1': 4,\n",
       " '@JMichaelWaller': 4,\n",
       " '@poshmarkapp': 4,\n",
       " '@Onyeanusionwu': 4,\n",
       " '@Shya_74': 4,\n",
       " '@Aldanimarki': 4,\n",
       " '@johnrobertsFox': 4,\n",
       " '@CecErlandsen': 4,\n",
       " '@SecGranholm': 4,\n",
       " '@MPWangTingyu': 4,\n",
       " '@AmericanWumao': 4,\n",
       " '@DoomedSkullPunk': 4,\n",
       " '@vegoid': 4,\n",
       " '@Lancegooden': 4,\n",
       " '@Podolyak_M': 4,\n",
       " '@CBSNews': 4,\n",
       " '@LauraHarth': 4,\n",
       " '@PeterSweden7': 4,\n",
       " '@Sen_JoeManchin': 4,\n",
       " '@girl_spectrum': 4,\n",
       " '@NasimAbbas871': 4,\n",
       " '@RepRashida': 4,\n",
       " '@TedKempCNBC': 4,\n",
       " '@SuLin_Tan': 4,\n",
       " '@CNBCi': 4,\n",
       " '@CBCNews': 4,\n",
       " '@VeteranOfBS': 4,\n",
       " '@GabyFca1': 4,\n",
       " '@Karls_Quest': 4,\n",
       " '@michaelmalice': 4,\n",
       " '@RNCResearch': 4,\n",
       " '@ComradeKimDawn': 4,\n",
       " '@BidensWins': 4,\n",
       " '@RnaudBertrand': 4,\n",
       " '@BeijingPalmer': 4,\n",
       " '@DonaldJTrumpJr': 4,\n",
       " '@CPAC': 4,\n",
       " '@raam_beart': 4,\n",
       " '@AnarkistaVeneco': 4,\n",
       " '@TiagoBras6': 4,\n",
       " '@greydomovoy': 4,\n",
       " '@idontknowshark': 4,\n",
       " '@minakimes': 4,\n",
       " '@Liz_Wheeler': 4,\n",
       " '@IndiaHistorypic': 4,\n",
       " '@45Jbama': 4,\n",
       " '@ctroughton7': 4,\n",
       " '@DNC': 4,\n",
       " '@SenateDems': 4,\n",
       " '@protocol': 4,\n",
       " '@iamtheone_666': 4,\n",
       " '@liketodebate': 4,\n",
       " '@10DowningStreet': 4,\n",
       " '@FT': 4,\n",
       " '@Schouten_B': 4,\n",
       " '@zaoan86669528': 4,\n",
       " '@DollarCakeCry': 4,\n",
       " '@oliu321': 4,\n",
       " '@ChuckGrassley': 4,\n",
       " '@lackwood1101': 4,\n",
       " '@Yolo304741': 4,\n",
       " '@WSOnlineNews': 4,\n",
       " '@CatoInstitute': 4,\n",
       " '@launchallvipers': 4,\n",
       " '@EuromaidanPress': 4,\n",
       " '@_JakubJanda': 4,\n",
       " '@Lauren_Southern': 4,\n",
       " '@Jkylebass': 4,\n",
       " '@PeterZeihan': 4,\n",
       " '@dick_nixon': 4,\n",
       " '@RFI_Cn': 4,\n",
       " '@china_beyonce': 4,\n",
       " '@dbongino': 4,\n",
       " '@dildor900': 4,\n",
       " '@UCBerkeley': 4,\n",
       " '@HerschelWalker': 4,\n",
       " '@Huawei': 4,\n",
       " '@Ernestonewage': 4,\n",
       " '@the_hindu': 4,\n",
       " '@JeffZillgitt': 4,\n",
       " '@george__1992': 4,\n",
       " '@vanillaopinions': 4,\n",
       " '@potus': 4,\n",
       " '@JPN_PMO': 4,\n",
       " '@Horesmi': 4,\n",
       " '@politeabox': 4,\n",
       " '@john': 4,\n",
       " '@fullsendpodcast': 4,\n",
       " '@ndtv': 4,\n",
       " '@BandyXLee1': 4,\n",
       " '@ProletariatRis1': 4,\n",
       " '@sohocomedy': 4,\n",
       " '@cherylJ93231699': 4,\n",
       " '@DaLump4': 4,\n",
       " '@JT4TheReturn': 4,\n",
       " '@FatNastyDough': 4,\n",
       " '@StucknDaMid': 4,\n",
       " '@BenTenacity': 4,\n",
       " '@seriouslyabk': 4,\n",
       " '@pannchoa': 4,\n",
       " '@deadmangroup': 4,\n",
       " '@albasgamer': 4,\n",
       " '@PamelaHensley22': 4,\n",
       " '@ChineseEmbinUK': 4,\n",
       " '@rosylind868': 4,\n",
       " '@Viktor70961307': 4,\n",
       " '@AreYouALemming': 4,\n",
       " '@Darsi55555': 4,\n",
       " '@LonngTyme': 4,\n",
       " '@amazon': 4,\n",
       " '@JohnCena': 4,\n",
       " '@GDEve_': 4,\n",
       " '@Tangsanzhang123': 4,\n",
       " '@deliang_li': 4,\n",
       " '@thewire_in': 4,\n",
       " '@SenSchumer': 4,\n",
       " '@zagiacho': 4,\n",
       " '@killaC78580699': 4,\n",
       " '@CNNnews18': 4,\n",
       " '@hodgetwins': 4,\n",
       " '@wildtrailflow': 4,\n",
       " '@Yeda456': 4,\n",
       " '@RBReich': 4,\n",
       " '@LegalLro': 4,\n",
       " '@shoe0nhead': 4,\n",
       " '@DanRather': 4,\n",
       " '@CNBC': 4,\n",
       " '@GerberKawasaki': 4,\n",
       " '@DivhaDollarz': 4,\n",
       " '@joecharex': 4,\n",
       " '@thepoliticalway': 4,\n",
       " '@CompellingTalk': 4,\n",
       " '@KMAC_LA': 4,\n",
       " '@HMOIndia': 4,\n",
       " '@YimouLee': 4,\n",
       " '@INTELPSF': 4,\n",
       " '@Gojira19841': 4,\n",
       " '@Antipolluters': 4,\n",
       " '@NicholasTyrone': 4,\n",
       " '@prchovanec': 4,\n",
       " '@nancyayoussef': 4,\n",
       " '@blaccoffee': 4,\n",
       " '@republicdotpk': 4,\n",
       " '@CWilson_FCDO': 4,\n",
       " '@StogneBologne': 4,\n",
       " '@poldiscoursebot': 4,\n",
       " '@JavierBlas': 4,\n",
       " '@johnstanly': 4,\n",
       " '@smitharnair': 4,\n",
       " '@illegalobserver': 4,\n",
       " '@CoryBooker': 4,\n",
       " '@CryptoKaleo': 4,\n",
       " '@MethanolSS': 4,\n",
       " '@boiiwithalotIs': 4,\n",
       " '@_1Cloudy_1': 4,\n",
       " '@BLUE78568391': 4,\n",
       " '@Erii9R': 4,\n",
       " '@mubrown2000': 4,\n",
       " '@CIA': 4,\n",
       " '@RisenChow': 4,\n",
       " '@chestertuggle17': 4,\n",
       " '@kalayatasmainma': 4,\n",
       " '@sunyezidi': 4,\n",
       " '@williamzambezi': 4,\n",
       " '@ChanKobrick': 4,\n",
       " '@weareoneEXO': 4,\n",
       " '@shatang74620052': 4,\n",
       " '@nickdbarnhart': 4,\n",
       " '@bobiheii': 4,\n",
       " '@Axne4Congress': 4,\n",
       " '@rsmtrujillo': 4,\n",
       " '@SharylAttkisson': 4,\n",
       " '@_akchauhan': 4,\n",
       " '@PeteButtigieg': 4,\n",
       " '@USA_China_Talk': 4,\n",
       " '@Militarybrainz': 4,\n",
       " '@stephen78352282': 4,\n",
       " '@Berlin__Min': 4,\n",
       " '@Lokesh__Cr7': 4,\n",
       " '@Orcs2Elves': 4,\n",
       " '@VeerParam4': 4,\n",
       " '@January6thCmte': 4,\n",
       " '@Atomtopa': 4,\n",
       " '@Karl_Was_Right': 4,\n",
       " '@TheMarketDog': 4,\n",
       " '@igelcity': 4,\n",
       " '@WashTimes': 4,\n",
       " ...}"
      ]
     },
     "execution_count": 253,
     "metadata": {},
     "output_type": "execute_result"
    }
   ],
   "source": [
    "dict(sorted(users.items(), reverse= True,key=lambda item: item[1]))"
   ]
  },
  {
   "cell_type": "markdown",
   "id": "95a2eaf6",
   "metadata": {},
   "source": [
    "# Usuários mais presentes no conjunto"
   ]
  },
  {
   "cell_type": "code",
   "execution_count": 254,
   "id": "9fac6ae3",
   "metadata": {},
   "outputs": [
    {
     "data": {
      "text/plain": [
       "Liam66665          68\n",
       "Naro08689546       41\n",
       "RR88656428         41\n",
       "jalebidaddy        36\n",
       "Lezette_China      30\n",
       "                   ..\n",
       "Luna_Lasagna        1\n",
       "little2a2000        1\n",
       "hey_jai520          1\n",
       "cosmoschronicle     1\n",
       "norrightnorlef1     1\n",
       "Name: user, Length: 14700, dtype: int64"
      ]
     },
     "execution_count": 254,
     "metadata": {},
     "output_type": "execute_result"
    }
   ],
   "source": [
    "tweets.user.value_counts()"
   ]
  },
  {
   "cell_type": "markdown",
   "id": "5d8db948",
   "metadata": {},
   "source": [
    "# Treinando modelo de ML para extrair tópicos, gerando N tópicos fixos"
   ]
  },
  {
   "cell_type": "code",
   "execution_count": 255,
   "id": "25f61bb0",
   "metadata": {},
   "outputs": [],
   "source": [
    "#TRAINING\n",
    "topic_model = BERTopic( n_gram_range = (1,2), min_topic_size = 20, nr_topics = 30)\n",
    "topics, probabilities = topic_model.fit_transform(docs)"
   ]
  },
  {
   "cell_type": "code",
   "execution_count": 256,
   "id": "ec87cc80",
   "metadata": {},
   "outputs": [
    {
     "data": {
      "text/plain": [
       "{-1: [('china', 0.022769115195997315),\n",
       "  ('taiwan', 0.00847679686470876),\n",
       "  ('amp', 0.007637639710150083),\n",
       "  ('russia', 0.00758834661399685),\n",
       "  ('country', 0.007348770047617666),\n",
       "  ('chinese', 0.007095967154093716),\n",
       "  ('like', 0.007090728417381178),\n",
       "  ('pelosi', 0.006716374808542541),\n",
       "  ('world', 0.006691805795971846),\n",
       "  ('people', 0.0066485835070949646)],\n",
       " 0: [('taiwan', 0.051130686519629355),\n",
       "  ('china', 0.02789200472158169),\n",
       "  ('taiwan china', 0.018164447081741298),\n",
       "  ('china taiwan', 0.016548298870519246),\n",
       "  ('people', 0.012085074998007305),\n",
       "  ('country', 0.011034564287387276),\n",
       "  ('taiwanese', 0.010231428280813429),\n",
       "  ('republic china', 0.009979541998995225),\n",
       "  ('republic', 0.009896280068158994),\n",
       "  ('war', 0.009831972436946801)],\n",
       " 1: [('russia', 0.07448067282468993),\n",
       "  ('china russia', 0.03676907002466812),\n",
       "  ('russia china', 0.03624524021322181),\n",
       "  ('china', 0.024117913755670285),\n",
       "  ('small business', 0.012425037885896252),\n",
       "  ('go', 0.012415695870715969),\n",
       "  ('world', 0.012387522183816608),\n",
       "  ('mean small', 0.012261596055028953),\n",
       "  ('business go', 0.012157999501713068),\n",
       "  ('russia watchdog', 0.01205141078609224)],\n",
       " 2: [('biden', 0.04976548110438415),\n",
       "  ('trump', 0.033335925558033434),\n",
       "  ('hunter', 0.022761057465683715),\n",
       "  ('china', 0.020087138263776394),\n",
       "  ('democrats', 0.018122275359468996),\n",
       "  ('joe', 0.016167282396672394),\n",
       "  ('get', 0.01535679159629259),\n",
       "  ('hunter biden', 0.01509439625826918),\n",
       "  ('deal', 0.011869382527451271),\n",
       "  ('joe biden', 0.011592747088316735)],\n",
       " 3: [('india', 0.07108893584298447),\n",
       "  ('pakistan', 0.04105661306768734),\n",
       "  ('china', 0.021908540103048765),\n",
       "  ('indian', 0.020488742596108823),\n",
       "  ('india china', 0.013858543114609927),\n",
       "  ('country', 0.010908391969456878),\n",
       "  ('china pakistan', 0.010639489701261141),\n",
       "  ('amp', 0.009795230176078256),\n",
       "  ('pakistan china', 0.0096025977165366),\n",
       "  ('pak', 0.009248337601393831)],\n",
       " 4: [('ukraine', 0.09100928371299381),\n",
       "  ('russia', 0.04180200518852331),\n",
       "  ('taiwan', 0.0327310129067662),\n",
       "  ('war', 0.02498109268723378),\n",
       "  ('china', 0.021918007591144466),\n",
       "  ('amp', 0.02147500012471327),\n",
       "  ('zelensky', 0.021132599013497694),\n",
       "  ('amp ukraine', 0.019502579908088038),\n",
       "  ('invasion', 0.017930057572798492),\n",
       "  ('away ukraine', 0.01762456535459579)],\n",
       " 5: [('pelosi', 0.0770835517988285),\n",
       "  ('nancy', 0.02878036645474429),\n",
       "  ('china', 0.022621112335547703),\n",
       "  ('pelosi trip', 0.022506414222552517),\n",
       "  ('nancy pelosi', 0.020169323611137192),\n",
       "  ('trip', 0.019993980897375037),\n",
       "  ('taiwan', 0.019110368876092215),\n",
       "  ('preparation', 0.018919891036571157),\n",
       "  ('invasion pelosi', 0.01886481045640743),\n",
       "  ('taiwan preparation', 0.018396534963480624)],\n",
       " 6: [('missile', 0.07608195600494395),\n",
       "  ('fire', 0.05883478535484677),\n",
       "  ('china fire', 0.0544531903096308),\n",
       "  ('launch', 0.04898594953088547),\n",
       "  ('missiles', 0.04325285263339314),\n",
       "  ('ballistic', 0.04296208770820816),\n",
       "  ('taiwan', 0.04289548436657937),\n",
       "  ('missiles taiwan', 0.041483790418163816),\n",
       "  ('fire ballistic', 0.03285411183540559),\n",
       "  ('ballistic missiles', 0.029827077444908763)],\n",
       " 7: [('drug', 0.0454515183742057),\n",
       "  ('russia', 0.03691295618641516),\n",
       "  ('law', 0.036831792862606044),\n",
       "  ('country', 0.027472091253404694),\n",
       "  ('russia china', 0.02561351434104543),\n",
       "  ('sentence', 0.025552761428580442),\n",
       "  ('don', 0.02168086772428492),\n",
       "  ('weed', 0.01997039542008443),\n",
       "  ('china', 0.01857275811740088),\n",
       "  ('death', 0.016918503883085308)],\n",
       " 8: [('david', 0.012810797170804323),\n",
       "  ('yvonnecar', 0.009095949126519358),\n",
       "  ('spacesvector', 0.009095949126519358),\n",
       "  ('robcarlson', 0.009095949126519358),\n",
       "  ('coolvetnurse ernestleenot', 0.009095949126519358),\n",
       "  ('jaquepierre', 0.009095949126519358),\n",
       "  ('pamg', 0.009095949126519358),\n",
       "  ('jaquepierre kimberl', 0.009095949126519358),\n",
       "  ('gigi', 0.009095949126519358),\n",
       "  ('livessawyer', 0.009095949126519358)],\n",
       " 9: [('virus', 0.06517277519578107),\n",
       "  ('covid', 0.06126723224407577),\n",
       "  ('china virus', 0.02824621475451783),\n",
       "  ('china', 0.023520451178255852),\n",
       "  ('research', 0.022917608592424723),\n",
       "  ('vaccine', 0.017212664852532686),\n",
       "  ('gain function', 0.015930573150832787),\n",
       "  ('pandemic', 0.014963748717193569),\n",
       "  ('function', 0.014740309270839714),\n",
       "  ('fauci', 0.0140096216220778)],\n",
       " 10: [('china', 0.05203309158312866),\n",
       "  ('town', 0.01840372518448152),\n",
       "  ('china town', 0.016054613898523504),\n",
       "  ('know', 0.015689136359888122),\n",
       "  ('china china', 0.015334838287964685),\n",
       "  ('wall', 0.015189400939602351),\n",
       "  ('come', 0.012695122984904104),\n",
       "  ('like', 0.012076682583467746),\n",
       "  ('iingwen', 0.011706665720177954),\n",
       "  ('chinese', 0.01135031043028893)],\n",
       " 11: [('pelosi', 0.09100493715043385),\n",
       "  ('visit', 0.06660291878503866),\n",
       "  ('taiwan', 0.05522601685317268),\n",
       "  ('pelosi visit', 0.054660071215651015),\n",
       "  ('visit taiwan', 0.04832041740473681),\n",
       "  ('pelosi taiwan', 0.03167306825059561),\n",
       "  ('china', 0.026769419852839964),\n",
       "  ('taiwan pelosi', 0.024181329356339994),\n",
       "  ('taiwan visit', 0.019669873663778696),\n",
       "  ('overeact pelosi', 0.017711344062004523)],\n",
       " 12: [('missile', 0.10912566650333348),\n",
       "  ('china fire', 0.09869821119416046),\n",
       "  ('fire missile', 0.09635924045283667),\n",
       "  ('pelosi visit', 0.09550368948642292),\n",
       "  ('fire', 0.09329611433407933),\n",
       "  ('visit', 0.08265711304196967),\n",
       "  ('pelosi', 0.08084875945363738),\n",
       "  ('missile near', 0.07990194876574441),\n",
       "  ('near taiwan', 0.0735915023837246),\n",
       "  ('near', 0.0700224215171325)],\n",
       " 13: [('war', 0.055381131645233644),\n",
       "  ('china', 0.02937187616827382),\n",
       "  ('military', 0.026129604226955715),\n",
       "  ('fight', 0.02102387575120946),\n",
       "  ('war china', 0.01776140611387644),\n",
       "  ('start war', 0.014594143203684531),\n",
       "  ('start', 0.013539289144874272),\n",
       "  ('invade', 0.013268330530301735),\n",
       "  ('think', 0.012944649780007448),\n",
       "  ('weapon', 0.012833427285319481)],\n",
       " 14: [('military', 0.07167313455626088),\n",
       "  ('exercise', 0.06502070618079026),\n",
       "  ('military exercise', 0.05510834926582979),\n",
       "  ('visit', 0.049143517396799),\n",
       "  ('pelosi', 0.048059136942427416),\n",
       "  ('drill', 0.04779720087115988),\n",
       "  ('pelosi visit', 0.045104372087783735),\n",
       "  ('taiwan', 0.04424831421503111),\n",
       "  ('military drill', 0.04188411505340318),\n",
       "  ('speaker', 0.03595995683729299)],\n",
       " 15: [('speakerpelosi', 0.12916604128228215),\n",
       "  ('taiwan', 0.030208729996619096),\n",
       "  ('china', 0.025510237371099),\n",
       "  ('china speakerpelosi', 0.02124138351385367),\n",
       "  ('speaker', 0.019057189475140027),\n",
       "  ('speakerpelosi china', 0.017373476943849744),\n",
       "  ('visit', 0.017038456961204304),\n",
       "  ('speakerpelosi visit', 0.015245630273904529),\n",
       "  ('speakerpelosi taiwan', 0.012950561471468273),\n",
       "  ('visit taiwan', 0.012411244837667496)],\n",
       " 16: [('potus', 0.13588113250204292),\n",
       "  ('oil', 0.13102087620651082),\n",
       "  ('sell', 0.09298793825875079),\n",
       "  ('reserve', 0.08420840909439861),\n",
       "  ('sell china', 0.056558004428941495),\n",
       "  ('china potus', 0.05485541330891474),\n",
       "  ('potus sell', 0.04648845144033651),\n",
       "  ('sell oil', 0.040711344159009594),\n",
       "  ('oil china', 0.0372462031744162),\n",
       "  ('strategic', 0.03386782636418963)],\n",
       " 17: [('test', 0.06520996206780184),\n",
       "  ('tension', 0.05738719493063064),\n",
       "  ('tension china', 0.04739646094182416),\n",
       "  ('avoid', 0.04472055442499172),\n",
       "  ('delay', 0.04288237070571162),\n",
       "  ('pelosi', 0.04281364584410014),\n",
       "  ('missile test', 0.0366518956907054),\n",
       "  ('nancy pelosi', 0.03661866134551924),\n",
       "  ('house', 0.0365380191247237),\n",
       "  ('speaker', 0.03651174292477701)],\n",
       " 18: [('japan', 0.1373012532596604),\n",
       "  ('signal japan', 0.04258900275333646),\n",
       "  ('japan taiwan', 0.04129195008513043),\n",
       "  ('send stark', 0.039997412232494756),\n",
       "  ('stark signal', 0.039997412232494756),\n",
       "  ('japanese', 0.03947306592897071),\n",
       "  ('stark', 0.03912758847261185),\n",
       "  ('missiles china', 0.038976971434207745),\n",
       "  ('signal', 0.03738956953377925),\n",
       "  ('china send', 0.03583938120735144)],\n",
       " 19: [('battery', 0.12373153750882855),\n",
       "  ('discovery', 0.06689451382741027),\n",
       "  ('breakthrough', 0.05807227778207576),\n",
       "  ('technology china', 0.057667675941157126),\n",
       "  ('breakthrough battery', 0.05703544091076334),\n",
       "  ('technology', 0.05497165210341968),\n",
       "  ('tesla', 0.04634220943847101),\n",
       "  ('give technology', 0.045562529197574704),\n",
       "  ('battery discovery', 0.04533047291901774),\n",
       "  ('worth', 0.04378078157129141)],\n",
       " 20: [('japan', 0.11569574884684872),\n",
       "  ('economic zone', 0.10691436323184571),\n",
       "  ('exclusive economic', 0.09962184251631485),\n",
       "  ('zone', 0.09875702948502428),\n",
       "  ('exclusive', 0.0959360612153597),\n",
       "  ('economic', 0.08398877591089565),\n",
       "  ('land', 0.07700877498700645),\n",
       "  ('japan exclusive', 0.0761933425742828),\n",
       "  ('land japan', 0.0689603534469618),\n",
       "  ('missile', 0.06510414183332663)],\n",
       " 21: [('nato', 0.10865352147745587),\n",
       "  ('repswalwell', 0.06167229721158054),\n",
       "  ('sweden', 0.0507625405577025),\n",
       "  ('finland', 0.05049477073411969),\n",
       "  ('finland sweden', 0.034128026139281564),\n",
       "  ('europe', 0.02828317565777483),\n",
       "  ('hawley', 0.02588493900858605),\n",
       "  ('hawleymo', 0.02452654534960805),\n",
       "  ('russia', 0.023176846893842577),\n",
       "  ('ally', 0.022095676923839652)],\n",
       " 22: [('foxnews', 0.09653724625419276),\n",
       "  ('china', 0.02965011774239601),\n",
       "  ('news', 0.028262132840776024),\n",
       "  ('newsmax', 0.028131875477379747),\n",
       "  ('cnn', 0.02585077943554886),\n",
       "  ('fox', 0.024988260082424416),\n",
       "  ('joe', 0.021401946596392295),\n",
       "  ('fox news', 0.020233882592469405),\n",
       "  ('trump', 0.019217674979063636),\n",
       "  ('cynizentv foxnews', 0.01679894699793148)],\n",
       " 23: [('china policy', 0.06299099230562594),\n",
       "  ('policy', 0.061105513165073594),\n",
       "  ('uae', 0.057615654946758),\n",
       "  ('sovereignty', 0.056690728482117134),\n",
       "  ('china sovereignty', 0.04993407037830108),\n",
       "  ('principle', 0.03835114929334235),\n",
       "  ('support china', 0.03546315231049365),\n",
       "  ('china', 0.034328233016037664),\n",
       "  ('china principle', 0.032085209937565654),\n",
       "  ('support', 0.02888621189736771)],\n",
       " 24: [('drill', 0.12812976704249207),\n",
       "  ('military drill', 0.08534077652261142),\n",
       "  ('military', 0.0670367143235449),\n",
       "  ('drill taiwan', 0.06265183888884121),\n",
       "  ('taiwan', 0.05339138035020489),\n",
       "  ('right hold', 0.03954843227354333),\n",
       "  ('hold', 0.034513347600095126),\n",
       "  ('china', 0.028924108293320882),\n",
       "  ('hold military', 0.027770891116220844),\n",
       "  ('kremlin', 0.02502135093836081)],\n",
       " 25: [('korea', 0.15756188267416665),\n",
       "  ('north korea', 0.11585948071628507),\n",
       "  ('north', 0.11095592394488558),\n",
       "  ('china north', 0.05664674098926526),\n",
       "  ('korea china', 0.030790032275365097),\n",
       "  ('china', 0.027219988799382946),\n",
       "  ('liken', 0.025206931648924975),\n",
       "  ('liken china', 0.025206931648924975),\n",
       "  ('taiwan liken', 0.025206931648924975),\n",
       "  ('korean', 0.017381942493207635)],\n",
       " 26: [('live fire', 0.1277704865429216),\n",
       "  ('fire', 0.11706862312459776),\n",
       "  ('live', 0.10197010511083049),\n",
       "  ('drill', 0.08186612830511422),\n",
       "  ('fire drill', 0.0787883492344164),\n",
       "  ('pla', 0.06245651431763251),\n",
       "  ('fire military', 0.04989554719151535),\n",
       "  ('taiwan', 0.04609218909811728),\n",
       "  ('taiwan live', 0.04107959049952778),\n",
       "  ('near', 0.0397418475869721)],\n",
       " 27: [('jet', 0.060334608342127886),\n",
       "  ('fighter', 0.05258402827443955),\n",
       "  ('fighter jet', 0.050953068858092455),\n",
       "  ('airspace', 0.04946926193929651),\n",
       "  ('taiwan', 0.0454887952612301),\n",
       "  ('line', 0.04212616020193288),\n",
       "  ('air', 0.04077203761764544),\n",
       "  ('median line', 0.04054630324943006),\n",
       "  ('median', 0.04054630324943006),\n",
       "  ('strait', 0.037155167935953616)],\n",
       " 28: [('chip', 0.1268012106875415),\n",
       "  ('semiconductor', 0.050811050394257574),\n",
       "  ('taiwan', 0.031240594839085107),\n",
       "  ('tsmc', 0.030346814992987158),\n",
       "  ('sand', 0.03001536013637906),\n",
       "  ('china', 0.023448359384805748),\n",
       "  ('world', 0.018343156549676675),\n",
       "  ('taiwan chip', 0.016541373816893804),\n",
       "  ('industry', 0.016412033948369483),\n",
       "  ('bill', 0.015086406712457817)],\n",
       " 29: [('buy', 0.06614672309796285),\n",
       "  ('product', 0.03823001446278534),\n",
       "  ('buy china', 0.03258428454396374),\n",
       "  ('china', 0.030954004154000802),\n",
       "  ('manufacture', 0.030439033111597527),\n",
       "  ('cheap', 0.02632935323321596),\n",
       "  ('price', 0.024393327380739998),\n",
       "  ('quality', 0.02248180381033089),\n",
       "  ('stuff', 0.022369969446722274),\n",
       "  ('outsourcing', 0.019623542062724465)]}"
      ]
     },
     "execution_count": 256,
     "metadata": {},
     "output_type": "execute_result"
    }
   ],
   "source": [
    "topic_model.get_topics()"
   ]
  },
  {
   "cell_type": "markdown",
   "id": "e88dd92a",
   "metadata": {},
   "source": [
    "# Visualizando tópicos"
   ]
  },
  {
   "cell_type": "code",
   "execution_count": 257,
   "id": "6786b0d5",
   "metadata": {},
   "outputs": [
    {
     "data": {
      "application/vnd.plotly.v1+json": {
       "config": {
        "plotlyServerURL": "https://plot.ly"
       },
       "data": [
        {
         "customdata": [
          [
           0,
           "taiwan | china | taiwan china | china taiwan | people",
           2265
          ],
          [
           1,
           "russia | china russia | russia china | china | small business",
           607
          ],
          [
           2,
           "biden | trump | hunter | china | democrats",
           507
          ],
          [
           3,
           "india | pakistan | china | indian | india china",
           425
          ],
          [
           4,
           "ukraine | russia | taiwan | war | china",
           394
          ],
          [
           5,
           "pelosi | nancy | china | pelosi trip | nancy pelosi",
           368
          ],
          [
           6,
           "missile | fire | china fire | launch | missiles",
           299
          ],
          [
           7,
           "drug | russia | law | country | russia china",
           286
          ],
          [
           8,
           "david | yvonnecar | spacesvector | robcarlson | coolvetnurse ernestleenot",
           279
          ],
          [
           9,
           "virus | covid | china virus | china | research",
           274
          ],
          [
           10,
           "china | town | china town | know | china china",
           254
          ],
          [
           11,
           "pelosi | visit | taiwan | pelosi visit | visit taiwan",
           247
          ],
          [
           12,
           "missile | china fire | fire missile | pelosi visit | fire",
           228
          ],
          [
           13,
           "war | china | military | fight | war china",
           209
          ],
          [
           14,
           "military | exercise | military exercise | visit | pelosi",
           198
          ],
          [
           15,
           "speakerpelosi | taiwan | china | china speakerpelosi | speaker",
           181
          ],
          [
           16,
           "potus | oil | sell | reserve | sell china",
           171
          ],
          [
           17,
           "test | tension | tension china | avoid | delay",
           171
          ],
          [
           18,
           "japan | signal japan | japan taiwan | send stark | stark signal",
           167
          ],
          [
           19,
           "battery | discovery | breakthrough | technology china | breakthrough battery",
           148
          ],
          [
           20,
           "japan | economic zone | exclusive economic | zone | exclusive",
           140
          ],
          [
           21,
           "nato | repswalwell | sweden | finland | finland sweden",
           136
          ],
          [
           22,
           "foxnews | china | news | newsmax | cnn",
           133
          ],
          [
           23,
           "china policy | policy | uae | sovereignty | china sovereignty",
           133
          ],
          [
           24,
           "drill | military drill | military | drill taiwan | taiwan",
           131
          ],
          [
           25,
           "korea | north korea | north | china north | korea china",
           123
          ],
          [
           26,
           "live fire | fire | live | drill | fire drill",
           114
          ],
          [
           27,
           "jet | fighter | fighter jet | airspace | taiwan",
           112
          ],
          [
           28,
           "chip | semiconductor | taiwan | tsmc | sand",
           109
          ],
          [
           29,
           "buy | product | buy china | china | manufacture",
           109
          ]
         ],
         "hovertemplate": "<b>Topic %{customdata[0]}</b><br>Words: %{customdata[1]}<br>Size: %{customdata[2]}",
         "legendgroup": "",
         "marker": {
          "color": "#B0BEC5",
          "line": {
           "color": "DarkSlateGrey",
           "width": 2
          },
          "size": [
           2265,
           607,
           507,
           425,
           394,
           368,
           299,
           286,
           279,
           274,
           254,
           247,
           228,
           209,
           198,
           181,
           171,
           171,
           167,
           148,
           140,
           136,
           133,
           133,
           131,
           123,
           114,
           112,
           109,
           109
          ],
          "sizemode": "area",
          "sizeref": 1.415625,
          "symbol": "circle"
         },
         "mode": "markers",
         "name": "",
         "orientation": "v",
         "showlegend": false,
         "type": "scatter",
         "x": [
          14.744121551513672,
          15.542454719543457,
          12.659335136413574,
          8.784703254699707,
          15.091501235961914,
          12.41572380065918,
          4.837570667266846,
          15.456700325012207,
          9.221053123474121,
          8.848481178283691,
          8.905981063842773,
          12.063749313354492,
          4.235245704650879,
          8.478078842163086,
          3.9343833923339844,
          11.687111854553223,
          9.505837440490723,
          4.173498630523682,
          8.170121192932129,
          4.38279914855957,
          4.732697010040283,
          8.299778938293457,
          9.342889785766602,
          11.90198802947998,
          4.605223178863525,
          9.090068817138672,
          3.8510167598724365,
          3.731208324432373,
          0.47567808628082275,
          0.47576189041137695
         ],
         "xaxis": "x",
         "y": [
          14.63719367980957,
          14.905823707580566,
          -6.8692121505737305,
          -16.942005157470703,
          14.809053421020508,
          -6.657420635223389,
          -0.3970299959182739,
          15.140130043029785,
          10.775702476501465,
          -16.380857467651367,
          11.510868072509766,
          -6.475886821746826,
          0.6996515989303589,
          -16.696744918823242,
          0.43459221720695496,
          -6.768062591552734,
          10.975122451782227,
          0.18070483207702637,
          -16.912256240844727,
          0.8077584505081177,
          -0.10465200990438461,
          -16.77630043029785,
          11.162481307983398,
          -6.595004081726074,
          0.435042142868042,
          11.371657371520996,
          -0.6226708292961121,
          -0.8409757614135742,
          9.396148681640625,
          9.396134376525879
         ],
         "yaxis": "y"
        }
       ],
       "layout": {
        "annotations": [
         {
          "showarrow": false,
          "text": "D1",
          "x": 0.40432637333869936,
          "y": -1.0360781908035275,
          "yshift": 10
         },
         {
          "showarrow": false,
          "text": "D2",
          "x": 9.139074650406837,
          "xshift": 10,
          "y": 17.411149549484254
         }
        ],
        "height": 650,
        "hoverlabel": {
         "bgcolor": "white",
         "font": {
          "family": "Rockwell",
          "size": 16
         }
        },
        "legend": {
         "itemsizing": "constant",
         "tracegroupgap": 0
        },
        "margin": {
         "t": 60
        },
        "shapes": [
         {
          "line": {
           "color": "#CFD8DC",
           "width": 2
          },
          "type": "line",
          "x0": 9.139074650406837,
          "x1": 9.139074650406837,
          "y0": -19.48330593109131,
          "y1": 17.411149549484254
         },
         {
          "line": {
           "color": "#9E9E9E",
           "width": 2
          },
          "type": "line",
          "x0": 0.40432637333869936,
          "x1": 17.873822927474976,
          "y0": -1.0360781908035275,
          "y1": -1.0360781908035275
         }
        ],
        "sliders": [
         {
          "active": 0,
          "pad": {
           "t": 50
          },
          "steps": [
           {
            "args": [
             {
              "marker.color": [
               [
                "red",
                "#B0BEC5",
                "#B0BEC5",
                "#B0BEC5",
                "#B0BEC5",
                "#B0BEC5",
                "#B0BEC5",
                "#B0BEC5",
                "#B0BEC5",
                "#B0BEC5",
                "#B0BEC5",
                "#B0BEC5",
                "#B0BEC5",
                "#B0BEC5",
                "#B0BEC5",
                "#B0BEC5",
                "#B0BEC5",
                "#B0BEC5",
                "#B0BEC5",
                "#B0BEC5",
                "#B0BEC5",
                "#B0BEC5",
                "#B0BEC5",
                "#B0BEC5",
                "#B0BEC5",
                "#B0BEC5",
                "#B0BEC5",
                "#B0BEC5",
                "#B0BEC5",
                "#B0BEC5"
               ]
              ]
             }
            ],
            "label": "Topic 0",
            "method": "update"
           },
           {
            "args": [
             {
              "marker.color": [
               [
                "#B0BEC5",
                "red",
                "#B0BEC5",
                "#B0BEC5",
                "#B0BEC5",
                "#B0BEC5",
                "#B0BEC5",
                "#B0BEC5",
                "#B0BEC5",
                "#B0BEC5",
                "#B0BEC5",
                "#B0BEC5",
                "#B0BEC5",
                "#B0BEC5",
                "#B0BEC5",
                "#B0BEC5",
                "#B0BEC5",
                "#B0BEC5",
                "#B0BEC5",
                "#B0BEC5",
                "#B0BEC5",
                "#B0BEC5",
                "#B0BEC5",
                "#B0BEC5",
                "#B0BEC5",
                "#B0BEC5",
                "#B0BEC5",
                "#B0BEC5",
                "#B0BEC5",
                "#B0BEC5"
               ]
              ]
             }
            ],
            "label": "Topic 1",
            "method": "update"
           },
           {
            "args": [
             {
              "marker.color": [
               [
                "#B0BEC5",
                "#B0BEC5",
                "red",
                "#B0BEC5",
                "#B0BEC5",
                "#B0BEC5",
                "#B0BEC5",
                "#B0BEC5",
                "#B0BEC5",
                "#B0BEC5",
                "#B0BEC5",
                "#B0BEC5",
                "#B0BEC5",
                "#B0BEC5",
                "#B0BEC5",
                "#B0BEC5",
                "#B0BEC5",
                "#B0BEC5",
                "#B0BEC5",
                "#B0BEC5",
                "#B0BEC5",
                "#B0BEC5",
                "#B0BEC5",
                "#B0BEC5",
                "#B0BEC5",
                "#B0BEC5",
                "#B0BEC5",
                "#B0BEC5",
                "#B0BEC5",
                "#B0BEC5"
               ]
              ]
             }
            ],
            "label": "Topic 2",
            "method": "update"
           },
           {
            "args": [
             {
              "marker.color": [
               [
                "#B0BEC5",
                "#B0BEC5",
                "#B0BEC5",
                "red",
                "#B0BEC5",
                "#B0BEC5",
                "#B0BEC5",
                "#B0BEC5",
                "#B0BEC5",
                "#B0BEC5",
                "#B0BEC5",
                "#B0BEC5",
                "#B0BEC5",
                "#B0BEC5",
                "#B0BEC5",
                "#B0BEC5",
                "#B0BEC5",
                "#B0BEC5",
                "#B0BEC5",
                "#B0BEC5",
                "#B0BEC5",
                "#B0BEC5",
                "#B0BEC5",
                "#B0BEC5",
                "#B0BEC5",
                "#B0BEC5",
                "#B0BEC5",
                "#B0BEC5",
                "#B0BEC5",
                "#B0BEC5"
               ]
              ]
             }
            ],
            "label": "Topic 3",
            "method": "update"
           },
           {
            "args": [
             {
              "marker.color": [
               [
                "#B0BEC5",
                "#B0BEC5",
                "#B0BEC5",
                "#B0BEC5",
                "red",
                "#B0BEC5",
                "#B0BEC5",
                "#B0BEC5",
                "#B0BEC5",
                "#B0BEC5",
                "#B0BEC5",
                "#B0BEC5",
                "#B0BEC5",
                "#B0BEC5",
                "#B0BEC5",
                "#B0BEC5",
                "#B0BEC5",
                "#B0BEC5",
                "#B0BEC5",
                "#B0BEC5",
                "#B0BEC5",
                "#B0BEC5",
                "#B0BEC5",
                "#B0BEC5",
                "#B0BEC5",
                "#B0BEC5",
                "#B0BEC5",
                "#B0BEC5",
                "#B0BEC5",
                "#B0BEC5"
               ]
              ]
             }
            ],
            "label": "Topic 4",
            "method": "update"
           },
           {
            "args": [
             {
              "marker.color": [
               [
                "#B0BEC5",
                "#B0BEC5",
                "#B0BEC5",
                "#B0BEC5",
                "#B0BEC5",
                "red",
                "#B0BEC5",
                "#B0BEC5",
                "#B0BEC5",
                "#B0BEC5",
                "#B0BEC5",
                "#B0BEC5",
                "#B0BEC5",
                "#B0BEC5",
                "#B0BEC5",
                "#B0BEC5",
                "#B0BEC5",
                "#B0BEC5",
                "#B0BEC5",
                "#B0BEC5",
                "#B0BEC5",
                "#B0BEC5",
                "#B0BEC5",
                "#B0BEC5",
                "#B0BEC5",
                "#B0BEC5",
                "#B0BEC5",
                "#B0BEC5",
                "#B0BEC5",
                "#B0BEC5"
               ]
              ]
             }
            ],
            "label": "Topic 5",
            "method": "update"
           },
           {
            "args": [
             {
              "marker.color": [
               [
                "#B0BEC5",
                "#B0BEC5",
                "#B0BEC5",
                "#B0BEC5",
                "#B0BEC5",
                "#B0BEC5",
                "red",
                "#B0BEC5",
                "#B0BEC5",
                "#B0BEC5",
                "#B0BEC5",
                "#B0BEC5",
                "#B0BEC5",
                "#B0BEC5",
                "#B0BEC5",
                "#B0BEC5",
                "#B0BEC5",
                "#B0BEC5",
                "#B0BEC5",
                "#B0BEC5",
                "#B0BEC5",
                "#B0BEC5",
                "#B0BEC5",
                "#B0BEC5",
                "#B0BEC5",
                "#B0BEC5",
                "#B0BEC5",
                "#B0BEC5",
                "#B0BEC5",
                "#B0BEC5"
               ]
              ]
             }
            ],
            "label": "Topic 6",
            "method": "update"
           },
           {
            "args": [
             {
              "marker.color": [
               [
                "#B0BEC5",
                "#B0BEC5",
                "#B0BEC5",
                "#B0BEC5",
                "#B0BEC5",
                "#B0BEC5",
                "#B0BEC5",
                "red",
                "#B0BEC5",
                "#B0BEC5",
                "#B0BEC5",
                "#B0BEC5",
                "#B0BEC5",
                "#B0BEC5",
                "#B0BEC5",
                "#B0BEC5",
                "#B0BEC5",
                "#B0BEC5",
                "#B0BEC5",
                "#B0BEC5",
                "#B0BEC5",
                "#B0BEC5",
                "#B0BEC5",
                "#B0BEC5",
                "#B0BEC5",
                "#B0BEC5",
                "#B0BEC5",
                "#B0BEC5",
                "#B0BEC5",
                "#B0BEC5"
               ]
              ]
             }
            ],
            "label": "Topic 7",
            "method": "update"
           },
           {
            "args": [
             {
              "marker.color": [
               [
                "#B0BEC5",
                "#B0BEC5",
                "#B0BEC5",
                "#B0BEC5",
                "#B0BEC5",
                "#B0BEC5",
                "#B0BEC5",
                "#B0BEC5",
                "red",
                "#B0BEC5",
                "#B0BEC5",
                "#B0BEC5",
                "#B0BEC5",
                "#B0BEC5",
                "#B0BEC5",
                "#B0BEC5",
                "#B0BEC5",
                "#B0BEC5",
                "#B0BEC5",
                "#B0BEC5",
                "#B0BEC5",
                "#B0BEC5",
                "#B0BEC5",
                "#B0BEC5",
                "#B0BEC5",
                "#B0BEC5",
                "#B0BEC5",
                "#B0BEC5",
                "#B0BEC5",
                "#B0BEC5"
               ]
              ]
             }
            ],
            "label": "Topic 8",
            "method": "update"
           },
           {
            "args": [
             {
              "marker.color": [
               [
                "#B0BEC5",
                "#B0BEC5",
                "#B0BEC5",
                "#B0BEC5",
                "#B0BEC5",
                "#B0BEC5",
                "#B0BEC5",
                "#B0BEC5",
                "#B0BEC5",
                "red",
                "#B0BEC5",
                "#B0BEC5",
                "#B0BEC5",
                "#B0BEC5",
                "#B0BEC5",
                "#B0BEC5",
                "#B0BEC5",
                "#B0BEC5",
                "#B0BEC5",
                "#B0BEC5",
                "#B0BEC5",
                "#B0BEC5",
                "#B0BEC5",
                "#B0BEC5",
                "#B0BEC5",
                "#B0BEC5",
                "#B0BEC5",
                "#B0BEC5",
                "#B0BEC5",
                "#B0BEC5"
               ]
              ]
             }
            ],
            "label": "Topic 9",
            "method": "update"
           },
           {
            "args": [
             {
              "marker.color": [
               [
                "#B0BEC5",
                "#B0BEC5",
                "#B0BEC5",
                "#B0BEC5",
                "#B0BEC5",
                "#B0BEC5",
                "#B0BEC5",
                "#B0BEC5",
                "#B0BEC5",
                "#B0BEC5",
                "red",
                "#B0BEC5",
                "#B0BEC5",
                "#B0BEC5",
                "#B0BEC5",
                "#B0BEC5",
                "#B0BEC5",
                "#B0BEC5",
                "#B0BEC5",
                "#B0BEC5",
                "#B0BEC5",
                "#B0BEC5",
                "#B0BEC5",
                "#B0BEC5",
                "#B0BEC5",
                "#B0BEC5",
                "#B0BEC5",
                "#B0BEC5",
                "#B0BEC5",
                "#B0BEC5"
               ]
              ]
             }
            ],
            "label": "Topic 10",
            "method": "update"
           },
           {
            "args": [
             {
              "marker.color": [
               [
                "#B0BEC5",
                "#B0BEC5",
                "#B0BEC5",
                "#B0BEC5",
                "#B0BEC5",
                "#B0BEC5",
                "#B0BEC5",
                "#B0BEC5",
                "#B0BEC5",
                "#B0BEC5",
                "#B0BEC5",
                "red",
                "#B0BEC5",
                "#B0BEC5",
                "#B0BEC5",
                "#B0BEC5",
                "#B0BEC5",
                "#B0BEC5",
                "#B0BEC5",
                "#B0BEC5",
                "#B0BEC5",
                "#B0BEC5",
                "#B0BEC5",
                "#B0BEC5",
                "#B0BEC5",
                "#B0BEC5",
                "#B0BEC5",
                "#B0BEC5",
                "#B0BEC5",
                "#B0BEC5"
               ]
              ]
             }
            ],
            "label": "Topic 11",
            "method": "update"
           },
           {
            "args": [
             {
              "marker.color": [
               [
                "#B0BEC5",
                "#B0BEC5",
                "#B0BEC5",
                "#B0BEC5",
                "#B0BEC5",
                "#B0BEC5",
                "#B0BEC5",
                "#B0BEC5",
                "#B0BEC5",
                "#B0BEC5",
                "#B0BEC5",
                "#B0BEC5",
                "red",
                "#B0BEC5",
                "#B0BEC5",
                "#B0BEC5",
                "#B0BEC5",
                "#B0BEC5",
                "#B0BEC5",
                "#B0BEC5",
                "#B0BEC5",
                "#B0BEC5",
                "#B0BEC5",
                "#B0BEC5",
                "#B0BEC5",
                "#B0BEC5",
                "#B0BEC5",
                "#B0BEC5",
                "#B0BEC5",
                "#B0BEC5"
               ]
              ]
             }
            ],
            "label": "Topic 12",
            "method": "update"
           },
           {
            "args": [
             {
              "marker.color": [
               [
                "#B0BEC5",
                "#B0BEC5",
                "#B0BEC5",
                "#B0BEC5",
                "#B0BEC5",
                "#B0BEC5",
                "#B0BEC5",
                "#B0BEC5",
                "#B0BEC5",
                "#B0BEC5",
                "#B0BEC5",
                "#B0BEC5",
                "#B0BEC5",
                "red",
                "#B0BEC5",
                "#B0BEC5",
                "#B0BEC5",
                "#B0BEC5",
                "#B0BEC5",
                "#B0BEC5",
                "#B0BEC5",
                "#B0BEC5",
                "#B0BEC5",
                "#B0BEC5",
                "#B0BEC5",
                "#B0BEC5",
                "#B0BEC5",
                "#B0BEC5",
                "#B0BEC5",
                "#B0BEC5"
               ]
              ]
             }
            ],
            "label": "Topic 13",
            "method": "update"
           },
           {
            "args": [
             {
              "marker.color": [
               [
                "#B0BEC5",
                "#B0BEC5",
                "#B0BEC5",
                "#B0BEC5",
                "#B0BEC5",
                "#B0BEC5",
                "#B0BEC5",
                "#B0BEC5",
                "#B0BEC5",
                "#B0BEC5",
                "#B0BEC5",
                "#B0BEC5",
                "#B0BEC5",
                "#B0BEC5",
                "red",
                "#B0BEC5",
                "#B0BEC5",
                "#B0BEC5",
                "#B0BEC5",
                "#B0BEC5",
                "#B0BEC5",
                "#B0BEC5",
                "#B0BEC5",
                "#B0BEC5",
                "#B0BEC5",
                "#B0BEC5",
                "#B0BEC5",
                "#B0BEC5",
                "#B0BEC5",
                "#B0BEC5"
               ]
              ]
             }
            ],
            "label": "Topic 14",
            "method": "update"
           },
           {
            "args": [
             {
              "marker.color": [
               [
                "#B0BEC5",
                "#B0BEC5",
                "#B0BEC5",
                "#B0BEC5",
                "#B0BEC5",
                "#B0BEC5",
                "#B0BEC5",
                "#B0BEC5",
                "#B0BEC5",
                "#B0BEC5",
                "#B0BEC5",
                "#B0BEC5",
                "#B0BEC5",
                "#B0BEC5",
                "#B0BEC5",
                "red",
                "#B0BEC5",
                "#B0BEC5",
                "#B0BEC5",
                "#B0BEC5",
                "#B0BEC5",
                "#B0BEC5",
                "#B0BEC5",
                "#B0BEC5",
                "#B0BEC5",
                "#B0BEC5",
                "#B0BEC5",
                "#B0BEC5",
                "#B0BEC5",
                "#B0BEC5"
               ]
              ]
             }
            ],
            "label": "Topic 15",
            "method": "update"
           },
           {
            "args": [
             {
              "marker.color": [
               [
                "#B0BEC5",
                "#B0BEC5",
                "#B0BEC5",
                "#B0BEC5",
                "#B0BEC5",
                "#B0BEC5",
                "#B0BEC5",
                "#B0BEC5",
                "#B0BEC5",
                "#B0BEC5",
                "#B0BEC5",
                "#B0BEC5",
                "#B0BEC5",
                "#B0BEC5",
                "#B0BEC5",
                "#B0BEC5",
                "red",
                "#B0BEC5",
                "#B0BEC5",
                "#B0BEC5",
                "#B0BEC5",
                "#B0BEC5",
                "#B0BEC5",
                "#B0BEC5",
                "#B0BEC5",
                "#B0BEC5",
                "#B0BEC5",
                "#B0BEC5",
                "#B0BEC5",
                "#B0BEC5"
               ]
              ]
             }
            ],
            "label": "Topic 16",
            "method": "update"
           },
           {
            "args": [
             {
              "marker.color": [
               [
                "#B0BEC5",
                "#B0BEC5",
                "#B0BEC5",
                "#B0BEC5",
                "#B0BEC5",
                "#B0BEC5",
                "#B0BEC5",
                "#B0BEC5",
                "#B0BEC5",
                "#B0BEC5",
                "#B0BEC5",
                "#B0BEC5",
                "#B0BEC5",
                "#B0BEC5",
                "#B0BEC5",
                "#B0BEC5",
                "#B0BEC5",
                "red",
                "#B0BEC5",
                "#B0BEC5",
                "#B0BEC5",
                "#B0BEC5",
                "#B0BEC5",
                "#B0BEC5",
                "#B0BEC5",
                "#B0BEC5",
                "#B0BEC5",
                "#B0BEC5",
                "#B0BEC5",
                "#B0BEC5"
               ]
              ]
             }
            ],
            "label": "Topic 17",
            "method": "update"
           },
           {
            "args": [
             {
              "marker.color": [
               [
                "#B0BEC5",
                "#B0BEC5",
                "#B0BEC5",
                "#B0BEC5",
                "#B0BEC5",
                "#B0BEC5",
                "#B0BEC5",
                "#B0BEC5",
                "#B0BEC5",
                "#B0BEC5",
                "#B0BEC5",
                "#B0BEC5",
                "#B0BEC5",
                "#B0BEC5",
                "#B0BEC5",
                "#B0BEC5",
                "#B0BEC5",
                "#B0BEC5",
                "red",
                "#B0BEC5",
                "#B0BEC5",
                "#B0BEC5",
                "#B0BEC5",
                "#B0BEC5",
                "#B0BEC5",
                "#B0BEC5",
                "#B0BEC5",
                "#B0BEC5",
                "#B0BEC5",
                "#B0BEC5"
               ]
              ]
             }
            ],
            "label": "Topic 18",
            "method": "update"
           },
           {
            "args": [
             {
              "marker.color": [
               [
                "#B0BEC5",
                "#B0BEC5",
                "#B0BEC5",
                "#B0BEC5",
                "#B0BEC5",
                "#B0BEC5",
                "#B0BEC5",
                "#B0BEC5",
                "#B0BEC5",
                "#B0BEC5",
                "#B0BEC5",
                "#B0BEC5",
                "#B0BEC5",
                "#B0BEC5",
                "#B0BEC5",
                "#B0BEC5",
                "#B0BEC5",
                "#B0BEC5",
                "#B0BEC5",
                "red",
                "#B0BEC5",
                "#B0BEC5",
                "#B0BEC5",
                "#B0BEC5",
                "#B0BEC5",
                "#B0BEC5",
                "#B0BEC5",
                "#B0BEC5",
                "#B0BEC5",
                "#B0BEC5"
               ]
              ]
             }
            ],
            "label": "Topic 19",
            "method": "update"
           },
           {
            "args": [
             {
              "marker.color": [
               [
                "#B0BEC5",
                "#B0BEC5",
                "#B0BEC5",
                "#B0BEC5",
                "#B0BEC5",
                "#B0BEC5",
                "#B0BEC5",
                "#B0BEC5",
                "#B0BEC5",
                "#B0BEC5",
                "#B0BEC5",
                "#B0BEC5",
                "#B0BEC5",
                "#B0BEC5",
                "#B0BEC5",
                "#B0BEC5",
                "#B0BEC5",
                "#B0BEC5",
                "#B0BEC5",
                "#B0BEC5",
                "red",
                "#B0BEC5",
                "#B0BEC5",
                "#B0BEC5",
                "#B0BEC5",
                "#B0BEC5",
                "#B0BEC5",
                "#B0BEC5",
                "#B0BEC5",
                "#B0BEC5"
               ]
              ]
             }
            ],
            "label": "Topic 20",
            "method": "update"
           },
           {
            "args": [
             {
              "marker.color": [
               [
                "#B0BEC5",
                "#B0BEC5",
                "#B0BEC5",
                "#B0BEC5",
                "#B0BEC5",
                "#B0BEC5",
                "#B0BEC5",
                "#B0BEC5",
                "#B0BEC5",
                "#B0BEC5",
                "#B0BEC5",
                "#B0BEC5",
                "#B0BEC5",
                "#B0BEC5",
                "#B0BEC5",
                "#B0BEC5",
                "#B0BEC5",
                "#B0BEC5",
                "#B0BEC5",
                "#B0BEC5",
                "#B0BEC5",
                "red",
                "#B0BEC5",
                "#B0BEC5",
                "#B0BEC5",
                "#B0BEC5",
                "#B0BEC5",
                "#B0BEC5",
                "#B0BEC5",
                "#B0BEC5"
               ]
              ]
             }
            ],
            "label": "Topic 21",
            "method": "update"
           },
           {
            "args": [
             {
              "marker.color": [
               [
                "#B0BEC5",
                "#B0BEC5",
                "#B0BEC5",
                "#B0BEC5",
                "#B0BEC5",
                "#B0BEC5",
                "#B0BEC5",
                "#B0BEC5",
                "#B0BEC5",
                "#B0BEC5",
                "#B0BEC5",
                "#B0BEC5",
                "#B0BEC5",
                "#B0BEC5",
                "#B0BEC5",
                "#B0BEC5",
                "#B0BEC5",
                "#B0BEC5",
                "#B0BEC5",
                "#B0BEC5",
                "#B0BEC5",
                "#B0BEC5",
                "red",
                "#B0BEC5",
                "#B0BEC5",
                "#B0BEC5",
                "#B0BEC5",
                "#B0BEC5",
                "#B0BEC5",
                "#B0BEC5"
               ]
              ]
             }
            ],
            "label": "Topic 22",
            "method": "update"
           },
           {
            "args": [
             {
              "marker.color": [
               [
                "#B0BEC5",
                "#B0BEC5",
                "#B0BEC5",
                "#B0BEC5",
                "#B0BEC5",
                "#B0BEC5",
                "#B0BEC5",
                "#B0BEC5",
                "#B0BEC5",
                "#B0BEC5",
                "#B0BEC5",
                "#B0BEC5",
                "#B0BEC5",
                "#B0BEC5",
                "#B0BEC5",
                "#B0BEC5",
                "#B0BEC5",
                "#B0BEC5",
                "#B0BEC5",
                "#B0BEC5",
                "#B0BEC5",
                "#B0BEC5",
                "#B0BEC5",
                "red",
                "#B0BEC5",
                "#B0BEC5",
                "#B0BEC5",
                "#B0BEC5",
                "#B0BEC5",
                "#B0BEC5"
               ]
              ]
             }
            ],
            "label": "Topic 23",
            "method": "update"
           },
           {
            "args": [
             {
              "marker.color": [
               [
                "#B0BEC5",
                "#B0BEC5",
                "#B0BEC5",
                "#B0BEC5",
                "#B0BEC5",
                "#B0BEC5",
                "#B0BEC5",
                "#B0BEC5",
                "#B0BEC5",
                "#B0BEC5",
                "#B0BEC5",
                "#B0BEC5",
                "#B0BEC5",
                "#B0BEC5",
                "#B0BEC5",
                "#B0BEC5",
                "#B0BEC5",
                "#B0BEC5",
                "#B0BEC5",
                "#B0BEC5",
                "#B0BEC5",
                "#B0BEC5",
                "#B0BEC5",
                "#B0BEC5",
                "red",
                "#B0BEC5",
                "#B0BEC5",
                "#B0BEC5",
                "#B0BEC5",
                "#B0BEC5"
               ]
              ]
             }
            ],
            "label": "Topic 24",
            "method": "update"
           },
           {
            "args": [
             {
              "marker.color": [
               [
                "#B0BEC5",
                "#B0BEC5",
                "#B0BEC5",
                "#B0BEC5",
                "#B0BEC5",
                "#B0BEC5",
                "#B0BEC5",
                "#B0BEC5",
                "#B0BEC5",
                "#B0BEC5",
                "#B0BEC5",
                "#B0BEC5",
                "#B0BEC5",
                "#B0BEC5",
                "#B0BEC5",
                "#B0BEC5",
                "#B0BEC5",
                "#B0BEC5",
                "#B0BEC5",
                "#B0BEC5",
                "#B0BEC5",
                "#B0BEC5",
                "#B0BEC5",
                "#B0BEC5",
                "#B0BEC5",
                "red",
                "#B0BEC5",
                "#B0BEC5",
                "#B0BEC5",
                "#B0BEC5"
               ]
              ]
             }
            ],
            "label": "Topic 25",
            "method": "update"
           },
           {
            "args": [
             {
              "marker.color": [
               [
                "#B0BEC5",
                "#B0BEC5",
                "#B0BEC5",
                "#B0BEC5",
                "#B0BEC5",
                "#B0BEC5",
                "#B0BEC5",
                "#B0BEC5",
                "#B0BEC5",
                "#B0BEC5",
                "#B0BEC5",
                "#B0BEC5",
                "#B0BEC5",
                "#B0BEC5",
                "#B0BEC5",
                "#B0BEC5",
                "#B0BEC5",
                "#B0BEC5",
                "#B0BEC5",
                "#B0BEC5",
                "#B0BEC5",
                "#B0BEC5",
                "#B0BEC5",
                "#B0BEC5",
                "#B0BEC5",
                "#B0BEC5",
                "red",
                "#B0BEC5",
                "#B0BEC5",
                "#B0BEC5"
               ]
              ]
             }
            ],
            "label": "Topic 26",
            "method": "update"
           },
           {
            "args": [
             {
              "marker.color": [
               [
                "#B0BEC5",
                "#B0BEC5",
                "#B0BEC5",
                "#B0BEC5",
                "#B0BEC5",
                "#B0BEC5",
                "#B0BEC5",
                "#B0BEC5",
                "#B0BEC5",
                "#B0BEC5",
                "#B0BEC5",
                "#B0BEC5",
                "#B0BEC5",
                "#B0BEC5",
                "#B0BEC5",
                "#B0BEC5",
                "#B0BEC5",
                "#B0BEC5",
                "#B0BEC5",
                "#B0BEC5",
                "#B0BEC5",
                "#B0BEC5",
                "#B0BEC5",
                "#B0BEC5",
                "#B0BEC5",
                "#B0BEC5",
                "#B0BEC5",
                "red",
                "#B0BEC5",
                "#B0BEC5"
               ]
              ]
             }
            ],
            "label": "Topic 27",
            "method": "update"
           },
           {
            "args": [
             {
              "marker.color": [
               [
                "#B0BEC5",
                "#B0BEC5",
                "#B0BEC5",
                "#B0BEC5",
                "#B0BEC5",
                "#B0BEC5",
                "#B0BEC5",
                "#B0BEC5",
                "#B0BEC5",
                "#B0BEC5",
                "#B0BEC5",
                "#B0BEC5",
                "#B0BEC5",
                "#B0BEC5",
                "#B0BEC5",
                "#B0BEC5",
                "#B0BEC5",
                "#B0BEC5",
                "#B0BEC5",
                "#B0BEC5",
                "#B0BEC5",
                "#B0BEC5",
                "#B0BEC5",
                "#B0BEC5",
                "#B0BEC5",
                "#B0BEC5",
                "#B0BEC5",
                "#B0BEC5",
                "red",
                "#B0BEC5"
               ]
              ]
             }
            ],
            "label": "Topic 28",
            "method": "update"
           },
           {
            "args": [
             {
              "marker.color": [
               [
                "#B0BEC5",
                "#B0BEC5",
                "#B0BEC5",
                "#B0BEC5",
                "#B0BEC5",
                "#B0BEC5",
                "#B0BEC5",
                "#B0BEC5",
                "#B0BEC5",
                "#B0BEC5",
                "#B0BEC5",
                "#B0BEC5",
                "#B0BEC5",
                "#B0BEC5",
                "#B0BEC5",
                "#B0BEC5",
                "#B0BEC5",
                "#B0BEC5",
                "#B0BEC5",
                "#B0BEC5",
                "#B0BEC5",
                "#B0BEC5",
                "#B0BEC5",
                "#B0BEC5",
                "#B0BEC5",
                "#B0BEC5",
                "#B0BEC5",
                "#B0BEC5",
                "#B0BEC5",
                "red"
               ]
              ]
             }
            ],
            "label": "Topic 29",
            "method": "update"
           }
          ]
         }
        ],
        "template": {
         "data": {
          "bar": [
           {
            "error_x": {
             "color": "rgb(36,36,36)"
            },
            "error_y": {
             "color": "rgb(36,36,36)"
            },
            "marker": {
             "line": {
              "color": "white",
              "width": 0.5
             },
             "pattern": {
              "fillmode": "overlay",
              "size": 10,
              "solidity": 0.2
             }
            },
            "type": "bar"
           }
          ],
          "barpolar": [
           {
            "marker": {
             "line": {
              "color": "white",
              "width": 0.5
             },
             "pattern": {
              "fillmode": "overlay",
              "size": 10,
              "solidity": 0.2
             }
            },
            "type": "barpolar"
           }
          ],
          "carpet": [
           {
            "aaxis": {
             "endlinecolor": "rgb(36,36,36)",
             "gridcolor": "white",
             "linecolor": "white",
             "minorgridcolor": "white",
             "startlinecolor": "rgb(36,36,36)"
            },
            "baxis": {
             "endlinecolor": "rgb(36,36,36)",
             "gridcolor": "white",
             "linecolor": "white",
             "minorgridcolor": "white",
             "startlinecolor": "rgb(36,36,36)"
            },
            "type": "carpet"
           }
          ],
          "choropleth": [
           {
            "colorbar": {
             "outlinewidth": 1,
             "tickcolor": "rgb(36,36,36)",
             "ticks": "outside"
            },
            "type": "choropleth"
           }
          ],
          "contour": [
           {
            "colorbar": {
             "outlinewidth": 1,
             "tickcolor": "rgb(36,36,36)",
             "ticks": "outside"
            },
            "colorscale": [
             [
              0,
              "#440154"
             ],
             [
              0.1111111111111111,
              "#482878"
             ],
             [
              0.2222222222222222,
              "#3e4989"
             ],
             [
              0.3333333333333333,
              "#31688e"
             ],
             [
              0.4444444444444444,
              "#26828e"
             ],
             [
              0.5555555555555556,
              "#1f9e89"
             ],
             [
              0.6666666666666666,
              "#35b779"
             ],
             [
              0.7777777777777778,
              "#6ece58"
             ],
             [
              0.8888888888888888,
              "#b5de2b"
             ],
             [
              1,
              "#fde725"
             ]
            ],
            "type": "contour"
           }
          ],
          "contourcarpet": [
           {
            "colorbar": {
             "outlinewidth": 1,
             "tickcolor": "rgb(36,36,36)",
             "ticks": "outside"
            },
            "type": "contourcarpet"
           }
          ],
          "heatmap": [
           {
            "colorbar": {
             "outlinewidth": 1,
             "tickcolor": "rgb(36,36,36)",
             "ticks": "outside"
            },
            "colorscale": [
             [
              0,
              "#440154"
             ],
             [
              0.1111111111111111,
              "#482878"
             ],
             [
              0.2222222222222222,
              "#3e4989"
             ],
             [
              0.3333333333333333,
              "#31688e"
             ],
             [
              0.4444444444444444,
              "#26828e"
             ],
             [
              0.5555555555555556,
              "#1f9e89"
             ],
             [
              0.6666666666666666,
              "#35b779"
             ],
             [
              0.7777777777777778,
              "#6ece58"
             ],
             [
              0.8888888888888888,
              "#b5de2b"
             ],
             [
              1,
              "#fde725"
             ]
            ],
            "type": "heatmap"
           }
          ],
          "heatmapgl": [
           {
            "colorbar": {
             "outlinewidth": 1,
             "tickcolor": "rgb(36,36,36)",
             "ticks": "outside"
            },
            "colorscale": [
             [
              0,
              "#440154"
             ],
             [
              0.1111111111111111,
              "#482878"
             ],
             [
              0.2222222222222222,
              "#3e4989"
             ],
             [
              0.3333333333333333,
              "#31688e"
             ],
             [
              0.4444444444444444,
              "#26828e"
             ],
             [
              0.5555555555555556,
              "#1f9e89"
             ],
             [
              0.6666666666666666,
              "#35b779"
             ],
             [
              0.7777777777777778,
              "#6ece58"
             ],
             [
              0.8888888888888888,
              "#b5de2b"
             ],
             [
              1,
              "#fde725"
             ]
            ],
            "type": "heatmapgl"
           }
          ],
          "histogram": [
           {
            "marker": {
             "line": {
              "color": "white",
              "width": 0.6
             }
            },
            "type": "histogram"
           }
          ],
          "histogram2d": [
           {
            "colorbar": {
             "outlinewidth": 1,
             "tickcolor": "rgb(36,36,36)",
             "ticks": "outside"
            },
            "colorscale": [
             [
              0,
              "#440154"
             ],
             [
              0.1111111111111111,
              "#482878"
             ],
             [
              0.2222222222222222,
              "#3e4989"
             ],
             [
              0.3333333333333333,
              "#31688e"
             ],
             [
              0.4444444444444444,
              "#26828e"
             ],
             [
              0.5555555555555556,
              "#1f9e89"
             ],
             [
              0.6666666666666666,
              "#35b779"
             ],
             [
              0.7777777777777778,
              "#6ece58"
             ],
             [
              0.8888888888888888,
              "#b5de2b"
             ],
             [
              1,
              "#fde725"
             ]
            ],
            "type": "histogram2d"
           }
          ],
          "histogram2dcontour": [
           {
            "colorbar": {
             "outlinewidth": 1,
             "tickcolor": "rgb(36,36,36)",
             "ticks": "outside"
            },
            "colorscale": [
             [
              0,
              "#440154"
             ],
             [
              0.1111111111111111,
              "#482878"
             ],
             [
              0.2222222222222222,
              "#3e4989"
             ],
             [
              0.3333333333333333,
              "#31688e"
             ],
             [
              0.4444444444444444,
              "#26828e"
             ],
             [
              0.5555555555555556,
              "#1f9e89"
             ],
             [
              0.6666666666666666,
              "#35b779"
             ],
             [
              0.7777777777777778,
              "#6ece58"
             ],
             [
              0.8888888888888888,
              "#b5de2b"
             ],
             [
              1,
              "#fde725"
             ]
            ],
            "type": "histogram2dcontour"
           }
          ],
          "mesh3d": [
           {
            "colorbar": {
             "outlinewidth": 1,
             "tickcolor": "rgb(36,36,36)",
             "ticks": "outside"
            },
            "type": "mesh3d"
           }
          ],
          "parcoords": [
           {
            "line": {
             "colorbar": {
              "outlinewidth": 1,
              "tickcolor": "rgb(36,36,36)",
              "ticks": "outside"
             }
            },
            "type": "parcoords"
           }
          ],
          "pie": [
           {
            "automargin": true,
            "type": "pie"
           }
          ],
          "scatter": [
           {
            "fillpattern": {
             "fillmode": "overlay",
             "size": 10,
             "solidity": 0.2
            },
            "type": "scatter"
           }
          ],
          "scatter3d": [
           {
            "line": {
             "colorbar": {
              "outlinewidth": 1,
              "tickcolor": "rgb(36,36,36)",
              "ticks": "outside"
             }
            },
            "marker": {
             "colorbar": {
              "outlinewidth": 1,
              "tickcolor": "rgb(36,36,36)",
              "ticks": "outside"
             }
            },
            "type": "scatter3d"
           }
          ],
          "scattercarpet": [
           {
            "marker": {
             "colorbar": {
              "outlinewidth": 1,
              "tickcolor": "rgb(36,36,36)",
              "ticks": "outside"
             }
            },
            "type": "scattercarpet"
           }
          ],
          "scattergeo": [
           {
            "marker": {
             "colorbar": {
              "outlinewidth": 1,
              "tickcolor": "rgb(36,36,36)",
              "ticks": "outside"
             }
            },
            "type": "scattergeo"
           }
          ],
          "scattergl": [
           {
            "marker": {
             "colorbar": {
              "outlinewidth": 1,
              "tickcolor": "rgb(36,36,36)",
              "ticks": "outside"
             }
            },
            "type": "scattergl"
           }
          ],
          "scattermapbox": [
           {
            "marker": {
             "colorbar": {
              "outlinewidth": 1,
              "tickcolor": "rgb(36,36,36)",
              "ticks": "outside"
             }
            },
            "type": "scattermapbox"
           }
          ],
          "scatterpolar": [
           {
            "marker": {
             "colorbar": {
              "outlinewidth": 1,
              "tickcolor": "rgb(36,36,36)",
              "ticks": "outside"
             }
            },
            "type": "scatterpolar"
           }
          ],
          "scatterpolargl": [
           {
            "marker": {
             "colorbar": {
              "outlinewidth": 1,
              "tickcolor": "rgb(36,36,36)",
              "ticks": "outside"
             }
            },
            "type": "scatterpolargl"
           }
          ],
          "scatterternary": [
           {
            "marker": {
             "colorbar": {
              "outlinewidth": 1,
              "tickcolor": "rgb(36,36,36)",
              "ticks": "outside"
             }
            },
            "type": "scatterternary"
           }
          ],
          "surface": [
           {
            "colorbar": {
             "outlinewidth": 1,
             "tickcolor": "rgb(36,36,36)",
             "ticks": "outside"
            },
            "colorscale": [
             [
              0,
              "#440154"
             ],
             [
              0.1111111111111111,
              "#482878"
             ],
             [
              0.2222222222222222,
              "#3e4989"
             ],
             [
              0.3333333333333333,
              "#31688e"
             ],
             [
              0.4444444444444444,
              "#26828e"
             ],
             [
              0.5555555555555556,
              "#1f9e89"
             ],
             [
              0.6666666666666666,
              "#35b779"
             ],
             [
              0.7777777777777778,
              "#6ece58"
             ],
             [
              0.8888888888888888,
              "#b5de2b"
             ],
             [
              1,
              "#fde725"
             ]
            ],
            "type": "surface"
           }
          ],
          "table": [
           {
            "cells": {
             "fill": {
              "color": "rgb(237,237,237)"
             },
             "line": {
              "color": "white"
             }
            },
            "header": {
             "fill": {
              "color": "rgb(217,217,217)"
             },
             "line": {
              "color": "white"
             }
            },
            "type": "table"
           }
          ]
         },
         "layout": {
          "annotationdefaults": {
           "arrowhead": 0,
           "arrowwidth": 1
          },
          "autotypenumbers": "strict",
          "coloraxis": {
           "colorbar": {
            "outlinewidth": 1,
            "tickcolor": "rgb(36,36,36)",
            "ticks": "outside"
           }
          },
          "colorscale": {
           "diverging": [
            [
             0,
             "rgb(103,0,31)"
            ],
            [
             0.1,
             "rgb(178,24,43)"
            ],
            [
             0.2,
             "rgb(214,96,77)"
            ],
            [
             0.3,
             "rgb(244,165,130)"
            ],
            [
             0.4,
             "rgb(253,219,199)"
            ],
            [
             0.5,
             "rgb(247,247,247)"
            ],
            [
             0.6,
             "rgb(209,229,240)"
            ],
            [
             0.7,
             "rgb(146,197,222)"
            ],
            [
             0.8,
             "rgb(67,147,195)"
            ],
            [
             0.9,
             "rgb(33,102,172)"
            ],
            [
             1,
             "rgb(5,48,97)"
            ]
           ],
           "sequential": [
            [
             0,
             "#440154"
            ],
            [
             0.1111111111111111,
             "#482878"
            ],
            [
             0.2222222222222222,
             "#3e4989"
            ],
            [
             0.3333333333333333,
             "#31688e"
            ],
            [
             0.4444444444444444,
             "#26828e"
            ],
            [
             0.5555555555555556,
             "#1f9e89"
            ],
            [
             0.6666666666666666,
             "#35b779"
            ],
            [
             0.7777777777777778,
             "#6ece58"
            ],
            [
             0.8888888888888888,
             "#b5de2b"
            ],
            [
             1,
             "#fde725"
            ]
           ],
           "sequentialminus": [
            [
             0,
             "#440154"
            ],
            [
             0.1111111111111111,
             "#482878"
            ],
            [
             0.2222222222222222,
             "#3e4989"
            ],
            [
             0.3333333333333333,
             "#31688e"
            ],
            [
             0.4444444444444444,
             "#26828e"
            ],
            [
             0.5555555555555556,
             "#1f9e89"
            ],
            [
             0.6666666666666666,
             "#35b779"
            ],
            [
             0.7777777777777778,
             "#6ece58"
            ],
            [
             0.8888888888888888,
             "#b5de2b"
            ],
            [
             1,
             "#fde725"
            ]
           ]
          },
          "colorway": [
           "#1F77B4",
           "#FF7F0E",
           "#2CA02C",
           "#D62728",
           "#9467BD",
           "#8C564B",
           "#E377C2",
           "#7F7F7F",
           "#BCBD22",
           "#17BECF"
          ],
          "font": {
           "color": "rgb(36,36,36)"
          },
          "geo": {
           "bgcolor": "white",
           "lakecolor": "white",
           "landcolor": "white",
           "showlakes": true,
           "showland": true,
           "subunitcolor": "white"
          },
          "hoverlabel": {
           "align": "left"
          },
          "hovermode": "closest",
          "mapbox": {
           "style": "light"
          },
          "paper_bgcolor": "white",
          "plot_bgcolor": "white",
          "polar": {
           "angularaxis": {
            "gridcolor": "rgb(232,232,232)",
            "linecolor": "rgb(36,36,36)",
            "showgrid": false,
            "showline": true,
            "ticks": "outside"
           },
           "bgcolor": "white",
           "radialaxis": {
            "gridcolor": "rgb(232,232,232)",
            "linecolor": "rgb(36,36,36)",
            "showgrid": false,
            "showline": true,
            "ticks": "outside"
           }
          },
          "scene": {
           "xaxis": {
            "backgroundcolor": "white",
            "gridcolor": "rgb(232,232,232)",
            "gridwidth": 2,
            "linecolor": "rgb(36,36,36)",
            "showbackground": true,
            "showgrid": false,
            "showline": true,
            "ticks": "outside",
            "zeroline": false,
            "zerolinecolor": "rgb(36,36,36)"
           },
           "yaxis": {
            "backgroundcolor": "white",
            "gridcolor": "rgb(232,232,232)",
            "gridwidth": 2,
            "linecolor": "rgb(36,36,36)",
            "showbackground": true,
            "showgrid": false,
            "showline": true,
            "ticks": "outside",
            "zeroline": false,
            "zerolinecolor": "rgb(36,36,36)"
           },
           "zaxis": {
            "backgroundcolor": "white",
            "gridcolor": "rgb(232,232,232)",
            "gridwidth": 2,
            "linecolor": "rgb(36,36,36)",
            "showbackground": true,
            "showgrid": false,
            "showline": true,
            "ticks": "outside",
            "zeroline": false,
            "zerolinecolor": "rgb(36,36,36)"
           }
          },
          "shapedefaults": {
           "fillcolor": "black",
           "line": {
            "width": 0
           },
           "opacity": 0.3
          },
          "ternary": {
           "aaxis": {
            "gridcolor": "rgb(232,232,232)",
            "linecolor": "rgb(36,36,36)",
            "showgrid": false,
            "showline": true,
            "ticks": "outside"
           },
           "baxis": {
            "gridcolor": "rgb(232,232,232)",
            "linecolor": "rgb(36,36,36)",
            "showgrid": false,
            "showline": true,
            "ticks": "outside"
           },
           "bgcolor": "white",
           "caxis": {
            "gridcolor": "rgb(232,232,232)",
            "linecolor": "rgb(36,36,36)",
            "showgrid": false,
            "showline": true,
            "ticks": "outside"
           }
          },
          "title": {
           "x": 0.05
          },
          "xaxis": {
           "automargin": true,
           "gridcolor": "rgb(232,232,232)",
           "linecolor": "rgb(36,36,36)",
           "showgrid": false,
           "showline": true,
           "ticks": "outside",
           "title": {
            "standoff": 15
           },
           "zeroline": false,
           "zerolinecolor": "rgb(36,36,36)"
          },
          "yaxis": {
           "automargin": true,
           "gridcolor": "rgb(232,232,232)",
           "linecolor": "rgb(36,36,36)",
           "showgrid": false,
           "showline": true,
           "ticks": "outside",
           "title": {
            "standoff": 15
           },
           "zeroline": false,
           "zerolinecolor": "rgb(36,36,36)"
          }
         }
        },
        "title": {
         "font": {
          "color": "Black",
          "size": 22
         },
         "text": "<b>Intertopic Distance Map",
         "x": 0.5,
         "xanchor": "center",
         "y": 0.95,
         "yanchor": "top"
        },
        "width": 650,
        "xaxis": {
         "anchor": "y",
         "domain": [
          0,
          1
         ],
         "range": [
          0.40432637333869936,
          17.873822927474976
         ],
         "title": {
          "text": ""
         },
         "visible": false
        },
        "yaxis": {
         "anchor": "x",
         "domain": [
          0,
          1
         ],
         "range": [
          -19.48330593109131,
          17.411149549484254
         ],
         "title": {
          "text": ""
         },
         "visible": false
        }
       }
      },
      "text/html": [
       "<div>                            <div id=\"37ec96e1-c4d9-4d3c-b8f6-800c0c2dfe08\" class=\"plotly-graph-div\" style=\"height:650px; width:650px;\"></div>            <script type=\"text/javascript\">                require([\"plotly\"], function(Plotly) {                    window.PLOTLYENV=window.PLOTLYENV || {};                                    if (document.getElementById(\"37ec96e1-c4d9-4d3c-b8f6-800c0c2dfe08\")) {                    Plotly.newPlot(                        \"37ec96e1-c4d9-4d3c-b8f6-800c0c2dfe08\",                        [{\"customdata\":[[0,\"taiwan | china | taiwan china | china taiwan | people\",2265],[1,\"russia | china russia | russia china | china | small business\",607],[2,\"biden | trump | hunter | china | democrats\",507],[3,\"india | pakistan | china | indian | india china\",425],[4,\"ukraine | russia | taiwan | war | china\",394],[5,\"pelosi | nancy | china | pelosi trip | nancy pelosi\",368],[6,\"missile | fire | china fire | launch | missiles\",299],[7,\"drug | russia | law | country | russia china\",286],[8,\"david | yvonnecar | spacesvector | robcarlson | coolvetnurse ernestleenot\",279],[9,\"virus | covid | china virus | china | research\",274],[10,\"china | town | china town | know | china china\",254],[11,\"pelosi | visit | taiwan | pelosi visit | visit taiwan\",247],[12,\"missile | china fire | fire missile | pelosi visit | fire\",228],[13,\"war | china | military | fight | war china\",209],[14,\"military | exercise | military exercise | visit | pelosi\",198],[15,\"speakerpelosi | taiwan | china | china speakerpelosi | speaker\",181],[16,\"potus | oil | sell | reserve | sell china\",171],[17,\"test | tension | tension china | avoid | delay\",171],[18,\"japan | signal japan | japan taiwan | send stark | stark signal\",167],[19,\"battery | discovery | breakthrough | technology china | breakthrough battery\",148],[20,\"japan | economic zone | exclusive economic | zone | exclusive\",140],[21,\"nato | repswalwell | sweden | finland | finland sweden\",136],[22,\"foxnews | china | news | newsmax | cnn\",133],[23,\"china policy | policy | uae | sovereignty | china sovereignty\",133],[24,\"drill | military drill | military | drill taiwan | taiwan\",131],[25,\"korea | north korea | north | china north | korea china\",123],[26,\"live fire | fire | live | drill | fire drill\",114],[27,\"jet | fighter | fighter jet | airspace | taiwan\",112],[28,\"chip | semiconductor | taiwan | tsmc | sand\",109],[29,\"buy | product | buy china | china | manufacture\",109]],\"hovertemplate\":\"<b>Topic %{customdata[0]}</b><br>Words: %{customdata[1]}<br>Size: %{customdata[2]}\",\"legendgroup\":\"\",\"marker\":{\"color\":\"#B0BEC5\",\"size\":[2265,607,507,425,394,368,299,286,279,274,254,247,228,209,198,181,171,171,167,148,140,136,133,133,131,123,114,112,109,109],\"sizemode\":\"area\",\"sizeref\":1.415625,\"symbol\":\"circle\",\"line\":{\"color\":\"DarkSlateGrey\",\"width\":2}},\"mode\":\"markers\",\"name\":\"\",\"orientation\":\"v\",\"showlegend\":false,\"x\":[14.744121551513672,15.542454719543457,12.659335136413574,8.784703254699707,15.091501235961914,12.41572380065918,4.837570667266846,15.456700325012207,9.221053123474121,8.848481178283691,8.905981063842773,12.063749313354492,4.235245704650879,8.478078842163086,3.9343833923339844,11.687111854553223,9.505837440490723,4.173498630523682,8.170121192932129,4.38279914855957,4.732697010040283,8.299778938293457,9.342889785766602,11.90198802947998,4.605223178863525,9.090068817138672,3.8510167598724365,3.731208324432373,0.47567808628082275,0.47576189041137695],\"xaxis\":\"x\",\"y\":[14.63719367980957,14.905823707580566,-6.8692121505737305,-16.942005157470703,14.809053421020508,-6.657420635223389,-0.3970299959182739,15.140130043029785,10.775702476501465,-16.380857467651367,11.510868072509766,-6.475886821746826,0.6996515989303589,-16.696744918823242,0.43459221720695496,-6.768062591552734,10.975122451782227,0.18070483207702637,-16.912256240844727,0.8077584505081177,-0.10465200990438461,-16.77630043029785,11.162481307983398,-6.595004081726074,0.435042142868042,11.371657371520996,-0.6226708292961121,-0.8409757614135742,9.396148681640625,9.396134376525879],\"yaxis\":\"y\",\"type\":\"scatter\"}],                        {\"template\":{\"data\":{\"barpolar\":[{\"marker\":{\"line\":{\"color\":\"white\",\"width\":0.5},\"pattern\":{\"fillmode\":\"overlay\",\"size\":10,\"solidity\":0.2}},\"type\":\"barpolar\"}],\"bar\":[{\"error_x\":{\"color\":\"rgb(36,36,36)\"},\"error_y\":{\"color\":\"rgb(36,36,36)\"},\"marker\":{\"line\":{\"color\":\"white\",\"width\":0.5},\"pattern\":{\"fillmode\":\"overlay\",\"size\":10,\"solidity\":0.2}},\"type\":\"bar\"}],\"carpet\":[{\"aaxis\":{\"endlinecolor\":\"rgb(36,36,36)\",\"gridcolor\":\"white\",\"linecolor\":\"white\",\"minorgridcolor\":\"white\",\"startlinecolor\":\"rgb(36,36,36)\"},\"baxis\":{\"endlinecolor\":\"rgb(36,36,36)\",\"gridcolor\":\"white\",\"linecolor\":\"white\",\"minorgridcolor\":\"white\",\"startlinecolor\":\"rgb(36,36,36)\"},\"type\":\"carpet\"}],\"choropleth\":[{\"colorbar\":{\"outlinewidth\":1,\"tickcolor\":\"rgb(36,36,36)\",\"ticks\":\"outside\"},\"type\":\"choropleth\"}],\"contourcarpet\":[{\"colorbar\":{\"outlinewidth\":1,\"tickcolor\":\"rgb(36,36,36)\",\"ticks\":\"outside\"},\"type\":\"contourcarpet\"}],\"contour\":[{\"colorbar\":{\"outlinewidth\":1,\"tickcolor\":\"rgb(36,36,36)\",\"ticks\":\"outside\"},\"colorscale\":[[0.0,\"#440154\"],[0.1111111111111111,\"#482878\"],[0.2222222222222222,\"#3e4989\"],[0.3333333333333333,\"#31688e\"],[0.4444444444444444,\"#26828e\"],[0.5555555555555556,\"#1f9e89\"],[0.6666666666666666,\"#35b779\"],[0.7777777777777778,\"#6ece58\"],[0.8888888888888888,\"#b5de2b\"],[1.0,\"#fde725\"]],\"type\":\"contour\"}],\"heatmapgl\":[{\"colorbar\":{\"outlinewidth\":1,\"tickcolor\":\"rgb(36,36,36)\",\"ticks\":\"outside\"},\"colorscale\":[[0.0,\"#440154\"],[0.1111111111111111,\"#482878\"],[0.2222222222222222,\"#3e4989\"],[0.3333333333333333,\"#31688e\"],[0.4444444444444444,\"#26828e\"],[0.5555555555555556,\"#1f9e89\"],[0.6666666666666666,\"#35b779\"],[0.7777777777777778,\"#6ece58\"],[0.8888888888888888,\"#b5de2b\"],[1.0,\"#fde725\"]],\"type\":\"heatmapgl\"}],\"heatmap\":[{\"colorbar\":{\"outlinewidth\":1,\"tickcolor\":\"rgb(36,36,36)\",\"ticks\":\"outside\"},\"colorscale\":[[0.0,\"#440154\"],[0.1111111111111111,\"#482878\"],[0.2222222222222222,\"#3e4989\"],[0.3333333333333333,\"#31688e\"],[0.4444444444444444,\"#26828e\"],[0.5555555555555556,\"#1f9e89\"],[0.6666666666666666,\"#35b779\"],[0.7777777777777778,\"#6ece58\"],[0.8888888888888888,\"#b5de2b\"],[1.0,\"#fde725\"]],\"type\":\"heatmap\"}],\"histogram2dcontour\":[{\"colorbar\":{\"outlinewidth\":1,\"tickcolor\":\"rgb(36,36,36)\",\"ticks\":\"outside\"},\"colorscale\":[[0.0,\"#440154\"],[0.1111111111111111,\"#482878\"],[0.2222222222222222,\"#3e4989\"],[0.3333333333333333,\"#31688e\"],[0.4444444444444444,\"#26828e\"],[0.5555555555555556,\"#1f9e89\"],[0.6666666666666666,\"#35b779\"],[0.7777777777777778,\"#6ece58\"],[0.8888888888888888,\"#b5de2b\"],[1.0,\"#fde725\"]],\"type\":\"histogram2dcontour\"}],\"histogram2d\":[{\"colorbar\":{\"outlinewidth\":1,\"tickcolor\":\"rgb(36,36,36)\",\"ticks\":\"outside\"},\"colorscale\":[[0.0,\"#440154\"],[0.1111111111111111,\"#482878\"],[0.2222222222222222,\"#3e4989\"],[0.3333333333333333,\"#31688e\"],[0.4444444444444444,\"#26828e\"],[0.5555555555555556,\"#1f9e89\"],[0.6666666666666666,\"#35b779\"],[0.7777777777777778,\"#6ece58\"],[0.8888888888888888,\"#b5de2b\"],[1.0,\"#fde725\"]],\"type\":\"histogram2d\"}],\"histogram\":[{\"marker\":{\"line\":{\"color\":\"white\",\"width\":0.6}},\"type\":\"histogram\"}],\"mesh3d\":[{\"colorbar\":{\"outlinewidth\":1,\"tickcolor\":\"rgb(36,36,36)\",\"ticks\":\"outside\"},\"type\":\"mesh3d\"}],\"parcoords\":[{\"line\":{\"colorbar\":{\"outlinewidth\":1,\"tickcolor\":\"rgb(36,36,36)\",\"ticks\":\"outside\"}},\"type\":\"parcoords\"}],\"pie\":[{\"automargin\":true,\"type\":\"pie\"}],\"scatter3d\":[{\"line\":{\"colorbar\":{\"outlinewidth\":1,\"tickcolor\":\"rgb(36,36,36)\",\"ticks\":\"outside\"}},\"marker\":{\"colorbar\":{\"outlinewidth\":1,\"tickcolor\":\"rgb(36,36,36)\",\"ticks\":\"outside\"}},\"type\":\"scatter3d\"}],\"scattercarpet\":[{\"marker\":{\"colorbar\":{\"outlinewidth\":1,\"tickcolor\":\"rgb(36,36,36)\",\"ticks\":\"outside\"}},\"type\":\"scattercarpet\"}],\"scattergeo\":[{\"marker\":{\"colorbar\":{\"outlinewidth\":1,\"tickcolor\":\"rgb(36,36,36)\",\"ticks\":\"outside\"}},\"type\":\"scattergeo\"}],\"scattergl\":[{\"marker\":{\"colorbar\":{\"outlinewidth\":1,\"tickcolor\":\"rgb(36,36,36)\",\"ticks\":\"outside\"}},\"type\":\"scattergl\"}],\"scattermapbox\":[{\"marker\":{\"colorbar\":{\"outlinewidth\":1,\"tickcolor\":\"rgb(36,36,36)\",\"ticks\":\"outside\"}},\"type\":\"scattermapbox\"}],\"scatterpolargl\":[{\"marker\":{\"colorbar\":{\"outlinewidth\":1,\"tickcolor\":\"rgb(36,36,36)\",\"ticks\":\"outside\"}},\"type\":\"scatterpolargl\"}],\"scatterpolar\":[{\"marker\":{\"colorbar\":{\"outlinewidth\":1,\"tickcolor\":\"rgb(36,36,36)\",\"ticks\":\"outside\"}},\"type\":\"scatterpolar\"}],\"scatter\":[{\"fillpattern\":{\"fillmode\":\"overlay\",\"size\":10,\"solidity\":0.2},\"type\":\"scatter\"}],\"scatterternary\":[{\"marker\":{\"colorbar\":{\"outlinewidth\":1,\"tickcolor\":\"rgb(36,36,36)\",\"ticks\":\"outside\"}},\"type\":\"scatterternary\"}],\"surface\":[{\"colorbar\":{\"outlinewidth\":1,\"tickcolor\":\"rgb(36,36,36)\",\"ticks\":\"outside\"},\"colorscale\":[[0.0,\"#440154\"],[0.1111111111111111,\"#482878\"],[0.2222222222222222,\"#3e4989\"],[0.3333333333333333,\"#31688e\"],[0.4444444444444444,\"#26828e\"],[0.5555555555555556,\"#1f9e89\"],[0.6666666666666666,\"#35b779\"],[0.7777777777777778,\"#6ece58\"],[0.8888888888888888,\"#b5de2b\"],[1.0,\"#fde725\"]],\"type\":\"surface\"}],\"table\":[{\"cells\":{\"fill\":{\"color\":\"rgb(237,237,237)\"},\"line\":{\"color\":\"white\"}},\"header\":{\"fill\":{\"color\":\"rgb(217,217,217)\"},\"line\":{\"color\":\"white\"}},\"type\":\"table\"}]},\"layout\":{\"annotationdefaults\":{\"arrowhead\":0,\"arrowwidth\":1},\"autotypenumbers\":\"strict\",\"coloraxis\":{\"colorbar\":{\"outlinewidth\":1,\"tickcolor\":\"rgb(36,36,36)\",\"ticks\":\"outside\"}},\"colorscale\":{\"diverging\":[[0.0,\"rgb(103,0,31)\"],[0.1,\"rgb(178,24,43)\"],[0.2,\"rgb(214,96,77)\"],[0.3,\"rgb(244,165,130)\"],[0.4,\"rgb(253,219,199)\"],[0.5,\"rgb(247,247,247)\"],[0.6,\"rgb(209,229,240)\"],[0.7,\"rgb(146,197,222)\"],[0.8,\"rgb(67,147,195)\"],[0.9,\"rgb(33,102,172)\"],[1.0,\"rgb(5,48,97)\"]],\"sequential\":[[0.0,\"#440154\"],[0.1111111111111111,\"#482878\"],[0.2222222222222222,\"#3e4989\"],[0.3333333333333333,\"#31688e\"],[0.4444444444444444,\"#26828e\"],[0.5555555555555556,\"#1f9e89\"],[0.6666666666666666,\"#35b779\"],[0.7777777777777778,\"#6ece58\"],[0.8888888888888888,\"#b5de2b\"],[1.0,\"#fde725\"]],\"sequentialminus\":[[0.0,\"#440154\"],[0.1111111111111111,\"#482878\"],[0.2222222222222222,\"#3e4989\"],[0.3333333333333333,\"#31688e\"],[0.4444444444444444,\"#26828e\"],[0.5555555555555556,\"#1f9e89\"],[0.6666666666666666,\"#35b779\"],[0.7777777777777778,\"#6ece58\"],[0.8888888888888888,\"#b5de2b\"],[1.0,\"#fde725\"]]},\"colorway\":[\"#1F77B4\",\"#FF7F0E\",\"#2CA02C\",\"#D62728\",\"#9467BD\",\"#8C564B\",\"#E377C2\",\"#7F7F7F\",\"#BCBD22\",\"#17BECF\"],\"font\":{\"color\":\"rgb(36,36,36)\"},\"geo\":{\"bgcolor\":\"white\",\"lakecolor\":\"white\",\"landcolor\":\"white\",\"showlakes\":true,\"showland\":true,\"subunitcolor\":\"white\"},\"hoverlabel\":{\"align\":\"left\"},\"hovermode\":\"closest\",\"mapbox\":{\"style\":\"light\"},\"paper_bgcolor\":\"white\",\"plot_bgcolor\":\"white\",\"polar\":{\"angularaxis\":{\"gridcolor\":\"rgb(232,232,232)\",\"linecolor\":\"rgb(36,36,36)\",\"showgrid\":false,\"showline\":true,\"ticks\":\"outside\"},\"bgcolor\":\"white\",\"radialaxis\":{\"gridcolor\":\"rgb(232,232,232)\",\"linecolor\":\"rgb(36,36,36)\",\"showgrid\":false,\"showline\":true,\"ticks\":\"outside\"}},\"scene\":{\"xaxis\":{\"backgroundcolor\":\"white\",\"gridcolor\":\"rgb(232,232,232)\",\"gridwidth\":2,\"linecolor\":\"rgb(36,36,36)\",\"showbackground\":true,\"showgrid\":false,\"showline\":true,\"ticks\":\"outside\",\"zeroline\":false,\"zerolinecolor\":\"rgb(36,36,36)\"},\"yaxis\":{\"backgroundcolor\":\"white\",\"gridcolor\":\"rgb(232,232,232)\",\"gridwidth\":2,\"linecolor\":\"rgb(36,36,36)\",\"showbackground\":true,\"showgrid\":false,\"showline\":true,\"ticks\":\"outside\",\"zeroline\":false,\"zerolinecolor\":\"rgb(36,36,36)\"},\"zaxis\":{\"backgroundcolor\":\"white\",\"gridcolor\":\"rgb(232,232,232)\",\"gridwidth\":2,\"linecolor\":\"rgb(36,36,36)\",\"showbackground\":true,\"showgrid\":false,\"showline\":true,\"ticks\":\"outside\",\"zeroline\":false,\"zerolinecolor\":\"rgb(36,36,36)\"}},\"shapedefaults\":{\"fillcolor\":\"black\",\"line\":{\"width\":0},\"opacity\":0.3},\"ternary\":{\"aaxis\":{\"gridcolor\":\"rgb(232,232,232)\",\"linecolor\":\"rgb(36,36,36)\",\"showgrid\":false,\"showline\":true,\"ticks\":\"outside\"},\"baxis\":{\"gridcolor\":\"rgb(232,232,232)\",\"linecolor\":\"rgb(36,36,36)\",\"showgrid\":false,\"showline\":true,\"ticks\":\"outside\"},\"bgcolor\":\"white\",\"caxis\":{\"gridcolor\":\"rgb(232,232,232)\",\"linecolor\":\"rgb(36,36,36)\",\"showgrid\":false,\"showline\":true,\"ticks\":\"outside\"}},\"title\":{\"x\":0.05},\"xaxis\":{\"automargin\":true,\"gridcolor\":\"rgb(232,232,232)\",\"linecolor\":\"rgb(36,36,36)\",\"showgrid\":false,\"showline\":true,\"ticks\":\"outside\",\"title\":{\"standoff\":15},\"zeroline\":false,\"zerolinecolor\":\"rgb(36,36,36)\"},\"yaxis\":{\"automargin\":true,\"gridcolor\":\"rgb(232,232,232)\",\"linecolor\":\"rgb(36,36,36)\",\"showgrid\":false,\"showline\":true,\"ticks\":\"outside\",\"title\":{\"standoff\":15},\"zeroline\":false,\"zerolinecolor\":\"rgb(36,36,36)\"}}},\"xaxis\":{\"anchor\":\"y\",\"domain\":[0.0,1.0],\"title\":{\"text\":\"\"},\"visible\":false,\"range\":[0.40432637333869936,17.873822927474976]},\"yaxis\":{\"anchor\":\"x\",\"domain\":[0.0,1.0],\"title\":{\"text\":\"\"},\"visible\":false,\"range\":[-19.48330593109131,17.411149549484254]},\"legend\":{\"tracegroupgap\":0,\"itemsizing\":\"constant\"},\"margin\":{\"t\":60},\"title\":{\"font\":{\"size\":22,\"color\":\"Black\"},\"text\":\"<b>Intertopic Distance Map\",\"y\":0.95,\"x\":0.5,\"xanchor\":\"center\",\"yanchor\":\"top\"},\"hoverlabel\":{\"font\":{\"size\":16,\"family\":\"Rockwell\"},\"bgcolor\":\"white\"},\"width\":650,\"height\":650,\"sliders\":[{\"active\":0,\"pad\":{\"t\":50},\"steps\":[{\"args\":[{\"marker.color\":[[\"red\",\"#B0BEC5\",\"#B0BEC5\",\"#B0BEC5\",\"#B0BEC5\",\"#B0BEC5\",\"#B0BEC5\",\"#B0BEC5\",\"#B0BEC5\",\"#B0BEC5\",\"#B0BEC5\",\"#B0BEC5\",\"#B0BEC5\",\"#B0BEC5\",\"#B0BEC5\",\"#B0BEC5\",\"#B0BEC5\",\"#B0BEC5\",\"#B0BEC5\",\"#B0BEC5\",\"#B0BEC5\",\"#B0BEC5\",\"#B0BEC5\",\"#B0BEC5\",\"#B0BEC5\",\"#B0BEC5\",\"#B0BEC5\",\"#B0BEC5\",\"#B0BEC5\",\"#B0BEC5\"]]}],\"label\":\"Topic 0\",\"method\":\"update\"},{\"args\":[{\"marker.color\":[[\"#B0BEC5\",\"red\",\"#B0BEC5\",\"#B0BEC5\",\"#B0BEC5\",\"#B0BEC5\",\"#B0BEC5\",\"#B0BEC5\",\"#B0BEC5\",\"#B0BEC5\",\"#B0BEC5\",\"#B0BEC5\",\"#B0BEC5\",\"#B0BEC5\",\"#B0BEC5\",\"#B0BEC5\",\"#B0BEC5\",\"#B0BEC5\",\"#B0BEC5\",\"#B0BEC5\",\"#B0BEC5\",\"#B0BEC5\",\"#B0BEC5\",\"#B0BEC5\",\"#B0BEC5\",\"#B0BEC5\",\"#B0BEC5\",\"#B0BEC5\",\"#B0BEC5\",\"#B0BEC5\"]]}],\"label\":\"Topic 1\",\"method\":\"update\"},{\"args\":[{\"marker.color\":[[\"#B0BEC5\",\"#B0BEC5\",\"red\",\"#B0BEC5\",\"#B0BEC5\",\"#B0BEC5\",\"#B0BEC5\",\"#B0BEC5\",\"#B0BEC5\",\"#B0BEC5\",\"#B0BEC5\",\"#B0BEC5\",\"#B0BEC5\",\"#B0BEC5\",\"#B0BEC5\",\"#B0BEC5\",\"#B0BEC5\",\"#B0BEC5\",\"#B0BEC5\",\"#B0BEC5\",\"#B0BEC5\",\"#B0BEC5\",\"#B0BEC5\",\"#B0BEC5\",\"#B0BEC5\",\"#B0BEC5\",\"#B0BEC5\",\"#B0BEC5\",\"#B0BEC5\",\"#B0BEC5\"]]}],\"label\":\"Topic 2\",\"method\":\"update\"},{\"args\":[{\"marker.color\":[[\"#B0BEC5\",\"#B0BEC5\",\"#B0BEC5\",\"red\",\"#B0BEC5\",\"#B0BEC5\",\"#B0BEC5\",\"#B0BEC5\",\"#B0BEC5\",\"#B0BEC5\",\"#B0BEC5\",\"#B0BEC5\",\"#B0BEC5\",\"#B0BEC5\",\"#B0BEC5\",\"#B0BEC5\",\"#B0BEC5\",\"#B0BEC5\",\"#B0BEC5\",\"#B0BEC5\",\"#B0BEC5\",\"#B0BEC5\",\"#B0BEC5\",\"#B0BEC5\",\"#B0BEC5\",\"#B0BEC5\",\"#B0BEC5\",\"#B0BEC5\",\"#B0BEC5\",\"#B0BEC5\"]]}],\"label\":\"Topic 3\",\"method\":\"update\"},{\"args\":[{\"marker.color\":[[\"#B0BEC5\",\"#B0BEC5\",\"#B0BEC5\",\"#B0BEC5\",\"red\",\"#B0BEC5\",\"#B0BEC5\",\"#B0BEC5\",\"#B0BEC5\",\"#B0BEC5\",\"#B0BEC5\",\"#B0BEC5\",\"#B0BEC5\",\"#B0BEC5\",\"#B0BEC5\",\"#B0BEC5\",\"#B0BEC5\",\"#B0BEC5\",\"#B0BEC5\",\"#B0BEC5\",\"#B0BEC5\",\"#B0BEC5\",\"#B0BEC5\",\"#B0BEC5\",\"#B0BEC5\",\"#B0BEC5\",\"#B0BEC5\",\"#B0BEC5\",\"#B0BEC5\",\"#B0BEC5\"]]}],\"label\":\"Topic 4\",\"method\":\"update\"},{\"args\":[{\"marker.color\":[[\"#B0BEC5\",\"#B0BEC5\",\"#B0BEC5\",\"#B0BEC5\",\"#B0BEC5\",\"red\",\"#B0BEC5\",\"#B0BEC5\",\"#B0BEC5\",\"#B0BEC5\",\"#B0BEC5\",\"#B0BEC5\",\"#B0BEC5\",\"#B0BEC5\",\"#B0BEC5\",\"#B0BEC5\",\"#B0BEC5\",\"#B0BEC5\",\"#B0BEC5\",\"#B0BEC5\",\"#B0BEC5\",\"#B0BEC5\",\"#B0BEC5\",\"#B0BEC5\",\"#B0BEC5\",\"#B0BEC5\",\"#B0BEC5\",\"#B0BEC5\",\"#B0BEC5\",\"#B0BEC5\"]]}],\"label\":\"Topic 5\",\"method\":\"update\"},{\"args\":[{\"marker.color\":[[\"#B0BEC5\",\"#B0BEC5\",\"#B0BEC5\",\"#B0BEC5\",\"#B0BEC5\",\"#B0BEC5\",\"red\",\"#B0BEC5\",\"#B0BEC5\",\"#B0BEC5\",\"#B0BEC5\",\"#B0BEC5\",\"#B0BEC5\",\"#B0BEC5\",\"#B0BEC5\",\"#B0BEC5\",\"#B0BEC5\",\"#B0BEC5\",\"#B0BEC5\",\"#B0BEC5\",\"#B0BEC5\",\"#B0BEC5\",\"#B0BEC5\",\"#B0BEC5\",\"#B0BEC5\",\"#B0BEC5\",\"#B0BEC5\",\"#B0BEC5\",\"#B0BEC5\",\"#B0BEC5\"]]}],\"label\":\"Topic 6\",\"method\":\"update\"},{\"args\":[{\"marker.color\":[[\"#B0BEC5\",\"#B0BEC5\",\"#B0BEC5\",\"#B0BEC5\",\"#B0BEC5\",\"#B0BEC5\",\"#B0BEC5\",\"red\",\"#B0BEC5\",\"#B0BEC5\",\"#B0BEC5\",\"#B0BEC5\",\"#B0BEC5\",\"#B0BEC5\",\"#B0BEC5\",\"#B0BEC5\",\"#B0BEC5\",\"#B0BEC5\",\"#B0BEC5\",\"#B0BEC5\",\"#B0BEC5\",\"#B0BEC5\",\"#B0BEC5\",\"#B0BEC5\",\"#B0BEC5\",\"#B0BEC5\",\"#B0BEC5\",\"#B0BEC5\",\"#B0BEC5\",\"#B0BEC5\"]]}],\"label\":\"Topic 7\",\"method\":\"update\"},{\"args\":[{\"marker.color\":[[\"#B0BEC5\",\"#B0BEC5\",\"#B0BEC5\",\"#B0BEC5\",\"#B0BEC5\",\"#B0BEC5\",\"#B0BEC5\",\"#B0BEC5\",\"red\",\"#B0BEC5\",\"#B0BEC5\",\"#B0BEC5\",\"#B0BEC5\",\"#B0BEC5\",\"#B0BEC5\",\"#B0BEC5\",\"#B0BEC5\",\"#B0BEC5\",\"#B0BEC5\",\"#B0BEC5\",\"#B0BEC5\",\"#B0BEC5\",\"#B0BEC5\",\"#B0BEC5\",\"#B0BEC5\",\"#B0BEC5\",\"#B0BEC5\",\"#B0BEC5\",\"#B0BEC5\",\"#B0BEC5\"]]}],\"label\":\"Topic 8\",\"method\":\"update\"},{\"args\":[{\"marker.color\":[[\"#B0BEC5\",\"#B0BEC5\",\"#B0BEC5\",\"#B0BEC5\",\"#B0BEC5\",\"#B0BEC5\",\"#B0BEC5\",\"#B0BEC5\",\"#B0BEC5\",\"red\",\"#B0BEC5\",\"#B0BEC5\",\"#B0BEC5\",\"#B0BEC5\",\"#B0BEC5\",\"#B0BEC5\",\"#B0BEC5\",\"#B0BEC5\",\"#B0BEC5\",\"#B0BEC5\",\"#B0BEC5\",\"#B0BEC5\",\"#B0BEC5\",\"#B0BEC5\",\"#B0BEC5\",\"#B0BEC5\",\"#B0BEC5\",\"#B0BEC5\",\"#B0BEC5\",\"#B0BEC5\"]]}],\"label\":\"Topic 9\",\"method\":\"update\"},{\"args\":[{\"marker.color\":[[\"#B0BEC5\",\"#B0BEC5\",\"#B0BEC5\",\"#B0BEC5\",\"#B0BEC5\",\"#B0BEC5\",\"#B0BEC5\",\"#B0BEC5\",\"#B0BEC5\",\"#B0BEC5\",\"red\",\"#B0BEC5\",\"#B0BEC5\",\"#B0BEC5\",\"#B0BEC5\",\"#B0BEC5\",\"#B0BEC5\",\"#B0BEC5\",\"#B0BEC5\",\"#B0BEC5\",\"#B0BEC5\",\"#B0BEC5\",\"#B0BEC5\",\"#B0BEC5\",\"#B0BEC5\",\"#B0BEC5\",\"#B0BEC5\",\"#B0BEC5\",\"#B0BEC5\",\"#B0BEC5\"]]}],\"label\":\"Topic 10\",\"method\":\"update\"},{\"args\":[{\"marker.color\":[[\"#B0BEC5\",\"#B0BEC5\",\"#B0BEC5\",\"#B0BEC5\",\"#B0BEC5\",\"#B0BEC5\",\"#B0BEC5\",\"#B0BEC5\",\"#B0BEC5\",\"#B0BEC5\",\"#B0BEC5\",\"red\",\"#B0BEC5\",\"#B0BEC5\",\"#B0BEC5\",\"#B0BEC5\",\"#B0BEC5\",\"#B0BEC5\",\"#B0BEC5\",\"#B0BEC5\",\"#B0BEC5\",\"#B0BEC5\",\"#B0BEC5\",\"#B0BEC5\",\"#B0BEC5\",\"#B0BEC5\",\"#B0BEC5\",\"#B0BEC5\",\"#B0BEC5\",\"#B0BEC5\"]]}],\"label\":\"Topic 11\",\"method\":\"update\"},{\"args\":[{\"marker.color\":[[\"#B0BEC5\",\"#B0BEC5\",\"#B0BEC5\",\"#B0BEC5\",\"#B0BEC5\",\"#B0BEC5\",\"#B0BEC5\",\"#B0BEC5\",\"#B0BEC5\",\"#B0BEC5\",\"#B0BEC5\",\"#B0BEC5\",\"red\",\"#B0BEC5\",\"#B0BEC5\",\"#B0BEC5\",\"#B0BEC5\",\"#B0BEC5\",\"#B0BEC5\",\"#B0BEC5\",\"#B0BEC5\",\"#B0BEC5\",\"#B0BEC5\",\"#B0BEC5\",\"#B0BEC5\",\"#B0BEC5\",\"#B0BEC5\",\"#B0BEC5\",\"#B0BEC5\",\"#B0BEC5\"]]}],\"label\":\"Topic 12\",\"method\":\"update\"},{\"args\":[{\"marker.color\":[[\"#B0BEC5\",\"#B0BEC5\",\"#B0BEC5\",\"#B0BEC5\",\"#B0BEC5\",\"#B0BEC5\",\"#B0BEC5\",\"#B0BEC5\",\"#B0BEC5\",\"#B0BEC5\",\"#B0BEC5\",\"#B0BEC5\",\"#B0BEC5\",\"red\",\"#B0BEC5\",\"#B0BEC5\",\"#B0BEC5\",\"#B0BEC5\",\"#B0BEC5\",\"#B0BEC5\",\"#B0BEC5\",\"#B0BEC5\",\"#B0BEC5\",\"#B0BEC5\",\"#B0BEC5\",\"#B0BEC5\",\"#B0BEC5\",\"#B0BEC5\",\"#B0BEC5\",\"#B0BEC5\"]]}],\"label\":\"Topic 13\",\"method\":\"update\"},{\"args\":[{\"marker.color\":[[\"#B0BEC5\",\"#B0BEC5\",\"#B0BEC5\",\"#B0BEC5\",\"#B0BEC5\",\"#B0BEC5\",\"#B0BEC5\",\"#B0BEC5\",\"#B0BEC5\",\"#B0BEC5\",\"#B0BEC5\",\"#B0BEC5\",\"#B0BEC5\",\"#B0BEC5\",\"red\",\"#B0BEC5\",\"#B0BEC5\",\"#B0BEC5\",\"#B0BEC5\",\"#B0BEC5\",\"#B0BEC5\",\"#B0BEC5\",\"#B0BEC5\",\"#B0BEC5\",\"#B0BEC5\",\"#B0BEC5\",\"#B0BEC5\",\"#B0BEC5\",\"#B0BEC5\",\"#B0BEC5\"]]}],\"label\":\"Topic 14\",\"method\":\"update\"},{\"args\":[{\"marker.color\":[[\"#B0BEC5\",\"#B0BEC5\",\"#B0BEC5\",\"#B0BEC5\",\"#B0BEC5\",\"#B0BEC5\",\"#B0BEC5\",\"#B0BEC5\",\"#B0BEC5\",\"#B0BEC5\",\"#B0BEC5\",\"#B0BEC5\",\"#B0BEC5\",\"#B0BEC5\",\"#B0BEC5\",\"red\",\"#B0BEC5\",\"#B0BEC5\",\"#B0BEC5\",\"#B0BEC5\",\"#B0BEC5\",\"#B0BEC5\",\"#B0BEC5\",\"#B0BEC5\",\"#B0BEC5\",\"#B0BEC5\",\"#B0BEC5\",\"#B0BEC5\",\"#B0BEC5\",\"#B0BEC5\"]]}],\"label\":\"Topic 15\",\"method\":\"update\"},{\"args\":[{\"marker.color\":[[\"#B0BEC5\",\"#B0BEC5\",\"#B0BEC5\",\"#B0BEC5\",\"#B0BEC5\",\"#B0BEC5\",\"#B0BEC5\",\"#B0BEC5\",\"#B0BEC5\",\"#B0BEC5\",\"#B0BEC5\",\"#B0BEC5\",\"#B0BEC5\",\"#B0BEC5\",\"#B0BEC5\",\"#B0BEC5\",\"red\",\"#B0BEC5\",\"#B0BEC5\",\"#B0BEC5\",\"#B0BEC5\",\"#B0BEC5\",\"#B0BEC5\",\"#B0BEC5\",\"#B0BEC5\",\"#B0BEC5\",\"#B0BEC5\",\"#B0BEC5\",\"#B0BEC5\",\"#B0BEC5\"]]}],\"label\":\"Topic 16\",\"method\":\"update\"},{\"args\":[{\"marker.color\":[[\"#B0BEC5\",\"#B0BEC5\",\"#B0BEC5\",\"#B0BEC5\",\"#B0BEC5\",\"#B0BEC5\",\"#B0BEC5\",\"#B0BEC5\",\"#B0BEC5\",\"#B0BEC5\",\"#B0BEC5\",\"#B0BEC5\",\"#B0BEC5\",\"#B0BEC5\",\"#B0BEC5\",\"#B0BEC5\",\"#B0BEC5\",\"red\",\"#B0BEC5\",\"#B0BEC5\",\"#B0BEC5\",\"#B0BEC5\",\"#B0BEC5\",\"#B0BEC5\",\"#B0BEC5\",\"#B0BEC5\",\"#B0BEC5\",\"#B0BEC5\",\"#B0BEC5\",\"#B0BEC5\"]]}],\"label\":\"Topic 17\",\"method\":\"update\"},{\"args\":[{\"marker.color\":[[\"#B0BEC5\",\"#B0BEC5\",\"#B0BEC5\",\"#B0BEC5\",\"#B0BEC5\",\"#B0BEC5\",\"#B0BEC5\",\"#B0BEC5\",\"#B0BEC5\",\"#B0BEC5\",\"#B0BEC5\",\"#B0BEC5\",\"#B0BEC5\",\"#B0BEC5\",\"#B0BEC5\",\"#B0BEC5\",\"#B0BEC5\",\"#B0BEC5\",\"red\",\"#B0BEC5\",\"#B0BEC5\",\"#B0BEC5\",\"#B0BEC5\",\"#B0BEC5\",\"#B0BEC5\",\"#B0BEC5\",\"#B0BEC5\",\"#B0BEC5\",\"#B0BEC5\",\"#B0BEC5\"]]}],\"label\":\"Topic 18\",\"method\":\"update\"},{\"args\":[{\"marker.color\":[[\"#B0BEC5\",\"#B0BEC5\",\"#B0BEC5\",\"#B0BEC5\",\"#B0BEC5\",\"#B0BEC5\",\"#B0BEC5\",\"#B0BEC5\",\"#B0BEC5\",\"#B0BEC5\",\"#B0BEC5\",\"#B0BEC5\",\"#B0BEC5\",\"#B0BEC5\",\"#B0BEC5\",\"#B0BEC5\",\"#B0BEC5\",\"#B0BEC5\",\"#B0BEC5\",\"red\",\"#B0BEC5\",\"#B0BEC5\",\"#B0BEC5\",\"#B0BEC5\",\"#B0BEC5\",\"#B0BEC5\",\"#B0BEC5\",\"#B0BEC5\",\"#B0BEC5\",\"#B0BEC5\"]]}],\"label\":\"Topic 19\",\"method\":\"update\"},{\"args\":[{\"marker.color\":[[\"#B0BEC5\",\"#B0BEC5\",\"#B0BEC5\",\"#B0BEC5\",\"#B0BEC5\",\"#B0BEC5\",\"#B0BEC5\",\"#B0BEC5\",\"#B0BEC5\",\"#B0BEC5\",\"#B0BEC5\",\"#B0BEC5\",\"#B0BEC5\",\"#B0BEC5\",\"#B0BEC5\",\"#B0BEC5\",\"#B0BEC5\",\"#B0BEC5\",\"#B0BEC5\",\"#B0BEC5\",\"red\",\"#B0BEC5\",\"#B0BEC5\",\"#B0BEC5\",\"#B0BEC5\",\"#B0BEC5\",\"#B0BEC5\",\"#B0BEC5\",\"#B0BEC5\",\"#B0BEC5\"]]}],\"label\":\"Topic 20\",\"method\":\"update\"},{\"args\":[{\"marker.color\":[[\"#B0BEC5\",\"#B0BEC5\",\"#B0BEC5\",\"#B0BEC5\",\"#B0BEC5\",\"#B0BEC5\",\"#B0BEC5\",\"#B0BEC5\",\"#B0BEC5\",\"#B0BEC5\",\"#B0BEC5\",\"#B0BEC5\",\"#B0BEC5\",\"#B0BEC5\",\"#B0BEC5\",\"#B0BEC5\",\"#B0BEC5\",\"#B0BEC5\",\"#B0BEC5\",\"#B0BEC5\",\"#B0BEC5\",\"red\",\"#B0BEC5\",\"#B0BEC5\",\"#B0BEC5\",\"#B0BEC5\",\"#B0BEC5\",\"#B0BEC5\",\"#B0BEC5\",\"#B0BEC5\"]]}],\"label\":\"Topic 21\",\"method\":\"update\"},{\"args\":[{\"marker.color\":[[\"#B0BEC5\",\"#B0BEC5\",\"#B0BEC5\",\"#B0BEC5\",\"#B0BEC5\",\"#B0BEC5\",\"#B0BEC5\",\"#B0BEC5\",\"#B0BEC5\",\"#B0BEC5\",\"#B0BEC5\",\"#B0BEC5\",\"#B0BEC5\",\"#B0BEC5\",\"#B0BEC5\",\"#B0BEC5\",\"#B0BEC5\",\"#B0BEC5\",\"#B0BEC5\",\"#B0BEC5\",\"#B0BEC5\",\"#B0BEC5\",\"red\",\"#B0BEC5\",\"#B0BEC5\",\"#B0BEC5\",\"#B0BEC5\",\"#B0BEC5\",\"#B0BEC5\",\"#B0BEC5\"]]}],\"label\":\"Topic 22\",\"method\":\"update\"},{\"args\":[{\"marker.color\":[[\"#B0BEC5\",\"#B0BEC5\",\"#B0BEC5\",\"#B0BEC5\",\"#B0BEC5\",\"#B0BEC5\",\"#B0BEC5\",\"#B0BEC5\",\"#B0BEC5\",\"#B0BEC5\",\"#B0BEC5\",\"#B0BEC5\",\"#B0BEC5\",\"#B0BEC5\",\"#B0BEC5\",\"#B0BEC5\",\"#B0BEC5\",\"#B0BEC5\",\"#B0BEC5\",\"#B0BEC5\",\"#B0BEC5\",\"#B0BEC5\",\"#B0BEC5\",\"red\",\"#B0BEC5\",\"#B0BEC5\",\"#B0BEC5\",\"#B0BEC5\",\"#B0BEC5\",\"#B0BEC5\"]]}],\"label\":\"Topic 23\",\"method\":\"update\"},{\"args\":[{\"marker.color\":[[\"#B0BEC5\",\"#B0BEC5\",\"#B0BEC5\",\"#B0BEC5\",\"#B0BEC5\",\"#B0BEC5\",\"#B0BEC5\",\"#B0BEC5\",\"#B0BEC5\",\"#B0BEC5\",\"#B0BEC5\",\"#B0BEC5\",\"#B0BEC5\",\"#B0BEC5\",\"#B0BEC5\",\"#B0BEC5\",\"#B0BEC5\",\"#B0BEC5\",\"#B0BEC5\",\"#B0BEC5\",\"#B0BEC5\",\"#B0BEC5\",\"#B0BEC5\",\"#B0BEC5\",\"red\",\"#B0BEC5\",\"#B0BEC5\",\"#B0BEC5\",\"#B0BEC5\",\"#B0BEC5\"]]}],\"label\":\"Topic 24\",\"method\":\"update\"},{\"args\":[{\"marker.color\":[[\"#B0BEC5\",\"#B0BEC5\",\"#B0BEC5\",\"#B0BEC5\",\"#B0BEC5\",\"#B0BEC5\",\"#B0BEC5\",\"#B0BEC5\",\"#B0BEC5\",\"#B0BEC5\",\"#B0BEC5\",\"#B0BEC5\",\"#B0BEC5\",\"#B0BEC5\",\"#B0BEC5\",\"#B0BEC5\",\"#B0BEC5\",\"#B0BEC5\",\"#B0BEC5\",\"#B0BEC5\",\"#B0BEC5\",\"#B0BEC5\",\"#B0BEC5\",\"#B0BEC5\",\"#B0BEC5\",\"red\",\"#B0BEC5\",\"#B0BEC5\",\"#B0BEC5\",\"#B0BEC5\"]]}],\"label\":\"Topic 25\",\"method\":\"update\"},{\"args\":[{\"marker.color\":[[\"#B0BEC5\",\"#B0BEC5\",\"#B0BEC5\",\"#B0BEC5\",\"#B0BEC5\",\"#B0BEC5\",\"#B0BEC5\",\"#B0BEC5\",\"#B0BEC5\",\"#B0BEC5\",\"#B0BEC5\",\"#B0BEC5\",\"#B0BEC5\",\"#B0BEC5\",\"#B0BEC5\",\"#B0BEC5\",\"#B0BEC5\",\"#B0BEC5\",\"#B0BEC5\",\"#B0BEC5\",\"#B0BEC5\",\"#B0BEC5\",\"#B0BEC5\",\"#B0BEC5\",\"#B0BEC5\",\"#B0BEC5\",\"red\",\"#B0BEC5\",\"#B0BEC5\",\"#B0BEC5\"]]}],\"label\":\"Topic 26\",\"method\":\"update\"},{\"args\":[{\"marker.color\":[[\"#B0BEC5\",\"#B0BEC5\",\"#B0BEC5\",\"#B0BEC5\",\"#B0BEC5\",\"#B0BEC5\",\"#B0BEC5\",\"#B0BEC5\",\"#B0BEC5\",\"#B0BEC5\",\"#B0BEC5\",\"#B0BEC5\",\"#B0BEC5\",\"#B0BEC5\",\"#B0BEC5\",\"#B0BEC5\",\"#B0BEC5\",\"#B0BEC5\",\"#B0BEC5\",\"#B0BEC5\",\"#B0BEC5\",\"#B0BEC5\",\"#B0BEC5\",\"#B0BEC5\",\"#B0BEC5\",\"#B0BEC5\",\"#B0BEC5\",\"red\",\"#B0BEC5\",\"#B0BEC5\"]]}],\"label\":\"Topic 27\",\"method\":\"update\"},{\"args\":[{\"marker.color\":[[\"#B0BEC5\",\"#B0BEC5\",\"#B0BEC5\",\"#B0BEC5\",\"#B0BEC5\",\"#B0BEC5\",\"#B0BEC5\",\"#B0BEC5\",\"#B0BEC5\",\"#B0BEC5\",\"#B0BEC5\",\"#B0BEC5\",\"#B0BEC5\",\"#B0BEC5\",\"#B0BEC5\",\"#B0BEC5\",\"#B0BEC5\",\"#B0BEC5\",\"#B0BEC5\",\"#B0BEC5\",\"#B0BEC5\",\"#B0BEC5\",\"#B0BEC5\",\"#B0BEC5\",\"#B0BEC5\",\"#B0BEC5\",\"#B0BEC5\",\"#B0BEC5\",\"red\",\"#B0BEC5\"]]}],\"label\":\"Topic 28\",\"method\":\"update\"},{\"args\":[{\"marker.color\":[[\"#B0BEC5\",\"#B0BEC5\",\"#B0BEC5\",\"#B0BEC5\",\"#B0BEC5\",\"#B0BEC5\",\"#B0BEC5\",\"#B0BEC5\",\"#B0BEC5\",\"#B0BEC5\",\"#B0BEC5\",\"#B0BEC5\",\"#B0BEC5\",\"#B0BEC5\",\"#B0BEC5\",\"#B0BEC5\",\"#B0BEC5\",\"#B0BEC5\",\"#B0BEC5\",\"#B0BEC5\",\"#B0BEC5\",\"#B0BEC5\",\"#B0BEC5\",\"#B0BEC5\",\"#B0BEC5\",\"#B0BEC5\",\"#B0BEC5\",\"#B0BEC5\",\"#B0BEC5\",\"red\"]]}],\"label\":\"Topic 29\",\"method\":\"update\"}]}],\"shapes\":[{\"line\":{\"color\":\"#CFD8DC\",\"width\":2},\"type\":\"line\",\"x0\":9.139074650406837,\"x1\":9.139074650406837,\"y0\":-19.48330593109131,\"y1\":17.411149549484254},{\"line\":{\"color\":\"#9E9E9E\",\"width\":2},\"type\":\"line\",\"x0\":0.40432637333869936,\"x1\":17.873822927474976,\"y0\":-1.0360781908035275,\"y1\":-1.0360781908035275}],\"annotations\":[{\"showarrow\":false,\"text\":\"D1\",\"x\":0.40432637333869936,\"y\":-1.0360781908035275,\"yshift\":10},{\"showarrow\":false,\"text\":\"D2\",\"x\":9.139074650406837,\"xshift\":10,\"y\":17.411149549484254}]},                        {\"responsive\": true}                    ).then(function(){\n",
       "                            \n",
       "var gd = document.getElementById('37ec96e1-c4d9-4d3c-b8f6-800c0c2dfe08');\n",
       "var x = new MutationObserver(function (mutations, observer) {{\n",
       "        var display = window.getComputedStyle(gd).display;\n",
       "        if (!display || display === 'none') {{\n",
       "            console.log([gd, 'removed!']);\n",
       "            Plotly.purge(gd);\n",
       "            observer.disconnect();\n",
       "        }}\n",
       "}});\n",
       "\n",
       "// Listen for the removal of the full notebook cells\n",
       "var notebookContainer = gd.closest('#notebook-container');\n",
       "if (notebookContainer) {{\n",
       "    x.observe(notebookContainer, {childList: true});\n",
       "}}\n",
       "\n",
       "// Listen for the clearing of the current output cell\n",
       "var outputEl = gd.closest('.output');\n",
       "if (outputEl) {{\n",
       "    x.observe(outputEl, {childList: true});\n",
       "}}\n",
       "\n",
       "                        })                };                });            </script>        </div>"
      ]
     },
     "metadata": {},
     "output_type": "display_data"
    }
   ],
   "source": [
    "topic_model.visualize_topics()"
   ]
  },
  {
   "cell_type": "code",
   "execution_count": 258,
   "id": "8f8239d0",
   "metadata": {},
   "outputs": [
    {
     "data": {
      "application/vnd.plotly.v1+json": {
       "config": {
        "plotlyServerURL": "https://plot.ly"
       },
       "data": [
        {
         "marker": {
          "color": "#D55E00"
         },
         "orientation": "h",
         "type": "bar",
         "x": [
          0.012085074998007305,
          0.016548298870519246,
          0.018164447081741298,
          0.02789200472158169,
          0.051130686519629355
         ],
         "xaxis": "x",
         "y": [
          "people  ",
          "china taiwan  ",
          "taiwan china  ",
          "china  ",
          "taiwan  "
         ],
         "yaxis": "y"
        },
        {
         "marker": {
          "color": "#0072B2"
         },
         "orientation": "h",
         "type": "bar",
         "x": [
          0.012425037885896252,
          0.024117913755670285,
          0.03624524021322181,
          0.03676907002466812,
          0.07448067282468993
         ],
         "xaxis": "x2",
         "y": [
          "small business  ",
          "china  ",
          "russia china  ",
          "china russia  ",
          "russia  "
         ],
         "yaxis": "y2"
        },
        {
         "marker": {
          "color": "#CC79A7"
         },
         "orientation": "h",
         "type": "bar",
         "x": [
          0.018122275359468996,
          0.020087138263776394,
          0.022761057465683715,
          0.033335925558033434,
          0.04976548110438415
         ],
         "xaxis": "x3",
         "y": [
          "democrats  ",
          "china  ",
          "hunter  ",
          "trump  ",
          "biden  "
         ],
         "yaxis": "y3"
        },
        {
         "marker": {
          "color": "#E69F00"
         },
         "orientation": "h",
         "type": "bar",
         "x": [
          0.013858543114609927,
          0.020488742596108823,
          0.021908540103048765,
          0.04105661306768734,
          0.07108893584298447
         ],
         "xaxis": "x4",
         "y": [
          "india china  ",
          "indian  ",
          "china  ",
          "pakistan  ",
          "india  "
         ],
         "yaxis": "y4"
        },
        {
         "marker": {
          "color": "#56B4E9"
         },
         "orientation": "h",
         "type": "bar",
         "x": [
          0.021918007591144466,
          0.02498109268723378,
          0.0327310129067662,
          0.04180200518852331,
          0.09100928371299381
         ],
         "xaxis": "x5",
         "y": [
          "china  ",
          "war  ",
          "taiwan  ",
          "russia  ",
          "ukraine  "
         ],
         "yaxis": "y5"
        },
        {
         "marker": {
          "color": "#009E73"
         },
         "orientation": "h",
         "type": "bar",
         "x": [
          0.020169323611137192,
          0.022506414222552517,
          0.022621112335547703,
          0.02878036645474429,
          0.0770835517988285
         ],
         "xaxis": "x6",
         "y": [
          "nancy pelosi  ",
          "pelosi trip  ",
          "china  ",
          "nancy  ",
          "pelosi  "
         ],
         "yaxis": "y6"
        },
        {
         "marker": {
          "color": "#F0E442"
         },
         "orientation": "h",
         "type": "bar",
         "x": [
          0.04325285263339314,
          0.04898594953088547,
          0.0544531903096308,
          0.05883478535484677,
          0.07608195600494395
         ],
         "xaxis": "x7",
         "y": [
          "missiles  ",
          "launch  ",
          "china fire  ",
          "fire  ",
          "missile  "
         ],
         "yaxis": "y7"
        },
        {
         "marker": {
          "color": "#D55E00"
         },
         "orientation": "h",
         "type": "bar",
         "x": [
          0.02561351434104543,
          0.027472091253404694,
          0.036831792862606044,
          0.03691295618641516,
          0.0454515183742057
         ],
         "xaxis": "x8",
         "y": [
          "russia china  ",
          "country  ",
          "law  ",
          "russia  ",
          "drug  "
         ],
         "yaxis": "y8"
        }
       ],
       "layout": {
        "annotations": [
         {
          "font": {
           "size": 16
          },
          "showarrow": false,
          "text": "Topic 0",
          "x": 0.0875,
          "xanchor": "center",
          "xref": "paper",
          "y": 1,
          "yanchor": "bottom",
          "yref": "paper"
         },
         {
          "font": {
           "size": 16
          },
          "showarrow": false,
          "text": "Topic 1",
          "x": 0.36250000000000004,
          "xanchor": "center",
          "xref": "paper",
          "y": 1,
          "yanchor": "bottom",
          "yref": "paper"
         },
         {
          "font": {
           "size": 16
          },
          "showarrow": false,
          "text": "Topic 2",
          "x": 0.6375000000000001,
          "xanchor": "center",
          "xref": "paper",
          "y": 1,
          "yanchor": "bottom",
          "yref": "paper"
         },
         {
          "font": {
           "size": 16
          },
          "showarrow": false,
          "text": "Topic 3",
          "x": 0.9125,
          "xanchor": "center",
          "xref": "paper",
          "y": 1,
          "yanchor": "bottom",
          "yref": "paper"
         },
         {
          "font": {
           "size": 16
          },
          "showarrow": false,
          "text": "Topic 4",
          "x": 0.0875,
          "xanchor": "center",
          "xref": "paper",
          "y": 0.4,
          "yanchor": "bottom",
          "yref": "paper"
         },
         {
          "font": {
           "size": 16
          },
          "showarrow": false,
          "text": "Topic 5",
          "x": 0.36250000000000004,
          "xanchor": "center",
          "xref": "paper",
          "y": 0.4,
          "yanchor": "bottom",
          "yref": "paper"
         },
         {
          "font": {
           "size": 16
          },
          "showarrow": false,
          "text": "Topic 6",
          "x": 0.6375000000000001,
          "xanchor": "center",
          "xref": "paper",
          "y": 0.4,
          "yanchor": "bottom",
          "yref": "paper"
         },
         {
          "font": {
           "size": 16
          },
          "showarrow": false,
          "text": "Topic 7",
          "x": 0.9125,
          "xanchor": "center",
          "xref": "paper",
          "y": 0.4,
          "yanchor": "bottom",
          "yref": "paper"
         }
        ],
        "height": 500,
        "hoverlabel": {
         "bgcolor": "white",
         "font": {
          "family": "Rockwell",
          "size": 16
         }
        },
        "showlegend": false,
        "template": {
         "data": {
          "bar": [
           {
            "error_x": {
             "color": "#2a3f5f"
            },
            "error_y": {
             "color": "#2a3f5f"
            },
            "marker": {
             "line": {
              "color": "white",
              "width": 0.5
             },
             "pattern": {
              "fillmode": "overlay",
              "size": 10,
              "solidity": 0.2
             }
            },
            "type": "bar"
           }
          ],
          "barpolar": [
           {
            "marker": {
             "line": {
              "color": "white",
              "width": 0.5
             },
             "pattern": {
              "fillmode": "overlay",
              "size": 10,
              "solidity": 0.2
             }
            },
            "type": "barpolar"
           }
          ],
          "carpet": [
           {
            "aaxis": {
             "endlinecolor": "#2a3f5f",
             "gridcolor": "#C8D4E3",
             "linecolor": "#C8D4E3",
             "minorgridcolor": "#C8D4E3",
             "startlinecolor": "#2a3f5f"
            },
            "baxis": {
             "endlinecolor": "#2a3f5f",
             "gridcolor": "#C8D4E3",
             "linecolor": "#C8D4E3",
             "minorgridcolor": "#C8D4E3",
             "startlinecolor": "#2a3f5f"
            },
            "type": "carpet"
           }
          ],
          "choropleth": [
           {
            "colorbar": {
             "outlinewidth": 0,
             "ticks": ""
            },
            "type": "choropleth"
           }
          ],
          "contour": [
           {
            "colorbar": {
             "outlinewidth": 0,
             "ticks": ""
            },
            "colorscale": [
             [
              0,
              "#0d0887"
             ],
             [
              0.1111111111111111,
              "#46039f"
             ],
             [
              0.2222222222222222,
              "#7201a8"
             ],
             [
              0.3333333333333333,
              "#9c179e"
             ],
             [
              0.4444444444444444,
              "#bd3786"
             ],
             [
              0.5555555555555556,
              "#d8576b"
             ],
             [
              0.6666666666666666,
              "#ed7953"
             ],
             [
              0.7777777777777778,
              "#fb9f3a"
             ],
             [
              0.8888888888888888,
              "#fdca26"
             ],
             [
              1,
              "#f0f921"
             ]
            ],
            "type": "contour"
           }
          ],
          "contourcarpet": [
           {
            "colorbar": {
             "outlinewidth": 0,
             "ticks": ""
            },
            "type": "contourcarpet"
           }
          ],
          "heatmap": [
           {
            "colorbar": {
             "outlinewidth": 0,
             "ticks": ""
            },
            "colorscale": [
             [
              0,
              "#0d0887"
             ],
             [
              0.1111111111111111,
              "#46039f"
             ],
             [
              0.2222222222222222,
              "#7201a8"
             ],
             [
              0.3333333333333333,
              "#9c179e"
             ],
             [
              0.4444444444444444,
              "#bd3786"
             ],
             [
              0.5555555555555556,
              "#d8576b"
             ],
             [
              0.6666666666666666,
              "#ed7953"
             ],
             [
              0.7777777777777778,
              "#fb9f3a"
             ],
             [
              0.8888888888888888,
              "#fdca26"
             ],
             [
              1,
              "#f0f921"
             ]
            ],
            "type": "heatmap"
           }
          ],
          "heatmapgl": [
           {
            "colorbar": {
             "outlinewidth": 0,
             "ticks": ""
            },
            "colorscale": [
             [
              0,
              "#0d0887"
             ],
             [
              0.1111111111111111,
              "#46039f"
             ],
             [
              0.2222222222222222,
              "#7201a8"
             ],
             [
              0.3333333333333333,
              "#9c179e"
             ],
             [
              0.4444444444444444,
              "#bd3786"
             ],
             [
              0.5555555555555556,
              "#d8576b"
             ],
             [
              0.6666666666666666,
              "#ed7953"
             ],
             [
              0.7777777777777778,
              "#fb9f3a"
             ],
             [
              0.8888888888888888,
              "#fdca26"
             ],
             [
              1,
              "#f0f921"
             ]
            ],
            "type": "heatmapgl"
           }
          ],
          "histogram": [
           {
            "marker": {
             "pattern": {
              "fillmode": "overlay",
              "size": 10,
              "solidity": 0.2
             }
            },
            "type": "histogram"
           }
          ],
          "histogram2d": [
           {
            "colorbar": {
             "outlinewidth": 0,
             "ticks": ""
            },
            "colorscale": [
             [
              0,
              "#0d0887"
             ],
             [
              0.1111111111111111,
              "#46039f"
             ],
             [
              0.2222222222222222,
              "#7201a8"
             ],
             [
              0.3333333333333333,
              "#9c179e"
             ],
             [
              0.4444444444444444,
              "#bd3786"
             ],
             [
              0.5555555555555556,
              "#d8576b"
             ],
             [
              0.6666666666666666,
              "#ed7953"
             ],
             [
              0.7777777777777778,
              "#fb9f3a"
             ],
             [
              0.8888888888888888,
              "#fdca26"
             ],
             [
              1,
              "#f0f921"
             ]
            ],
            "type": "histogram2d"
           }
          ],
          "histogram2dcontour": [
           {
            "colorbar": {
             "outlinewidth": 0,
             "ticks": ""
            },
            "colorscale": [
             [
              0,
              "#0d0887"
             ],
             [
              0.1111111111111111,
              "#46039f"
             ],
             [
              0.2222222222222222,
              "#7201a8"
             ],
             [
              0.3333333333333333,
              "#9c179e"
             ],
             [
              0.4444444444444444,
              "#bd3786"
             ],
             [
              0.5555555555555556,
              "#d8576b"
             ],
             [
              0.6666666666666666,
              "#ed7953"
             ],
             [
              0.7777777777777778,
              "#fb9f3a"
             ],
             [
              0.8888888888888888,
              "#fdca26"
             ],
             [
              1,
              "#f0f921"
             ]
            ],
            "type": "histogram2dcontour"
           }
          ],
          "mesh3d": [
           {
            "colorbar": {
             "outlinewidth": 0,
             "ticks": ""
            },
            "type": "mesh3d"
           }
          ],
          "parcoords": [
           {
            "line": {
             "colorbar": {
              "outlinewidth": 0,
              "ticks": ""
             }
            },
            "type": "parcoords"
           }
          ],
          "pie": [
           {
            "automargin": true,
            "type": "pie"
           }
          ],
          "scatter": [
           {
            "fillpattern": {
             "fillmode": "overlay",
             "size": 10,
             "solidity": 0.2
            },
            "type": "scatter"
           }
          ],
          "scatter3d": [
           {
            "line": {
             "colorbar": {
              "outlinewidth": 0,
              "ticks": ""
             }
            },
            "marker": {
             "colorbar": {
              "outlinewidth": 0,
              "ticks": ""
             }
            },
            "type": "scatter3d"
           }
          ],
          "scattercarpet": [
           {
            "marker": {
             "colorbar": {
              "outlinewidth": 0,
              "ticks": ""
             }
            },
            "type": "scattercarpet"
           }
          ],
          "scattergeo": [
           {
            "marker": {
             "colorbar": {
              "outlinewidth": 0,
              "ticks": ""
             }
            },
            "type": "scattergeo"
           }
          ],
          "scattergl": [
           {
            "marker": {
             "colorbar": {
              "outlinewidth": 0,
              "ticks": ""
             }
            },
            "type": "scattergl"
           }
          ],
          "scattermapbox": [
           {
            "marker": {
             "colorbar": {
              "outlinewidth": 0,
              "ticks": ""
             }
            },
            "type": "scattermapbox"
           }
          ],
          "scatterpolar": [
           {
            "marker": {
             "colorbar": {
              "outlinewidth": 0,
              "ticks": ""
             }
            },
            "type": "scatterpolar"
           }
          ],
          "scatterpolargl": [
           {
            "marker": {
             "colorbar": {
              "outlinewidth": 0,
              "ticks": ""
             }
            },
            "type": "scatterpolargl"
           }
          ],
          "scatterternary": [
           {
            "marker": {
             "colorbar": {
              "outlinewidth": 0,
              "ticks": ""
             }
            },
            "type": "scatterternary"
           }
          ],
          "surface": [
           {
            "colorbar": {
             "outlinewidth": 0,
             "ticks": ""
            },
            "colorscale": [
             [
              0,
              "#0d0887"
             ],
             [
              0.1111111111111111,
              "#46039f"
             ],
             [
              0.2222222222222222,
              "#7201a8"
             ],
             [
              0.3333333333333333,
              "#9c179e"
             ],
             [
              0.4444444444444444,
              "#bd3786"
             ],
             [
              0.5555555555555556,
              "#d8576b"
             ],
             [
              0.6666666666666666,
              "#ed7953"
             ],
             [
              0.7777777777777778,
              "#fb9f3a"
             ],
             [
              0.8888888888888888,
              "#fdca26"
             ],
             [
              1,
              "#f0f921"
             ]
            ],
            "type": "surface"
           }
          ],
          "table": [
           {
            "cells": {
             "fill": {
              "color": "#EBF0F8"
             },
             "line": {
              "color": "white"
             }
            },
            "header": {
             "fill": {
              "color": "#C8D4E3"
             },
             "line": {
              "color": "white"
             }
            },
            "type": "table"
           }
          ]
         },
         "layout": {
          "annotationdefaults": {
           "arrowcolor": "#2a3f5f",
           "arrowhead": 0,
           "arrowwidth": 1
          },
          "autotypenumbers": "strict",
          "coloraxis": {
           "colorbar": {
            "outlinewidth": 0,
            "ticks": ""
           }
          },
          "colorscale": {
           "diverging": [
            [
             0,
             "#8e0152"
            ],
            [
             0.1,
             "#c51b7d"
            ],
            [
             0.2,
             "#de77ae"
            ],
            [
             0.3,
             "#f1b6da"
            ],
            [
             0.4,
             "#fde0ef"
            ],
            [
             0.5,
             "#f7f7f7"
            ],
            [
             0.6,
             "#e6f5d0"
            ],
            [
             0.7,
             "#b8e186"
            ],
            [
             0.8,
             "#7fbc41"
            ],
            [
             0.9,
             "#4d9221"
            ],
            [
             1,
             "#276419"
            ]
           ],
           "sequential": [
            [
             0,
             "#0d0887"
            ],
            [
             0.1111111111111111,
             "#46039f"
            ],
            [
             0.2222222222222222,
             "#7201a8"
            ],
            [
             0.3333333333333333,
             "#9c179e"
            ],
            [
             0.4444444444444444,
             "#bd3786"
            ],
            [
             0.5555555555555556,
             "#d8576b"
            ],
            [
             0.6666666666666666,
             "#ed7953"
            ],
            [
             0.7777777777777778,
             "#fb9f3a"
            ],
            [
             0.8888888888888888,
             "#fdca26"
            ],
            [
             1,
             "#f0f921"
            ]
           ],
           "sequentialminus": [
            [
             0,
             "#0d0887"
            ],
            [
             0.1111111111111111,
             "#46039f"
            ],
            [
             0.2222222222222222,
             "#7201a8"
            ],
            [
             0.3333333333333333,
             "#9c179e"
            ],
            [
             0.4444444444444444,
             "#bd3786"
            ],
            [
             0.5555555555555556,
             "#d8576b"
            ],
            [
             0.6666666666666666,
             "#ed7953"
            ],
            [
             0.7777777777777778,
             "#fb9f3a"
            ],
            [
             0.8888888888888888,
             "#fdca26"
            ],
            [
             1,
             "#f0f921"
            ]
           ]
          },
          "colorway": [
           "#636efa",
           "#EF553B",
           "#00cc96",
           "#ab63fa",
           "#FFA15A",
           "#19d3f3",
           "#FF6692",
           "#B6E880",
           "#FF97FF",
           "#FECB52"
          ],
          "font": {
           "color": "#2a3f5f"
          },
          "geo": {
           "bgcolor": "white",
           "lakecolor": "white",
           "landcolor": "white",
           "showlakes": true,
           "showland": true,
           "subunitcolor": "#C8D4E3"
          },
          "hoverlabel": {
           "align": "left"
          },
          "hovermode": "closest",
          "mapbox": {
           "style": "light"
          },
          "paper_bgcolor": "white",
          "plot_bgcolor": "white",
          "polar": {
           "angularaxis": {
            "gridcolor": "#EBF0F8",
            "linecolor": "#EBF0F8",
            "ticks": ""
           },
           "bgcolor": "white",
           "radialaxis": {
            "gridcolor": "#EBF0F8",
            "linecolor": "#EBF0F8",
            "ticks": ""
           }
          },
          "scene": {
           "xaxis": {
            "backgroundcolor": "white",
            "gridcolor": "#DFE8F3",
            "gridwidth": 2,
            "linecolor": "#EBF0F8",
            "showbackground": true,
            "ticks": "",
            "zerolinecolor": "#EBF0F8"
           },
           "yaxis": {
            "backgroundcolor": "white",
            "gridcolor": "#DFE8F3",
            "gridwidth": 2,
            "linecolor": "#EBF0F8",
            "showbackground": true,
            "ticks": "",
            "zerolinecolor": "#EBF0F8"
           },
           "zaxis": {
            "backgroundcolor": "white",
            "gridcolor": "#DFE8F3",
            "gridwidth": 2,
            "linecolor": "#EBF0F8",
            "showbackground": true,
            "ticks": "",
            "zerolinecolor": "#EBF0F8"
           }
          },
          "shapedefaults": {
           "line": {
            "color": "#2a3f5f"
           }
          },
          "ternary": {
           "aaxis": {
            "gridcolor": "#DFE8F3",
            "linecolor": "#A2B1C6",
            "ticks": ""
           },
           "baxis": {
            "gridcolor": "#DFE8F3",
            "linecolor": "#A2B1C6",
            "ticks": ""
           },
           "bgcolor": "white",
           "caxis": {
            "gridcolor": "#DFE8F3",
            "linecolor": "#A2B1C6",
            "ticks": ""
           }
          },
          "title": {
           "x": 0.05
          },
          "xaxis": {
           "automargin": true,
           "gridcolor": "#EBF0F8",
           "linecolor": "#EBF0F8",
           "ticks": "",
           "title": {
            "standoff": 15
           },
           "zerolinecolor": "#EBF0F8",
           "zerolinewidth": 2
          },
          "yaxis": {
           "automargin": true,
           "gridcolor": "#EBF0F8",
           "linecolor": "#EBF0F8",
           "ticks": "",
           "title": {
            "standoff": 15
           },
           "zerolinecolor": "#EBF0F8",
           "zerolinewidth": 2
          }
         }
        },
        "title": {
         "font": {
          "color": "Black",
          "size": 22
         },
         "text": "<b>Topic Word Scores",
         "x": 0.5,
         "xanchor": "center",
         "yanchor": "top"
        },
        "width": 1000,
        "xaxis": {
         "anchor": "y",
         "domain": [
          0,
          0.175
         ],
         "showgrid": true
        },
        "xaxis2": {
         "anchor": "y2",
         "domain": [
          0.275,
          0.45
         ],
         "showgrid": true
        },
        "xaxis3": {
         "anchor": "y3",
         "domain": [
          0.55,
          0.7250000000000001
         ],
         "showgrid": true
        },
        "xaxis4": {
         "anchor": "y4",
         "domain": [
          0.825,
          1
         ],
         "showgrid": true
        },
        "xaxis5": {
         "anchor": "y5",
         "domain": [
          0,
          0.175
         ],
         "showgrid": true
        },
        "xaxis6": {
         "anchor": "y6",
         "domain": [
          0.275,
          0.45
         ],
         "showgrid": true
        },
        "xaxis7": {
         "anchor": "y7",
         "domain": [
          0.55,
          0.7250000000000001
         ],
         "showgrid": true
        },
        "xaxis8": {
         "anchor": "y8",
         "domain": [
          0.825,
          1
         ],
         "showgrid": true
        },
        "yaxis": {
         "anchor": "x",
         "domain": [
          0.6000000000000001,
          1
         ],
         "showgrid": true
        },
        "yaxis2": {
         "anchor": "x2",
         "domain": [
          0.6000000000000001,
          1
         ],
         "showgrid": true
        },
        "yaxis3": {
         "anchor": "x3",
         "domain": [
          0.6000000000000001,
          1
         ],
         "showgrid": true
        },
        "yaxis4": {
         "anchor": "x4",
         "domain": [
          0.6000000000000001,
          1
         ],
         "showgrid": true
        },
        "yaxis5": {
         "anchor": "x5",
         "domain": [
          0,
          0.4
         ],
         "showgrid": true
        },
        "yaxis6": {
         "anchor": "x6",
         "domain": [
          0,
          0.4
         ],
         "showgrid": true
        },
        "yaxis7": {
         "anchor": "x7",
         "domain": [
          0,
          0.4
         ],
         "showgrid": true
        },
        "yaxis8": {
         "anchor": "x8",
         "domain": [
          0,
          0.4
         ],
         "showgrid": true
        }
       }
      },
      "text/html": [
       "<div>                            <div id=\"03bbdd87-3066-4996-83a7-082279f651b4\" class=\"plotly-graph-div\" style=\"height:500px; width:1000px;\"></div>            <script type=\"text/javascript\">                require([\"plotly\"], function(Plotly) {                    window.PLOTLYENV=window.PLOTLYENV || {};                                    if (document.getElementById(\"03bbdd87-3066-4996-83a7-082279f651b4\")) {                    Plotly.newPlot(                        \"03bbdd87-3066-4996-83a7-082279f651b4\",                        [{\"marker\":{\"color\":\"#D55E00\"},\"orientation\":\"h\",\"x\":[0.012085074998007305,0.016548298870519246,0.018164447081741298,0.02789200472158169,0.051130686519629355],\"y\":[\"people  \",\"china taiwan  \",\"taiwan china  \",\"china  \",\"taiwan  \"],\"type\":\"bar\",\"xaxis\":\"x\",\"yaxis\":\"y\"},{\"marker\":{\"color\":\"#0072B2\"},\"orientation\":\"h\",\"x\":[0.012425037885896252,0.024117913755670285,0.03624524021322181,0.03676907002466812,0.07448067282468993],\"y\":[\"small business  \",\"china  \",\"russia china  \",\"china russia  \",\"russia  \"],\"type\":\"bar\",\"xaxis\":\"x2\",\"yaxis\":\"y2\"},{\"marker\":{\"color\":\"#CC79A7\"},\"orientation\":\"h\",\"x\":[0.018122275359468996,0.020087138263776394,0.022761057465683715,0.033335925558033434,0.04976548110438415],\"y\":[\"democrats  \",\"china  \",\"hunter  \",\"trump  \",\"biden  \"],\"type\":\"bar\",\"xaxis\":\"x3\",\"yaxis\":\"y3\"},{\"marker\":{\"color\":\"#E69F00\"},\"orientation\":\"h\",\"x\":[0.013858543114609927,0.020488742596108823,0.021908540103048765,0.04105661306768734,0.07108893584298447],\"y\":[\"india china  \",\"indian  \",\"china  \",\"pakistan  \",\"india  \"],\"type\":\"bar\",\"xaxis\":\"x4\",\"yaxis\":\"y4\"},{\"marker\":{\"color\":\"#56B4E9\"},\"orientation\":\"h\",\"x\":[0.021918007591144466,0.02498109268723378,0.0327310129067662,0.04180200518852331,0.09100928371299381],\"y\":[\"china  \",\"war  \",\"taiwan  \",\"russia  \",\"ukraine  \"],\"type\":\"bar\",\"xaxis\":\"x5\",\"yaxis\":\"y5\"},{\"marker\":{\"color\":\"#009E73\"},\"orientation\":\"h\",\"x\":[0.020169323611137192,0.022506414222552517,0.022621112335547703,0.02878036645474429,0.0770835517988285],\"y\":[\"nancy pelosi  \",\"pelosi trip  \",\"china  \",\"nancy  \",\"pelosi  \"],\"type\":\"bar\",\"xaxis\":\"x6\",\"yaxis\":\"y6\"},{\"marker\":{\"color\":\"#F0E442\"},\"orientation\":\"h\",\"x\":[0.04325285263339314,0.04898594953088547,0.0544531903096308,0.05883478535484677,0.07608195600494395],\"y\":[\"missiles  \",\"launch  \",\"china fire  \",\"fire  \",\"missile  \"],\"type\":\"bar\",\"xaxis\":\"x7\",\"yaxis\":\"y7\"},{\"marker\":{\"color\":\"#D55E00\"},\"orientation\":\"h\",\"x\":[0.02561351434104543,0.027472091253404694,0.036831792862606044,0.03691295618641516,0.0454515183742057],\"y\":[\"russia china  \",\"country  \",\"law  \",\"russia  \",\"drug  \"],\"type\":\"bar\",\"xaxis\":\"x8\",\"yaxis\":\"y8\"}],                        {\"template\":{\"data\":{\"barpolar\":[{\"marker\":{\"line\":{\"color\":\"white\",\"width\":0.5},\"pattern\":{\"fillmode\":\"overlay\",\"size\":10,\"solidity\":0.2}},\"type\":\"barpolar\"}],\"bar\":[{\"error_x\":{\"color\":\"#2a3f5f\"},\"error_y\":{\"color\":\"#2a3f5f\"},\"marker\":{\"line\":{\"color\":\"white\",\"width\":0.5},\"pattern\":{\"fillmode\":\"overlay\",\"size\":10,\"solidity\":0.2}},\"type\":\"bar\"}],\"carpet\":[{\"aaxis\":{\"endlinecolor\":\"#2a3f5f\",\"gridcolor\":\"#C8D4E3\",\"linecolor\":\"#C8D4E3\",\"minorgridcolor\":\"#C8D4E3\",\"startlinecolor\":\"#2a3f5f\"},\"baxis\":{\"endlinecolor\":\"#2a3f5f\",\"gridcolor\":\"#C8D4E3\",\"linecolor\":\"#C8D4E3\",\"minorgridcolor\":\"#C8D4E3\",\"startlinecolor\":\"#2a3f5f\"},\"type\":\"carpet\"}],\"choropleth\":[{\"colorbar\":{\"outlinewidth\":0,\"ticks\":\"\"},\"type\":\"choropleth\"}],\"contourcarpet\":[{\"colorbar\":{\"outlinewidth\":0,\"ticks\":\"\"},\"type\":\"contourcarpet\"}],\"contour\":[{\"colorbar\":{\"outlinewidth\":0,\"ticks\":\"\"},\"colorscale\":[[0.0,\"#0d0887\"],[0.1111111111111111,\"#46039f\"],[0.2222222222222222,\"#7201a8\"],[0.3333333333333333,\"#9c179e\"],[0.4444444444444444,\"#bd3786\"],[0.5555555555555556,\"#d8576b\"],[0.6666666666666666,\"#ed7953\"],[0.7777777777777778,\"#fb9f3a\"],[0.8888888888888888,\"#fdca26\"],[1.0,\"#f0f921\"]],\"type\":\"contour\"}],\"heatmapgl\":[{\"colorbar\":{\"outlinewidth\":0,\"ticks\":\"\"},\"colorscale\":[[0.0,\"#0d0887\"],[0.1111111111111111,\"#46039f\"],[0.2222222222222222,\"#7201a8\"],[0.3333333333333333,\"#9c179e\"],[0.4444444444444444,\"#bd3786\"],[0.5555555555555556,\"#d8576b\"],[0.6666666666666666,\"#ed7953\"],[0.7777777777777778,\"#fb9f3a\"],[0.8888888888888888,\"#fdca26\"],[1.0,\"#f0f921\"]],\"type\":\"heatmapgl\"}],\"heatmap\":[{\"colorbar\":{\"outlinewidth\":0,\"ticks\":\"\"},\"colorscale\":[[0.0,\"#0d0887\"],[0.1111111111111111,\"#46039f\"],[0.2222222222222222,\"#7201a8\"],[0.3333333333333333,\"#9c179e\"],[0.4444444444444444,\"#bd3786\"],[0.5555555555555556,\"#d8576b\"],[0.6666666666666666,\"#ed7953\"],[0.7777777777777778,\"#fb9f3a\"],[0.8888888888888888,\"#fdca26\"],[1.0,\"#f0f921\"]],\"type\":\"heatmap\"}],\"histogram2dcontour\":[{\"colorbar\":{\"outlinewidth\":0,\"ticks\":\"\"},\"colorscale\":[[0.0,\"#0d0887\"],[0.1111111111111111,\"#46039f\"],[0.2222222222222222,\"#7201a8\"],[0.3333333333333333,\"#9c179e\"],[0.4444444444444444,\"#bd3786\"],[0.5555555555555556,\"#d8576b\"],[0.6666666666666666,\"#ed7953\"],[0.7777777777777778,\"#fb9f3a\"],[0.8888888888888888,\"#fdca26\"],[1.0,\"#f0f921\"]],\"type\":\"histogram2dcontour\"}],\"histogram2d\":[{\"colorbar\":{\"outlinewidth\":0,\"ticks\":\"\"},\"colorscale\":[[0.0,\"#0d0887\"],[0.1111111111111111,\"#46039f\"],[0.2222222222222222,\"#7201a8\"],[0.3333333333333333,\"#9c179e\"],[0.4444444444444444,\"#bd3786\"],[0.5555555555555556,\"#d8576b\"],[0.6666666666666666,\"#ed7953\"],[0.7777777777777778,\"#fb9f3a\"],[0.8888888888888888,\"#fdca26\"],[1.0,\"#f0f921\"]],\"type\":\"histogram2d\"}],\"histogram\":[{\"marker\":{\"pattern\":{\"fillmode\":\"overlay\",\"size\":10,\"solidity\":0.2}},\"type\":\"histogram\"}],\"mesh3d\":[{\"colorbar\":{\"outlinewidth\":0,\"ticks\":\"\"},\"type\":\"mesh3d\"}],\"parcoords\":[{\"line\":{\"colorbar\":{\"outlinewidth\":0,\"ticks\":\"\"}},\"type\":\"parcoords\"}],\"pie\":[{\"automargin\":true,\"type\":\"pie\"}],\"scatter3d\":[{\"line\":{\"colorbar\":{\"outlinewidth\":0,\"ticks\":\"\"}},\"marker\":{\"colorbar\":{\"outlinewidth\":0,\"ticks\":\"\"}},\"type\":\"scatter3d\"}],\"scattercarpet\":[{\"marker\":{\"colorbar\":{\"outlinewidth\":0,\"ticks\":\"\"}},\"type\":\"scattercarpet\"}],\"scattergeo\":[{\"marker\":{\"colorbar\":{\"outlinewidth\":0,\"ticks\":\"\"}},\"type\":\"scattergeo\"}],\"scattergl\":[{\"marker\":{\"colorbar\":{\"outlinewidth\":0,\"ticks\":\"\"}},\"type\":\"scattergl\"}],\"scattermapbox\":[{\"marker\":{\"colorbar\":{\"outlinewidth\":0,\"ticks\":\"\"}},\"type\":\"scattermapbox\"}],\"scatterpolargl\":[{\"marker\":{\"colorbar\":{\"outlinewidth\":0,\"ticks\":\"\"}},\"type\":\"scatterpolargl\"}],\"scatterpolar\":[{\"marker\":{\"colorbar\":{\"outlinewidth\":0,\"ticks\":\"\"}},\"type\":\"scatterpolar\"}],\"scatter\":[{\"fillpattern\":{\"fillmode\":\"overlay\",\"size\":10,\"solidity\":0.2},\"type\":\"scatter\"}],\"scatterternary\":[{\"marker\":{\"colorbar\":{\"outlinewidth\":0,\"ticks\":\"\"}},\"type\":\"scatterternary\"}],\"surface\":[{\"colorbar\":{\"outlinewidth\":0,\"ticks\":\"\"},\"colorscale\":[[0.0,\"#0d0887\"],[0.1111111111111111,\"#46039f\"],[0.2222222222222222,\"#7201a8\"],[0.3333333333333333,\"#9c179e\"],[0.4444444444444444,\"#bd3786\"],[0.5555555555555556,\"#d8576b\"],[0.6666666666666666,\"#ed7953\"],[0.7777777777777778,\"#fb9f3a\"],[0.8888888888888888,\"#fdca26\"],[1.0,\"#f0f921\"]],\"type\":\"surface\"}],\"table\":[{\"cells\":{\"fill\":{\"color\":\"#EBF0F8\"},\"line\":{\"color\":\"white\"}},\"header\":{\"fill\":{\"color\":\"#C8D4E3\"},\"line\":{\"color\":\"white\"}},\"type\":\"table\"}]},\"layout\":{\"annotationdefaults\":{\"arrowcolor\":\"#2a3f5f\",\"arrowhead\":0,\"arrowwidth\":1},\"autotypenumbers\":\"strict\",\"coloraxis\":{\"colorbar\":{\"outlinewidth\":0,\"ticks\":\"\"}},\"colorscale\":{\"diverging\":[[0,\"#8e0152\"],[0.1,\"#c51b7d\"],[0.2,\"#de77ae\"],[0.3,\"#f1b6da\"],[0.4,\"#fde0ef\"],[0.5,\"#f7f7f7\"],[0.6,\"#e6f5d0\"],[0.7,\"#b8e186\"],[0.8,\"#7fbc41\"],[0.9,\"#4d9221\"],[1,\"#276419\"]],\"sequential\":[[0.0,\"#0d0887\"],[0.1111111111111111,\"#46039f\"],[0.2222222222222222,\"#7201a8\"],[0.3333333333333333,\"#9c179e\"],[0.4444444444444444,\"#bd3786\"],[0.5555555555555556,\"#d8576b\"],[0.6666666666666666,\"#ed7953\"],[0.7777777777777778,\"#fb9f3a\"],[0.8888888888888888,\"#fdca26\"],[1.0,\"#f0f921\"]],\"sequentialminus\":[[0.0,\"#0d0887\"],[0.1111111111111111,\"#46039f\"],[0.2222222222222222,\"#7201a8\"],[0.3333333333333333,\"#9c179e\"],[0.4444444444444444,\"#bd3786\"],[0.5555555555555556,\"#d8576b\"],[0.6666666666666666,\"#ed7953\"],[0.7777777777777778,\"#fb9f3a\"],[0.8888888888888888,\"#fdca26\"],[1.0,\"#f0f921\"]]},\"colorway\":[\"#636efa\",\"#EF553B\",\"#00cc96\",\"#ab63fa\",\"#FFA15A\",\"#19d3f3\",\"#FF6692\",\"#B6E880\",\"#FF97FF\",\"#FECB52\"],\"font\":{\"color\":\"#2a3f5f\"},\"geo\":{\"bgcolor\":\"white\",\"lakecolor\":\"white\",\"landcolor\":\"white\",\"showlakes\":true,\"showland\":true,\"subunitcolor\":\"#C8D4E3\"},\"hoverlabel\":{\"align\":\"left\"},\"hovermode\":\"closest\",\"mapbox\":{\"style\":\"light\"},\"paper_bgcolor\":\"white\",\"plot_bgcolor\":\"white\",\"polar\":{\"angularaxis\":{\"gridcolor\":\"#EBF0F8\",\"linecolor\":\"#EBF0F8\",\"ticks\":\"\"},\"bgcolor\":\"white\",\"radialaxis\":{\"gridcolor\":\"#EBF0F8\",\"linecolor\":\"#EBF0F8\",\"ticks\":\"\"}},\"scene\":{\"xaxis\":{\"backgroundcolor\":\"white\",\"gridcolor\":\"#DFE8F3\",\"gridwidth\":2,\"linecolor\":\"#EBF0F8\",\"showbackground\":true,\"ticks\":\"\",\"zerolinecolor\":\"#EBF0F8\"},\"yaxis\":{\"backgroundcolor\":\"white\",\"gridcolor\":\"#DFE8F3\",\"gridwidth\":2,\"linecolor\":\"#EBF0F8\",\"showbackground\":true,\"ticks\":\"\",\"zerolinecolor\":\"#EBF0F8\"},\"zaxis\":{\"backgroundcolor\":\"white\",\"gridcolor\":\"#DFE8F3\",\"gridwidth\":2,\"linecolor\":\"#EBF0F8\",\"showbackground\":true,\"ticks\":\"\",\"zerolinecolor\":\"#EBF0F8\"}},\"shapedefaults\":{\"line\":{\"color\":\"#2a3f5f\"}},\"ternary\":{\"aaxis\":{\"gridcolor\":\"#DFE8F3\",\"linecolor\":\"#A2B1C6\",\"ticks\":\"\"},\"baxis\":{\"gridcolor\":\"#DFE8F3\",\"linecolor\":\"#A2B1C6\",\"ticks\":\"\"},\"bgcolor\":\"white\",\"caxis\":{\"gridcolor\":\"#DFE8F3\",\"linecolor\":\"#A2B1C6\",\"ticks\":\"\"}},\"title\":{\"x\":0.05},\"xaxis\":{\"automargin\":true,\"gridcolor\":\"#EBF0F8\",\"linecolor\":\"#EBF0F8\",\"ticks\":\"\",\"title\":{\"standoff\":15},\"zerolinecolor\":\"#EBF0F8\",\"zerolinewidth\":2},\"yaxis\":{\"automargin\":true,\"gridcolor\":\"#EBF0F8\",\"linecolor\":\"#EBF0F8\",\"ticks\":\"\",\"title\":{\"standoff\":15},\"zerolinecolor\":\"#EBF0F8\",\"zerolinewidth\":2}}},\"xaxis\":{\"anchor\":\"y\",\"domain\":[0.0,0.175],\"showgrid\":true},\"yaxis\":{\"anchor\":\"x\",\"domain\":[0.6000000000000001,1.0],\"showgrid\":true},\"xaxis2\":{\"anchor\":\"y2\",\"domain\":[0.275,0.45],\"showgrid\":true},\"yaxis2\":{\"anchor\":\"x2\",\"domain\":[0.6000000000000001,1.0],\"showgrid\":true},\"xaxis3\":{\"anchor\":\"y3\",\"domain\":[0.55,0.7250000000000001],\"showgrid\":true},\"yaxis3\":{\"anchor\":\"x3\",\"domain\":[0.6000000000000001,1.0],\"showgrid\":true},\"xaxis4\":{\"anchor\":\"y4\",\"domain\":[0.825,1.0],\"showgrid\":true},\"yaxis4\":{\"anchor\":\"x4\",\"domain\":[0.6000000000000001,1.0],\"showgrid\":true},\"xaxis5\":{\"anchor\":\"y5\",\"domain\":[0.0,0.175],\"showgrid\":true},\"yaxis5\":{\"anchor\":\"x5\",\"domain\":[0.0,0.4],\"showgrid\":true},\"xaxis6\":{\"anchor\":\"y6\",\"domain\":[0.275,0.45],\"showgrid\":true},\"yaxis6\":{\"anchor\":\"x6\",\"domain\":[0.0,0.4],\"showgrid\":true},\"xaxis7\":{\"anchor\":\"y7\",\"domain\":[0.55,0.7250000000000001],\"showgrid\":true},\"yaxis7\":{\"anchor\":\"x7\",\"domain\":[0.0,0.4],\"showgrid\":true},\"xaxis8\":{\"anchor\":\"y8\",\"domain\":[0.825,1.0],\"showgrid\":true},\"yaxis8\":{\"anchor\":\"x8\",\"domain\":[0.0,0.4],\"showgrid\":true},\"annotations\":[{\"font\":{\"size\":16},\"showarrow\":false,\"text\":\"Topic 0\",\"x\":0.0875,\"xanchor\":\"center\",\"xref\":\"paper\",\"y\":1.0,\"yanchor\":\"bottom\",\"yref\":\"paper\"},{\"font\":{\"size\":16},\"showarrow\":false,\"text\":\"Topic 1\",\"x\":0.36250000000000004,\"xanchor\":\"center\",\"xref\":\"paper\",\"y\":1.0,\"yanchor\":\"bottom\",\"yref\":\"paper\"},{\"font\":{\"size\":16},\"showarrow\":false,\"text\":\"Topic 2\",\"x\":0.6375000000000001,\"xanchor\":\"center\",\"xref\":\"paper\",\"y\":1.0,\"yanchor\":\"bottom\",\"yref\":\"paper\"},{\"font\":{\"size\":16},\"showarrow\":false,\"text\":\"Topic 3\",\"x\":0.9125,\"xanchor\":\"center\",\"xref\":\"paper\",\"y\":1.0,\"yanchor\":\"bottom\",\"yref\":\"paper\"},{\"font\":{\"size\":16},\"showarrow\":false,\"text\":\"Topic 4\",\"x\":0.0875,\"xanchor\":\"center\",\"xref\":\"paper\",\"y\":0.4,\"yanchor\":\"bottom\",\"yref\":\"paper\"},{\"font\":{\"size\":16},\"showarrow\":false,\"text\":\"Topic 5\",\"x\":0.36250000000000004,\"xanchor\":\"center\",\"xref\":\"paper\",\"y\":0.4,\"yanchor\":\"bottom\",\"yref\":\"paper\"},{\"font\":{\"size\":16},\"showarrow\":false,\"text\":\"Topic 6\",\"x\":0.6375000000000001,\"xanchor\":\"center\",\"xref\":\"paper\",\"y\":0.4,\"yanchor\":\"bottom\",\"yref\":\"paper\"},{\"font\":{\"size\":16},\"showarrow\":false,\"text\":\"Topic 7\",\"x\":0.9125,\"xanchor\":\"center\",\"xref\":\"paper\",\"y\":0.4,\"yanchor\":\"bottom\",\"yref\":\"paper\"}],\"title\":{\"font\":{\"size\":22,\"color\":\"Black\"},\"text\":\"<b>Topic Word Scores\",\"x\":0.5,\"xanchor\":\"center\",\"yanchor\":\"top\"},\"hoverlabel\":{\"font\":{\"size\":16,\"family\":\"Rockwell\"},\"bgcolor\":\"white\"},\"showlegend\":false,\"width\":1000,\"height\":500},                        {\"responsive\": true}                    ).then(function(){\n",
       "                            \n",
       "var gd = document.getElementById('03bbdd87-3066-4996-83a7-082279f651b4');\n",
       "var x = new MutationObserver(function (mutations, observer) {{\n",
       "        var display = window.getComputedStyle(gd).display;\n",
       "        if (!display || display === 'none') {{\n",
       "            console.log([gd, 'removed!']);\n",
       "            Plotly.purge(gd);\n",
       "            observer.disconnect();\n",
       "        }}\n",
       "}});\n",
       "\n",
       "// Listen for the removal of the full notebook cells\n",
       "var notebookContainer = gd.closest('#notebook-container');\n",
       "if (notebookContainer) {{\n",
       "    x.observe(notebookContainer, {childList: true});\n",
       "}}\n",
       "\n",
       "// Listen for the clearing of the current output cell\n",
       "var outputEl = gd.closest('.output');\n",
       "if (outputEl) {{\n",
       "    x.observe(outputEl, {childList: true});\n",
       "}}\n",
       "\n",
       "                        })                };                });            </script>        </div>"
      ]
     },
     "metadata": {},
     "output_type": "display_data"
    }
   ],
   "source": [
    "topic_model.visualize_barchart()"
   ]
  },
  {
   "cell_type": "markdown",
   "id": "98d4082b",
   "metadata": {},
   "source": [
    "# Visualizando tópicos overtime"
   ]
  },
  {
   "cell_type": "code",
   "execution_count": 259,
   "id": "a6596a4b",
   "metadata": {},
   "outputs": [],
   "source": [
    "timestamps = [timestamp.split(\"+\")[0] for timestamp in tweets.date.to_list()]"
   ]
  },
  {
   "cell_type": "code",
   "execution_count": 260,
   "id": "579d16aa",
   "metadata": {},
   "outputs": [],
   "source": [
    "topics_over_time = topic_model.topics_over_time(docs, topics, timestamps, nr_bins= 20)"
   ]
  },
  {
   "cell_type": "code",
   "execution_count": 261,
   "id": "23d0c0c0",
   "metadata": {},
   "outputs": [
    {
     "data": {
      "application/vnd.plotly.v1+json": {
       "config": {
        "plotlyServerURL": "https://plot.ly"
       },
       "data": [
        {
         "hoverinfo": "text",
         "hovertext": [
          "<b>Topic 0</b><br>Words: taiwan, china, china taiwan, taiwan china, people",
          "<b>Topic 0</b><br>Words: taiwan, china, taiwan china, china taiwan, taiwanese",
          "<b>Topic 0</b><br>Words: taiwan, china, taiwan china, china taiwan, country",
          "<b>Topic 0</b><br>Words: taiwan, china, taiwan china, china taiwan, people",
          "<b>Topic 0</b><br>Words: taiwan, china, taiwan china, china taiwan, republic china",
          "<b>Topic 0</b><br>Words: taiwan, china, china taiwan, taiwan china, republic china",
          "<b>Topic 0</b><br>Words: taiwan, china, taiwan china, china taiwan, territory",
          "<b>Topic 0</b><br>Words: taiwan, china, china taiwan, taiwan china, republic china",
          "<b>Topic 0</b><br>Words: taiwan, china, taiwan china, china taiwan, country",
          "<b>Topic 0</b><br>Words: taiwan, china, china taiwan, taiwan china, want",
          "<b>Topic 0</b><br>Words: taiwan, china, taiwan china, people, china taiwan",
          "<b>Topic 0</b><br>Words: taiwan, china, taiwan china, china taiwan, people",
          "<b>Topic 0</b><br>Words: taiwan, china, taiwan china, china taiwan, country",
          "<b>Topic 0</b><br>Words: taiwan, china, republic china, republic, taiwan china",
          "<b>Topic 0</b><br>Words: taiwan, china, taiwan china, china taiwan, people",
          "<b>Topic 0</b><br>Words: taiwan, china, china taiwan, taiwan china, roc",
          "<b>Topic 0</b><br>Words: taiwan, china, taiwan china, china taiwan, country",
          "<b>Topic 0</b><br>Words: taiwan, china, taiwan china, china taiwan, want",
          "<b>Topic 0</b><br>Words: taiwan, china, taiwan china, china taiwan, country",
          "<b>Topic 0</b><br>Words: taiwan, china, taiwan china, china taiwan, people"
         ],
         "marker": {
          "color": "#E69F00"
         },
         "mode": "lines",
         "name": "0_taiwan_china_taiwan china_china taiwan",
         "type": "scatter",
         "x": [
          "2022-08-04T15:33:52.288000",
          "2022-08-04T15:44:40.600000",
          "2022-08-04T15:55:16.200000",
          "2022-08-04T16:05:51.800000",
          "2022-08-04T16:16:27.400000",
          "2022-08-04T16:27:03",
          "2022-08-04T16:37:38.600000",
          "2022-08-04T16:48:14.200000",
          "2022-08-04T16:58:49.800000",
          "2022-08-04T17:09:25.400000",
          "2022-08-04T17:20:01",
          "2022-08-04T17:30:36.600000",
          "2022-08-04T17:41:12.200000",
          "2022-08-04T17:51:47.800000",
          "2022-08-04T18:02:23.400000",
          "2022-08-04T18:12:59",
          "2022-08-04T18:23:34.600000",
          "2022-08-04T18:34:10.200000",
          "2022-08-04T18:44:45.800000",
          "2022-08-04T18:55:21.400000"
         ],
         "y": [
          126,
          103,
          115,
          136,
          137,
          130,
          113,
          119,
          122,
          133,
          123,
          121,
          124,
          93,
          119,
          99,
          90,
          99,
          96,
          67
         ]
        },
        {
         "hoverinfo": "text",
         "hovertext": [
          "<b>Topic 1</b><br>Words: russia, china russia, russia china, china, don",
          "<b>Topic 1</b><br>Words: russia, russia china, china russia, china, country",
          "<b>Topic 1</b><br>Words: russia, russia china, china russia, china, putin",
          "<b>Topic 1</b><br>Words: russia, china russia, russia china, china, small business",
          "<b>Topic 1</b><br>Words: russia, russia china, china russia, china, million",
          "<b>Topic 1</b><br>Words: russia, russia china, china russia, china, good",
          "<b>Topic 1</b><br>Words: russia, china russia, russia china, china, america",
          "<b>Topic 1</b><br>Words: russia, russia china, pfl, china russia, china",
          "<b>Topic 1</b><br>Words: russia, china russia, russia china, china, west",
          "<b>Topic 1</b><br>Words: russia, china russia, russia china, china, russians",
          "<b>Topic 1</b><br>Words: russia, china russia, russia china, china, watchdog",
          "<b>Topic 1</b><br>Words: russia, china russia, russia china, china, war",
          "<b>Topic 1</b><br>Words: russia, russia china, china russia, china, putin",
          "<b>Topic 1</b><br>Words: russia, china russia, russia china, china, country",
          "<b>Topic 1</b><br>Words: russia, russia china, china, china russia, like",
          "<b>Topic 1</b><br>Words: russia, china russia, russia china, china, well",
          "<b>Topic 1</b><br>Words: russia, russia china, china russia, china, business",
          "<b>Topic 1</b><br>Words: russia, china russia, russia china, china, russia watchdog",
          "<b>Topic 1</b><br>Words: russia, china russia, watchdog, russia watchdog, mean small",
          "<b>Topic 1</b><br>Words: russia, china russia, russia china, small, china"
         ],
         "marker": {
          "color": "#56B4E9"
         },
         "mode": "lines",
         "name": "1_russia_china russia_russia china_china",
         "type": "scatter",
         "x": [
          "2022-08-04T15:33:52.288000",
          "2022-08-04T15:44:40.600000",
          "2022-08-04T15:55:16.200000",
          "2022-08-04T16:05:51.800000",
          "2022-08-04T16:16:27.400000",
          "2022-08-04T16:27:03",
          "2022-08-04T16:37:38.600000",
          "2022-08-04T16:48:14.200000",
          "2022-08-04T16:58:49.800000",
          "2022-08-04T17:09:25.400000",
          "2022-08-04T17:20:01",
          "2022-08-04T17:30:36.600000",
          "2022-08-04T17:41:12.200000",
          "2022-08-04T17:51:47.800000",
          "2022-08-04T18:02:23.400000",
          "2022-08-04T18:12:59",
          "2022-08-04T18:23:34.600000",
          "2022-08-04T18:34:10.200000",
          "2022-08-04T18:44:45.800000",
          "2022-08-04T18:55:21.400000"
         ],
         "y": [
          40,
          37,
          41,
          39,
          32,
          31,
          29,
          31,
          37,
          32,
          32,
          24,
          21,
          34,
          26,
          30,
          31,
          27,
          18,
          15
         ]
        },
        {
         "hoverinfo": "text",
         "hovertext": [
          "<b>Topic 2</b><br>Words: biden, trump, hunter, china, hunter biden",
          "<b>Topic 2</b><br>Words: biden, trump, joe, china, hunter",
          "<b>Topic 2</b><br>Words: biden, trump, hunter, china, joe",
          "<b>Topic 2</b><br>Words: biden, trump, china, get, hunter",
          "<b>Topic 2</b><br>Words: biden, trump, china, president, republicans",
          "<b>Topic 2</b><br>Words: biden, trump, hunter, china, hunter biden",
          "<b>Topic 2</b><br>Words: biden, trump, get, hunter, hunter biden",
          "<b>Topic 2</b><br>Words: biden, trump, democrat, democrats, america",
          "<b>Topic 2</b><br>Words: biden, democrats, taxis, hunter, trump",
          "<b>Topic 2</b><br>Words: biden, trump, democrats, pro, china",
          "<b>Topic 2</b><br>Words: biden, trump, get, joe, china",
          "<b>Topic 2</b><br>Words: biden, hunter biden, hunter, involve deal, biden involve",
          "<b>Topic 2</b><br>Words: biden, trump, hunter, china, joe biden",
          "<b>Topic 2</b><br>Words: biden, trump, hunter, democrats, china",
          "<b>Topic 2</b><br>Words: biden, trump, hunter, china, democrats",
          "<b>Topic 2</b><br>Words: biden, trump, democrats, hunter, china",
          "<b>Topic 2</b><br>Words: biden, trump, hunter, china, get",
          "<b>Topic 2</b><br>Words: biden, trump, hunter, joe, china",
          "<b>Topic 2</b><br>Words: biden, trump, hunter, democrats, hunter biden",
          "<b>Topic 2</b><br>Words: biden, hunter, trump, democrats, hunter biden"
         ],
         "marker": {
          "color": "#009E73"
         },
         "mode": "lines",
         "name": "2_biden_trump_hunter_china",
         "type": "scatter",
         "x": [
          "2022-08-04T15:33:52.288000",
          "2022-08-04T15:44:40.600000",
          "2022-08-04T15:55:16.200000",
          "2022-08-04T16:05:51.800000",
          "2022-08-04T16:16:27.400000",
          "2022-08-04T16:27:03",
          "2022-08-04T16:37:38.600000",
          "2022-08-04T16:48:14.200000",
          "2022-08-04T16:58:49.800000",
          "2022-08-04T17:09:25.400000",
          "2022-08-04T17:20:01",
          "2022-08-04T17:30:36.600000",
          "2022-08-04T17:41:12.200000",
          "2022-08-04T17:51:47.800000",
          "2022-08-04T18:02:23.400000",
          "2022-08-04T18:12:59",
          "2022-08-04T18:23:34.600000",
          "2022-08-04T18:34:10.200000",
          "2022-08-04T18:44:45.800000",
          "2022-08-04T18:55:21.400000"
         ],
         "y": [
          24,
          34,
          31,
          39,
          23,
          30,
          15,
          29,
          20,
          32,
          23,
          19,
          19,
          27,
          30,
          21,
          26,
          20,
          18,
          27
         ]
        },
        {
         "hoverinfo": "text",
         "hovertext": [
          "<b>Topic 3</b><br>Words: india, pakistan, china, indian, pakistan china",
          "<b>Topic 3</b><br>Words: india, pakistan, china, indian, pakistani",
          "<b>Topic 3</b><br>Words: india, pakistan, indian, china, indians",
          "<b>Topic 3</b><br>Words: india, pakistan, indian, china, pakistan china",
          "<b>Topic 3</b><br>Words: pakistan, india, china, pakistan future, future lie",
          "<b>Topic 3</b><br>Words: india, modi, pakistan, amp, china",
          "<b>Topic 3</b><br>Words: india, indian, pakistan, lanka, china",
          "<b>Topic 3</b><br>Words: india, pakistan, indian, china, border implicate",
          "<b>Topic 3</b><br>Words: india, pakistan, indian, china, india china",
          "<b>Topic 3</b><br>Words: india, pakistan, china, nehru, lanka",
          "<b>Topic 3</b><br>Words: india, pakistan, china, india china, indian",
          "<b>Topic 3</b><br>Words: india, pakistan, china, pak, china india",
          "<b>Topic 3</b><br>Words: india, pakistan, china, sir, engage",
          "<b>Topic 3</b><br>Words: india, pakistan, china, kar, india china",
          "<b>Topic 3</b><br>Words: india, sugar, pakistan, didnot say, didnot",
          "<b>Topic 3</b><br>Words: india, pakistan, china, india china, ban",
          "<b>Topic 3</b><br>Words: india, pakistan, india china, china, sea sand",
          "<b>Topic 3</b><br>Words: india, pakistan, kashmir, support india, france",
          "<b>Topic 3</b><br>Words: india, pakistan, indian, pay time, hindi news",
          "<b>Topic 3</b><br>Words: india, pakistan, att, china pakistan, drsjaishankar"
         ],
         "marker": {
          "color": "#F0E442"
         },
         "mode": "lines",
         "name": "3_india_pakistan_china_indian",
         "type": "scatter",
         "x": [
          "2022-08-04T15:33:52.288000",
          "2022-08-04T15:44:40.600000",
          "2022-08-04T15:55:16.200000",
          "2022-08-04T16:05:51.800000",
          "2022-08-04T16:16:27.400000",
          "2022-08-04T16:27:03",
          "2022-08-04T16:37:38.600000",
          "2022-08-04T16:48:14.200000",
          "2022-08-04T16:58:49.800000",
          "2022-08-04T17:09:25.400000",
          "2022-08-04T17:20:01",
          "2022-08-04T17:30:36.600000",
          "2022-08-04T17:41:12.200000",
          "2022-08-04T17:51:47.800000",
          "2022-08-04T18:02:23.400000",
          "2022-08-04T18:12:59",
          "2022-08-04T18:23:34.600000",
          "2022-08-04T18:34:10.200000",
          "2022-08-04T18:44:45.800000",
          "2022-08-04T18:55:21.400000"
         ],
         "y": [
          29,
          25,
          30,
          25,
          26,
          14,
          25,
          25,
          28,
          18,
          33,
          16,
          19,
          26,
          15,
          20,
          16,
          13,
          13,
          9
         ]
        },
        {
         "hoverinfo": "text",
         "hovertext": [
          "<b>Topic 4</b><br>Words: ukraine, russia, war, taiwan, zelensky",
          "<b>Topic 4</b><br>Words: ukraine, russia, war ukraine, taiwan, zelensky",
          "<b>Topic 4</b><br>Words: ukraine, russia, war, taiwan, zelensky",
          "<b>Topic 4</b><br>Words: ukraine, russia, taiwan, war, russia ukraine",
          "<b>Topic 4</b><br>Words: ukraine, russia, taiwan, ukraine russia, war",
          "<b>Topic 4</b><br>Words: ukraine, russia, taiwan, china, war",
          "<b>Topic 4</b><br>Words: ukraine, russia, taiwan, war, china",
          "<b>Topic 4</b><br>Words: ukraine, russia, taiwan, invade, war",
          "<b>Topic 4</b><br>Words: ukraine, russia, taiwan, war, invade",
          "<b>Topic 4</b><br>Words: ukraine, russia, war, taiwan, china",
          "<b>Topic 4</b><br>Words: ukraine, away ukraine, amp ukraine, amp attention, fund manpower",
          "<b>Topic 4</b><br>Words: ukraine, amp ukraine, amp, away ukraine, amp attention",
          "<b>Topic 4</b><br>Words: ukraine, russia, russia win, zelensky, let russia",
          "<b>Topic 4</b><br>Words: ukraine, russia, taiwan, war, china",
          "<b>Topic 4</b><br>Words: ukraine, russia, taiwan, russia ukraine, ukraine china",
          "<b>Topic 4</b><br>Words: ukraine, russia, zelensky, war, taiwan",
          "<b>Topic 4</b><br>Words: ukraine, zelensky, russia, taiwan, china",
          "<b>Topic 4</b><br>Words: ukraine, russia, taiwan, invade, china",
          "<b>Topic 4</b><br>Words: ukraine, russia, taiwan, want, zelensky",
          "<b>Topic 4</b><br>Words: ukraine, russia, zelensky, fvk, taiwan"
         ],
         "marker": {
          "color": "#D55E00"
         },
         "mode": "lines",
         "name": "4_ukraine_russia_taiwan_war",
         "type": "scatter",
         "x": [
          "2022-08-04T15:33:52.288000",
          "2022-08-04T15:44:40.600000",
          "2022-08-04T15:55:16.200000",
          "2022-08-04T16:05:51.800000",
          "2022-08-04T16:16:27.400000",
          "2022-08-04T16:27:03",
          "2022-08-04T16:37:38.600000",
          "2022-08-04T16:48:14.200000",
          "2022-08-04T16:58:49.800000",
          "2022-08-04T17:09:25.400000",
          "2022-08-04T17:20:01",
          "2022-08-04T17:30:36.600000",
          "2022-08-04T17:41:12.200000",
          "2022-08-04T17:51:47.800000",
          "2022-08-04T18:02:23.400000",
          "2022-08-04T18:12:59",
          "2022-08-04T18:23:34.600000",
          "2022-08-04T18:34:10.200000",
          "2022-08-04T18:44:45.800000",
          "2022-08-04T18:55:21.400000"
         ],
         "y": [
          26,
          14,
          24,
          17,
          13,
          24,
          20,
          20,
          10,
          29,
          48,
          22,
          6,
          19,
          15,
          20,
          22,
          18,
          13,
          14
         ]
        },
        {
         "hoverinfo": "text",
         "hovertext": [
          "<b>Topic 5</b><br>Words: pelosi, nancy, nancy pelosi, china, act",
          "<b>Topic 5</b><br>Words: pelosi, nancy, nancy pelosi, china, coward china",
          "<b>Topic 5</b><br>Words: pelosi, nancy, china, tell, pelosi claim",
          "<b>Topic 5</b><br>Words: pelosi, nancy, china, visit, nancy pelosi",
          "<b>Topic 5</b><br>Words: pelosi, nancy, traitor, china, trip",
          "<b>Topic 5</b><br>Words: pelosi, nancy, china, nancy pelosi, pelosi trip",
          "<b>Topic 5</b><br>Words: pelosi, nancy, pelosi agree, testify, china",
          "<b>Topic 5</b><br>Words: pelosi, nancy, visit, china, trip",
          "<b>Topic 5</b><br>Words: pelosi, nancy, china, threaten, nancy pelosi",
          "<b>Topic 5</b><br>Words: pelosi, invasion pelosi, pelosi trip, ego taiwan, purpose justify",
          "<b>Topic 5</b><br>Words: pelosi, pelosi trip, preparation invasion, taiwan downfall, ego taiwan",
          "<b>Topic 5</b><br>Words: pelosi, nancy, china, nancy pelosi, trip taiwan",
          "<b>Topic 5</b><br>Words: pelosi, nancy, cheney, china, nancy pelosi",
          "<b>Topic 5</b><br>Words: pelosi, nancy, china, nancy pelosi, pelosi china",
          "<b>Topic 5</b><br>Words: pelosi, threaten, china, nancy, justify",
          "<b>Topic 5</b><br>Words: pelosi, china, nancy, coward china, threaten",
          "<b>Topic 5</b><br>Words: pelosi, coward china, coward, nancy, nancy pelosi",
          "<b>Topic 5</b><br>Words: pelosi, nancy, nancy pelosi, pelosi china, need respect",
          "<b>Topic 5</b><br>Words: pelosi, china say, visit, job bad, didn long",
          "<b>Topic 5</b><br>Words: pelosi, nancy, nancy pelosi, china, frankenforiowa"
         ],
         "marker": {
          "color": "#0072B2"
         },
         "mode": "lines",
         "name": "5_pelosi_nancy_china_pelosi trip",
         "type": "scatter",
         "x": [
          "2022-08-04T15:33:52.288000",
          "2022-08-04T15:44:40.600000",
          "2022-08-04T15:55:16.200000",
          "2022-08-04T16:05:51.800000",
          "2022-08-04T16:16:27.400000",
          "2022-08-04T16:27:03",
          "2022-08-04T16:37:38.600000",
          "2022-08-04T16:48:14.200000",
          "2022-08-04T16:58:49.800000",
          "2022-08-04T17:09:25.400000",
          "2022-08-04T17:20:01",
          "2022-08-04T17:30:36.600000",
          "2022-08-04T17:41:12.200000",
          "2022-08-04T17:51:47.800000",
          "2022-08-04T18:02:23.400000",
          "2022-08-04T18:12:59",
          "2022-08-04T18:23:34.600000",
          "2022-08-04T18:34:10.200000",
          "2022-08-04T18:44:45.800000",
          "2022-08-04T18:55:21.400000"
         ],
         "y": [
          11,
          22,
          23,
          23,
          20,
          18,
          13,
          15,
          19,
          32,
          40,
          17,
          13,
          21,
          17,
          20,
          12,
          14,
          6,
          12
         ]
        },
        {
         "hoverinfo": "text",
         "hovertext": [
          "<b>Topic 6</b><br>Words: launch, missile, fire, satellite, taiwan",
          "<b>Topic 6</b><br>Words: missile, fire, china fire, launch, ballistic",
          "<b>Topic 6</b><br>Words: fire, missile, china fire, missiles, taiwan",
          "<b>Topic 6</b><br>Words: missile, fire, china fire, taiwan, missiles taiwan",
          "<b>Topic 6</b><br>Words: missile, fire, china fire, launch, fire missile",
          "<b>Topic 6</b><br>Words: missile, launch, china fire, ballistic, fire",
          "<b>Topic 6</b><br>Words: missile, fire, china fire, taiwan, missile taiwan",
          "<b>Topic 6</b><br>Words: missile, fire, china fire, launch, radio",
          "<b>Topic 6</b><br>Words: launch, satellite, china launch, ecosystem, carbon",
          "<b>Topic 6</b><br>Words: missiles, missiles taiwan, ballistic, china fire, fire",
          "<b>Topic 6</b><br>Words: missile, china fire, missiles taiwan, ballistic, fire",
          "<b>Topic 6</b><br>Words: missile, fire, missiles, ballistic, missiles taiwan",
          "<b>Topic 6</b><br>Words: missile, fire, missiles, china fire, ballistic",
          "<b>Topic 6</b><br>Words: missile, fire, china fire, missiles, taiwan",
          "<b>Topic 6</b><br>Words: missile, china fire, fire, fire missile, missile taiwan",
          "<b>Topic 6</b><br>Words: missile, launch, fire, missile taiwan, range",
          "<b>Topic 6</b><br>Words: missile, ballistic, missile taiwan, fire, launch",
          "<b>Topic 6</b><br>Words: missile, fire, china fire, fire missile, taiwan",
          "<b>Topic 6</b><br>Words: missile, ballistic, missiles taiwan, china fire, ballistic missiles",
          "<b>Topic 6</b><br>Words: missile, fire, space junk, junk, china fire"
         ],
         "marker": {
          "color": "#CC79A7"
         },
         "mode": "lines",
         "name": "6_missile_fire_china fire_launch",
         "type": "scatter",
         "x": [
          "2022-08-04T15:33:52.288000",
          "2022-08-04T15:44:40.600000",
          "2022-08-04T15:55:16.200000",
          "2022-08-04T16:05:51.800000",
          "2022-08-04T16:16:27.400000",
          "2022-08-04T16:27:03",
          "2022-08-04T16:37:38.600000",
          "2022-08-04T16:48:14.200000",
          "2022-08-04T16:58:49.800000",
          "2022-08-04T17:09:25.400000",
          "2022-08-04T17:20:01",
          "2022-08-04T17:30:36.600000",
          "2022-08-04T17:41:12.200000",
          "2022-08-04T17:51:47.800000",
          "2022-08-04T18:02:23.400000",
          "2022-08-04T18:12:59",
          "2022-08-04T18:23:34.600000",
          "2022-08-04T18:34:10.200000",
          "2022-08-04T18:44:45.800000",
          "2022-08-04T18:55:21.400000"
         ],
         "y": [
          12,
          21,
          23,
          21,
          15,
          17,
          13,
          10,
          13,
          25,
          19,
          13,
          12,
          13,
          13,
          16,
          15,
          9,
          9,
          10
         ]
        },
        {
         "hoverinfo": "text",
         "hovertext": [
          "<b>Topic 7</b><br>Words: drug, russia, country, russia china, law",
          "<b>Topic 7</b><br>Words: drug, russia, death, sentence, country",
          "<b>Topic 7</b><br>Words: drug, law, russia, don, country",
          "<b>Topic 7</b><br>Words: russia, drug, law, weed, russia china",
          "<b>Topic 7</b><br>Words: law, russia, generation, country, drug",
          "<b>Topic 7</b><br>Words: russia, weed, russia china, country, drug",
          "<b>Topic 7</b><br>Words: drug, law, russia, russia china, fentanyl",
          "<b>Topic 7</b><br>Words: drug, law, russia, country, sentence",
          "<b>Topic 7</b><br>Words: russia, drug, law, russia china, country",
          "<b>Topic 7</b><br>Words: drug, handle drug, usa handle, way especially, mexico amp",
          "<b>Topic 7</b><br>Words: sentence, drug, death, death penalty, penalty",
          "<b>Topic 7</b><br>Words: drug, handle drug, way especially, usa handle, mexico amp",
          "<b>Topic 7</b><br>Words: country, drug, law, russia, sentence",
          "<b>Topic 7</b><br>Words: bla, weed, russia, russia china, bla bla",
          "<b>Topic 7</b><br>Words: vape, vape pen, pen, prison, travel",
          "<b>Topic 7</b><br>Words: law, place, know law, drug, frescodinero",
          "<b>Topic 7</b><br>Words: drug, law, russia, country, don",
          "<b>Topic 7</b><br>Words: drug, law, shit don, sentencing, russia",
          "<b>Topic 7</b><br>Words: drug, sentence, fentanyl, catch, russia",
          "<b>Topic 7</b><br>Words: russia, law, olympic committee, drug, russia china"
         ],
         "marker": {
          "color": "#E69F00"
         },
         "mode": "lines",
         "name": "7_drug_russia_law_country",
         "type": "scatter",
         "x": [
          "2022-08-04T15:33:52.288000",
          "2022-08-04T15:44:40.600000",
          "2022-08-04T15:55:16.200000",
          "2022-08-04T16:05:51.800000",
          "2022-08-04T16:16:27.400000",
          "2022-08-04T16:27:03",
          "2022-08-04T16:37:38.600000",
          "2022-08-04T16:48:14.200000",
          "2022-08-04T16:58:49.800000",
          "2022-08-04T17:09:25.400000",
          "2022-08-04T17:20:01",
          "2022-08-04T17:30:36.600000",
          "2022-08-04T17:41:12.200000",
          "2022-08-04T17:51:47.800000",
          "2022-08-04T18:02:23.400000",
          "2022-08-04T18:12:59",
          "2022-08-04T18:23:34.600000",
          "2022-08-04T18:34:10.200000",
          "2022-08-04T18:44:45.800000",
          "2022-08-04T18:55:21.400000"
         ],
         "y": [
          19,
          25,
          20,
          24,
          14,
          16,
          17,
          27,
          15,
          19,
          9,
          10,
          14,
          7,
          8,
          7,
          11,
          9,
          6,
          9
         ]
        },
        {
         "hoverinfo": "text",
         "hovertext": [
          "<b>Topic 8</b><br>Words: guest artist, guest, bitch, artist, tomorrow",
          "<b>Topic 8</b><br>Words: david, robcarlson, ernestleenot backagain, keepitwilder hankinsharvey, racerx simple",
          "<b>Topic 8</b><br>Words: music, hard china, cool, easy, david",
          "<b>Topic 8</b><br>Words: asapgurth slickrick, asapgurth, boogiebandit, boogiebandit chenweihua, balancehewitt boogiebandit",
          "<b>Topic 8</b><br>Words: thecodedgalaxy, thecodedgalaxy sure, maybe, coolvetnurse ernestleenot, jaquepierre",
          "<b>Topic 8</b><br>Words: modeselektor, catnapp, stick, music, play",
          "<b>Topic 8</b><br>Words: soulmate, couple month, trussliz, john, couple",
          "<b>Topic 8</b><br>Words: scott, fxxx, nessiipnc, bet, mullins",
          "<b>Topic 8</b><br>Words: andrewwarrenfl, neighborhood, david, live, jill",
          "<b>Topic 8</b><br>Words: supermoon, summer, good, fucking, david",
          "<b>Topic 8</b><br>Words: realultramaga, somesis wtfisahashtag, maxheadroom sapienwoman, rosegar somesis, union form",
          "<b>Topic 8</b><br>Words: azania, backagain, racerx simple, ernestleenot backagain, ernestleenot",
          "<b>Topic 8</b><br>Words: work, yrs, jill, chick, prian deanhatchy",
          "<b>Topic 8</b><br>Words: purohit, resurgentindia, realultramaga, talk, listen",
          "<b>Topic 8</b><br>Words: skim, love, love isn, skim milk, isn jinpe",
          "<b>Topic 8</b><br>Words: cheese, trevor phillips, love godzilla, barber, need alphabetize",
          "<b>Topic 8</b><br>Words: recently, get, go, halgood, grondavia",
          "<b>Topic 8</b><br>Words: dead, eat, like, shit, purerajput itstheatmospher",
          "<b>Topic 8</b><br>Words: hide, congress, love, victory massage, fall lick",
          "<b>Topic 8</b><br>Words: boldy, qaeda, youth, terrorist, dollarlincoln carlbotha"
         ],
         "marker": {
          "color": "#56B4E9"
         },
         "mode": "lines",
         "name": "8_david_yvonnecar_spacesvector_robcarlso...",
         "type": "scatter",
         "x": [
          "2022-08-04T15:33:52.288000",
          "2022-08-04T15:44:40.600000",
          "2022-08-04T15:55:16.200000",
          "2022-08-04T16:05:51.800000",
          "2022-08-04T16:16:27.400000",
          "2022-08-04T16:27:03",
          "2022-08-04T16:37:38.600000",
          "2022-08-04T16:48:14.200000",
          "2022-08-04T16:58:49.800000",
          "2022-08-04T17:09:25.400000",
          "2022-08-04T17:20:01",
          "2022-08-04T17:30:36.600000",
          "2022-08-04T17:41:12.200000",
          "2022-08-04T17:51:47.800000",
          "2022-08-04T18:02:23.400000",
          "2022-08-04T18:12:59",
          "2022-08-04T18:23:34.600000",
          "2022-08-04T18:34:10.200000",
          "2022-08-04T18:44:45.800000",
          "2022-08-04T18:55:21.400000"
         ],
         "y": [
          14,
          19,
          17,
          16,
          19,
          11,
          17,
          13,
          21,
          14,
          11,
          9,
          17,
          14,
          12,
          13,
          11,
          15,
          8,
          8
         ]
        },
        {
         "hoverinfo": "text",
         "hovertext": [
          "<b>Topic 9</b><br>Words: covid, virus, virus world, world, wuhan",
          "<b>Topic 9</b><br>Words: covid, virus, unemployment, sinobiopharm, hold interest",
          "<b>Topic 9</b><br>Words: virus, covid, create virus, china, trump",
          "<b>Topic 9</b><br>Words: covid, virus, vaccine, china, citizen travel",
          "<b>Topic 9</b><br>Words: virus, covid, china virus, vaccine, free",
          "<b>Topic 9</b><br>Words: virus, covid, pandemic, china virus, sense",
          "<b>Topic 9</b><br>Words: virus, covid, chinese virus, china virus, china",
          "<b>Topic 9</b><br>Words: covid, virus, zero, world kill, pandemic",
          "<b>Topic 9</b><br>Words: virus, covid, china virus, china, covid patient",
          "<b>Topic 9</b><br>Words: virus, covid, china virus, gay man, research",
          "<b>Topic 9</b><br>Words: virus, covid, flu, fauci, gay",
          "<b>Topic 9</b><br>Words: covid, vaccine, virus, go away, china surprise",
          "<b>Topic 9</b><br>Words: covid, virus, china virus, china, fauci",
          "<b>Topic 9</b><br>Words: virus, covid, research, coronavirus, research china",
          "<b>Topic 9</b><br>Words: covid, virus, china virus, research, vaccine",
          "<b>Topic 9</b><br>Words: virus, covid, china virus, dry bulk, getting rid",
          "<b>Topic 9</b><br>Words: virus, covid, china virus, research, china",
          "<b>Topic 9</b><br>Words: virus, covid, wuhan, import malaria, starbucks sale",
          "<b>Topic 9</b><br>Words: virus, covid, china virus, western virologist, virologist",
          "<b>Topic 9</b><br>Words: virus, research, covid, function research, gain function"
         ],
         "marker": {
          "color": "#009E73"
         },
         "mode": "lines",
         "name": "9_virus_covid_china virus_china",
         "type": "scatter",
         "x": [
          "2022-08-04T15:33:52.288000",
          "2022-08-04T15:44:40.600000",
          "2022-08-04T15:55:16.200000",
          "2022-08-04T16:05:51.800000",
          "2022-08-04T16:16:27.400000",
          "2022-08-04T16:27:03",
          "2022-08-04T16:37:38.600000",
          "2022-08-04T16:48:14.200000",
          "2022-08-04T16:58:49.800000",
          "2022-08-04T17:09:25.400000",
          "2022-08-04T17:20:01",
          "2022-08-04T17:30:36.600000",
          "2022-08-04T17:41:12.200000",
          "2022-08-04T17:51:47.800000",
          "2022-08-04T18:02:23.400000",
          "2022-08-04T18:12:59",
          "2022-08-04T18:23:34.600000",
          "2022-08-04T18:34:10.200000",
          "2022-08-04T18:44:45.800000",
          "2022-08-04T18:55:21.400000"
         ],
         "y": [
          11,
          11,
          23,
          14,
          15,
          12,
          16,
          10,
          17,
          12,
          8,
          7,
          20,
          15,
          15,
          12,
          19,
          13,
          12,
          12
         ]
        },
        {
         "hoverinfo": "text",
         "hovertext": [
          "<b>Topic 10</b><br>Words: wall, china, zlj antonioguterre, ashe, zlj",
          "<b>Topic 10</b><br>Words: china, monument, huge monument, dancrenshawtx, huge",
          "<b>Topic 10</b><br>Words: china, in phi, tbh india, marionawfal gogogo, phi aus",
          "<b>Topic 10</b><br>Words: place china, river, china, huang yellow, borealis yes",
          "<b>Topic 10</b><br>Words: china, zhoukeyu, tough little, iingwen, tough",
          "<b>Topic 10</b><br>Words: come, dey, china, post, group",
          "<b>Topic 10</b><br>Words: mattgubba china, sophielouisecc, china ejwwest, exrafal conceptualjame, west jordanrhodeskw",
          "<b>Topic 10</b><br>Words: town, china, road, soho area, street photography",
          "<b>Topic 10</b><br>Words: snek, kishinobuo china, kishinobuo, china, know china",
          "<b>Topic 10</b><br>Words: china, zzz iingwen, xiushui, china mcallen, china soooo",
          "<b>Topic 10</b><br>Words: dhookstead kingjames, kingjames, dhookstead, china, bund",
          "<b>Topic 10</b><br>Words: china, noun, go, cheena doesn, jyptoxc",
          "<b>Topic 10</b><br>Words: masonry wall, masonry, wall, china, world imply",
          "<b>Topic 10</b><br>Words: china, true color, bicycle, chop, china true",
          "<b>Topic 10</b><br>Words: china, say xinjiang, jensen china, unclecul small, thegodblackfba claressashield",
          "<b>Topic 10</b><br>Words: omfg, mandarin, speak, tibetan, china",
          "<b>Topic 10</b><br>Words: sorry laugh, laugh china, china, laugh, sorry",
          "<b>Topic 10</b><br>Words: china, eye, inscrutable, gather dust, china inscrutable",
          "<b>Topic 10</b><br>Words: see spectrrral, china saxenarj, rob china, solace huge, solace",
          "<b>Topic 10</b><br>Words: china, tincase, china stonech, gewitter, germanangst shibarmy"
         ],
         "marker": {
          "color": "#F0E442"
         },
         "mode": "lines",
         "name": "10_china_town_china town_know",
         "type": "scatter",
         "x": [
          "2022-08-04T15:33:52.288000",
          "2022-08-04T15:44:40.600000",
          "2022-08-04T15:55:16.200000",
          "2022-08-04T16:05:51.800000",
          "2022-08-04T16:16:27.400000",
          "2022-08-04T16:27:03",
          "2022-08-04T16:37:38.600000",
          "2022-08-04T16:48:14.200000",
          "2022-08-04T16:58:49.800000",
          "2022-08-04T17:09:25.400000",
          "2022-08-04T17:20:01",
          "2022-08-04T17:30:36.600000",
          "2022-08-04T17:41:12.200000",
          "2022-08-04T17:51:47.800000",
          "2022-08-04T18:02:23.400000",
          "2022-08-04T18:12:59",
          "2022-08-04T18:23:34.600000",
          "2022-08-04T18:34:10.200000",
          "2022-08-04T18:44:45.800000",
          "2022-08-04T18:55:21.400000"
         ],
         "y": [
          18,
          20,
          9,
          9,
          19,
          9,
          6,
          12,
          13,
          10,
          14,
          17,
          8,
          15,
          13,
          12,
          14,
          11,
          6,
          19
         ]
        },
        {
         "hoverinfo": "text",
         "hovertext": [
          "<b>Topic 11</b><br>Words: pelosi, visit, taiwan, pelosi taiwan, pelosi visit",
          "<b>Topic 11</b><br>Words: pelosi, visit, pelosi visit, taiwan, pelosi taiwan",
          "<b>Topic 11</b><br>Words: pelosi, visit, visit taiwan, taiwan, pelosi visit",
          "<b>Topic 11</b><br>Words: pelosi, visit, taiwan, visit taiwan, pelosi visit",
          "<b>Topic 11</b><br>Words: pelosi, visit, pelosi visit, visit taiwan, taiwan",
          "<b>Topic 11</b><br>Words: pelosi, visit, visit taiwan, overeact pelosi, china overeact",
          "<b>Topic 11</b><br>Words: pelosi, visit, pelosi visit, taiwan, visit taiwan",
          "<b>Topic 11</b><br>Words: pelosi, visit, pelosi visit, taiwan, visit taiwan",
          "<b>Topic 11</b><br>Words: pelosi, visit, visit taiwan, pelosi visit, taiwan",
          "<b>Topic 11</b><br>Words: pelosi, taiwan, visit, pelosi visit, visit taiwan",
          "<b>Topic 11</b><br>Words: pelosi, visit, taiwan, pelosi visit, pelosi taiwan",
          "<b>Topic 11</b><br>Words: pelosi, visit, taiwan, pelosi taiwan, pelosi visit",
          "<b>Topic 11</b><br>Words: pelosi, visit, visit taiwan, pelosi visit, taiwan",
          "<b>Topic 11</b><br>Words: pelosi, visit, taiwan, pelosi visit, visit taiwan",
          "<b>Topic 11</b><br>Words: pelosi, pelosi visit, visit, taiwan, visit taiwan",
          "<b>Topic 11</b><br>Words: pelosi, pelosi visit, visit, taiwan, taiwan pelosi",
          "<b>Topic 11</b><br>Words: pelosi, visit, pelosi visit, taiwan, taiwan pelosi",
          "<b>Topic 11</b><br>Words: pelosi, visit, pelosi visit, overeact pelosi, china overeact",
          "<b>Topic 11</b><br>Words: pelosi, visit, taiwan, pelosi visit, visit taiwan",
          "<b>Topic 11</b><br>Words: pelosi, taiwan, visit, pelosi visit, theprintindia"
         ],
         "marker": {
          "color": "#D55E00"
         },
         "mode": "lines",
         "name": "11_pelosi_visit_taiwan_pelosi visit",
         "type": "scatter",
         "x": [
          "2022-08-04T15:33:52.288000",
          "2022-08-04T15:44:40.600000",
          "2022-08-04T15:55:16.200000",
          "2022-08-04T16:05:51.800000",
          "2022-08-04T16:16:27.400000",
          "2022-08-04T16:27:03",
          "2022-08-04T16:37:38.600000",
          "2022-08-04T16:48:14.200000",
          "2022-08-04T16:58:49.800000",
          "2022-08-04T17:09:25.400000",
          "2022-08-04T17:20:01",
          "2022-08-04T17:30:36.600000",
          "2022-08-04T17:41:12.200000",
          "2022-08-04T17:51:47.800000",
          "2022-08-04T18:02:23.400000",
          "2022-08-04T18:12:59",
          "2022-08-04T18:23:34.600000",
          "2022-08-04T18:34:10.200000",
          "2022-08-04T18:44:45.800000",
          "2022-08-04T18:55:21.400000"
         ],
         "y": [
          21,
          12,
          20,
          9,
          15,
          12,
          14,
          11,
          15,
          9,
          16,
          18,
          7,
          12,
          11,
          14,
          11,
          8,
          6,
          6
         ]
        },
        {
         "hoverinfo": "text",
         "hovertext": [
          "<b>Topic 12</b><br>Words: missile, china fire, fire missile, fire, missile strike",
          "<b>Topic 12</b><br>Words: missile, fire missile, pelosi visit, china fire, fire",
          "<b>Topic 12</b><br>Words: missile, strait, taiwan strait, china fire, fire missile",
          "<b>Topic 12</b><br>Words: china fire, fire missile, missile, fire, pelosi visit",
          "<b>Topic 12</b><br>Words: pelosi visit, missile, missile strike, visit, strike",
          "<b>Topic 12</b><br>Words: missile, china fire, fire missile, fire, pelosi visit",
          "<b>Topic 12</b><br>Words: pelosi visit, missile, missile near, fire missile, china fire",
          "<b>Topic 12</b><br>Words: china fire, missile, pelosi visit, fire missile, fire",
          "<b>Topic 12</b><br>Words: china fire, fire, fire missile, pelosi visit, missile",
          "<b>Topic 12</b><br>Words: missile, fire missile, fire, china fire, pelosi visit",
          "<b>Topic 12</b><br>Words: pelosi visit, fire, missile, visit, china fire",
          "<b>Topic 12</b><br>Words: fire missile, china fire, missile, pelosi visit, fire",
          "<b>Topic 12</b><br>Words: missile, fire, pelosi visit, fire missile, china fire",
          "<b>Topic 12</b><br>Words: missile, china fire, pelosi visit, fire missile, pelosi",
          "<b>Topic 12</b><br>Words: missile, fire missile, missile near, fire, china fire",
          "<b>Topic 12</b><br>Words: missile, pelosi visit, fire missile, china fire, visit",
          "<b>Topic 12</b><br>Words: china fire, fire missile, fire, missile, pelosi visit",
          "<b>Topic 12</b><br>Words: pelosi visit, pelosi, fire, pelosi launch, caitoz nancy",
          "<b>Topic 12</b><br>Words: china fire, missile, fire, fire missile, pelosi visit",
          "<b>Topic 12</b><br>Words: china fire, missile, fire, visit, pelosi visit"
         ],
         "marker": {
          "color": "#0072B2"
         },
         "mode": "lines",
         "name": "12_missile_china fire_fire missile_pelos...",
         "type": "scatter",
         "x": [
          "2022-08-04T15:33:52.288000",
          "2022-08-04T15:44:40.600000",
          "2022-08-04T15:55:16.200000",
          "2022-08-04T16:05:51.800000",
          "2022-08-04T16:16:27.400000",
          "2022-08-04T16:27:03",
          "2022-08-04T16:37:38.600000",
          "2022-08-04T16:48:14.200000",
          "2022-08-04T16:58:49.800000",
          "2022-08-04T17:09:25.400000",
          "2022-08-04T17:20:01",
          "2022-08-04T17:30:36.600000",
          "2022-08-04T17:41:12.200000",
          "2022-08-04T17:51:47.800000",
          "2022-08-04T18:02:23.400000",
          "2022-08-04T18:12:59",
          "2022-08-04T18:23:34.600000",
          "2022-08-04T18:34:10.200000",
          "2022-08-04T18:44:45.800000",
          "2022-08-04T18:55:21.400000"
         ],
         "y": [
          13,
          25,
          19,
          14,
          8,
          18,
          9,
          14,
          11,
          11,
          13,
          11,
          8,
          14,
          5,
          7,
          10,
          3,
          7,
          8
         ]
        },
        {
         "hoverinfo": "text",
         "hovertext": [
          "<b>Topic 13</b><br>Words: war, start war, china, military, invade",
          "<b>Topic 13</b><br>Words: war, fight, military, start war, poke",
          "<b>Topic 13</b><br>Words: war, military, china, xijin, war china",
          "<b>Topic 13</b><br>Words: war, pro, long show, gracepersephone think, support invasion",
          "<b>Topic 13</b><br>Words: war, china, initiate war, vietnamese, military",
          "<b>Topic 13</b><br>Words: war, china, threat, ain, respond",
          "<b>Topic 13</b><br>Words: war, oct, fight, china, fight war",
          "<b>Topic 13</b><br>Words: war, china, military, start war, fight",
          "<b>Topic 13</b><br>Words: war, military, china, weak, declare war",
          "<b>Topic 13</b><br>Words: war, military, china, war china, aggressive",
          "<b>Topic 13</b><br>Words: war, war huxijingt, huxijingt globaltimesnew, tungsten, fight war",
          "<b>Topic 13</b><br>Words: war, china, invade, start war, war china",
          "<b>Topic 13</b><br>Words: war, beg twitter, kristyann fight, twitter sad, understate",
          "<b>Topic 13</b><br>Words: war, sanction, china, attack, fight",
          "<b>Topic 13</b><br>Words: war, china, start, war china, pwease",
          "<b>Topic 13</b><br>Words: fight, war, partner, time statement, pussy likely",
          "<b>Topic 13</b><br>Words: china hero, need yter, to need, yen fight, scene time",
          "<b>Topic 13</b><br>Words: war, weapon, war china, china, potentially",
          "<b>Topic 13</b><br>Words: war, recent combat, wholesale shift, endgameww, china",
          "<b>Topic 13</b><br>Words: war, kmt, civil war, goal, civil"
         ],
         "marker": {
          "color": "#CC79A7"
         },
         "mode": "lines",
         "name": "13_war_china_military_fight",
         "type": "scatter",
         "x": [
          "2022-08-04T15:33:52.288000",
          "2022-08-04T15:44:40.600000",
          "2022-08-04T15:55:16.200000",
          "2022-08-04T16:05:51.800000",
          "2022-08-04T16:16:27.400000",
          "2022-08-04T16:27:03",
          "2022-08-04T16:37:38.600000",
          "2022-08-04T16:48:14.200000",
          "2022-08-04T16:58:49.800000",
          "2022-08-04T17:09:25.400000",
          "2022-08-04T17:20:01",
          "2022-08-04T17:30:36.600000",
          "2022-08-04T17:41:12.200000",
          "2022-08-04T17:51:47.800000",
          "2022-08-04T18:02:23.400000",
          "2022-08-04T18:12:59",
          "2022-08-04T18:23:34.600000",
          "2022-08-04T18:34:10.200000",
          "2022-08-04T18:44:45.800000",
          "2022-08-04T18:55:21.400000"
         ],
         "y": [
          12,
          8,
          13,
          6,
          16,
          11,
          14,
          11,
          10,
          13,
          11,
          12,
          7,
          11,
          14,
          6,
          2,
          11,
          14,
          7
         ]
        },
        {
         "hoverinfo": "text",
         "hovertext": [
          "<b>Topic 14</b><br>Words: military, exercise, drill, military conducting, military drill",
          "<b>Topic 14</b><br>Words: exercise, military, military exercise, pelosi visit, visit",
          "<b>Topic 14</b><br>Words: exercise, military, visit, pelosi, pelosi visit",
          "<b>Topic 14</b><br>Words: military, exercise, military exercise, pelosi, visit",
          "<b>Topic 14</b><br>Words: military, drill, visit, pelosi, military drill",
          "<b>Topic 14</b><br>Words: military, exercise, military exercise, pelosi, pelosi visit",
          "<b>Topic 14</b><br>Words: military, exercise, military exercise, pelosi, visit",
          "<b>Topic 14</b><br>Words: military, exercise, pelosi, visit, drill",
          "<b>Topic 14</b><br>Words: military, exercise, military exercise, drill, visit",
          "<b>Topic 14</b><br>Words: exercise, military, military exercise, taiwan, visit",
          "<b>Topic 14</b><br>Words: military, exercise, drill, military drill, taiwan",
          "<b>Topic 14</b><br>Words: exercise, military, military exercise, visit, drill",
          "<b>Topic 14</b><br>Words: visit, pelosi visit, military, house speaker, exercise",
          "<b>Topic 14</b><br>Words: exercise, military exercise, military, taiwan, immediately stop",
          "<b>Topic 14</b><br>Words: exercise, military exercise, military, immediately stop, stop military",
          "<b>Topic 14</b><br>Words: exercise, military, military exercise, drill, china say",
          "<b>Topic 14</b><br>Words: military, exercise, military exercise, visit, speaker",
          "<b>Topic 14</b><br>Words: military, military drill, drill, pelosi visit, visit",
          "<b>Topic 14</b><br>Words: military, pelosi visit, military drill, visit, drill",
          "<b>Topic 14</b><br>Words: arekmularczyk think, aunt, aunt name, exercise reason, old aunt"
         ],
         "marker": {
          "color": "#E69F00"
         },
         "mode": "lines",
         "name": "14_military_exercise_military exercise_v...",
         "type": "scatter",
         "x": [
          "2022-08-04T15:33:52.288000",
          "2022-08-04T15:44:40.600000",
          "2022-08-04T15:55:16.200000",
          "2022-08-04T16:05:51.800000",
          "2022-08-04T16:16:27.400000",
          "2022-08-04T16:27:03",
          "2022-08-04T16:37:38.600000",
          "2022-08-04T16:48:14.200000",
          "2022-08-04T16:58:49.800000",
          "2022-08-04T17:09:25.400000",
          "2022-08-04T17:20:01",
          "2022-08-04T17:30:36.600000",
          "2022-08-04T17:41:12.200000",
          "2022-08-04T17:51:47.800000",
          "2022-08-04T18:02:23.400000",
          "2022-08-04T18:12:59",
          "2022-08-04T18:23:34.600000",
          "2022-08-04T18:34:10.200000",
          "2022-08-04T18:44:45.800000",
          "2022-08-04T18:55:21.400000"
         ],
         "y": [
          9,
          11,
          9,
          11,
          18,
          12,
          9,
          12,
          20,
          15,
          11,
          8,
          5,
          7,
          7,
          5,
          9,
          9,
          9,
          2
         ]
        },
        {
         "hoverinfo": "text",
         "hovertext": [
          "<b>Topic 15</b><br>Words: speakerpelosi, taiwan, marwilliamson speakerpelosi, marwilliamson, china",
          "<b>Topic 15</b><br>Words: speakerpelosi, taiwan, government, visit, blame",
          "<b>Topic 15</b><br>Words: speakerpelosi, democracy speak, speak chinese, taiwan, china",
          "<b>Topic 15</b><br>Words: speakerpelosi, potus taiwan, speakerpelosi potus, china, taiwan",
          "<b>Topic 15</b><br>Words: speakerpelosi, speaker, speaker visit, taiwan, stop",
          "<b>Topic 15</b><br>Words: speakerpelosi, dmytrokuleba, polosis, speaker, taiwan",
          "<b>Topic 15</b><br>Words: speakerpelosi, taiwan, china, show china, china speakerpelosi",
          "<b>Topic 15</b><br>Words: speakerpelosi, taiwan, china, leave taiwanese, speakerpelosi taiwan",
          "<b>Topic 15</b><br>Words: speakerpelosi, shipping plan, veiled threat, peace speakerpelosi, befuddle lawmaker",
          "<b>Topic 15</b><br>Words: speakerpelosi, taiwan tool, nancy support, prc excuse, pram want",
          "<b>Topic 15</b><br>Words: speakerpelosi, speakerpelosi china, nuclear missile, taiwan, china",
          "<b>Topic 15</b><br>Words: speakerpelosi, china speakerpelosi, taiwan, speakerpelosi china, way",
          "<b>Topic 15</b><br>Words: speakerpelosi, taiwan, china speakerpelosi, speakerpelosi china, esthershetv speakerpelosi",
          "<b>Topic 15</b><br>Words: speakerpelosi, taiwan, china, piss china, piss",
          "<b>Topic 15</b><br>Words: speakerpelosi, chip, china, russia china, speakerpelosi visit",
          "<b>Topic 15</b><br>Words: speakerpelosi, nuclear missile, rude, taiwan, speaker",
          "<b>Topic 15</b><br>Words: speakerpelosi, speakerpelosi china, amp, relevant, china speakerpelosi",
          "<b>Topic 15</b><br>Words: speakerpelosi, wave, taiwan, strait useful, military penis",
          "<b>Topic 15</b><br>Words: speakerpelosi, korea, china speakerpelosi, install freaking, unity economic",
          "<b>Topic 15</b><br>Words: speakerpelosi, speaker, dictate, speaker speakerpelosi, schedule"
         ],
         "marker": {
          "color": "#56B4E9"
         },
         "mode": "lines",
         "name": "15_speakerpelosi_taiwan_china_china spea...",
         "type": "scatter",
         "x": [
          "2022-08-04T15:33:52.288000",
          "2022-08-04T15:44:40.600000",
          "2022-08-04T15:55:16.200000",
          "2022-08-04T16:05:51.800000",
          "2022-08-04T16:16:27.400000",
          "2022-08-04T16:27:03",
          "2022-08-04T16:37:38.600000",
          "2022-08-04T16:48:14.200000",
          "2022-08-04T16:58:49.800000",
          "2022-08-04T17:09:25.400000",
          "2022-08-04T17:20:01",
          "2022-08-04T17:30:36.600000",
          "2022-08-04T17:41:12.200000",
          "2022-08-04T17:51:47.800000",
          "2022-08-04T18:02:23.400000",
          "2022-08-04T18:12:59",
          "2022-08-04T18:23:34.600000",
          "2022-08-04T18:34:10.200000",
          "2022-08-04T18:44:45.800000",
          "2022-08-04T18:55:21.400000"
         ],
         "y": [
          10,
          9,
          8,
          11,
          9,
          9,
          10,
          13,
          6,
          4,
          11,
          10,
          12,
          10,
          10,
          10,
          7,
          6,
          5,
          11
         ]
        },
        {
         "hoverinfo": "text",
         "hovertext": [
          "<b>Topic 16</b><br>Words: oil, potus, reserve, sell, job",
          "<b>Topic 16</b><br>Words: oil, potus, sell, china potus, sell china",
          "<b>Topic 16</b><br>Words: oil, potus, sell, reserve, sell china",
          "<b>Topic 16</b><br>Words: potus, oil, sell, reserve, potus sell",
          "<b>Topic 16</b><br>Words: oil, potus, reserve, sell, potus sell",
          "<b>Topic 16</b><br>Words: reserve, potus, oil, sell, strategic",
          "<b>Topic 16</b><br>Words: potus, oil, sell, reserve, sell china",
          "<b>Topic 16</b><br>Words: oil, potus, reserve, emergency, sell",
          "<b>Topic 16</b><br>Words: oil, potus, reserve, sell, reserve china",
          "<b>Topic 16</b><br>Words: potus, reserve, sell, china potus, reserve china",
          "<b>Topic 16</b><br>Words: potus, china potus, oil china, oil, send reserve",
          "<b>Topic 16</b><br>Words: potus, oil, sell, reserve, sell china",
          "<b>Topic 16</b><br>Words: oil, potus, sell, reserve, potus sell",
          "<b>Topic 16</b><br>Words: potus, oil, reserve, sell, gas",
          "<b>Topic 16</b><br>Words: oil, potus, sell, sell oil, reserve",
          "<b>Topic 16</b><br>Words: potus, oil, sell, sell china, reserve",
          "<b>Topic 16</b><br>Words: oil, potus, sell, reserve, sell china",
          "<b>Topic 16</b><br>Words: oil, sell, potus, sell strategic, reserve",
          "<b>Topic 16</b><br>Words: potus, oil, china joe, sell, sell china",
          "<b>Topic 16</b><br>Words: potus, oil, seek oil, gatorna potus, dad medium"
         ],
         "marker": {
          "color": "#009E73"
         },
         "mode": "lines",
         "name": "16_potus_oil_sell_reserve",
         "type": "scatter",
         "x": [
          "2022-08-04T15:33:52.288000",
          "2022-08-04T15:44:40.600000",
          "2022-08-04T15:55:16.200000",
          "2022-08-04T16:05:51.800000",
          "2022-08-04T16:16:27.400000",
          "2022-08-04T16:27:03",
          "2022-08-04T16:37:38.600000",
          "2022-08-04T16:48:14.200000",
          "2022-08-04T16:58:49.800000",
          "2022-08-04T17:09:25.400000",
          "2022-08-04T17:20:01",
          "2022-08-04T17:30:36.600000",
          "2022-08-04T17:41:12.200000",
          "2022-08-04T17:51:47.800000",
          "2022-08-04T18:02:23.400000",
          "2022-08-04T18:12:59",
          "2022-08-04T18:23:34.600000",
          "2022-08-04T18:34:10.200000",
          "2022-08-04T18:44:45.800000",
          "2022-08-04T18:55:21.400000"
         ],
         "y": [
          3,
          13,
          23,
          19,
          15,
          9,
          8,
          5,
          6,
          6,
          3,
          11,
          9,
          4,
          9,
          6,
          6,
          3,
          9,
          4
         ]
        },
        {
         "hoverinfo": "text",
         "hovertext": [
          "<b>Topic 17</b><br>Words: slice, pelosi, salami, avoid, tension",
          "<b>Topic 17</b><br>Words: avoid, tension, house, pelosi, speaker",
          "<b>Topic 17</b><br>Words: south korean, tension, tension china, speaker, house speaker",
          "<b>Topic 17</b><br>Words: house, speaker, tension, pelosi, visit house",
          "<b>Topic 17</b><br>Words: plot cease, april house, cease secret, august plot, line april",
          "<b>Topic 17</b><br>Words: avoid, pelosi, korea, house, nancy",
          "<b>Topic 17</b><br>Words: speaker, tension, pelosi, house speaker, avoid",
          "<b>Topic 17</b><br>Words: pelosi, nancy pelosi, tension, speaker, nancy",
          "<b>Topic 17</b><br>Words: speaker, visit taiwan, likely dead, conclude asian, reaction make",
          "<b>Topic 17</b><br>Words: test, china soar, delay routine, routine icbm, soar follow",
          "<b>Topic 17</b><br>Words: test, tension china, tension, postpone, avoid",
          "<b>Topic 17</b><br>Words: test, minuteman, tension, tension china, postpone",
          "<b>Topic 17</b><br>Words: test, tension, icbm, tension china, test tension",
          "<b>Topic 17</b><br>Words: test, tension, postpone, minuteman, tension china",
          "<b>Topic 17</b><br>Words: tension, test, tension china, delay, house",
          "<b>Topic 17</b><br>Words: tension, nancy pelosi, pelosi, avoid, nancy",
          "<b>Topic 17</b><br>Words: delay, test, pentagon delay, missile test, pentagon",
          "<b>Topic 17</b><br>Words: test, missile test, delay, tension china, tension",
          "<b>Topic 17</b><br>Words: test, missile test, missile, delay, postpone",
          "<b>Topic 17</b><br>Words: test, missile test, tension china, tension, delay"
         ],
         "marker": {
          "color": "#F0E442"
         },
         "mode": "lines",
         "name": "17_test_tension_tension china_avoid",
         "type": "scatter",
         "x": [
          "2022-08-04T15:33:52.288000",
          "2022-08-04T15:44:40.600000",
          "2022-08-04T15:55:16.200000",
          "2022-08-04T16:05:51.800000",
          "2022-08-04T16:16:27.400000",
          "2022-08-04T16:27:03",
          "2022-08-04T16:37:38.600000",
          "2022-08-04T16:48:14.200000",
          "2022-08-04T16:58:49.800000",
          "2022-08-04T17:09:25.400000",
          "2022-08-04T17:20:01",
          "2022-08-04T17:30:36.600000",
          "2022-08-04T17:41:12.200000",
          "2022-08-04T17:51:47.800000",
          "2022-08-04T18:02:23.400000",
          "2022-08-04T18:12:59",
          "2022-08-04T18:23:34.600000",
          "2022-08-04T18:34:10.200000",
          "2022-08-04T18:44:45.800000",
          "2022-08-04T18:55:21.400000"
         ],
         "y": [
          6,
          6,
          7,
          6,
          1,
          8,
          8,
          7,
          2,
          5,
          11,
          14,
          10,
          11,
          12,
          12,
          10,
          8,
          8,
          19
         ]
        },
        {
         "hoverinfo": "text",
         "hovertext": [
          "<b>Topic 18</b><br>Words: japan, japanese, china japan, japanese product, china",
          "<b>Topic 18</b><br>Words: japan, china japan, sense fear, japanese live, normally yonaguni",
          "<b>Topic 18</b><br>Words: japan, yoshihisasato djeswslklkirnbu, yoshihisasato, djeswslklkirnbu spokespersonchn, djeswslklkirnbu",
          "<b>Topic 18</b><br>Words: japan, japanese, china, war, fearchina scaredchina",
          "<b>Topic 18</b><br>Words: japan, jljzen, eez, china japan, china",
          "<b>Topic 18</b><br>Words: japan, scarecrow modjapanjp, scarecrow, modjapanjp, china japan",
          "<b>Topic 18</b><br>Words: japan, china japan, japan taiwan, area, enter japan",
          "<b>Topic 18</b><br>Words: japan, japanese, forget, basis, country forget",
          "<b>Topic 18</b><br>Words: japan, japanese, guam, china, concern japan",
          "<b>Topic 18</b><br>Words: japan, japanese, russo japanese, japan russo, like jesuit",
          "<b>Topic 18</b><br>Words: japan, china japan, japanese, conflict, drubbing receive",
          "<b>Topic 18</b><br>Words: japan, japan taiwan, japanese, chinese japan, korea",
          "<b>Topic 18</b><br>Words: japan, china japan, pres, regard, japan strong",
          "<b>Topic 18</b><br>Words: japan, japan relevant, relevant, china japan, action enter",
          "<b>Topic 18</b><br>Words: japan, japangov china, japangov, japanese, china fear",
          "<b>Topic 18</b><br>Words: japan, war, war china, japan taiwan, china japan",
          "<b>Topic 18</b><br>Words: japan, signal japan, missiles china, send stark, stark signal",
          "<b>Topic 18</b><br>Words: send stark, stark signal, signal japan, stark, missiles china",
          "<b>Topic 18</b><br>Words: japan, stark signal, send stark, signal japan, stark",
          "<b>Topic 18</b><br>Words: signal japan, japan, signal, send stark, stark signal"
         ],
         "marker": {
          "color": "#D55E00"
         },
         "mode": "lines",
         "name": "18_japan_signal japan_japan taiwan_send ...",
         "type": "scatter",
         "x": [
          "2022-08-04T15:33:52.288000",
          "2022-08-04T15:44:40.600000",
          "2022-08-04T15:55:16.200000",
          "2022-08-04T16:05:51.800000",
          "2022-08-04T16:16:27.400000",
          "2022-08-04T16:27:03",
          "2022-08-04T16:37:38.600000",
          "2022-08-04T16:48:14.200000",
          "2022-08-04T16:58:49.800000",
          "2022-08-04T17:09:25.400000",
          "2022-08-04T17:20:01",
          "2022-08-04T17:30:36.600000",
          "2022-08-04T17:41:12.200000",
          "2022-08-04T17:51:47.800000",
          "2022-08-04T18:02:23.400000",
          "2022-08-04T18:12:59",
          "2022-08-04T18:23:34.600000",
          "2022-08-04T18:34:10.200000",
          "2022-08-04T18:44:45.800000",
          "2022-08-04T18:55:21.400000"
         ],
         "y": [
          8,
          8,
          6,
          16,
          9,
          6,
          6,
          6,
          13,
          3,
          5,
          8,
          3,
          12,
          11,
          7,
          16,
          8,
          9,
          7
         ]
        },
        {
         "hoverinfo": "text",
         "hovertext": [
          "<b>Topic 19</b><br>Words: battery, breakthrough, car, technology, breakthrough battery",
          "<b>Topic 19</b><br>Words: battery, copper, lithium, worth, copper worth",
          "<b>Topic 19</b><br>Words: battery, mini, tesla, copper, worth",
          "<b>Topic 19</b><br>Words: battery, technology, discovery, breakthrough, breakthrough battery",
          "<b>Topic 19</b><br>Words: battery, tesla, discovery, breakthrough, breakthrough battery",
          "<b>Topic 19</b><br>Words: battery, copper, copper worth, go miss, nearly half",
          "<b>Topic 19</b><br>Words: battery, technology, discovery, stellantis, breakthrough",
          "<b>Topic 19</b><br>Words: battery, breakthrough battery, breakthrough, technology china, technology",
          "<b>Topic 19</b><br>Words: copper, half billion, nearly half, go miss, copper worth",
          "<b>Topic 19</b><br>Words: china copper, copper, inf ckingcredible, ckingcredible breakthrough, inf",
          "<b>Topic 19</b><br>Words: copper, battery, production facility, facility, bloomberg",
          "<b>Topic 19</b><br>Words: battery, tax credit, source battery, credit, breakthrough",
          "<b>Topic 19</b><br>Words: battery, discovery, hand green, report reveal, millions taxpayer",
          "<b>Topic 19</b><br>Words: battery, discovery, worth, green battery, breakthrough",
          "<b>Topic 19</b><br>Words: battery, discovery, dollar, green, hand green",
          "<b>Topic 19</b><br>Words: battery, discovery, lithium, tesla, breakthrough",
          "<b>Topic 19</b><br>Words: battery, technology china, technology, discovery, breakthrough",
          "<b>Topic 19</b><br>Words: battery, tesla, discovery, breakthrough, breakthrough battery",
          "<b>Topic 19</b><br>Words: battery, discovery, breakthrough battery, breakthrough, technology china",
          "<b>Topic 19</b><br>Words: battery, electric vehicle, electric, vehicle, breakthrough"
         ],
         "marker": {
          "color": "#0072B2"
         },
         "mode": "lines",
         "name": "19_battery_discovery_breakthrough_techno...",
         "type": "scatter",
         "x": [
          "2022-08-04T15:33:52.288000",
          "2022-08-04T15:44:40.600000",
          "2022-08-04T15:55:16.200000",
          "2022-08-04T16:05:51.800000",
          "2022-08-04T16:16:27.400000",
          "2022-08-04T16:27:03",
          "2022-08-04T16:37:38.600000",
          "2022-08-04T16:48:14.200000",
          "2022-08-04T16:58:49.800000",
          "2022-08-04T17:09:25.400000",
          "2022-08-04T17:20:01",
          "2022-08-04T17:30:36.600000",
          "2022-08-04T17:41:12.200000",
          "2022-08-04T17:51:47.800000",
          "2022-08-04T18:02:23.400000",
          "2022-08-04T18:12:59",
          "2022-08-04T18:23:34.600000",
          "2022-08-04T18:34:10.200000",
          "2022-08-04T18:44:45.800000",
          "2022-08-04T18:55:21.400000"
         ],
         "y": [
          9,
          9,
          9,
          7,
          9,
          5,
          7,
          5,
          3,
          2,
          3,
          5,
          12,
          14,
          6,
          8,
          7,
          9,
          12,
          7
         ]
        }
       ],
       "layout": {
        "height": 450,
        "hoverlabel": {
         "bgcolor": "white",
         "font": {
          "family": "Rockwell",
          "size": 16
         }
        },
        "legend": {
         "title": {
          "text": "<b>Global Topic Representation"
         }
        },
        "template": {
         "data": {
          "bar": [
           {
            "error_x": {
             "color": "rgb(36,36,36)"
            },
            "error_y": {
             "color": "rgb(36,36,36)"
            },
            "marker": {
             "line": {
              "color": "white",
              "width": 0.5
             },
             "pattern": {
              "fillmode": "overlay",
              "size": 10,
              "solidity": 0.2
             }
            },
            "type": "bar"
           }
          ],
          "barpolar": [
           {
            "marker": {
             "line": {
              "color": "white",
              "width": 0.5
             },
             "pattern": {
              "fillmode": "overlay",
              "size": 10,
              "solidity": 0.2
             }
            },
            "type": "barpolar"
           }
          ],
          "carpet": [
           {
            "aaxis": {
             "endlinecolor": "rgb(36,36,36)",
             "gridcolor": "white",
             "linecolor": "white",
             "minorgridcolor": "white",
             "startlinecolor": "rgb(36,36,36)"
            },
            "baxis": {
             "endlinecolor": "rgb(36,36,36)",
             "gridcolor": "white",
             "linecolor": "white",
             "minorgridcolor": "white",
             "startlinecolor": "rgb(36,36,36)"
            },
            "type": "carpet"
           }
          ],
          "choropleth": [
           {
            "colorbar": {
             "outlinewidth": 1,
             "tickcolor": "rgb(36,36,36)",
             "ticks": "outside"
            },
            "type": "choropleth"
           }
          ],
          "contour": [
           {
            "colorbar": {
             "outlinewidth": 1,
             "tickcolor": "rgb(36,36,36)",
             "ticks": "outside"
            },
            "colorscale": [
             [
              0,
              "#440154"
             ],
             [
              0.1111111111111111,
              "#482878"
             ],
             [
              0.2222222222222222,
              "#3e4989"
             ],
             [
              0.3333333333333333,
              "#31688e"
             ],
             [
              0.4444444444444444,
              "#26828e"
             ],
             [
              0.5555555555555556,
              "#1f9e89"
             ],
             [
              0.6666666666666666,
              "#35b779"
             ],
             [
              0.7777777777777778,
              "#6ece58"
             ],
             [
              0.8888888888888888,
              "#b5de2b"
             ],
             [
              1,
              "#fde725"
             ]
            ],
            "type": "contour"
           }
          ],
          "contourcarpet": [
           {
            "colorbar": {
             "outlinewidth": 1,
             "tickcolor": "rgb(36,36,36)",
             "ticks": "outside"
            },
            "type": "contourcarpet"
           }
          ],
          "heatmap": [
           {
            "colorbar": {
             "outlinewidth": 1,
             "tickcolor": "rgb(36,36,36)",
             "ticks": "outside"
            },
            "colorscale": [
             [
              0,
              "#440154"
             ],
             [
              0.1111111111111111,
              "#482878"
             ],
             [
              0.2222222222222222,
              "#3e4989"
             ],
             [
              0.3333333333333333,
              "#31688e"
             ],
             [
              0.4444444444444444,
              "#26828e"
             ],
             [
              0.5555555555555556,
              "#1f9e89"
             ],
             [
              0.6666666666666666,
              "#35b779"
             ],
             [
              0.7777777777777778,
              "#6ece58"
             ],
             [
              0.8888888888888888,
              "#b5de2b"
             ],
             [
              1,
              "#fde725"
             ]
            ],
            "type": "heatmap"
           }
          ],
          "heatmapgl": [
           {
            "colorbar": {
             "outlinewidth": 1,
             "tickcolor": "rgb(36,36,36)",
             "ticks": "outside"
            },
            "colorscale": [
             [
              0,
              "#440154"
             ],
             [
              0.1111111111111111,
              "#482878"
             ],
             [
              0.2222222222222222,
              "#3e4989"
             ],
             [
              0.3333333333333333,
              "#31688e"
             ],
             [
              0.4444444444444444,
              "#26828e"
             ],
             [
              0.5555555555555556,
              "#1f9e89"
             ],
             [
              0.6666666666666666,
              "#35b779"
             ],
             [
              0.7777777777777778,
              "#6ece58"
             ],
             [
              0.8888888888888888,
              "#b5de2b"
             ],
             [
              1,
              "#fde725"
             ]
            ],
            "type": "heatmapgl"
           }
          ],
          "histogram": [
           {
            "marker": {
             "line": {
              "color": "white",
              "width": 0.6
             }
            },
            "type": "histogram"
           }
          ],
          "histogram2d": [
           {
            "colorbar": {
             "outlinewidth": 1,
             "tickcolor": "rgb(36,36,36)",
             "ticks": "outside"
            },
            "colorscale": [
             [
              0,
              "#440154"
             ],
             [
              0.1111111111111111,
              "#482878"
             ],
             [
              0.2222222222222222,
              "#3e4989"
             ],
             [
              0.3333333333333333,
              "#31688e"
             ],
             [
              0.4444444444444444,
              "#26828e"
             ],
             [
              0.5555555555555556,
              "#1f9e89"
             ],
             [
              0.6666666666666666,
              "#35b779"
             ],
             [
              0.7777777777777778,
              "#6ece58"
             ],
             [
              0.8888888888888888,
              "#b5de2b"
             ],
             [
              1,
              "#fde725"
             ]
            ],
            "type": "histogram2d"
           }
          ],
          "histogram2dcontour": [
           {
            "colorbar": {
             "outlinewidth": 1,
             "tickcolor": "rgb(36,36,36)",
             "ticks": "outside"
            },
            "colorscale": [
             [
              0,
              "#440154"
             ],
             [
              0.1111111111111111,
              "#482878"
             ],
             [
              0.2222222222222222,
              "#3e4989"
             ],
             [
              0.3333333333333333,
              "#31688e"
             ],
             [
              0.4444444444444444,
              "#26828e"
             ],
             [
              0.5555555555555556,
              "#1f9e89"
             ],
             [
              0.6666666666666666,
              "#35b779"
             ],
             [
              0.7777777777777778,
              "#6ece58"
             ],
             [
              0.8888888888888888,
              "#b5de2b"
             ],
             [
              1,
              "#fde725"
             ]
            ],
            "type": "histogram2dcontour"
           }
          ],
          "mesh3d": [
           {
            "colorbar": {
             "outlinewidth": 1,
             "tickcolor": "rgb(36,36,36)",
             "ticks": "outside"
            },
            "type": "mesh3d"
           }
          ],
          "parcoords": [
           {
            "line": {
             "colorbar": {
              "outlinewidth": 1,
              "tickcolor": "rgb(36,36,36)",
              "ticks": "outside"
             }
            },
            "type": "parcoords"
           }
          ],
          "pie": [
           {
            "automargin": true,
            "type": "pie"
           }
          ],
          "scatter": [
           {
            "fillpattern": {
             "fillmode": "overlay",
             "size": 10,
             "solidity": 0.2
            },
            "type": "scatter"
           }
          ],
          "scatter3d": [
           {
            "line": {
             "colorbar": {
              "outlinewidth": 1,
              "tickcolor": "rgb(36,36,36)",
              "ticks": "outside"
             }
            },
            "marker": {
             "colorbar": {
              "outlinewidth": 1,
              "tickcolor": "rgb(36,36,36)",
              "ticks": "outside"
             }
            },
            "type": "scatter3d"
           }
          ],
          "scattercarpet": [
           {
            "marker": {
             "colorbar": {
              "outlinewidth": 1,
              "tickcolor": "rgb(36,36,36)",
              "ticks": "outside"
             }
            },
            "type": "scattercarpet"
           }
          ],
          "scattergeo": [
           {
            "marker": {
             "colorbar": {
              "outlinewidth": 1,
              "tickcolor": "rgb(36,36,36)",
              "ticks": "outside"
             }
            },
            "type": "scattergeo"
           }
          ],
          "scattergl": [
           {
            "marker": {
             "colorbar": {
              "outlinewidth": 1,
              "tickcolor": "rgb(36,36,36)",
              "ticks": "outside"
             }
            },
            "type": "scattergl"
           }
          ],
          "scattermapbox": [
           {
            "marker": {
             "colorbar": {
              "outlinewidth": 1,
              "tickcolor": "rgb(36,36,36)",
              "ticks": "outside"
             }
            },
            "type": "scattermapbox"
           }
          ],
          "scatterpolar": [
           {
            "marker": {
             "colorbar": {
              "outlinewidth": 1,
              "tickcolor": "rgb(36,36,36)",
              "ticks": "outside"
             }
            },
            "type": "scatterpolar"
           }
          ],
          "scatterpolargl": [
           {
            "marker": {
             "colorbar": {
              "outlinewidth": 1,
              "tickcolor": "rgb(36,36,36)",
              "ticks": "outside"
             }
            },
            "type": "scatterpolargl"
           }
          ],
          "scatterternary": [
           {
            "marker": {
             "colorbar": {
              "outlinewidth": 1,
              "tickcolor": "rgb(36,36,36)",
              "ticks": "outside"
             }
            },
            "type": "scatterternary"
           }
          ],
          "surface": [
           {
            "colorbar": {
             "outlinewidth": 1,
             "tickcolor": "rgb(36,36,36)",
             "ticks": "outside"
            },
            "colorscale": [
             [
              0,
              "#440154"
             ],
             [
              0.1111111111111111,
              "#482878"
             ],
             [
              0.2222222222222222,
              "#3e4989"
             ],
             [
              0.3333333333333333,
              "#31688e"
             ],
             [
              0.4444444444444444,
              "#26828e"
             ],
             [
              0.5555555555555556,
              "#1f9e89"
             ],
             [
              0.6666666666666666,
              "#35b779"
             ],
             [
              0.7777777777777778,
              "#6ece58"
             ],
             [
              0.8888888888888888,
              "#b5de2b"
             ],
             [
              1,
              "#fde725"
             ]
            ],
            "type": "surface"
           }
          ],
          "table": [
           {
            "cells": {
             "fill": {
              "color": "rgb(237,237,237)"
             },
             "line": {
              "color": "white"
             }
            },
            "header": {
             "fill": {
              "color": "rgb(217,217,217)"
             },
             "line": {
              "color": "white"
             }
            },
            "type": "table"
           }
          ]
         },
         "layout": {
          "annotationdefaults": {
           "arrowhead": 0,
           "arrowwidth": 1
          },
          "autotypenumbers": "strict",
          "coloraxis": {
           "colorbar": {
            "outlinewidth": 1,
            "tickcolor": "rgb(36,36,36)",
            "ticks": "outside"
           }
          },
          "colorscale": {
           "diverging": [
            [
             0,
             "rgb(103,0,31)"
            ],
            [
             0.1,
             "rgb(178,24,43)"
            ],
            [
             0.2,
             "rgb(214,96,77)"
            ],
            [
             0.3,
             "rgb(244,165,130)"
            ],
            [
             0.4,
             "rgb(253,219,199)"
            ],
            [
             0.5,
             "rgb(247,247,247)"
            ],
            [
             0.6,
             "rgb(209,229,240)"
            ],
            [
             0.7,
             "rgb(146,197,222)"
            ],
            [
             0.8,
             "rgb(67,147,195)"
            ],
            [
             0.9,
             "rgb(33,102,172)"
            ],
            [
             1,
             "rgb(5,48,97)"
            ]
           ],
           "sequential": [
            [
             0,
             "#440154"
            ],
            [
             0.1111111111111111,
             "#482878"
            ],
            [
             0.2222222222222222,
             "#3e4989"
            ],
            [
             0.3333333333333333,
             "#31688e"
            ],
            [
             0.4444444444444444,
             "#26828e"
            ],
            [
             0.5555555555555556,
             "#1f9e89"
            ],
            [
             0.6666666666666666,
             "#35b779"
            ],
            [
             0.7777777777777778,
             "#6ece58"
            ],
            [
             0.8888888888888888,
             "#b5de2b"
            ],
            [
             1,
             "#fde725"
            ]
           ],
           "sequentialminus": [
            [
             0,
             "#440154"
            ],
            [
             0.1111111111111111,
             "#482878"
            ],
            [
             0.2222222222222222,
             "#3e4989"
            ],
            [
             0.3333333333333333,
             "#31688e"
            ],
            [
             0.4444444444444444,
             "#26828e"
            ],
            [
             0.5555555555555556,
             "#1f9e89"
            ],
            [
             0.6666666666666666,
             "#35b779"
            ],
            [
             0.7777777777777778,
             "#6ece58"
            ],
            [
             0.8888888888888888,
             "#b5de2b"
            ],
            [
             1,
             "#fde725"
            ]
           ]
          },
          "colorway": [
           "#1F77B4",
           "#FF7F0E",
           "#2CA02C",
           "#D62728",
           "#9467BD",
           "#8C564B",
           "#E377C2",
           "#7F7F7F",
           "#BCBD22",
           "#17BECF"
          ],
          "font": {
           "color": "rgb(36,36,36)"
          },
          "geo": {
           "bgcolor": "white",
           "lakecolor": "white",
           "landcolor": "white",
           "showlakes": true,
           "showland": true,
           "subunitcolor": "white"
          },
          "hoverlabel": {
           "align": "left"
          },
          "hovermode": "closest",
          "mapbox": {
           "style": "light"
          },
          "paper_bgcolor": "white",
          "plot_bgcolor": "white",
          "polar": {
           "angularaxis": {
            "gridcolor": "rgb(232,232,232)",
            "linecolor": "rgb(36,36,36)",
            "showgrid": false,
            "showline": true,
            "ticks": "outside"
           },
           "bgcolor": "white",
           "radialaxis": {
            "gridcolor": "rgb(232,232,232)",
            "linecolor": "rgb(36,36,36)",
            "showgrid": false,
            "showline": true,
            "ticks": "outside"
           }
          },
          "scene": {
           "xaxis": {
            "backgroundcolor": "white",
            "gridcolor": "rgb(232,232,232)",
            "gridwidth": 2,
            "linecolor": "rgb(36,36,36)",
            "showbackground": true,
            "showgrid": false,
            "showline": true,
            "ticks": "outside",
            "zeroline": false,
            "zerolinecolor": "rgb(36,36,36)"
           },
           "yaxis": {
            "backgroundcolor": "white",
            "gridcolor": "rgb(232,232,232)",
            "gridwidth": 2,
            "linecolor": "rgb(36,36,36)",
            "showbackground": true,
            "showgrid": false,
            "showline": true,
            "ticks": "outside",
            "zeroline": false,
            "zerolinecolor": "rgb(36,36,36)"
           },
           "zaxis": {
            "backgroundcolor": "white",
            "gridcolor": "rgb(232,232,232)",
            "gridwidth": 2,
            "linecolor": "rgb(36,36,36)",
            "showbackground": true,
            "showgrid": false,
            "showline": true,
            "ticks": "outside",
            "zeroline": false,
            "zerolinecolor": "rgb(36,36,36)"
           }
          },
          "shapedefaults": {
           "fillcolor": "black",
           "line": {
            "width": 0
           },
           "opacity": 0.3
          },
          "ternary": {
           "aaxis": {
            "gridcolor": "rgb(232,232,232)",
            "linecolor": "rgb(36,36,36)",
            "showgrid": false,
            "showline": true,
            "ticks": "outside"
           },
           "baxis": {
            "gridcolor": "rgb(232,232,232)",
            "linecolor": "rgb(36,36,36)",
            "showgrid": false,
            "showline": true,
            "ticks": "outside"
           },
           "bgcolor": "white",
           "caxis": {
            "gridcolor": "rgb(232,232,232)",
            "linecolor": "rgb(36,36,36)",
            "showgrid": false,
            "showline": true,
            "ticks": "outside"
           }
          },
          "title": {
           "x": 0.05
          },
          "xaxis": {
           "automargin": true,
           "gridcolor": "rgb(232,232,232)",
           "linecolor": "rgb(36,36,36)",
           "showgrid": false,
           "showline": true,
           "ticks": "outside",
           "title": {
            "standoff": 15
           },
           "zeroline": false,
           "zerolinecolor": "rgb(36,36,36)"
          },
          "yaxis": {
           "automargin": true,
           "gridcolor": "rgb(232,232,232)",
           "linecolor": "rgb(36,36,36)",
           "showgrid": false,
           "showline": true,
           "ticks": "outside",
           "title": {
            "standoff": 15
           },
           "zeroline": false,
           "zerolinecolor": "rgb(36,36,36)"
          }
         }
        },
        "title": {
         "font": {
          "color": "Black",
          "size": 22
         },
         "text": "<b>Topics over Time",
         "x": 0.4,
         "xanchor": "center",
         "y": 0.95,
         "yanchor": "top"
        },
        "width": 1250,
        "xaxis": {
         "showgrid": true
        },
        "yaxis": {
         "showgrid": true,
         "title": {
          "text": "Frequency"
         }
        }
       }
      },
      "text/html": [
       "<div>                            <div id=\"86582ba2-d61d-4a8c-a25b-efe69e552d08\" class=\"plotly-graph-div\" style=\"height:450px; width:1250px;\"></div>            <script type=\"text/javascript\">                require([\"plotly\"], function(Plotly) {                    window.PLOTLYENV=window.PLOTLYENV || {};                                    if (document.getElementById(\"86582ba2-d61d-4a8c-a25b-efe69e552d08\")) {                    Plotly.newPlot(                        \"86582ba2-d61d-4a8c-a25b-efe69e552d08\",                        [{\"hoverinfo\":\"text\",\"hovertext\":[\"<b>Topic 0</b><br>Words: taiwan, china, china taiwan, taiwan china, people\",\"<b>Topic 0</b><br>Words: taiwan, china, taiwan china, china taiwan, taiwanese\",\"<b>Topic 0</b><br>Words: taiwan, china, taiwan china, china taiwan, country\",\"<b>Topic 0</b><br>Words: taiwan, china, taiwan china, china taiwan, people\",\"<b>Topic 0</b><br>Words: taiwan, china, taiwan china, china taiwan, republic china\",\"<b>Topic 0</b><br>Words: taiwan, china, china taiwan, taiwan china, republic china\",\"<b>Topic 0</b><br>Words: taiwan, china, taiwan china, china taiwan, territory\",\"<b>Topic 0</b><br>Words: taiwan, china, china taiwan, taiwan china, republic china\",\"<b>Topic 0</b><br>Words: taiwan, china, taiwan china, china taiwan, country\",\"<b>Topic 0</b><br>Words: taiwan, china, china taiwan, taiwan china, want\",\"<b>Topic 0</b><br>Words: taiwan, china, taiwan china, people, china taiwan\",\"<b>Topic 0</b><br>Words: taiwan, china, taiwan china, china taiwan, people\",\"<b>Topic 0</b><br>Words: taiwan, china, taiwan china, china taiwan, country\",\"<b>Topic 0</b><br>Words: taiwan, china, republic china, republic, taiwan china\",\"<b>Topic 0</b><br>Words: taiwan, china, taiwan china, china taiwan, people\",\"<b>Topic 0</b><br>Words: taiwan, china, china taiwan, taiwan china, roc\",\"<b>Topic 0</b><br>Words: taiwan, china, taiwan china, china taiwan, country\",\"<b>Topic 0</b><br>Words: taiwan, china, taiwan china, china taiwan, want\",\"<b>Topic 0</b><br>Words: taiwan, china, taiwan china, china taiwan, country\",\"<b>Topic 0</b><br>Words: taiwan, china, taiwan china, china taiwan, people\"],\"marker\":{\"color\":\"#E69F00\"},\"mode\":\"lines\",\"name\":\"0_taiwan_china_taiwan china_china taiwan\",\"x\":[\"2022-08-04T15:33:52.288000\",\"2022-08-04T15:44:40.600000\",\"2022-08-04T15:55:16.200000\",\"2022-08-04T16:05:51.800000\",\"2022-08-04T16:16:27.400000\",\"2022-08-04T16:27:03\",\"2022-08-04T16:37:38.600000\",\"2022-08-04T16:48:14.200000\",\"2022-08-04T16:58:49.800000\",\"2022-08-04T17:09:25.400000\",\"2022-08-04T17:20:01\",\"2022-08-04T17:30:36.600000\",\"2022-08-04T17:41:12.200000\",\"2022-08-04T17:51:47.800000\",\"2022-08-04T18:02:23.400000\",\"2022-08-04T18:12:59\",\"2022-08-04T18:23:34.600000\",\"2022-08-04T18:34:10.200000\",\"2022-08-04T18:44:45.800000\",\"2022-08-04T18:55:21.400000\"],\"y\":[126,103,115,136,137,130,113,119,122,133,123,121,124,93,119,99,90,99,96,67],\"type\":\"scatter\"},{\"hoverinfo\":\"text\",\"hovertext\":[\"<b>Topic 1</b><br>Words: russia, china russia, russia china, china, don\",\"<b>Topic 1</b><br>Words: russia, russia china, china russia, china, country\",\"<b>Topic 1</b><br>Words: russia, russia china, china russia, china, putin\",\"<b>Topic 1</b><br>Words: russia, china russia, russia china, china, small business\",\"<b>Topic 1</b><br>Words: russia, russia china, china russia, china, million\",\"<b>Topic 1</b><br>Words: russia, russia china, china russia, china, good\",\"<b>Topic 1</b><br>Words: russia, china russia, russia china, china, america\",\"<b>Topic 1</b><br>Words: russia, russia china, pfl, china russia, china\",\"<b>Topic 1</b><br>Words: russia, china russia, russia china, china, west\",\"<b>Topic 1</b><br>Words: russia, china russia, russia china, china, russians\",\"<b>Topic 1</b><br>Words: russia, china russia, russia china, china, watchdog\",\"<b>Topic 1</b><br>Words: russia, china russia, russia china, china, war\",\"<b>Topic 1</b><br>Words: russia, russia china, china russia, china, putin\",\"<b>Topic 1</b><br>Words: russia, china russia, russia china, china, country\",\"<b>Topic 1</b><br>Words: russia, russia china, china, china russia, like\",\"<b>Topic 1</b><br>Words: russia, china russia, russia china, china, well\",\"<b>Topic 1</b><br>Words: russia, russia china, china russia, china, business\",\"<b>Topic 1</b><br>Words: russia, china russia, russia china, china, russia watchdog\",\"<b>Topic 1</b><br>Words: russia, china russia, watchdog, russia watchdog, mean small\",\"<b>Topic 1</b><br>Words: russia, china russia, russia china, small, china\"],\"marker\":{\"color\":\"#56B4E9\"},\"mode\":\"lines\",\"name\":\"1_russia_china russia_russia china_china\",\"x\":[\"2022-08-04T15:33:52.288000\",\"2022-08-04T15:44:40.600000\",\"2022-08-04T15:55:16.200000\",\"2022-08-04T16:05:51.800000\",\"2022-08-04T16:16:27.400000\",\"2022-08-04T16:27:03\",\"2022-08-04T16:37:38.600000\",\"2022-08-04T16:48:14.200000\",\"2022-08-04T16:58:49.800000\",\"2022-08-04T17:09:25.400000\",\"2022-08-04T17:20:01\",\"2022-08-04T17:30:36.600000\",\"2022-08-04T17:41:12.200000\",\"2022-08-04T17:51:47.800000\",\"2022-08-04T18:02:23.400000\",\"2022-08-04T18:12:59\",\"2022-08-04T18:23:34.600000\",\"2022-08-04T18:34:10.200000\",\"2022-08-04T18:44:45.800000\",\"2022-08-04T18:55:21.400000\"],\"y\":[40,37,41,39,32,31,29,31,37,32,32,24,21,34,26,30,31,27,18,15],\"type\":\"scatter\"},{\"hoverinfo\":\"text\",\"hovertext\":[\"<b>Topic 2</b><br>Words: biden, trump, hunter, china, hunter biden\",\"<b>Topic 2</b><br>Words: biden, trump, joe, china, hunter\",\"<b>Topic 2</b><br>Words: biden, trump, hunter, china, joe\",\"<b>Topic 2</b><br>Words: biden, trump, china, get, hunter\",\"<b>Topic 2</b><br>Words: biden, trump, china, president, republicans\",\"<b>Topic 2</b><br>Words: biden, trump, hunter, china, hunter biden\",\"<b>Topic 2</b><br>Words: biden, trump, get, hunter, hunter biden\",\"<b>Topic 2</b><br>Words: biden, trump, democrat, democrats, america\",\"<b>Topic 2</b><br>Words: biden, democrats, taxis, hunter, trump\",\"<b>Topic 2</b><br>Words: biden, trump, democrats, pro, china\",\"<b>Topic 2</b><br>Words: biden, trump, get, joe, china\",\"<b>Topic 2</b><br>Words: biden, hunter biden, hunter, involve deal, biden involve\",\"<b>Topic 2</b><br>Words: biden, trump, hunter, china, joe biden\",\"<b>Topic 2</b><br>Words: biden, trump, hunter, democrats, china\",\"<b>Topic 2</b><br>Words: biden, trump, hunter, china, democrats\",\"<b>Topic 2</b><br>Words: biden, trump, democrats, hunter, china\",\"<b>Topic 2</b><br>Words: biden, trump, hunter, china, get\",\"<b>Topic 2</b><br>Words: biden, trump, hunter, joe, china\",\"<b>Topic 2</b><br>Words: biden, trump, hunter, democrats, hunter biden\",\"<b>Topic 2</b><br>Words: biden, hunter, trump, democrats, hunter biden\"],\"marker\":{\"color\":\"#009E73\"},\"mode\":\"lines\",\"name\":\"2_biden_trump_hunter_china\",\"x\":[\"2022-08-04T15:33:52.288000\",\"2022-08-04T15:44:40.600000\",\"2022-08-04T15:55:16.200000\",\"2022-08-04T16:05:51.800000\",\"2022-08-04T16:16:27.400000\",\"2022-08-04T16:27:03\",\"2022-08-04T16:37:38.600000\",\"2022-08-04T16:48:14.200000\",\"2022-08-04T16:58:49.800000\",\"2022-08-04T17:09:25.400000\",\"2022-08-04T17:20:01\",\"2022-08-04T17:30:36.600000\",\"2022-08-04T17:41:12.200000\",\"2022-08-04T17:51:47.800000\",\"2022-08-04T18:02:23.400000\",\"2022-08-04T18:12:59\",\"2022-08-04T18:23:34.600000\",\"2022-08-04T18:34:10.200000\",\"2022-08-04T18:44:45.800000\",\"2022-08-04T18:55:21.400000\"],\"y\":[24,34,31,39,23,30,15,29,20,32,23,19,19,27,30,21,26,20,18,27],\"type\":\"scatter\"},{\"hoverinfo\":\"text\",\"hovertext\":[\"<b>Topic 3</b><br>Words: india, pakistan, china, indian, pakistan china\",\"<b>Topic 3</b><br>Words: india, pakistan, china, indian, pakistani\",\"<b>Topic 3</b><br>Words: india, pakistan, indian, china, indians\",\"<b>Topic 3</b><br>Words: india, pakistan, indian, china, pakistan china\",\"<b>Topic 3</b><br>Words: pakistan, india, china, pakistan future, future lie\",\"<b>Topic 3</b><br>Words: india, modi, pakistan, amp, china\",\"<b>Topic 3</b><br>Words: india, indian, pakistan, lanka, china\",\"<b>Topic 3</b><br>Words: india, pakistan, indian, china, border implicate\",\"<b>Topic 3</b><br>Words: india, pakistan, indian, china, india china\",\"<b>Topic 3</b><br>Words: india, pakistan, china, nehru, lanka\",\"<b>Topic 3</b><br>Words: india, pakistan, china, india china, indian\",\"<b>Topic 3</b><br>Words: india, pakistan, china, pak, china india\",\"<b>Topic 3</b><br>Words: india, pakistan, china, sir, engage\",\"<b>Topic 3</b><br>Words: india, pakistan, china, kar, india china\",\"<b>Topic 3</b><br>Words: india, sugar, pakistan, didnot say, didnot\",\"<b>Topic 3</b><br>Words: india, pakistan, china, india china, ban\",\"<b>Topic 3</b><br>Words: india, pakistan, india china, china, sea sand\",\"<b>Topic 3</b><br>Words: india, pakistan, kashmir, support india, france\",\"<b>Topic 3</b><br>Words: india, pakistan, indian, pay time, hindi news\",\"<b>Topic 3</b><br>Words: india, pakistan, att, china pakistan, drsjaishankar\"],\"marker\":{\"color\":\"#F0E442\"},\"mode\":\"lines\",\"name\":\"3_india_pakistan_china_indian\",\"x\":[\"2022-08-04T15:33:52.288000\",\"2022-08-04T15:44:40.600000\",\"2022-08-04T15:55:16.200000\",\"2022-08-04T16:05:51.800000\",\"2022-08-04T16:16:27.400000\",\"2022-08-04T16:27:03\",\"2022-08-04T16:37:38.600000\",\"2022-08-04T16:48:14.200000\",\"2022-08-04T16:58:49.800000\",\"2022-08-04T17:09:25.400000\",\"2022-08-04T17:20:01\",\"2022-08-04T17:30:36.600000\",\"2022-08-04T17:41:12.200000\",\"2022-08-04T17:51:47.800000\",\"2022-08-04T18:02:23.400000\",\"2022-08-04T18:12:59\",\"2022-08-04T18:23:34.600000\",\"2022-08-04T18:34:10.200000\",\"2022-08-04T18:44:45.800000\",\"2022-08-04T18:55:21.400000\"],\"y\":[29,25,30,25,26,14,25,25,28,18,33,16,19,26,15,20,16,13,13,9],\"type\":\"scatter\"},{\"hoverinfo\":\"text\",\"hovertext\":[\"<b>Topic 4</b><br>Words: ukraine, russia, war, taiwan, zelensky\",\"<b>Topic 4</b><br>Words: ukraine, russia, war ukraine, taiwan, zelensky\",\"<b>Topic 4</b><br>Words: ukraine, russia, war, taiwan, zelensky\",\"<b>Topic 4</b><br>Words: ukraine, russia, taiwan, war, russia ukraine\",\"<b>Topic 4</b><br>Words: ukraine, russia, taiwan, ukraine russia, war\",\"<b>Topic 4</b><br>Words: ukraine, russia, taiwan, china, war\",\"<b>Topic 4</b><br>Words: ukraine, russia, taiwan, war, china\",\"<b>Topic 4</b><br>Words: ukraine, russia, taiwan, invade, war\",\"<b>Topic 4</b><br>Words: ukraine, russia, taiwan, war, invade\",\"<b>Topic 4</b><br>Words: ukraine, russia, war, taiwan, china\",\"<b>Topic 4</b><br>Words: ukraine, away ukraine, amp ukraine, amp attention, fund manpower\",\"<b>Topic 4</b><br>Words: ukraine, amp ukraine, amp, away ukraine, amp attention\",\"<b>Topic 4</b><br>Words: ukraine, russia, russia win, zelensky, let russia\",\"<b>Topic 4</b><br>Words: ukraine, russia, taiwan, war, china\",\"<b>Topic 4</b><br>Words: ukraine, russia, taiwan, russia ukraine, ukraine china\",\"<b>Topic 4</b><br>Words: ukraine, russia, zelensky, war, taiwan\",\"<b>Topic 4</b><br>Words: ukraine, zelensky, russia, taiwan, china\",\"<b>Topic 4</b><br>Words: ukraine, russia, taiwan, invade, china\",\"<b>Topic 4</b><br>Words: ukraine, russia, taiwan, want, zelensky\",\"<b>Topic 4</b><br>Words: ukraine, russia, zelensky, fvk, taiwan\"],\"marker\":{\"color\":\"#D55E00\"},\"mode\":\"lines\",\"name\":\"4_ukraine_russia_taiwan_war\",\"x\":[\"2022-08-04T15:33:52.288000\",\"2022-08-04T15:44:40.600000\",\"2022-08-04T15:55:16.200000\",\"2022-08-04T16:05:51.800000\",\"2022-08-04T16:16:27.400000\",\"2022-08-04T16:27:03\",\"2022-08-04T16:37:38.600000\",\"2022-08-04T16:48:14.200000\",\"2022-08-04T16:58:49.800000\",\"2022-08-04T17:09:25.400000\",\"2022-08-04T17:20:01\",\"2022-08-04T17:30:36.600000\",\"2022-08-04T17:41:12.200000\",\"2022-08-04T17:51:47.800000\",\"2022-08-04T18:02:23.400000\",\"2022-08-04T18:12:59\",\"2022-08-04T18:23:34.600000\",\"2022-08-04T18:34:10.200000\",\"2022-08-04T18:44:45.800000\",\"2022-08-04T18:55:21.400000\"],\"y\":[26,14,24,17,13,24,20,20,10,29,48,22,6,19,15,20,22,18,13,14],\"type\":\"scatter\"},{\"hoverinfo\":\"text\",\"hovertext\":[\"<b>Topic 5</b><br>Words: pelosi, nancy, nancy pelosi, china, act\",\"<b>Topic 5</b><br>Words: pelosi, nancy, nancy pelosi, china, coward china\",\"<b>Topic 5</b><br>Words: pelosi, nancy, china, tell, pelosi claim\",\"<b>Topic 5</b><br>Words: pelosi, nancy, china, visit, nancy pelosi\",\"<b>Topic 5</b><br>Words: pelosi, nancy, traitor, china, trip\",\"<b>Topic 5</b><br>Words: pelosi, nancy, china, nancy pelosi, pelosi trip\",\"<b>Topic 5</b><br>Words: pelosi, nancy, pelosi agree, testify, china\",\"<b>Topic 5</b><br>Words: pelosi, nancy, visit, china, trip\",\"<b>Topic 5</b><br>Words: pelosi, nancy, china, threaten, nancy pelosi\",\"<b>Topic 5</b><br>Words: pelosi, invasion pelosi, pelosi trip, ego taiwan, purpose justify\",\"<b>Topic 5</b><br>Words: pelosi, pelosi trip, preparation invasion, taiwan downfall, ego taiwan\",\"<b>Topic 5</b><br>Words: pelosi, nancy, china, nancy pelosi, trip taiwan\",\"<b>Topic 5</b><br>Words: pelosi, nancy, cheney, china, nancy pelosi\",\"<b>Topic 5</b><br>Words: pelosi, nancy, china, nancy pelosi, pelosi china\",\"<b>Topic 5</b><br>Words: pelosi, threaten, china, nancy, justify\",\"<b>Topic 5</b><br>Words: pelosi, china, nancy, coward china, threaten\",\"<b>Topic 5</b><br>Words: pelosi, coward china, coward, nancy, nancy pelosi\",\"<b>Topic 5</b><br>Words: pelosi, nancy, nancy pelosi, pelosi china, need respect\",\"<b>Topic 5</b><br>Words: pelosi, china say, visit, job bad, didn long\",\"<b>Topic 5</b><br>Words: pelosi, nancy, nancy pelosi, china, frankenforiowa\"],\"marker\":{\"color\":\"#0072B2\"},\"mode\":\"lines\",\"name\":\"5_pelosi_nancy_china_pelosi trip\",\"x\":[\"2022-08-04T15:33:52.288000\",\"2022-08-04T15:44:40.600000\",\"2022-08-04T15:55:16.200000\",\"2022-08-04T16:05:51.800000\",\"2022-08-04T16:16:27.400000\",\"2022-08-04T16:27:03\",\"2022-08-04T16:37:38.600000\",\"2022-08-04T16:48:14.200000\",\"2022-08-04T16:58:49.800000\",\"2022-08-04T17:09:25.400000\",\"2022-08-04T17:20:01\",\"2022-08-04T17:30:36.600000\",\"2022-08-04T17:41:12.200000\",\"2022-08-04T17:51:47.800000\",\"2022-08-04T18:02:23.400000\",\"2022-08-04T18:12:59\",\"2022-08-04T18:23:34.600000\",\"2022-08-04T18:34:10.200000\",\"2022-08-04T18:44:45.800000\",\"2022-08-04T18:55:21.400000\"],\"y\":[11,22,23,23,20,18,13,15,19,32,40,17,13,21,17,20,12,14,6,12],\"type\":\"scatter\"},{\"hoverinfo\":\"text\",\"hovertext\":[\"<b>Topic 6</b><br>Words: launch, missile, fire, satellite, taiwan\",\"<b>Topic 6</b><br>Words: missile, fire, china fire, launch, ballistic\",\"<b>Topic 6</b><br>Words: fire, missile, china fire, missiles, taiwan\",\"<b>Topic 6</b><br>Words: missile, fire, china fire, taiwan, missiles taiwan\",\"<b>Topic 6</b><br>Words: missile, fire, china fire, launch, fire missile\",\"<b>Topic 6</b><br>Words: missile, launch, china fire, ballistic, fire\",\"<b>Topic 6</b><br>Words: missile, fire, china fire, taiwan, missile taiwan\",\"<b>Topic 6</b><br>Words: missile, fire, china fire, launch, radio\",\"<b>Topic 6</b><br>Words: launch, satellite, china launch, ecosystem, carbon\",\"<b>Topic 6</b><br>Words: missiles, missiles taiwan, ballistic, china fire, fire\",\"<b>Topic 6</b><br>Words: missile, china fire, missiles taiwan, ballistic, fire\",\"<b>Topic 6</b><br>Words: missile, fire, missiles, ballistic, missiles taiwan\",\"<b>Topic 6</b><br>Words: missile, fire, missiles, china fire, ballistic\",\"<b>Topic 6</b><br>Words: missile, fire, china fire, missiles, taiwan\",\"<b>Topic 6</b><br>Words: missile, china fire, fire, fire missile, missile taiwan\",\"<b>Topic 6</b><br>Words: missile, launch, fire, missile taiwan, range\",\"<b>Topic 6</b><br>Words: missile, ballistic, missile taiwan, fire, launch\",\"<b>Topic 6</b><br>Words: missile, fire, china fire, fire missile, taiwan\",\"<b>Topic 6</b><br>Words: missile, ballistic, missiles taiwan, china fire, ballistic missiles\",\"<b>Topic 6</b><br>Words: missile, fire, space junk, junk, china fire\"],\"marker\":{\"color\":\"#CC79A7\"},\"mode\":\"lines\",\"name\":\"6_missile_fire_china fire_launch\",\"x\":[\"2022-08-04T15:33:52.288000\",\"2022-08-04T15:44:40.600000\",\"2022-08-04T15:55:16.200000\",\"2022-08-04T16:05:51.800000\",\"2022-08-04T16:16:27.400000\",\"2022-08-04T16:27:03\",\"2022-08-04T16:37:38.600000\",\"2022-08-04T16:48:14.200000\",\"2022-08-04T16:58:49.800000\",\"2022-08-04T17:09:25.400000\",\"2022-08-04T17:20:01\",\"2022-08-04T17:30:36.600000\",\"2022-08-04T17:41:12.200000\",\"2022-08-04T17:51:47.800000\",\"2022-08-04T18:02:23.400000\",\"2022-08-04T18:12:59\",\"2022-08-04T18:23:34.600000\",\"2022-08-04T18:34:10.200000\",\"2022-08-04T18:44:45.800000\",\"2022-08-04T18:55:21.400000\"],\"y\":[12,21,23,21,15,17,13,10,13,25,19,13,12,13,13,16,15,9,9,10],\"type\":\"scatter\"},{\"hoverinfo\":\"text\",\"hovertext\":[\"<b>Topic 7</b><br>Words: drug, russia, country, russia china, law\",\"<b>Topic 7</b><br>Words: drug, russia, death, sentence, country\",\"<b>Topic 7</b><br>Words: drug, law, russia, don, country\",\"<b>Topic 7</b><br>Words: russia, drug, law, weed, russia china\",\"<b>Topic 7</b><br>Words: law, russia, generation, country, drug\",\"<b>Topic 7</b><br>Words: russia, weed, russia china, country, drug\",\"<b>Topic 7</b><br>Words: drug, law, russia, russia china, fentanyl\",\"<b>Topic 7</b><br>Words: drug, law, russia, country, sentence\",\"<b>Topic 7</b><br>Words: russia, drug, law, russia china, country\",\"<b>Topic 7</b><br>Words: drug, handle drug, usa handle, way especially, mexico amp\",\"<b>Topic 7</b><br>Words: sentence, drug, death, death penalty, penalty\",\"<b>Topic 7</b><br>Words: drug, handle drug, way especially, usa handle, mexico amp\",\"<b>Topic 7</b><br>Words: country, drug, law, russia, sentence\",\"<b>Topic 7</b><br>Words: bla, weed, russia, russia china, bla bla\",\"<b>Topic 7</b><br>Words: vape, vape pen, pen, prison, travel\",\"<b>Topic 7</b><br>Words: law, place, know law, drug, frescodinero\",\"<b>Topic 7</b><br>Words: drug, law, russia, country, don\",\"<b>Topic 7</b><br>Words: drug, law, shit don, sentencing, russia\",\"<b>Topic 7</b><br>Words: drug, sentence, fentanyl, catch, russia\",\"<b>Topic 7</b><br>Words: russia, law, olympic committee, drug, russia china\"],\"marker\":{\"color\":\"#E69F00\"},\"mode\":\"lines\",\"name\":\"7_drug_russia_law_country\",\"x\":[\"2022-08-04T15:33:52.288000\",\"2022-08-04T15:44:40.600000\",\"2022-08-04T15:55:16.200000\",\"2022-08-04T16:05:51.800000\",\"2022-08-04T16:16:27.400000\",\"2022-08-04T16:27:03\",\"2022-08-04T16:37:38.600000\",\"2022-08-04T16:48:14.200000\",\"2022-08-04T16:58:49.800000\",\"2022-08-04T17:09:25.400000\",\"2022-08-04T17:20:01\",\"2022-08-04T17:30:36.600000\",\"2022-08-04T17:41:12.200000\",\"2022-08-04T17:51:47.800000\",\"2022-08-04T18:02:23.400000\",\"2022-08-04T18:12:59\",\"2022-08-04T18:23:34.600000\",\"2022-08-04T18:34:10.200000\",\"2022-08-04T18:44:45.800000\",\"2022-08-04T18:55:21.400000\"],\"y\":[19,25,20,24,14,16,17,27,15,19,9,10,14,7,8,7,11,9,6,9],\"type\":\"scatter\"},{\"hoverinfo\":\"text\",\"hovertext\":[\"<b>Topic 8</b><br>Words: guest artist, guest, bitch, artist, tomorrow\",\"<b>Topic 8</b><br>Words: david, robcarlson, ernestleenot backagain, keepitwilder hankinsharvey, racerx simple\",\"<b>Topic 8</b><br>Words: music, hard china, cool, easy, david\",\"<b>Topic 8</b><br>Words: asapgurth slickrick, asapgurth, boogiebandit, boogiebandit chenweihua, balancehewitt boogiebandit\",\"<b>Topic 8</b><br>Words: thecodedgalaxy, thecodedgalaxy sure, maybe, coolvetnurse ernestleenot, jaquepierre\",\"<b>Topic 8</b><br>Words: modeselektor, catnapp, stick, music, play\",\"<b>Topic 8</b><br>Words: soulmate, couple month, trussliz, john, couple\",\"<b>Topic 8</b><br>Words: scott, fxxx, nessiipnc, bet, mullins\",\"<b>Topic 8</b><br>Words: andrewwarrenfl, neighborhood, david, live, jill\",\"<b>Topic 8</b><br>Words: supermoon, summer, good, fucking, david\",\"<b>Topic 8</b><br>Words: realultramaga, somesis wtfisahashtag, maxheadroom sapienwoman, rosegar somesis, union form\",\"<b>Topic 8</b><br>Words: azania, backagain, racerx simple, ernestleenot backagain, ernestleenot\",\"<b>Topic 8</b><br>Words: work, yrs, jill, chick, prian deanhatchy\",\"<b>Topic 8</b><br>Words: purohit, resurgentindia, realultramaga, talk, listen\",\"<b>Topic 8</b><br>Words: skim, love, love isn, skim milk, isn jinpe\",\"<b>Topic 8</b><br>Words: cheese, trevor phillips, love godzilla, barber, need alphabetize\",\"<b>Topic 8</b><br>Words: recently, get, go, halgood, grondavia\",\"<b>Topic 8</b><br>Words: dead, eat, like, shit, purerajput itstheatmospher\",\"<b>Topic 8</b><br>Words: hide, congress, love, victory massage, fall lick\",\"<b>Topic 8</b><br>Words: boldy, qaeda, youth, terrorist, dollarlincoln carlbotha\"],\"marker\":{\"color\":\"#56B4E9\"},\"mode\":\"lines\",\"name\":\"8_david_yvonnecar_spacesvector_robcarlso...\",\"x\":[\"2022-08-04T15:33:52.288000\",\"2022-08-04T15:44:40.600000\",\"2022-08-04T15:55:16.200000\",\"2022-08-04T16:05:51.800000\",\"2022-08-04T16:16:27.400000\",\"2022-08-04T16:27:03\",\"2022-08-04T16:37:38.600000\",\"2022-08-04T16:48:14.200000\",\"2022-08-04T16:58:49.800000\",\"2022-08-04T17:09:25.400000\",\"2022-08-04T17:20:01\",\"2022-08-04T17:30:36.600000\",\"2022-08-04T17:41:12.200000\",\"2022-08-04T17:51:47.800000\",\"2022-08-04T18:02:23.400000\",\"2022-08-04T18:12:59\",\"2022-08-04T18:23:34.600000\",\"2022-08-04T18:34:10.200000\",\"2022-08-04T18:44:45.800000\",\"2022-08-04T18:55:21.400000\"],\"y\":[14,19,17,16,19,11,17,13,21,14,11,9,17,14,12,13,11,15,8,8],\"type\":\"scatter\"},{\"hoverinfo\":\"text\",\"hovertext\":[\"<b>Topic 9</b><br>Words: covid, virus, virus world, world, wuhan\",\"<b>Topic 9</b><br>Words: covid, virus, unemployment, sinobiopharm, hold interest\",\"<b>Topic 9</b><br>Words: virus, covid, create virus, china, trump\",\"<b>Topic 9</b><br>Words: covid, virus, vaccine, china, citizen travel\",\"<b>Topic 9</b><br>Words: virus, covid, china virus, vaccine, free\",\"<b>Topic 9</b><br>Words: virus, covid, pandemic, china virus, sense\",\"<b>Topic 9</b><br>Words: virus, covid, chinese virus, china virus, china\",\"<b>Topic 9</b><br>Words: covid, virus, zero, world kill, pandemic\",\"<b>Topic 9</b><br>Words: virus, covid, china virus, china, covid patient\",\"<b>Topic 9</b><br>Words: virus, covid, china virus, gay man, research\",\"<b>Topic 9</b><br>Words: virus, covid, flu, fauci, gay\",\"<b>Topic 9</b><br>Words: covid, vaccine, virus, go away, china surprise\",\"<b>Topic 9</b><br>Words: covid, virus, china virus, china, fauci\",\"<b>Topic 9</b><br>Words: virus, covid, research, coronavirus, research china\",\"<b>Topic 9</b><br>Words: covid, virus, china virus, research, vaccine\",\"<b>Topic 9</b><br>Words: virus, covid, china virus, dry bulk, getting rid\",\"<b>Topic 9</b><br>Words: virus, covid, china virus, research, china\",\"<b>Topic 9</b><br>Words: virus, covid, wuhan, import malaria, starbucks sale\",\"<b>Topic 9</b><br>Words: virus, covid, china virus, western virologist, virologist\",\"<b>Topic 9</b><br>Words: virus, research, covid, function research, gain function\"],\"marker\":{\"color\":\"#009E73\"},\"mode\":\"lines\",\"name\":\"9_virus_covid_china virus_china\",\"x\":[\"2022-08-04T15:33:52.288000\",\"2022-08-04T15:44:40.600000\",\"2022-08-04T15:55:16.200000\",\"2022-08-04T16:05:51.800000\",\"2022-08-04T16:16:27.400000\",\"2022-08-04T16:27:03\",\"2022-08-04T16:37:38.600000\",\"2022-08-04T16:48:14.200000\",\"2022-08-04T16:58:49.800000\",\"2022-08-04T17:09:25.400000\",\"2022-08-04T17:20:01\",\"2022-08-04T17:30:36.600000\",\"2022-08-04T17:41:12.200000\",\"2022-08-04T17:51:47.800000\",\"2022-08-04T18:02:23.400000\",\"2022-08-04T18:12:59\",\"2022-08-04T18:23:34.600000\",\"2022-08-04T18:34:10.200000\",\"2022-08-04T18:44:45.800000\",\"2022-08-04T18:55:21.400000\"],\"y\":[11,11,23,14,15,12,16,10,17,12,8,7,20,15,15,12,19,13,12,12],\"type\":\"scatter\"},{\"hoverinfo\":\"text\",\"hovertext\":[\"<b>Topic 10</b><br>Words: wall, china, zlj antonioguterre, ashe, zlj\",\"<b>Topic 10</b><br>Words: china, monument, huge monument, dancrenshawtx, huge\",\"<b>Topic 10</b><br>Words: china, in phi, tbh india, marionawfal gogogo, phi aus\",\"<b>Topic 10</b><br>Words: place china, river, china, huang yellow, borealis yes\",\"<b>Topic 10</b><br>Words: china, zhoukeyu, tough little, iingwen, tough\",\"<b>Topic 10</b><br>Words: come, dey, china, post, group\",\"<b>Topic 10</b><br>Words: mattgubba china, sophielouisecc, china ejwwest, exrafal conceptualjame, west jordanrhodeskw\",\"<b>Topic 10</b><br>Words: town, china, road, soho area, street photography\",\"<b>Topic 10</b><br>Words: snek, kishinobuo china, kishinobuo, china, know china\",\"<b>Topic 10</b><br>Words: china, zzz iingwen, xiushui, china mcallen, china soooo\",\"<b>Topic 10</b><br>Words: dhookstead kingjames, kingjames, dhookstead, china, bund\",\"<b>Topic 10</b><br>Words: china, noun, go, cheena doesn, jyptoxc\",\"<b>Topic 10</b><br>Words: masonry wall, masonry, wall, china, world imply\",\"<b>Topic 10</b><br>Words: china, true color, bicycle, chop, china true\",\"<b>Topic 10</b><br>Words: china, say xinjiang, jensen china, unclecul small, thegodblackfba claressashield\",\"<b>Topic 10</b><br>Words: omfg, mandarin, speak, tibetan, china\",\"<b>Topic 10</b><br>Words: sorry laugh, laugh china, china, laugh, sorry\",\"<b>Topic 10</b><br>Words: china, eye, inscrutable, gather dust, china inscrutable\",\"<b>Topic 10</b><br>Words: see spectrrral, china saxenarj, rob china, solace huge, solace\",\"<b>Topic 10</b><br>Words: china, tincase, china stonech, gewitter, germanangst shibarmy\"],\"marker\":{\"color\":\"#F0E442\"},\"mode\":\"lines\",\"name\":\"10_china_town_china town_know\",\"x\":[\"2022-08-04T15:33:52.288000\",\"2022-08-04T15:44:40.600000\",\"2022-08-04T15:55:16.200000\",\"2022-08-04T16:05:51.800000\",\"2022-08-04T16:16:27.400000\",\"2022-08-04T16:27:03\",\"2022-08-04T16:37:38.600000\",\"2022-08-04T16:48:14.200000\",\"2022-08-04T16:58:49.800000\",\"2022-08-04T17:09:25.400000\",\"2022-08-04T17:20:01\",\"2022-08-04T17:30:36.600000\",\"2022-08-04T17:41:12.200000\",\"2022-08-04T17:51:47.800000\",\"2022-08-04T18:02:23.400000\",\"2022-08-04T18:12:59\",\"2022-08-04T18:23:34.600000\",\"2022-08-04T18:34:10.200000\",\"2022-08-04T18:44:45.800000\",\"2022-08-04T18:55:21.400000\"],\"y\":[18,20,9,9,19,9,6,12,13,10,14,17,8,15,13,12,14,11,6,19],\"type\":\"scatter\"},{\"hoverinfo\":\"text\",\"hovertext\":[\"<b>Topic 11</b><br>Words: pelosi, visit, taiwan, pelosi taiwan, pelosi visit\",\"<b>Topic 11</b><br>Words: pelosi, visit, pelosi visit, taiwan, pelosi taiwan\",\"<b>Topic 11</b><br>Words: pelosi, visit, visit taiwan, taiwan, pelosi visit\",\"<b>Topic 11</b><br>Words: pelosi, visit, taiwan, visit taiwan, pelosi visit\",\"<b>Topic 11</b><br>Words: pelosi, visit, pelosi visit, visit taiwan, taiwan\",\"<b>Topic 11</b><br>Words: pelosi, visit, visit taiwan, overeact pelosi, china overeact\",\"<b>Topic 11</b><br>Words: pelosi, visit, pelosi visit, taiwan, visit taiwan\",\"<b>Topic 11</b><br>Words: pelosi, visit, pelosi visit, taiwan, visit taiwan\",\"<b>Topic 11</b><br>Words: pelosi, visit, visit taiwan, pelosi visit, taiwan\",\"<b>Topic 11</b><br>Words: pelosi, taiwan, visit, pelosi visit, visit taiwan\",\"<b>Topic 11</b><br>Words: pelosi, visit, taiwan, pelosi visit, pelosi taiwan\",\"<b>Topic 11</b><br>Words: pelosi, visit, taiwan, pelosi taiwan, pelosi visit\",\"<b>Topic 11</b><br>Words: pelosi, visit, visit taiwan, pelosi visit, taiwan\",\"<b>Topic 11</b><br>Words: pelosi, visit, taiwan, pelosi visit, visit taiwan\",\"<b>Topic 11</b><br>Words: pelosi, pelosi visit, visit, taiwan, visit taiwan\",\"<b>Topic 11</b><br>Words: pelosi, pelosi visit, visit, taiwan, taiwan pelosi\",\"<b>Topic 11</b><br>Words: pelosi, visit, pelosi visit, taiwan, taiwan pelosi\",\"<b>Topic 11</b><br>Words: pelosi, visit, pelosi visit, overeact pelosi, china overeact\",\"<b>Topic 11</b><br>Words: pelosi, visit, taiwan, pelosi visit, visit taiwan\",\"<b>Topic 11</b><br>Words: pelosi, taiwan, visit, pelosi visit, theprintindia\"],\"marker\":{\"color\":\"#D55E00\"},\"mode\":\"lines\",\"name\":\"11_pelosi_visit_taiwan_pelosi visit\",\"x\":[\"2022-08-04T15:33:52.288000\",\"2022-08-04T15:44:40.600000\",\"2022-08-04T15:55:16.200000\",\"2022-08-04T16:05:51.800000\",\"2022-08-04T16:16:27.400000\",\"2022-08-04T16:27:03\",\"2022-08-04T16:37:38.600000\",\"2022-08-04T16:48:14.200000\",\"2022-08-04T16:58:49.800000\",\"2022-08-04T17:09:25.400000\",\"2022-08-04T17:20:01\",\"2022-08-04T17:30:36.600000\",\"2022-08-04T17:41:12.200000\",\"2022-08-04T17:51:47.800000\",\"2022-08-04T18:02:23.400000\",\"2022-08-04T18:12:59\",\"2022-08-04T18:23:34.600000\",\"2022-08-04T18:34:10.200000\",\"2022-08-04T18:44:45.800000\",\"2022-08-04T18:55:21.400000\"],\"y\":[21,12,20,9,15,12,14,11,15,9,16,18,7,12,11,14,11,8,6,6],\"type\":\"scatter\"},{\"hoverinfo\":\"text\",\"hovertext\":[\"<b>Topic 12</b><br>Words: missile, china fire, fire missile, fire, missile strike\",\"<b>Topic 12</b><br>Words: missile, fire missile, pelosi visit, china fire, fire\",\"<b>Topic 12</b><br>Words: missile, strait, taiwan strait, china fire, fire missile\",\"<b>Topic 12</b><br>Words: china fire, fire missile, missile, fire, pelosi visit\",\"<b>Topic 12</b><br>Words: pelosi visit, missile, missile strike, visit, strike\",\"<b>Topic 12</b><br>Words: missile, china fire, fire missile, fire, pelosi visit\",\"<b>Topic 12</b><br>Words: pelosi visit, missile, missile near, fire missile, china fire\",\"<b>Topic 12</b><br>Words: china fire, missile, pelosi visit, fire missile, fire\",\"<b>Topic 12</b><br>Words: china fire, fire, fire missile, pelosi visit, missile\",\"<b>Topic 12</b><br>Words: missile, fire missile, fire, china fire, pelosi visit\",\"<b>Topic 12</b><br>Words: pelosi visit, fire, missile, visit, china fire\",\"<b>Topic 12</b><br>Words: fire missile, china fire, missile, pelosi visit, fire\",\"<b>Topic 12</b><br>Words: missile, fire, pelosi visit, fire missile, china fire\",\"<b>Topic 12</b><br>Words: missile, china fire, pelosi visit, fire missile, pelosi\",\"<b>Topic 12</b><br>Words: missile, fire missile, missile near, fire, china fire\",\"<b>Topic 12</b><br>Words: missile, pelosi visit, fire missile, china fire, visit\",\"<b>Topic 12</b><br>Words: china fire, fire missile, fire, missile, pelosi visit\",\"<b>Topic 12</b><br>Words: pelosi visit, pelosi, fire, pelosi launch, caitoz nancy\",\"<b>Topic 12</b><br>Words: china fire, missile, fire, fire missile, pelosi visit\",\"<b>Topic 12</b><br>Words: china fire, missile, fire, visit, pelosi visit\"],\"marker\":{\"color\":\"#0072B2\"},\"mode\":\"lines\",\"name\":\"12_missile_china fire_fire missile_pelos...\",\"x\":[\"2022-08-04T15:33:52.288000\",\"2022-08-04T15:44:40.600000\",\"2022-08-04T15:55:16.200000\",\"2022-08-04T16:05:51.800000\",\"2022-08-04T16:16:27.400000\",\"2022-08-04T16:27:03\",\"2022-08-04T16:37:38.600000\",\"2022-08-04T16:48:14.200000\",\"2022-08-04T16:58:49.800000\",\"2022-08-04T17:09:25.400000\",\"2022-08-04T17:20:01\",\"2022-08-04T17:30:36.600000\",\"2022-08-04T17:41:12.200000\",\"2022-08-04T17:51:47.800000\",\"2022-08-04T18:02:23.400000\",\"2022-08-04T18:12:59\",\"2022-08-04T18:23:34.600000\",\"2022-08-04T18:34:10.200000\",\"2022-08-04T18:44:45.800000\",\"2022-08-04T18:55:21.400000\"],\"y\":[13,25,19,14,8,18,9,14,11,11,13,11,8,14,5,7,10,3,7,8],\"type\":\"scatter\"},{\"hoverinfo\":\"text\",\"hovertext\":[\"<b>Topic 13</b><br>Words: war, start war, china, military, invade\",\"<b>Topic 13</b><br>Words: war, fight, military, start war, poke\",\"<b>Topic 13</b><br>Words: war, military, china, xijin, war china\",\"<b>Topic 13</b><br>Words: war, pro, long show, gracepersephone think, support invasion\",\"<b>Topic 13</b><br>Words: war, china, initiate war, vietnamese, military\",\"<b>Topic 13</b><br>Words: war, china, threat, ain, respond\",\"<b>Topic 13</b><br>Words: war, oct, fight, china, fight war\",\"<b>Topic 13</b><br>Words: war, china, military, start war, fight\",\"<b>Topic 13</b><br>Words: war, military, china, weak, declare war\",\"<b>Topic 13</b><br>Words: war, military, china, war china, aggressive\",\"<b>Topic 13</b><br>Words: war, war huxijingt, huxijingt globaltimesnew, tungsten, fight war\",\"<b>Topic 13</b><br>Words: war, china, invade, start war, war china\",\"<b>Topic 13</b><br>Words: war, beg twitter, kristyann fight, twitter sad, understate\",\"<b>Topic 13</b><br>Words: war, sanction, china, attack, fight\",\"<b>Topic 13</b><br>Words: war, china, start, war china, pwease\",\"<b>Topic 13</b><br>Words: fight, war, partner, time statement, pussy likely\",\"<b>Topic 13</b><br>Words: china hero, need yter, to need, yen fight, scene time\",\"<b>Topic 13</b><br>Words: war, weapon, war china, china, potentially\",\"<b>Topic 13</b><br>Words: war, recent combat, wholesale shift, endgameww, china\",\"<b>Topic 13</b><br>Words: war, kmt, civil war, goal, civil\"],\"marker\":{\"color\":\"#CC79A7\"},\"mode\":\"lines\",\"name\":\"13_war_china_military_fight\",\"x\":[\"2022-08-04T15:33:52.288000\",\"2022-08-04T15:44:40.600000\",\"2022-08-04T15:55:16.200000\",\"2022-08-04T16:05:51.800000\",\"2022-08-04T16:16:27.400000\",\"2022-08-04T16:27:03\",\"2022-08-04T16:37:38.600000\",\"2022-08-04T16:48:14.200000\",\"2022-08-04T16:58:49.800000\",\"2022-08-04T17:09:25.400000\",\"2022-08-04T17:20:01\",\"2022-08-04T17:30:36.600000\",\"2022-08-04T17:41:12.200000\",\"2022-08-04T17:51:47.800000\",\"2022-08-04T18:02:23.400000\",\"2022-08-04T18:12:59\",\"2022-08-04T18:23:34.600000\",\"2022-08-04T18:34:10.200000\",\"2022-08-04T18:44:45.800000\",\"2022-08-04T18:55:21.400000\"],\"y\":[12,8,13,6,16,11,14,11,10,13,11,12,7,11,14,6,2,11,14,7],\"type\":\"scatter\"},{\"hoverinfo\":\"text\",\"hovertext\":[\"<b>Topic 14</b><br>Words: military, exercise, drill, military conducting, military drill\",\"<b>Topic 14</b><br>Words: exercise, military, military exercise, pelosi visit, visit\",\"<b>Topic 14</b><br>Words: exercise, military, visit, pelosi, pelosi visit\",\"<b>Topic 14</b><br>Words: military, exercise, military exercise, pelosi, visit\",\"<b>Topic 14</b><br>Words: military, drill, visit, pelosi, military drill\",\"<b>Topic 14</b><br>Words: military, exercise, military exercise, pelosi, pelosi visit\",\"<b>Topic 14</b><br>Words: military, exercise, military exercise, pelosi, visit\",\"<b>Topic 14</b><br>Words: military, exercise, pelosi, visit, drill\",\"<b>Topic 14</b><br>Words: military, exercise, military exercise, drill, visit\",\"<b>Topic 14</b><br>Words: exercise, military, military exercise, taiwan, visit\",\"<b>Topic 14</b><br>Words: military, exercise, drill, military drill, taiwan\",\"<b>Topic 14</b><br>Words: exercise, military, military exercise, visit, drill\",\"<b>Topic 14</b><br>Words: visit, pelosi visit, military, house speaker, exercise\",\"<b>Topic 14</b><br>Words: exercise, military exercise, military, taiwan, immediately stop\",\"<b>Topic 14</b><br>Words: exercise, military exercise, military, immediately stop, stop military\",\"<b>Topic 14</b><br>Words: exercise, military, military exercise, drill, china say\",\"<b>Topic 14</b><br>Words: military, exercise, military exercise, visit, speaker\",\"<b>Topic 14</b><br>Words: military, military drill, drill, pelosi visit, visit\",\"<b>Topic 14</b><br>Words: military, pelosi visit, military drill, visit, drill\",\"<b>Topic 14</b><br>Words: arekmularczyk think, aunt, aunt name, exercise reason, old aunt\"],\"marker\":{\"color\":\"#E69F00\"},\"mode\":\"lines\",\"name\":\"14_military_exercise_military exercise_v...\",\"x\":[\"2022-08-04T15:33:52.288000\",\"2022-08-04T15:44:40.600000\",\"2022-08-04T15:55:16.200000\",\"2022-08-04T16:05:51.800000\",\"2022-08-04T16:16:27.400000\",\"2022-08-04T16:27:03\",\"2022-08-04T16:37:38.600000\",\"2022-08-04T16:48:14.200000\",\"2022-08-04T16:58:49.800000\",\"2022-08-04T17:09:25.400000\",\"2022-08-04T17:20:01\",\"2022-08-04T17:30:36.600000\",\"2022-08-04T17:41:12.200000\",\"2022-08-04T17:51:47.800000\",\"2022-08-04T18:02:23.400000\",\"2022-08-04T18:12:59\",\"2022-08-04T18:23:34.600000\",\"2022-08-04T18:34:10.200000\",\"2022-08-04T18:44:45.800000\",\"2022-08-04T18:55:21.400000\"],\"y\":[9,11,9,11,18,12,9,12,20,15,11,8,5,7,7,5,9,9,9,2],\"type\":\"scatter\"},{\"hoverinfo\":\"text\",\"hovertext\":[\"<b>Topic 15</b><br>Words: speakerpelosi, taiwan, marwilliamson speakerpelosi, marwilliamson, china\",\"<b>Topic 15</b><br>Words: speakerpelosi, taiwan, government, visit, blame\",\"<b>Topic 15</b><br>Words: speakerpelosi, democracy speak, speak chinese, taiwan, china\",\"<b>Topic 15</b><br>Words: speakerpelosi, potus taiwan, speakerpelosi potus, china, taiwan\",\"<b>Topic 15</b><br>Words: speakerpelosi, speaker, speaker visit, taiwan, stop\",\"<b>Topic 15</b><br>Words: speakerpelosi, dmytrokuleba, polosis, speaker, taiwan\",\"<b>Topic 15</b><br>Words: speakerpelosi, taiwan, china, show china, china speakerpelosi\",\"<b>Topic 15</b><br>Words: speakerpelosi, taiwan, china, leave taiwanese, speakerpelosi taiwan\",\"<b>Topic 15</b><br>Words: speakerpelosi, shipping plan, veiled threat, peace speakerpelosi, befuddle lawmaker\",\"<b>Topic 15</b><br>Words: speakerpelosi, taiwan tool, nancy support, prc excuse, pram want\",\"<b>Topic 15</b><br>Words: speakerpelosi, speakerpelosi china, nuclear missile, taiwan, china\",\"<b>Topic 15</b><br>Words: speakerpelosi, china speakerpelosi, taiwan, speakerpelosi china, way\",\"<b>Topic 15</b><br>Words: speakerpelosi, taiwan, china speakerpelosi, speakerpelosi china, esthershetv speakerpelosi\",\"<b>Topic 15</b><br>Words: speakerpelosi, taiwan, china, piss china, piss\",\"<b>Topic 15</b><br>Words: speakerpelosi, chip, china, russia china, speakerpelosi visit\",\"<b>Topic 15</b><br>Words: speakerpelosi, nuclear missile, rude, taiwan, speaker\",\"<b>Topic 15</b><br>Words: speakerpelosi, speakerpelosi china, amp, relevant, china speakerpelosi\",\"<b>Topic 15</b><br>Words: speakerpelosi, wave, taiwan, strait useful, military penis\",\"<b>Topic 15</b><br>Words: speakerpelosi, korea, china speakerpelosi, install freaking, unity economic\",\"<b>Topic 15</b><br>Words: speakerpelosi, speaker, dictate, speaker speakerpelosi, schedule\"],\"marker\":{\"color\":\"#56B4E9\"},\"mode\":\"lines\",\"name\":\"15_speakerpelosi_taiwan_china_china spea...\",\"x\":[\"2022-08-04T15:33:52.288000\",\"2022-08-04T15:44:40.600000\",\"2022-08-04T15:55:16.200000\",\"2022-08-04T16:05:51.800000\",\"2022-08-04T16:16:27.400000\",\"2022-08-04T16:27:03\",\"2022-08-04T16:37:38.600000\",\"2022-08-04T16:48:14.200000\",\"2022-08-04T16:58:49.800000\",\"2022-08-04T17:09:25.400000\",\"2022-08-04T17:20:01\",\"2022-08-04T17:30:36.600000\",\"2022-08-04T17:41:12.200000\",\"2022-08-04T17:51:47.800000\",\"2022-08-04T18:02:23.400000\",\"2022-08-04T18:12:59\",\"2022-08-04T18:23:34.600000\",\"2022-08-04T18:34:10.200000\",\"2022-08-04T18:44:45.800000\",\"2022-08-04T18:55:21.400000\"],\"y\":[10,9,8,11,9,9,10,13,6,4,11,10,12,10,10,10,7,6,5,11],\"type\":\"scatter\"},{\"hoverinfo\":\"text\",\"hovertext\":[\"<b>Topic 16</b><br>Words: oil, potus, reserve, sell, job\",\"<b>Topic 16</b><br>Words: oil, potus, sell, china potus, sell china\",\"<b>Topic 16</b><br>Words: oil, potus, sell, reserve, sell china\",\"<b>Topic 16</b><br>Words: potus, oil, sell, reserve, potus sell\",\"<b>Topic 16</b><br>Words: oil, potus, reserve, sell, potus sell\",\"<b>Topic 16</b><br>Words: reserve, potus, oil, sell, strategic\",\"<b>Topic 16</b><br>Words: potus, oil, sell, reserve, sell china\",\"<b>Topic 16</b><br>Words: oil, potus, reserve, emergency, sell\",\"<b>Topic 16</b><br>Words: oil, potus, reserve, sell, reserve china\",\"<b>Topic 16</b><br>Words: potus, reserve, sell, china potus, reserve china\",\"<b>Topic 16</b><br>Words: potus, china potus, oil china, oil, send reserve\",\"<b>Topic 16</b><br>Words: potus, oil, sell, reserve, sell china\",\"<b>Topic 16</b><br>Words: oil, potus, sell, reserve, potus sell\",\"<b>Topic 16</b><br>Words: potus, oil, reserve, sell, gas\",\"<b>Topic 16</b><br>Words: oil, potus, sell, sell oil, reserve\",\"<b>Topic 16</b><br>Words: potus, oil, sell, sell china, reserve\",\"<b>Topic 16</b><br>Words: oil, potus, sell, reserve, sell china\",\"<b>Topic 16</b><br>Words: oil, sell, potus, sell strategic, reserve\",\"<b>Topic 16</b><br>Words: potus, oil, china joe, sell, sell china\",\"<b>Topic 16</b><br>Words: potus, oil, seek oil, gatorna potus, dad medium\"],\"marker\":{\"color\":\"#009E73\"},\"mode\":\"lines\",\"name\":\"16_potus_oil_sell_reserve\",\"x\":[\"2022-08-04T15:33:52.288000\",\"2022-08-04T15:44:40.600000\",\"2022-08-04T15:55:16.200000\",\"2022-08-04T16:05:51.800000\",\"2022-08-04T16:16:27.400000\",\"2022-08-04T16:27:03\",\"2022-08-04T16:37:38.600000\",\"2022-08-04T16:48:14.200000\",\"2022-08-04T16:58:49.800000\",\"2022-08-04T17:09:25.400000\",\"2022-08-04T17:20:01\",\"2022-08-04T17:30:36.600000\",\"2022-08-04T17:41:12.200000\",\"2022-08-04T17:51:47.800000\",\"2022-08-04T18:02:23.400000\",\"2022-08-04T18:12:59\",\"2022-08-04T18:23:34.600000\",\"2022-08-04T18:34:10.200000\",\"2022-08-04T18:44:45.800000\",\"2022-08-04T18:55:21.400000\"],\"y\":[3,13,23,19,15,9,8,5,6,6,3,11,9,4,9,6,6,3,9,4],\"type\":\"scatter\"},{\"hoverinfo\":\"text\",\"hovertext\":[\"<b>Topic 17</b><br>Words: slice, pelosi, salami, avoid, tension\",\"<b>Topic 17</b><br>Words: avoid, tension, house, pelosi, speaker\",\"<b>Topic 17</b><br>Words: south korean, tension, tension china, speaker, house speaker\",\"<b>Topic 17</b><br>Words: house, speaker, tension, pelosi, visit house\",\"<b>Topic 17</b><br>Words: plot cease, april house, cease secret, august plot, line april\",\"<b>Topic 17</b><br>Words: avoid, pelosi, korea, house, nancy\",\"<b>Topic 17</b><br>Words: speaker, tension, pelosi, house speaker, avoid\",\"<b>Topic 17</b><br>Words: pelosi, nancy pelosi, tension, speaker, nancy\",\"<b>Topic 17</b><br>Words: speaker, visit taiwan, likely dead, conclude asian, reaction make\",\"<b>Topic 17</b><br>Words: test, china soar, delay routine, routine icbm, soar follow\",\"<b>Topic 17</b><br>Words: test, tension china, tension, postpone, avoid\",\"<b>Topic 17</b><br>Words: test, minuteman, tension, tension china, postpone\",\"<b>Topic 17</b><br>Words: test, tension, icbm, tension china, test tension\",\"<b>Topic 17</b><br>Words: test, tension, postpone, minuteman, tension china\",\"<b>Topic 17</b><br>Words: tension, test, tension china, delay, house\",\"<b>Topic 17</b><br>Words: tension, nancy pelosi, pelosi, avoid, nancy\",\"<b>Topic 17</b><br>Words: delay, test, pentagon delay, missile test, pentagon\",\"<b>Topic 17</b><br>Words: test, missile test, delay, tension china, tension\",\"<b>Topic 17</b><br>Words: test, missile test, missile, delay, postpone\",\"<b>Topic 17</b><br>Words: test, missile test, tension china, tension, delay\"],\"marker\":{\"color\":\"#F0E442\"},\"mode\":\"lines\",\"name\":\"17_test_tension_tension china_avoid\",\"x\":[\"2022-08-04T15:33:52.288000\",\"2022-08-04T15:44:40.600000\",\"2022-08-04T15:55:16.200000\",\"2022-08-04T16:05:51.800000\",\"2022-08-04T16:16:27.400000\",\"2022-08-04T16:27:03\",\"2022-08-04T16:37:38.600000\",\"2022-08-04T16:48:14.200000\",\"2022-08-04T16:58:49.800000\",\"2022-08-04T17:09:25.400000\",\"2022-08-04T17:20:01\",\"2022-08-04T17:30:36.600000\",\"2022-08-04T17:41:12.200000\",\"2022-08-04T17:51:47.800000\",\"2022-08-04T18:02:23.400000\",\"2022-08-04T18:12:59\",\"2022-08-04T18:23:34.600000\",\"2022-08-04T18:34:10.200000\",\"2022-08-04T18:44:45.800000\",\"2022-08-04T18:55:21.400000\"],\"y\":[6,6,7,6,1,8,8,7,2,5,11,14,10,11,12,12,10,8,8,19],\"type\":\"scatter\"},{\"hoverinfo\":\"text\",\"hovertext\":[\"<b>Topic 18</b><br>Words: japan, japanese, china japan, japanese product, china\",\"<b>Topic 18</b><br>Words: japan, china japan, sense fear, japanese live, normally yonaguni\",\"<b>Topic 18</b><br>Words: japan, yoshihisasato djeswslklkirnbu, yoshihisasato, djeswslklkirnbu spokespersonchn, djeswslklkirnbu\",\"<b>Topic 18</b><br>Words: japan, japanese, china, war, fearchina scaredchina\",\"<b>Topic 18</b><br>Words: japan, jljzen, eez, china japan, china\",\"<b>Topic 18</b><br>Words: japan, scarecrow modjapanjp, scarecrow, modjapanjp, china japan\",\"<b>Topic 18</b><br>Words: japan, china japan, japan taiwan, area, enter japan\",\"<b>Topic 18</b><br>Words: japan, japanese, forget, basis, country forget\",\"<b>Topic 18</b><br>Words: japan, japanese, guam, china, concern japan\",\"<b>Topic 18</b><br>Words: japan, japanese, russo japanese, japan russo, like jesuit\",\"<b>Topic 18</b><br>Words: japan, china japan, japanese, conflict, drubbing receive\",\"<b>Topic 18</b><br>Words: japan, japan taiwan, japanese, chinese japan, korea\",\"<b>Topic 18</b><br>Words: japan, china japan, pres, regard, japan strong\",\"<b>Topic 18</b><br>Words: japan, japan relevant, relevant, china japan, action enter\",\"<b>Topic 18</b><br>Words: japan, japangov china, japangov, japanese, china fear\",\"<b>Topic 18</b><br>Words: japan, war, war china, japan taiwan, china japan\",\"<b>Topic 18</b><br>Words: japan, signal japan, missiles china, send stark, stark signal\",\"<b>Topic 18</b><br>Words: send stark, stark signal, signal japan, stark, missiles china\",\"<b>Topic 18</b><br>Words: japan, stark signal, send stark, signal japan, stark\",\"<b>Topic 18</b><br>Words: signal japan, japan, signal, send stark, stark signal\"],\"marker\":{\"color\":\"#D55E00\"},\"mode\":\"lines\",\"name\":\"18_japan_signal japan_japan taiwan_send ...\",\"x\":[\"2022-08-04T15:33:52.288000\",\"2022-08-04T15:44:40.600000\",\"2022-08-04T15:55:16.200000\",\"2022-08-04T16:05:51.800000\",\"2022-08-04T16:16:27.400000\",\"2022-08-04T16:27:03\",\"2022-08-04T16:37:38.600000\",\"2022-08-04T16:48:14.200000\",\"2022-08-04T16:58:49.800000\",\"2022-08-04T17:09:25.400000\",\"2022-08-04T17:20:01\",\"2022-08-04T17:30:36.600000\",\"2022-08-04T17:41:12.200000\",\"2022-08-04T17:51:47.800000\",\"2022-08-04T18:02:23.400000\",\"2022-08-04T18:12:59\",\"2022-08-04T18:23:34.600000\",\"2022-08-04T18:34:10.200000\",\"2022-08-04T18:44:45.800000\",\"2022-08-04T18:55:21.400000\"],\"y\":[8,8,6,16,9,6,6,6,13,3,5,8,3,12,11,7,16,8,9,7],\"type\":\"scatter\"},{\"hoverinfo\":\"text\",\"hovertext\":[\"<b>Topic 19</b><br>Words: battery, breakthrough, car, technology, breakthrough battery\",\"<b>Topic 19</b><br>Words: battery, copper, lithium, worth, copper worth\",\"<b>Topic 19</b><br>Words: battery, mini, tesla, copper, worth\",\"<b>Topic 19</b><br>Words: battery, technology, discovery, breakthrough, breakthrough battery\",\"<b>Topic 19</b><br>Words: battery, tesla, discovery, breakthrough, breakthrough battery\",\"<b>Topic 19</b><br>Words: battery, copper, copper worth, go miss, nearly half\",\"<b>Topic 19</b><br>Words: battery, technology, discovery, stellantis, breakthrough\",\"<b>Topic 19</b><br>Words: battery, breakthrough battery, breakthrough, technology china, technology\",\"<b>Topic 19</b><br>Words: copper, half billion, nearly half, go miss, copper worth\",\"<b>Topic 19</b><br>Words: china copper, copper, inf ckingcredible, ckingcredible breakthrough, inf\",\"<b>Topic 19</b><br>Words: copper, battery, production facility, facility, bloomberg\",\"<b>Topic 19</b><br>Words: battery, tax credit, source battery, credit, breakthrough\",\"<b>Topic 19</b><br>Words: battery, discovery, hand green, report reveal, millions taxpayer\",\"<b>Topic 19</b><br>Words: battery, discovery, worth, green battery, breakthrough\",\"<b>Topic 19</b><br>Words: battery, discovery, dollar, green, hand green\",\"<b>Topic 19</b><br>Words: battery, discovery, lithium, tesla, breakthrough\",\"<b>Topic 19</b><br>Words: battery, technology china, technology, discovery, breakthrough\",\"<b>Topic 19</b><br>Words: battery, tesla, discovery, breakthrough, breakthrough battery\",\"<b>Topic 19</b><br>Words: battery, discovery, breakthrough battery, breakthrough, technology china\",\"<b>Topic 19</b><br>Words: battery, electric vehicle, electric, vehicle, breakthrough\"],\"marker\":{\"color\":\"#0072B2\"},\"mode\":\"lines\",\"name\":\"19_battery_discovery_breakthrough_techno...\",\"x\":[\"2022-08-04T15:33:52.288000\",\"2022-08-04T15:44:40.600000\",\"2022-08-04T15:55:16.200000\",\"2022-08-04T16:05:51.800000\",\"2022-08-04T16:16:27.400000\",\"2022-08-04T16:27:03\",\"2022-08-04T16:37:38.600000\",\"2022-08-04T16:48:14.200000\",\"2022-08-04T16:58:49.800000\",\"2022-08-04T17:09:25.400000\",\"2022-08-04T17:20:01\",\"2022-08-04T17:30:36.600000\",\"2022-08-04T17:41:12.200000\",\"2022-08-04T17:51:47.800000\",\"2022-08-04T18:02:23.400000\",\"2022-08-04T18:12:59\",\"2022-08-04T18:23:34.600000\",\"2022-08-04T18:34:10.200000\",\"2022-08-04T18:44:45.800000\",\"2022-08-04T18:55:21.400000\"],\"y\":[9,9,9,7,9,5,7,5,3,2,3,5,12,14,6,8,7,9,12,7],\"type\":\"scatter\"}],                        {\"template\":{\"data\":{\"barpolar\":[{\"marker\":{\"line\":{\"color\":\"white\",\"width\":0.5},\"pattern\":{\"fillmode\":\"overlay\",\"size\":10,\"solidity\":0.2}},\"type\":\"barpolar\"}],\"bar\":[{\"error_x\":{\"color\":\"rgb(36,36,36)\"},\"error_y\":{\"color\":\"rgb(36,36,36)\"},\"marker\":{\"line\":{\"color\":\"white\",\"width\":0.5},\"pattern\":{\"fillmode\":\"overlay\",\"size\":10,\"solidity\":0.2}},\"type\":\"bar\"}],\"carpet\":[{\"aaxis\":{\"endlinecolor\":\"rgb(36,36,36)\",\"gridcolor\":\"white\",\"linecolor\":\"white\",\"minorgridcolor\":\"white\",\"startlinecolor\":\"rgb(36,36,36)\"},\"baxis\":{\"endlinecolor\":\"rgb(36,36,36)\",\"gridcolor\":\"white\",\"linecolor\":\"white\",\"minorgridcolor\":\"white\",\"startlinecolor\":\"rgb(36,36,36)\"},\"type\":\"carpet\"}],\"choropleth\":[{\"colorbar\":{\"outlinewidth\":1,\"tickcolor\":\"rgb(36,36,36)\",\"ticks\":\"outside\"},\"type\":\"choropleth\"}],\"contourcarpet\":[{\"colorbar\":{\"outlinewidth\":1,\"tickcolor\":\"rgb(36,36,36)\",\"ticks\":\"outside\"},\"type\":\"contourcarpet\"}],\"contour\":[{\"colorbar\":{\"outlinewidth\":1,\"tickcolor\":\"rgb(36,36,36)\",\"ticks\":\"outside\"},\"colorscale\":[[0.0,\"#440154\"],[0.1111111111111111,\"#482878\"],[0.2222222222222222,\"#3e4989\"],[0.3333333333333333,\"#31688e\"],[0.4444444444444444,\"#26828e\"],[0.5555555555555556,\"#1f9e89\"],[0.6666666666666666,\"#35b779\"],[0.7777777777777778,\"#6ece58\"],[0.8888888888888888,\"#b5de2b\"],[1.0,\"#fde725\"]],\"type\":\"contour\"}],\"heatmapgl\":[{\"colorbar\":{\"outlinewidth\":1,\"tickcolor\":\"rgb(36,36,36)\",\"ticks\":\"outside\"},\"colorscale\":[[0.0,\"#440154\"],[0.1111111111111111,\"#482878\"],[0.2222222222222222,\"#3e4989\"],[0.3333333333333333,\"#31688e\"],[0.4444444444444444,\"#26828e\"],[0.5555555555555556,\"#1f9e89\"],[0.6666666666666666,\"#35b779\"],[0.7777777777777778,\"#6ece58\"],[0.8888888888888888,\"#b5de2b\"],[1.0,\"#fde725\"]],\"type\":\"heatmapgl\"}],\"heatmap\":[{\"colorbar\":{\"outlinewidth\":1,\"tickcolor\":\"rgb(36,36,36)\",\"ticks\":\"outside\"},\"colorscale\":[[0.0,\"#440154\"],[0.1111111111111111,\"#482878\"],[0.2222222222222222,\"#3e4989\"],[0.3333333333333333,\"#31688e\"],[0.4444444444444444,\"#26828e\"],[0.5555555555555556,\"#1f9e89\"],[0.6666666666666666,\"#35b779\"],[0.7777777777777778,\"#6ece58\"],[0.8888888888888888,\"#b5de2b\"],[1.0,\"#fde725\"]],\"type\":\"heatmap\"}],\"histogram2dcontour\":[{\"colorbar\":{\"outlinewidth\":1,\"tickcolor\":\"rgb(36,36,36)\",\"ticks\":\"outside\"},\"colorscale\":[[0.0,\"#440154\"],[0.1111111111111111,\"#482878\"],[0.2222222222222222,\"#3e4989\"],[0.3333333333333333,\"#31688e\"],[0.4444444444444444,\"#26828e\"],[0.5555555555555556,\"#1f9e89\"],[0.6666666666666666,\"#35b779\"],[0.7777777777777778,\"#6ece58\"],[0.8888888888888888,\"#b5de2b\"],[1.0,\"#fde725\"]],\"type\":\"histogram2dcontour\"}],\"histogram2d\":[{\"colorbar\":{\"outlinewidth\":1,\"tickcolor\":\"rgb(36,36,36)\",\"ticks\":\"outside\"},\"colorscale\":[[0.0,\"#440154\"],[0.1111111111111111,\"#482878\"],[0.2222222222222222,\"#3e4989\"],[0.3333333333333333,\"#31688e\"],[0.4444444444444444,\"#26828e\"],[0.5555555555555556,\"#1f9e89\"],[0.6666666666666666,\"#35b779\"],[0.7777777777777778,\"#6ece58\"],[0.8888888888888888,\"#b5de2b\"],[1.0,\"#fde725\"]],\"type\":\"histogram2d\"}],\"histogram\":[{\"marker\":{\"line\":{\"color\":\"white\",\"width\":0.6}},\"type\":\"histogram\"}],\"mesh3d\":[{\"colorbar\":{\"outlinewidth\":1,\"tickcolor\":\"rgb(36,36,36)\",\"ticks\":\"outside\"},\"type\":\"mesh3d\"}],\"parcoords\":[{\"line\":{\"colorbar\":{\"outlinewidth\":1,\"tickcolor\":\"rgb(36,36,36)\",\"ticks\":\"outside\"}},\"type\":\"parcoords\"}],\"pie\":[{\"automargin\":true,\"type\":\"pie\"}],\"scatter3d\":[{\"line\":{\"colorbar\":{\"outlinewidth\":1,\"tickcolor\":\"rgb(36,36,36)\",\"ticks\":\"outside\"}},\"marker\":{\"colorbar\":{\"outlinewidth\":1,\"tickcolor\":\"rgb(36,36,36)\",\"ticks\":\"outside\"}},\"type\":\"scatter3d\"}],\"scattercarpet\":[{\"marker\":{\"colorbar\":{\"outlinewidth\":1,\"tickcolor\":\"rgb(36,36,36)\",\"ticks\":\"outside\"}},\"type\":\"scattercarpet\"}],\"scattergeo\":[{\"marker\":{\"colorbar\":{\"outlinewidth\":1,\"tickcolor\":\"rgb(36,36,36)\",\"ticks\":\"outside\"}},\"type\":\"scattergeo\"}],\"scattergl\":[{\"marker\":{\"colorbar\":{\"outlinewidth\":1,\"tickcolor\":\"rgb(36,36,36)\",\"ticks\":\"outside\"}},\"type\":\"scattergl\"}],\"scattermapbox\":[{\"marker\":{\"colorbar\":{\"outlinewidth\":1,\"tickcolor\":\"rgb(36,36,36)\",\"ticks\":\"outside\"}},\"type\":\"scattermapbox\"}],\"scatterpolargl\":[{\"marker\":{\"colorbar\":{\"outlinewidth\":1,\"tickcolor\":\"rgb(36,36,36)\",\"ticks\":\"outside\"}},\"type\":\"scatterpolargl\"}],\"scatterpolar\":[{\"marker\":{\"colorbar\":{\"outlinewidth\":1,\"tickcolor\":\"rgb(36,36,36)\",\"ticks\":\"outside\"}},\"type\":\"scatterpolar\"}],\"scatter\":[{\"fillpattern\":{\"fillmode\":\"overlay\",\"size\":10,\"solidity\":0.2},\"type\":\"scatter\"}],\"scatterternary\":[{\"marker\":{\"colorbar\":{\"outlinewidth\":1,\"tickcolor\":\"rgb(36,36,36)\",\"ticks\":\"outside\"}},\"type\":\"scatterternary\"}],\"surface\":[{\"colorbar\":{\"outlinewidth\":1,\"tickcolor\":\"rgb(36,36,36)\",\"ticks\":\"outside\"},\"colorscale\":[[0.0,\"#440154\"],[0.1111111111111111,\"#482878\"],[0.2222222222222222,\"#3e4989\"],[0.3333333333333333,\"#31688e\"],[0.4444444444444444,\"#26828e\"],[0.5555555555555556,\"#1f9e89\"],[0.6666666666666666,\"#35b779\"],[0.7777777777777778,\"#6ece58\"],[0.8888888888888888,\"#b5de2b\"],[1.0,\"#fde725\"]],\"type\":\"surface\"}],\"table\":[{\"cells\":{\"fill\":{\"color\":\"rgb(237,237,237)\"},\"line\":{\"color\":\"white\"}},\"header\":{\"fill\":{\"color\":\"rgb(217,217,217)\"},\"line\":{\"color\":\"white\"}},\"type\":\"table\"}]},\"layout\":{\"annotationdefaults\":{\"arrowhead\":0,\"arrowwidth\":1},\"autotypenumbers\":\"strict\",\"coloraxis\":{\"colorbar\":{\"outlinewidth\":1,\"tickcolor\":\"rgb(36,36,36)\",\"ticks\":\"outside\"}},\"colorscale\":{\"diverging\":[[0.0,\"rgb(103,0,31)\"],[0.1,\"rgb(178,24,43)\"],[0.2,\"rgb(214,96,77)\"],[0.3,\"rgb(244,165,130)\"],[0.4,\"rgb(253,219,199)\"],[0.5,\"rgb(247,247,247)\"],[0.6,\"rgb(209,229,240)\"],[0.7,\"rgb(146,197,222)\"],[0.8,\"rgb(67,147,195)\"],[0.9,\"rgb(33,102,172)\"],[1.0,\"rgb(5,48,97)\"]],\"sequential\":[[0.0,\"#440154\"],[0.1111111111111111,\"#482878\"],[0.2222222222222222,\"#3e4989\"],[0.3333333333333333,\"#31688e\"],[0.4444444444444444,\"#26828e\"],[0.5555555555555556,\"#1f9e89\"],[0.6666666666666666,\"#35b779\"],[0.7777777777777778,\"#6ece58\"],[0.8888888888888888,\"#b5de2b\"],[1.0,\"#fde725\"]],\"sequentialminus\":[[0.0,\"#440154\"],[0.1111111111111111,\"#482878\"],[0.2222222222222222,\"#3e4989\"],[0.3333333333333333,\"#31688e\"],[0.4444444444444444,\"#26828e\"],[0.5555555555555556,\"#1f9e89\"],[0.6666666666666666,\"#35b779\"],[0.7777777777777778,\"#6ece58\"],[0.8888888888888888,\"#b5de2b\"],[1.0,\"#fde725\"]]},\"colorway\":[\"#1F77B4\",\"#FF7F0E\",\"#2CA02C\",\"#D62728\",\"#9467BD\",\"#8C564B\",\"#E377C2\",\"#7F7F7F\",\"#BCBD22\",\"#17BECF\"],\"font\":{\"color\":\"rgb(36,36,36)\"},\"geo\":{\"bgcolor\":\"white\",\"lakecolor\":\"white\",\"landcolor\":\"white\",\"showlakes\":true,\"showland\":true,\"subunitcolor\":\"white\"},\"hoverlabel\":{\"align\":\"left\"},\"hovermode\":\"closest\",\"mapbox\":{\"style\":\"light\"},\"paper_bgcolor\":\"white\",\"plot_bgcolor\":\"white\",\"polar\":{\"angularaxis\":{\"gridcolor\":\"rgb(232,232,232)\",\"linecolor\":\"rgb(36,36,36)\",\"showgrid\":false,\"showline\":true,\"ticks\":\"outside\"},\"bgcolor\":\"white\",\"radialaxis\":{\"gridcolor\":\"rgb(232,232,232)\",\"linecolor\":\"rgb(36,36,36)\",\"showgrid\":false,\"showline\":true,\"ticks\":\"outside\"}},\"scene\":{\"xaxis\":{\"backgroundcolor\":\"white\",\"gridcolor\":\"rgb(232,232,232)\",\"gridwidth\":2,\"linecolor\":\"rgb(36,36,36)\",\"showbackground\":true,\"showgrid\":false,\"showline\":true,\"ticks\":\"outside\",\"zeroline\":false,\"zerolinecolor\":\"rgb(36,36,36)\"},\"yaxis\":{\"backgroundcolor\":\"white\",\"gridcolor\":\"rgb(232,232,232)\",\"gridwidth\":2,\"linecolor\":\"rgb(36,36,36)\",\"showbackground\":true,\"showgrid\":false,\"showline\":true,\"ticks\":\"outside\",\"zeroline\":false,\"zerolinecolor\":\"rgb(36,36,36)\"},\"zaxis\":{\"backgroundcolor\":\"white\",\"gridcolor\":\"rgb(232,232,232)\",\"gridwidth\":2,\"linecolor\":\"rgb(36,36,36)\",\"showbackground\":true,\"showgrid\":false,\"showline\":true,\"ticks\":\"outside\",\"zeroline\":false,\"zerolinecolor\":\"rgb(36,36,36)\"}},\"shapedefaults\":{\"fillcolor\":\"black\",\"line\":{\"width\":0},\"opacity\":0.3},\"ternary\":{\"aaxis\":{\"gridcolor\":\"rgb(232,232,232)\",\"linecolor\":\"rgb(36,36,36)\",\"showgrid\":false,\"showline\":true,\"ticks\":\"outside\"},\"baxis\":{\"gridcolor\":\"rgb(232,232,232)\",\"linecolor\":\"rgb(36,36,36)\",\"showgrid\":false,\"showline\":true,\"ticks\":\"outside\"},\"bgcolor\":\"white\",\"caxis\":{\"gridcolor\":\"rgb(232,232,232)\",\"linecolor\":\"rgb(36,36,36)\",\"showgrid\":false,\"showline\":true,\"ticks\":\"outside\"}},\"title\":{\"x\":0.05},\"xaxis\":{\"automargin\":true,\"gridcolor\":\"rgb(232,232,232)\",\"linecolor\":\"rgb(36,36,36)\",\"showgrid\":false,\"showline\":true,\"ticks\":\"outside\",\"title\":{\"standoff\":15},\"zeroline\":false,\"zerolinecolor\":\"rgb(36,36,36)\"},\"yaxis\":{\"automargin\":true,\"gridcolor\":\"rgb(232,232,232)\",\"linecolor\":\"rgb(36,36,36)\",\"showgrid\":false,\"showline\":true,\"ticks\":\"outside\",\"title\":{\"standoff\":15},\"zeroline\":false,\"zerolinecolor\":\"rgb(36,36,36)\"}}},\"xaxis\":{\"showgrid\":true},\"yaxis\":{\"showgrid\":true,\"title\":{\"text\":\"Frequency\"}},\"title\":{\"font\":{\"size\":22,\"color\":\"Black\"},\"text\":\"<b>Topics over Time\",\"y\":0.95,\"x\":0.4,\"xanchor\":\"center\",\"yanchor\":\"top\"},\"hoverlabel\":{\"font\":{\"size\":16,\"family\":\"Rockwell\"},\"bgcolor\":\"white\"},\"width\":1250,\"height\":450,\"legend\":{\"title\":{\"text\":\"<b>Global Topic Representation\"}}},                        {\"responsive\": true}                    ).then(function(){\n",
       "                            \n",
       "var gd = document.getElementById('86582ba2-d61d-4a8c-a25b-efe69e552d08');\n",
       "var x = new MutationObserver(function (mutations, observer) {{\n",
       "        var display = window.getComputedStyle(gd).display;\n",
       "        if (!display || display === 'none') {{\n",
       "            console.log([gd, 'removed!']);\n",
       "            Plotly.purge(gd);\n",
       "            observer.disconnect();\n",
       "        }}\n",
       "}});\n",
       "\n",
       "// Listen for the removal of the full notebook cells\n",
       "var notebookContainer = gd.closest('#notebook-container');\n",
       "if (notebookContainer) {{\n",
       "    x.observe(notebookContainer, {childList: true});\n",
       "}}\n",
       "\n",
       "// Listen for the clearing of the current output cell\n",
       "var outputEl = gd.closest('.output');\n",
       "if (outputEl) {{\n",
       "    x.observe(outputEl, {childList: true});\n",
       "}}\n",
       "\n",
       "                        })                };                });            </script>        </div>"
      ]
     },
     "metadata": {},
     "output_type": "display_data"
    }
   ],
   "source": [
    "topic_model.visualize_topics_over_time(topics_over_time, topics = [i for i in range(0,20)])"
   ]
  },
  {
   "cell_type": "markdown",
   "id": "037d6d1f",
   "metadata": {},
   "source": [
    "# Visualizando tópicos por usuário: Top 20 usuários com mais publicações relacionados com os tópicos"
   ]
  },
  {
   "cell_type": "code",
   "execution_count": 262,
   "id": "499d09c0",
   "metadata": {},
   "outputs": [],
   "source": [
    "top_users = tweets.user.value_counts().index[0:20]"
   ]
  },
  {
   "cell_type": "code",
   "execution_count": 263,
   "id": "1d74ac0b",
   "metadata": {},
   "outputs": [],
   "source": [
    "tweets['classes'] = tweets.user.apply(lambda x: 'Other user' if x not in top_users else x)"
   ]
  },
  {
   "cell_type": "code",
   "execution_count": 264,
   "id": "28c55a00",
   "metadata": {},
   "outputs": [],
   "source": [
    "classes = tweets.classes.to_list()\n",
    "topics_per_class = topic_model.topics_per_class(docs, topics, classes = classes)"
   ]
  },
  {
   "cell_type": "code",
   "execution_count": 265,
   "id": "e2575468",
   "metadata": {},
   "outputs": [],
   "source": [
    "topics_per_class.loc[topics_per_class['Class'] == 'Other user', 'Frequency'] = 0"
   ]
  },
  {
   "cell_type": "code",
   "execution_count": 266,
   "id": "152735a3",
   "metadata": {
    "scrolled": false
   },
   "outputs": [
    {
     "data": {
      "application/vnd.plotly.v1+json": {
       "config": {
        "plotlyServerURL": "https://plot.ly"
       },
       "data": [
        {
         "hoverinfo": "text",
         "hovertext": [
          "<b>Topic 0</b><br>Words: mep, estonian mep, estonian, andy vermaut, vermaut share",
          "<b>Topic 0</b><br>Words: hong kong, hong, kong, youth come, toddler hong",
          "<b>Topic 0</b><br>Words: say reflection, typical arrogance, reflection typical, arrogance hegemonism, spokesperson criticize",
          "<b>Topic 0</b><br>Words: read headline, headline, headline china, read, taiwan",
          "<b>Topic 0</b><br>Words: flash update, flash, update, taiwan, update zambian",
          "<b>Topic 0</b><br>Words: rebel temporarily, legal territory, occupy legal, mean rebel, temporarily occupy",
          "<b>Topic 0</b><br>Words: milonewton, heuwiesel, thebrit, milonewton heuwiesel, heuwiesel thebrit",
          "<b>Topic 0</b><br>Words: leader strong, meet person, taiwan newsworldpress, plan meet, person official",
          "<b>Topic 0</b><br>Words: wenningzhai tzcl, ultrcrpdarian spokespersonchn, tzcl ultrcrpdarian, ultrcrpdarian, wenningzhai",
          "<b>Topic 0</b><br>Words: india claim, try india, linaxie try, tire crap, world tire",
          "<b>Topic 0</b><br>Words: know mongols, mongols conquer, conquer china, country spokespersonchn, kenneth mengmeng",
          "<b>Topic 0</b><br>Words: taiwan, taiwan independence, independence, sovereignty territorial, opposition",
          "<b>Topic 0</b><br>Words: amp diplomatic, wrong prc, benefit have, expect benefit, have trade",
          "<b>Topic 0</b><br>Words: taiwan, china, taiwan china, china taiwan, people",
          "<b>Topic 0</b><br>Words: chengchi, sighted, lev, post global, strait express",
          "<b>Topic 0</b><br>Words: druidsmith, republic china, republic, fallenxking, druidsmith nic",
          "<b>Topic 0</b><br>Words: act threat, bite little, didn act, hour battle, little cardboard",
          "<b>Topic 0</b><br>Words: august, samoa, territory face, official facebook, multi leg"
         ],
         "marker": {
          "color": "#E69F00"
         },
         "name": "0_taiwan_china_taiwan china_china taiwan",
         "orientation": "h",
         "type": "bar",
         "visible": true,
         "x": [
          2,
          2,
          1,
          7,
          2,
          26,
          8,
          1,
          2,
          1,
          2,
          8,
          2,
          0,
          3,
          12,
          2,
          2
         ],
         "y": [
          "AndyVermaut",
          "SCMPNews",
          "XHNews",
          "DavidblogerICBW",
          "AarianNewsX",
          "winniecychen",
          "Modsognir2",
          "newsworldpress",
          "albasgamer",
          "ammorespecial",
          "c333bs",
          "Twichen",
          "US_China_Menu",
          "Other user",
          "Naro08689546",
          "3n53rmBC9PVfaU3",
          "LetsuniteGld",
          "FujiiPonta"
         ]
        },
        {
         "hoverinfo": "text",
         "hovertext": [
          "<b>Topic 1</b><br>Words: russia, china russia, russia china, china, small business"
         ],
         "marker": {
          "color": "#56B4E9"
         },
         "name": "1_russia_china russia_russia china_china",
         "orientation": "h",
         "type": "bar",
         "visible": "legendonly",
         "x": [
          0
         ],
         "y": [
          "Other user"
         ]
        },
        {
         "hoverinfo": "text",
         "hovertext": [
          "<b>Topic 2</b><br>Words: fuck, coviduan nonsense, fuck place, colorado destroy, screw loose",
          "<b>Topic 2</b><br>Words: biden, trump, hunter, china, democrats"
         ],
         "marker": {
          "color": "#009E73"
         },
         "name": "2_biden_trump_hunter_china",
         "orientation": "h",
         "type": "bar",
         "visible": "legendonly",
         "x": [
          4,
          0
         ],
         "y": [
          "ChinaVirusBio",
          "Other user"
         ]
        },
        {
         "hoverinfo": "text",
         "hovertext": [
          "<b>Topic 3</b><br>Words: homogenous, accept tibet, china homogenous, highly diverse, diverse friction",
          "<b>Topic 3</b><br>Words: india, pakistan, china, indian, india china",
          "<b>Topic 3</b><br>Words: tax, indian tax, department accuse, evasion nearly, accuse tax"
         ],
         "marker": {
          "color": "#F0E442"
         },
         "name": "3_india_pakistan_china_indian",
         "orientation": "h",
         "type": "bar",
         "visible": "legendonly",
         "x": [
          1,
          0,
          1
         ],
         "y": [
          "jalebidaddy",
          "Other user",
          "whatchinareads"
         ]
        },
        {
         "hoverinfo": "text",
         "hovertext": [
          "<b>Topic 4</b><br>Words: mediate ukraine, condition right, war condition, china mediate, mediate",
          "<b>Topic 4</b><br>Words: ukraine, attention away, manpower support, ukraine fund, fund manpower",
          "<b>Topic 4</b><br>Words: ukraine, russia, taiwan, war, zelensky"
         ],
         "marker": {
          "color": "#D55E00"
         },
         "name": "4_ukraine_russia_taiwan_war",
         "orientation": "h",
         "type": "bar",
         "visible": "legendonly",
         "x": [
          1,
          35,
          0
         ],
         "y": [
          "SCMPNews",
          "Liam66665",
          "Other user"
         ]
        },
        {
         "hoverinfo": "text",
         "hovertext": [
          "<b>Topic 5</b><br>Words: ego taiwan, serve real, purpose justify, taiwan preparation, preparation invasion",
          "<b>Topic 5</b><br>Words: say hypocrisy, justify response, suddenly vocal, irresponsible accusation, word suddenly",
          "<b>Topic 5</b><br>Words: pelosi, nancy, china, nancy pelosi, visit",
          "<b>Topic 5</b><br>Words: deep pelosi, chinese black, fan career, black fan, dig deep"
         ],
         "marker": {
          "color": "#0072B2"
         },
         "name": "5_pelosi_nancy_china_pelosi trip",
         "orientation": "h",
         "type": "bar",
         "visible": "legendonly",
         "x": [
          33,
          2,
          0,
          1
         ],
         "y": [
          "Liam66665",
          "Twichen",
          "Other user",
          "whatchinareads"
         ]
        },
        {
         "hoverinfo": "text",
         "hovertext": [
          "<b>Topic 6</b><br>Words: fire missiles, missiles taiwan, spokespersonchn china, china fire, spokespersonchn",
          "<b>Topic 6</b><br>Words: missile, fire, china fire, launch, ballistic"
         ],
         "marker": {
          "color": "#CC79A7"
         },
         "name": "6_missile_fire_china fire_launch",
         "orientation": "h",
         "type": "bar",
         "visible": "legendonly",
         "x": [
          7,
          0
         ],
         "y": [
          "c333bs",
          "Other user"
         ]
        },
        {
         "hoverinfo": "text",
         "hovertext": [
          "<b>Topic 7</b><br>Words: port blast, linger family, pass beirut, lebanese victim, mideaststorie",
          "<b>Topic 7</b><br>Words: malibu kinda, kinda day, ask world, change bail, day ask",
          "<b>Topic 7</b><br>Words: oxycodone, pill, oxycodone pill, pill oxycodone, package oxycodone",
          "<b>Topic 7</b><br>Words: drug, russia, law, country, russia china"
         ],
         "marker": {
          "color": "#E69F00"
         },
         "name": "7_drug_russia_law_country",
         "orientation": "h",
         "type": "bar",
         "visible": "legendonly",
         "x": [
          1,
          1,
          4,
          0
         ],
         "y": [
          "XHNews",
          "goldenage_china",
          "Lezette_China",
          "Other user"
         ]
        },
        {
         "hoverinfo": "text",
         "hovertext": [
          "<b>Topic 8</b><br>Words: tomorrow hangover, good today, party anymore, hangover cause, foam",
          "<b>Topic 8</b><br>Words: kingkentrells potus, botville, buy botville, potus elon, kingkentrells",
          "<b>Topic 8</b><br>Words: supermoon, night supermoon, wait tonight, long hot, moon ridebike",
          "<b>Topic 8</b><br>Words: fantastic, cool, david, toddwrobb, pamg",
          "<b>Topic 8</b><br>Words: david, fallingtree, twjackson, absolutelywoman darrellhuckleb, backagain keepitwilder"
         ],
         "marker": {
          "color": "#56B4E9"
         },
         "name": "8_david_yvonnecar_spacesvector_robcarlso...",
         "orientation": "h",
         "type": "bar",
         "visible": "legendonly",
         "x": [
          8,
          1,
          1,
          2,
          0
         ],
         "y": [
          "goldenage_china",
          "ChinaVirusBio",
          "Lezette_China",
          "US_China_Menu",
          "Other user"
         ]
        },
        {
         "hoverinfo": "text",
         "hovertext": [
          "<b>Topic 9</b><br>Words: india vaccines, cow shit, vaccines cow, mfachina india, cow",
          "<b>Topic 9</b><br>Words: covid, die delhi, covid second, world forgive, percent right",
          "<b>Topic 9</b><br>Words: virus, covid, china virus, china, research"
         ],
         "marker": {
          "color": "#009E73"
         },
         "name": "9_virus_covid_china virus_china",
         "orientation": "h",
         "type": "bar",
         "visible": "legendonly",
         "x": [
          1,
          2,
          0
         ],
         "y": [
          "RR88656428",
          "jalebidaddy",
          "Other user"
         ]
        }
       ],
       "layout": {
        "height": 900,
        "hoverlabel": {
         "bgcolor": "white",
         "font": {
          "family": "Rockwell",
          "size": 16
         }
        },
        "legend": {
         "title": {
          "text": "<b>Global Topic Representation"
         }
        },
        "template": {
         "data": {
          "bar": [
           {
            "error_x": {
             "color": "rgb(36,36,36)"
            },
            "error_y": {
             "color": "rgb(36,36,36)"
            },
            "marker": {
             "line": {
              "color": "white",
              "width": 0.5
             },
             "pattern": {
              "fillmode": "overlay",
              "size": 10,
              "solidity": 0.2
             }
            },
            "type": "bar"
           }
          ],
          "barpolar": [
           {
            "marker": {
             "line": {
              "color": "white",
              "width": 0.5
             },
             "pattern": {
              "fillmode": "overlay",
              "size": 10,
              "solidity": 0.2
             }
            },
            "type": "barpolar"
           }
          ],
          "carpet": [
           {
            "aaxis": {
             "endlinecolor": "rgb(36,36,36)",
             "gridcolor": "white",
             "linecolor": "white",
             "minorgridcolor": "white",
             "startlinecolor": "rgb(36,36,36)"
            },
            "baxis": {
             "endlinecolor": "rgb(36,36,36)",
             "gridcolor": "white",
             "linecolor": "white",
             "minorgridcolor": "white",
             "startlinecolor": "rgb(36,36,36)"
            },
            "type": "carpet"
           }
          ],
          "choropleth": [
           {
            "colorbar": {
             "outlinewidth": 1,
             "tickcolor": "rgb(36,36,36)",
             "ticks": "outside"
            },
            "type": "choropleth"
           }
          ],
          "contour": [
           {
            "colorbar": {
             "outlinewidth": 1,
             "tickcolor": "rgb(36,36,36)",
             "ticks": "outside"
            },
            "colorscale": [
             [
              0,
              "#440154"
             ],
             [
              0.1111111111111111,
              "#482878"
             ],
             [
              0.2222222222222222,
              "#3e4989"
             ],
             [
              0.3333333333333333,
              "#31688e"
             ],
             [
              0.4444444444444444,
              "#26828e"
             ],
             [
              0.5555555555555556,
              "#1f9e89"
             ],
             [
              0.6666666666666666,
              "#35b779"
             ],
             [
              0.7777777777777778,
              "#6ece58"
             ],
             [
              0.8888888888888888,
              "#b5de2b"
             ],
             [
              1,
              "#fde725"
             ]
            ],
            "type": "contour"
           }
          ],
          "contourcarpet": [
           {
            "colorbar": {
             "outlinewidth": 1,
             "tickcolor": "rgb(36,36,36)",
             "ticks": "outside"
            },
            "type": "contourcarpet"
           }
          ],
          "heatmap": [
           {
            "colorbar": {
             "outlinewidth": 1,
             "tickcolor": "rgb(36,36,36)",
             "ticks": "outside"
            },
            "colorscale": [
             [
              0,
              "#440154"
             ],
             [
              0.1111111111111111,
              "#482878"
             ],
             [
              0.2222222222222222,
              "#3e4989"
             ],
             [
              0.3333333333333333,
              "#31688e"
             ],
             [
              0.4444444444444444,
              "#26828e"
             ],
             [
              0.5555555555555556,
              "#1f9e89"
             ],
             [
              0.6666666666666666,
              "#35b779"
             ],
             [
              0.7777777777777778,
              "#6ece58"
             ],
             [
              0.8888888888888888,
              "#b5de2b"
             ],
             [
              1,
              "#fde725"
             ]
            ],
            "type": "heatmap"
           }
          ],
          "heatmapgl": [
           {
            "colorbar": {
             "outlinewidth": 1,
             "tickcolor": "rgb(36,36,36)",
             "ticks": "outside"
            },
            "colorscale": [
             [
              0,
              "#440154"
             ],
             [
              0.1111111111111111,
              "#482878"
             ],
             [
              0.2222222222222222,
              "#3e4989"
             ],
             [
              0.3333333333333333,
              "#31688e"
             ],
             [
              0.4444444444444444,
              "#26828e"
             ],
             [
              0.5555555555555556,
              "#1f9e89"
             ],
             [
              0.6666666666666666,
              "#35b779"
             ],
             [
              0.7777777777777778,
              "#6ece58"
             ],
             [
              0.8888888888888888,
              "#b5de2b"
             ],
             [
              1,
              "#fde725"
             ]
            ],
            "type": "heatmapgl"
           }
          ],
          "histogram": [
           {
            "marker": {
             "line": {
              "color": "white",
              "width": 0.6
             }
            },
            "type": "histogram"
           }
          ],
          "histogram2d": [
           {
            "colorbar": {
             "outlinewidth": 1,
             "tickcolor": "rgb(36,36,36)",
             "ticks": "outside"
            },
            "colorscale": [
             [
              0,
              "#440154"
             ],
             [
              0.1111111111111111,
              "#482878"
             ],
             [
              0.2222222222222222,
              "#3e4989"
             ],
             [
              0.3333333333333333,
              "#31688e"
             ],
             [
              0.4444444444444444,
              "#26828e"
             ],
             [
              0.5555555555555556,
              "#1f9e89"
             ],
             [
              0.6666666666666666,
              "#35b779"
             ],
             [
              0.7777777777777778,
              "#6ece58"
             ],
             [
              0.8888888888888888,
              "#b5de2b"
             ],
             [
              1,
              "#fde725"
             ]
            ],
            "type": "histogram2d"
           }
          ],
          "histogram2dcontour": [
           {
            "colorbar": {
             "outlinewidth": 1,
             "tickcolor": "rgb(36,36,36)",
             "ticks": "outside"
            },
            "colorscale": [
             [
              0,
              "#440154"
             ],
             [
              0.1111111111111111,
              "#482878"
             ],
             [
              0.2222222222222222,
              "#3e4989"
             ],
             [
              0.3333333333333333,
              "#31688e"
             ],
             [
              0.4444444444444444,
              "#26828e"
             ],
             [
              0.5555555555555556,
              "#1f9e89"
             ],
             [
              0.6666666666666666,
              "#35b779"
             ],
             [
              0.7777777777777778,
              "#6ece58"
             ],
             [
              0.8888888888888888,
              "#b5de2b"
             ],
             [
              1,
              "#fde725"
             ]
            ],
            "type": "histogram2dcontour"
           }
          ],
          "mesh3d": [
           {
            "colorbar": {
             "outlinewidth": 1,
             "tickcolor": "rgb(36,36,36)",
             "ticks": "outside"
            },
            "type": "mesh3d"
           }
          ],
          "parcoords": [
           {
            "line": {
             "colorbar": {
              "outlinewidth": 1,
              "tickcolor": "rgb(36,36,36)",
              "ticks": "outside"
             }
            },
            "type": "parcoords"
           }
          ],
          "pie": [
           {
            "automargin": true,
            "type": "pie"
           }
          ],
          "scatter": [
           {
            "fillpattern": {
             "fillmode": "overlay",
             "size": 10,
             "solidity": 0.2
            },
            "type": "scatter"
           }
          ],
          "scatter3d": [
           {
            "line": {
             "colorbar": {
              "outlinewidth": 1,
              "tickcolor": "rgb(36,36,36)",
              "ticks": "outside"
             }
            },
            "marker": {
             "colorbar": {
              "outlinewidth": 1,
              "tickcolor": "rgb(36,36,36)",
              "ticks": "outside"
             }
            },
            "type": "scatter3d"
           }
          ],
          "scattercarpet": [
           {
            "marker": {
             "colorbar": {
              "outlinewidth": 1,
              "tickcolor": "rgb(36,36,36)",
              "ticks": "outside"
             }
            },
            "type": "scattercarpet"
           }
          ],
          "scattergeo": [
           {
            "marker": {
             "colorbar": {
              "outlinewidth": 1,
              "tickcolor": "rgb(36,36,36)",
              "ticks": "outside"
             }
            },
            "type": "scattergeo"
           }
          ],
          "scattergl": [
           {
            "marker": {
             "colorbar": {
              "outlinewidth": 1,
              "tickcolor": "rgb(36,36,36)",
              "ticks": "outside"
             }
            },
            "type": "scattergl"
           }
          ],
          "scattermapbox": [
           {
            "marker": {
             "colorbar": {
              "outlinewidth": 1,
              "tickcolor": "rgb(36,36,36)",
              "ticks": "outside"
             }
            },
            "type": "scattermapbox"
           }
          ],
          "scatterpolar": [
           {
            "marker": {
             "colorbar": {
              "outlinewidth": 1,
              "tickcolor": "rgb(36,36,36)",
              "ticks": "outside"
             }
            },
            "type": "scatterpolar"
           }
          ],
          "scatterpolargl": [
           {
            "marker": {
             "colorbar": {
              "outlinewidth": 1,
              "tickcolor": "rgb(36,36,36)",
              "ticks": "outside"
             }
            },
            "type": "scatterpolargl"
           }
          ],
          "scatterternary": [
           {
            "marker": {
             "colorbar": {
              "outlinewidth": 1,
              "tickcolor": "rgb(36,36,36)",
              "ticks": "outside"
             }
            },
            "type": "scatterternary"
           }
          ],
          "surface": [
           {
            "colorbar": {
             "outlinewidth": 1,
             "tickcolor": "rgb(36,36,36)",
             "ticks": "outside"
            },
            "colorscale": [
             [
              0,
              "#440154"
             ],
             [
              0.1111111111111111,
              "#482878"
             ],
             [
              0.2222222222222222,
              "#3e4989"
             ],
             [
              0.3333333333333333,
              "#31688e"
             ],
             [
              0.4444444444444444,
              "#26828e"
             ],
             [
              0.5555555555555556,
              "#1f9e89"
             ],
             [
              0.6666666666666666,
              "#35b779"
             ],
             [
              0.7777777777777778,
              "#6ece58"
             ],
             [
              0.8888888888888888,
              "#b5de2b"
             ],
             [
              1,
              "#fde725"
             ]
            ],
            "type": "surface"
           }
          ],
          "table": [
           {
            "cells": {
             "fill": {
              "color": "rgb(237,237,237)"
             },
             "line": {
              "color": "white"
             }
            },
            "header": {
             "fill": {
              "color": "rgb(217,217,217)"
             },
             "line": {
              "color": "white"
             }
            },
            "type": "table"
           }
          ]
         },
         "layout": {
          "annotationdefaults": {
           "arrowhead": 0,
           "arrowwidth": 1
          },
          "autotypenumbers": "strict",
          "coloraxis": {
           "colorbar": {
            "outlinewidth": 1,
            "tickcolor": "rgb(36,36,36)",
            "ticks": "outside"
           }
          },
          "colorscale": {
           "diverging": [
            [
             0,
             "rgb(103,0,31)"
            ],
            [
             0.1,
             "rgb(178,24,43)"
            ],
            [
             0.2,
             "rgb(214,96,77)"
            ],
            [
             0.3,
             "rgb(244,165,130)"
            ],
            [
             0.4,
             "rgb(253,219,199)"
            ],
            [
             0.5,
             "rgb(247,247,247)"
            ],
            [
             0.6,
             "rgb(209,229,240)"
            ],
            [
             0.7,
             "rgb(146,197,222)"
            ],
            [
             0.8,
             "rgb(67,147,195)"
            ],
            [
             0.9,
             "rgb(33,102,172)"
            ],
            [
             1,
             "rgb(5,48,97)"
            ]
           ],
           "sequential": [
            [
             0,
             "#440154"
            ],
            [
             0.1111111111111111,
             "#482878"
            ],
            [
             0.2222222222222222,
             "#3e4989"
            ],
            [
             0.3333333333333333,
             "#31688e"
            ],
            [
             0.4444444444444444,
             "#26828e"
            ],
            [
             0.5555555555555556,
             "#1f9e89"
            ],
            [
             0.6666666666666666,
             "#35b779"
            ],
            [
             0.7777777777777778,
             "#6ece58"
            ],
            [
             0.8888888888888888,
             "#b5de2b"
            ],
            [
             1,
             "#fde725"
            ]
           ],
           "sequentialminus": [
            [
             0,
             "#440154"
            ],
            [
             0.1111111111111111,
             "#482878"
            ],
            [
             0.2222222222222222,
             "#3e4989"
            ],
            [
             0.3333333333333333,
             "#31688e"
            ],
            [
             0.4444444444444444,
             "#26828e"
            ],
            [
             0.5555555555555556,
             "#1f9e89"
            ],
            [
             0.6666666666666666,
             "#35b779"
            ],
            [
             0.7777777777777778,
             "#6ece58"
            ],
            [
             0.8888888888888888,
             "#b5de2b"
            ],
            [
             1,
             "#fde725"
            ]
           ]
          },
          "colorway": [
           "#1F77B4",
           "#FF7F0E",
           "#2CA02C",
           "#D62728",
           "#9467BD",
           "#8C564B",
           "#E377C2",
           "#7F7F7F",
           "#BCBD22",
           "#17BECF"
          ],
          "font": {
           "color": "rgb(36,36,36)"
          },
          "geo": {
           "bgcolor": "white",
           "lakecolor": "white",
           "landcolor": "white",
           "showlakes": true,
           "showland": true,
           "subunitcolor": "white"
          },
          "hoverlabel": {
           "align": "left"
          },
          "hovermode": "closest",
          "mapbox": {
           "style": "light"
          },
          "paper_bgcolor": "white",
          "plot_bgcolor": "white",
          "polar": {
           "angularaxis": {
            "gridcolor": "rgb(232,232,232)",
            "linecolor": "rgb(36,36,36)",
            "showgrid": false,
            "showline": true,
            "ticks": "outside"
           },
           "bgcolor": "white",
           "radialaxis": {
            "gridcolor": "rgb(232,232,232)",
            "linecolor": "rgb(36,36,36)",
            "showgrid": false,
            "showline": true,
            "ticks": "outside"
           }
          },
          "scene": {
           "xaxis": {
            "backgroundcolor": "white",
            "gridcolor": "rgb(232,232,232)",
            "gridwidth": 2,
            "linecolor": "rgb(36,36,36)",
            "showbackground": true,
            "showgrid": false,
            "showline": true,
            "ticks": "outside",
            "zeroline": false,
            "zerolinecolor": "rgb(36,36,36)"
           },
           "yaxis": {
            "backgroundcolor": "white",
            "gridcolor": "rgb(232,232,232)",
            "gridwidth": 2,
            "linecolor": "rgb(36,36,36)",
            "showbackground": true,
            "showgrid": false,
            "showline": true,
            "ticks": "outside",
            "zeroline": false,
            "zerolinecolor": "rgb(36,36,36)"
           },
           "zaxis": {
            "backgroundcolor": "white",
            "gridcolor": "rgb(232,232,232)",
            "gridwidth": 2,
            "linecolor": "rgb(36,36,36)",
            "showbackground": true,
            "showgrid": false,
            "showline": true,
            "ticks": "outside",
            "zeroline": false,
            "zerolinecolor": "rgb(36,36,36)"
           }
          },
          "shapedefaults": {
           "fillcolor": "black",
           "line": {
            "width": 0
           },
           "opacity": 0.3
          },
          "ternary": {
           "aaxis": {
            "gridcolor": "rgb(232,232,232)",
            "linecolor": "rgb(36,36,36)",
            "showgrid": false,
            "showline": true,
            "ticks": "outside"
           },
           "baxis": {
            "gridcolor": "rgb(232,232,232)",
            "linecolor": "rgb(36,36,36)",
            "showgrid": false,
            "showline": true,
            "ticks": "outside"
           },
           "bgcolor": "white",
           "caxis": {
            "gridcolor": "rgb(232,232,232)",
            "linecolor": "rgb(36,36,36)",
            "showgrid": false,
            "showline": true,
            "ticks": "outside"
           }
          },
          "title": {
           "x": 0.05
          },
          "xaxis": {
           "automargin": true,
           "gridcolor": "rgb(232,232,232)",
           "linecolor": "rgb(36,36,36)",
           "showgrid": false,
           "showline": true,
           "ticks": "outside",
           "title": {
            "standoff": 15
           },
           "zeroline": false,
           "zerolinecolor": "rgb(36,36,36)"
          },
          "yaxis": {
           "automargin": true,
           "gridcolor": "rgb(232,232,232)",
           "linecolor": "rgb(36,36,36)",
           "showgrid": false,
           "showline": true,
           "ticks": "outside",
           "title": {
            "standoff": 15
           },
           "zeroline": false,
           "zerolinecolor": "rgb(36,36,36)"
          }
         }
        },
        "title": {
         "font": {
          "color": "Black",
          "size": 22
         },
         "text": "<b>Topics per Class",
         "x": 0.4,
         "xanchor": "center",
         "y": 0.95,
         "yanchor": "top"
        },
        "width": 1250,
        "xaxis": {
         "showgrid": true,
         "title": {
          "text": "Frequency"
         }
        },
        "yaxis": {
         "showgrid": true,
         "title": {
          "text": "Class"
         }
        }
       }
      },
      "text/html": [
       "<div>                            <div id=\"421e481c-034e-4c7b-b862-11eb874d59d7\" class=\"plotly-graph-div\" style=\"height:900px; width:1250px;\"></div>            <script type=\"text/javascript\">                require([\"plotly\"], function(Plotly) {                    window.PLOTLYENV=window.PLOTLYENV || {};                                    if (document.getElementById(\"421e481c-034e-4c7b-b862-11eb874d59d7\")) {                    Plotly.newPlot(                        \"421e481c-034e-4c7b-b862-11eb874d59d7\",                        [{\"hoverinfo\":\"text\",\"hovertext\":[\"<b>Topic 0</b><br>Words: mep, estonian mep, estonian, andy vermaut, vermaut share\",\"<b>Topic 0</b><br>Words: hong kong, hong, kong, youth come, toddler hong\",\"<b>Topic 0</b><br>Words: say reflection, typical arrogance, reflection typical, arrogance hegemonism, spokesperson criticize\",\"<b>Topic 0</b><br>Words: read headline, headline, headline china, read, taiwan\",\"<b>Topic 0</b><br>Words: flash update, flash, update, taiwan, update zambian\",\"<b>Topic 0</b><br>Words: rebel temporarily, legal territory, occupy legal, mean rebel, temporarily occupy\",\"<b>Topic 0</b><br>Words: milonewton, heuwiesel, thebrit, milonewton heuwiesel, heuwiesel thebrit\",\"<b>Topic 0</b><br>Words: leader strong, meet person, taiwan newsworldpress, plan meet, person official\",\"<b>Topic 0</b><br>Words: wenningzhai tzcl, ultrcrpdarian spokespersonchn, tzcl ultrcrpdarian, ultrcrpdarian, wenningzhai\",\"<b>Topic 0</b><br>Words: india claim, try india, linaxie try, tire crap, world tire\",\"<b>Topic 0</b><br>Words: know mongols, mongols conquer, conquer china, country spokespersonchn, kenneth mengmeng\",\"<b>Topic 0</b><br>Words: taiwan, taiwan independence, independence, sovereignty territorial, opposition\",\"<b>Topic 0</b><br>Words: amp diplomatic, wrong prc, benefit have, expect benefit, have trade\",\"<b>Topic 0</b><br>Words: taiwan, china, taiwan china, china taiwan, people\",\"<b>Topic 0</b><br>Words: chengchi, sighted, lev, post global, strait express\",\"<b>Topic 0</b><br>Words: druidsmith, republic china, republic, fallenxking, druidsmith nic\",\"<b>Topic 0</b><br>Words: act threat, bite little, didn act, hour battle, little cardboard\",\"<b>Topic 0</b><br>Words: august, samoa, territory face, official facebook, multi leg\"],\"marker\":{\"color\":\"#E69F00\"},\"name\":\"0_taiwan_china_taiwan china_china taiwan\",\"orientation\":\"h\",\"visible\":true,\"x\":[2,2,1,7,2,26,8,1,2,1,2,8,2,0,3,12,2,2],\"y\":[\"AndyVermaut\",\"SCMPNews\",\"XHNews\",\"DavidblogerICBW\",\"AarianNewsX\",\"winniecychen\",\"Modsognir2\",\"newsworldpress\",\"albasgamer\",\"ammorespecial\",\"c333bs\",\"Twichen\",\"US_China_Menu\",\"Other user\",\"Naro08689546\",\"3n53rmBC9PVfaU3\",\"LetsuniteGld\",\"FujiiPonta\"],\"type\":\"bar\"},{\"hoverinfo\":\"text\",\"hovertext\":[\"<b>Topic 1</b><br>Words: russia, china russia, russia china, china, small business\"],\"marker\":{\"color\":\"#56B4E9\"},\"name\":\"1_russia_china russia_russia china_china\",\"orientation\":\"h\",\"visible\":\"legendonly\",\"x\":[0],\"y\":[\"Other user\"],\"type\":\"bar\"},{\"hoverinfo\":\"text\",\"hovertext\":[\"<b>Topic 2</b><br>Words: fuck, coviduan nonsense, fuck place, colorado destroy, screw loose\",\"<b>Topic 2</b><br>Words: biden, trump, hunter, china, democrats\"],\"marker\":{\"color\":\"#009E73\"},\"name\":\"2_biden_trump_hunter_china\",\"orientation\":\"h\",\"visible\":\"legendonly\",\"x\":[4,0],\"y\":[\"ChinaVirusBio\",\"Other user\"],\"type\":\"bar\"},{\"hoverinfo\":\"text\",\"hovertext\":[\"<b>Topic 3</b><br>Words: homogenous, accept tibet, china homogenous, highly diverse, diverse friction\",\"<b>Topic 3</b><br>Words: india, pakistan, china, indian, india china\",\"<b>Topic 3</b><br>Words: tax, indian tax, department accuse, evasion nearly, accuse tax\"],\"marker\":{\"color\":\"#F0E442\"},\"name\":\"3_india_pakistan_china_indian\",\"orientation\":\"h\",\"visible\":\"legendonly\",\"x\":[1,0,1],\"y\":[\"jalebidaddy\",\"Other user\",\"whatchinareads\"],\"type\":\"bar\"},{\"hoverinfo\":\"text\",\"hovertext\":[\"<b>Topic 4</b><br>Words: mediate ukraine, condition right, war condition, china mediate, mediate\",\"<b>Topic 4</b><br>Words: ukraine, attention away, manpower support, ukraine fund, fund manpower\",\"<b>Topic 4</b><br>Words: ukraine, russia, taiwan, war, zelensky\"],\"marker\":{\"color\":\"#D55E00\"},\"name\":\"4_ukraine_russia_taiwan_war\",\"orientation\":\"h\",\"visible\":\"legendonly\",\"x\":[1,35,0],\"y\":[\"SCMPNews\",\"Liam66665\",\"Other user\"],\"type\":\"bar\"},{\"hoverinfo\":\"text\",\"hovertext\":[\"<b>Topic 5</b><br>Words: ego taiwan, serve real, purpose justify, taiwan preparation, preparation invasion\",\"<b>Topic 5</b><br>Words: say hypocrisy, justify response, suddenly vocal, irresponsible accusation, word suddenly\",\"<b>Topic 5</b><br>Words: pelosi, nancy, china, nancy pelosi, visit\",\"<b>Topic 5</b><br>Words: deep pelosi, chinese black, fan career, black fan, dig deep\"],\"marker\":{\"color\":\"#0072B2\"},\"name\":\"5_pelosi_nancy_china_pelosi trip\",\"orientation\":\"h\",\"visible\":\"legendonly\",\"x\":[33,2,0,1],\"y\":[\"Liam66665\",\"Twichen\",\"Other user\",\"whatchinareads\"],\"type\":\"bar\"},{\"hoverinfo\":\"text\",\"hovertext\":[\"<b>Topic 6</b><br>Words: fire missiles, missiles taiwan, spokespersonchn china, china fire, spokespersonchn\",\"<b>Topic 6</b><br>Words: missile, fire, china fire, launch, ballistic\"],\"marker\":{\"color\":\"#CC79A7\"},\"name\":\"6_missile_fire_china fire_launch\",\"orientation\":\"h\",\"visible\":\"legendonly\",\"x\":[7,0],\"y\":[\"c333bs\",\"Other user\"],\"type\":\"bar\"},{\"hoverinfo\":\"text\",\"hovertext\":[\"<b>Topic 7</b><br>Words: port blast, linger family, pass beirut, lebanese victim, mideaststorie\",\"<b>Topic 7</b><br>Words: malibu kinda, kinda day, ask world, change bail, day ask\",\"<b>Topic 7</b><br>Words: oxycodone, pill, oxycodone pill, pill oxycodone, package oxycodone\",\"<b>Topic 7</b><br>Words: drug, russia, law, country, russia china\"],\"marker\":{\"color\":\"#E69F00\"},\"name\":\"7_drug_russia_law_country\",\"orientation\":\"h\",\"visible\":\"legendonly\",\"x\":[1,1,4,0],\"y\":[\"XHNews\",\"goldenage_china\",\"Lezette_China\",\"Other user\"],\"type\":\"bar\"},{\"hoverinfo\":\"text\",\"hovertext\":[\"<b>Topic 8</b><br>Words: tomorrow hangover, good today, party anymore, hangover cause, foam\",\"<b>Topic 8</b><br>Words: kingkentrells potus, botville, buy botville, potus elon, kingkentrells\",\"<b>Topic 8</b><br>Words: supermoon, night supermoon, wait tonight, long hot, moon ridebike\",\"<b>Topic 8</b><br>Words: fantastic, cool, david, toddwrobb, pamg\",\"<b>Topic 8</b><br>Words: david, fallingtree, twjackson, absolutelywoman darrellhuckleb, backagain keepitwilder\"],\"marker\":{\"color\":\"#56B4E9\"},\"name\":\"8_david_yvonnecar_spacesvector_robcarlso...\",\"orientation\":\"h\",\"visible\":\"legendonly\",\"x\":[8,1,1,2,0],\"y\":[\"goldenage_china\",\"ChinaVirusBio\",\"Lezette_China\",\"US_China_Menu\",\"Other user\"],\"type\":\"bar\"},{\"hoverinfo\":\"text\",\"hovertext\":[\"<b>Topic 9</b><br>Words: india vaccines, cow shit, vaccines cow, mfachina india, cow\",\"<b>Topic 9</b><br>Words: covid, die delhi, covid second, world forgive, percent right\",\"<b>Topic 9</b><br>Words: virus, covid, china virus, china, research\"],\"marker\":{\"color\":\"#009E73\"},\"name\":\"9_virus_covid_china virus_china\",\"orientation\":\"h\",\"visible\":\"legendonly\",\"x\":[1,2,0],\"y\":[\"RR88656428\",\"jalebidaddy\",\"Other user\"],\"type\":\"bar\"}],                        {\"template\":{\"data\":{\"barpolar\":[{\"marker\":{\"line\":{\"color\":\"white\",\"width\":0.5},\"pattern\":{\"fillmode\":\"overlay\",\"size\":10,\"solidity\":0.2}},\"type\":\"barpolar\"}],\"bar\":[{\"error_x\":{\"color\":\"rgb(36,36,36)\"},\"error_y\":{\"color\":\"rgb(36,36,36)\"},\"marker\":{\"line\":{\"color\":\"white\",\"width\":0.5},\"pattern\":{\"fillmode\":\"overlay\",\"size\":10,\"solidity\":0.2}},\"type\":\"bar\"}],\"carpet\":[{\"aaxis\":{\"endlinecolor\":\"rgb(36,36,36)\",\"gridcolor\":\"white\",\"linecolor\":\"white\",\"minorgridcolor\":\"white\",\"startlinecolor\":\"rgb(36,36,36)\"},\"baxis\":{\"endlinecolor\":\"rgb(36,36,36)\",\"gridcolor\":\"white\",\"linecolor\":\"white\",\"minorgridcolor\":\"white\",\"startlinecolor\":\"rgb(36,36,36)\"},\"type\":\"carpet\"}],\"choropleth\":[{\"colorbar\":{\"outlinewidth\":1,\"tickcolor\":\"rgb(36,36,36)\",\"ticks\":\"outside\"},\"type\":\"choropleth\"}],\"contourcarpet\":[{\"colorbar\":{\"outlinewidth\":1,\"tickcolor\":\"rgb(36,36,36)\",\"ticks\":\"outside\"},\"type\":\"contourcarpet\"}],\"contour\":[{\"colorbar\":{\"outlinewidth\":1,\"tickcolor\":\"rgb(36,36,36)\",\"ticks\":\"outside\"},\"colorscale\":[[0.0,\"#440154\"],[0.1111111111111111,\"#482878\"],[0.2222222222222222,\"#3e4989\"],[0.3333333333333333,\"#31688e\"],[0.4444444444444444,\"#26828e\"],[0.5555555555555556,\"#1f9e89\"],[0.6666666666666666,\"#35b779\"],[0.7777777777777778,\"#6ece58\"],[0.8888888888888888,\"#b5de2b\"],[1.0,\"#fde725\"]],\"type\":\"contour\"}],\"heatmapgl\":[{\"colorbar\":{\"outlinewidth\":1,\"tickcolor\":\"rgb(36,36,36)\",\"ticks\":\"outside\"},\"colorscale\":[[0.0,\"#440154\"],[0.1111111111111111,\"#482878\"],[0.2222222222222222,\"#3e4989\"],[0.3333333333333333,\"#31688e\"],[0.4444444444444444,\"#26828e\"],[0.5555555555555556,\"#1f9e89\"],[0.6666666666666666,\"#35b779\"],[0.7777777777777778,\"#6ece58\"],[0.8888888888888888,\"#b5de2b\"],[1.0,\"#fde725\"]],\"type\":\"heatmapgl\"}],\"heatmap\":[{\"colorbar\":{\"outlinewidth\":1,\"tickcolor\":\"rgb(36,36,36)\",\"ticks\":\"outside\"},\"colorscale\":[[0.0,\"#440154\"],[0.1111111111111111,\"#482878\"],[0.2222222222222222,\"#3e4989\"],[0.3333333333333333,\"#31688e\"],[0.4444444444444444,\"#26828e\"],[0.5555555555555556,\"#1f9e89\"],[0.6666666666666666,\"#35b779\"],[0.7777777777777778,\"#6ece58\"],[0.8888888888888888,\"#b5de2b\"],[1.0,\"#fde725\"]],\"type\":\"heatmap\"}],\"histogram2dcontour\":[{\"colorbar\":{\"outlinewidth\":1,\"tickcolor\":\"rgb(36,36,36)\",\"ticks\":\"outside\"},\"colorscale\":[[0.0,\"#440154\"],[0.1111111111111111,\"#482878\"],[0.2222222222222222,\"#3e4989\"],[0.3333333333333333,\"#31688e\"],[0.4444444444444444,\"#26828e\"],[0.5555555555555556,\"#1f9e89\"],[0.6666666666666666,\"#35b779\"],[0.7777777777777778,\"#6ece58\"],[0.8888888888888888,\"#b5de2b\"],[1.0,\"#fde725\"]],\"type\":\"histogram2dcontour\"}],\"histogram2d\":[{\"colorbar\":{\"outlinewidth\":1,\"tickcolor\":\"rgb(36,36,36)\",\"ticks\":\"outside\"},\"colorscale\":[[0.0,\"#440154\"],[0.1111111111111111,\"#482878\"],[0.2222222222222222,\"#3e4989\"],[0.3333333333333333,\"#31688e\"],[0.4444444444444444,\"#26828e\"],[0.5555555555555556,\"#1f9e89\"],[0.6666666666666666,\"#35b779\"],[0.7777777777777778,\"#6ece58\"],[0.8888888888888888,\"#b5de2b\"],[1.0,\"#fde725\"]],\"type\":\"histogram2d\"}],\"histogram\":[{\"marker\":{\"line\":{\"color\":\"white\",\"width\":0.6}},\"type\":\"histogram\"}],\"mesh3d\":[{\"colorbar\":{\"outlinewidth\":1,\"tickcolor\":\"rgb(36,36,36)\",\"ticks\":\"outside\"},\"type\":\"mesh3d\"}],\"parcoords\":[{\"line\":{\"colorbar\":{\"outlinewidth\":1,\"tickcolor\":\"rgb(36,36,36)\",\"ticks\":\"outside\"}},\"type\":\"parcoords\"}],\"pie\":[{\"automargin\":true,\"type\":\"pie\"}],\"scatter3d\":[{\"line\":{\"colorbar\":{\"outlinewidth\":1,\"tickcolor\":\"rgb(36,36,36)\",\"ticks\":\"outside\"}},\"marker\":{\"colorbar\":{\"outlinewidth\":1,\"tickcolor\":\"rgb(36,36,36)\",\"ticks\":\"outside\"}},\"type\":\"scatter3d\"}],\"scattercarpet\":[{\"marker\":{\"colorbar\":{\"outlinewidth\":1,\"tickcolor\":\"rgb(36,36,36)\",\"ticks\":\"outside\"}},\"type\":\"scattercarpet\"}],\"scattergeo\":[{\"marker\":{\"colorbar\":{\"outlinewidth\":1,\"tickcolor\":\"rgb(36,36,36)\",\"ticks\":\"outside\"}},\"type\":\"scattergeo\"}],\"scattergl\":[{\"marker\":{\"colorbar\":{\"outlinewidth\":1,\"tickcolor\":\"rgb(36,36,36)\",\"ticks\":\"outside\"}},\"type\":\"scattergl\"}],\"scattermapbox\":[{\"marker\":{\"colorbar\":{\"outlinewidth\":1,\"tickcolor\":\"rgb(36,36,36)\",\"ticks\":\"outside\"}},\"type\":\"scattermapbox\"}],\"scatterpolargl\":[{\"marker\":{\"colorbar\":{\"outlinewidth\":1,\"tickcolor\":\"rgb(36,36,36)\",\"ticks\":\"outside\"}},\"type\":\"scatterpolargl\"}],\"scatterpolar\":[{\"marker\":{\"colorbar\":{\"outlinewidth\":1,\"tickcolor\":\"rgb(36,36,36)\",\"ticks\":\"outside\"}},\"type\":\"scatterpolar\"}],\"scatter\":[{\"fillpattern\":{\"fillmode\":\"overlay\",\"size\":10,\"solidity\":0.2},\"type\":\"scatter\"}],\"scatterternary\":[{\"marker\":{\"colorbar\":{\"outlinewidth\":1,\"tickcolor\":\"rgb(36,36,36)\",\"ticks\":\"outside\"}},\"type\":\"scatterternary\"}],\"surface\":[{\"colorbar\":{\"outlinewidth\":1,\"tickcolor\":\"rgb(36,36,36)\",\"ticks\":\"outside\"},\"colorscale\":[[0.0,\"#440154\"],[0.1111111111111111,\"#482878\"],[0.2222222222222222,\"#3e4989\"],[0.3333333333333333,\"#31688e\"],[0.4444444444444444,\"#26828e\"],[0.5555555555555556,\"#1f9e89\"],[0.6666666666666666,\"#35b779\"],[0.7777777777777778,\"#6ece58\"],[0.8888888888888888,\"#b5de2b\"],[1.0,\"#fde725\"]],\"type\":\"surface\"}],\"table\":[{\"cells\":{\"fill\":{\"color\":\"rgb(237,237,237)\"},\"line\":{\"color\":\"white\"}},\"header\":{\"fill\":{\"color\":\"rgb(217,217,217)\"},\"line\":{\"color\":\"white\"}},\"type\":\"table\"}]},\"layout\":{\"annotationdefaults\":{\"arrowhead\":0,\"arrowwidth\":1},\"autotypenumbers\":\"strict\",\"coloraxis\":{\"colorbar\":{\"outlinewidth\":1,\"tickcolor\":\"rgb(36,36,36)\",\"ticks\":\"outside\"}},\"colorscale\":{\"diverging\":[[0.0,\"rgb(103,0,31)\"],[0.1,\"rgb(178,24,43)\"],[0.2,\"rgb(214,96,77)\"],[0.3,\"rgb(244,165,130)\"],[0.4,\"rgb(253,219,199)\"],[0.5,\"rgb(247,247,247)\"],[0.6,\"rgb(209,229,240)\"],[0.7,\"rgb(146,197,222)\"],[0.8,\"rgb(67,147,195)\"],[0.9,\"rgb(33,102,172)\"],[1.0,\"rgb(5,48,97)\"]],\"sequential\":[[0.0,\"#440154\"],[0.1111111111111111,\"#482878\"],[0.2222222222222222,\"#3e4989\"],[0.3333333333333333,\"#31688e\"],[0.4444444444444444,\"#26828e\"],[0.5555555555555556,\"#1f9e89\"],[0.6666666666666666,\"#35b779\"],[0.7777777777777778,\"#6ece58\"],[0.8888888888888888,\"#b5de2b\"],[1.0,\"#fde725\"]],\"sequentialminus\":[[0.0,\"#440154\"],[0.1111111111111111,\"#482878\"],[0.2222222222222222,\"#3e4989\"],[0.3333333333333333,\"#31688e\"],[0.4444444444444444,\"#26828e\"],[0.5555555555555556,\"#1f9e89\"],[0.6666666666666666,\"#35b779\"],[0.7777777777777778,\"#6ece58\"],[0.8888888888888888,\"#b5de2b\"],[1.0,\"#fde725\"]]},\"colorway\":[\"#1F77B4\",\"#FF7F0E\",\"#2CA02C\",\"#D62728\",\"#9467BD\",\"#8C564B\",\"#E377C2\",\"#7F7F7F\",\"#BCBD22\",\"#17BECF\"],\"font\":{\"color\":\"rgb(36,36,36)\"},\"geo\":{\"bgcolor\":\"white\",\"lakecolor\":\"white\",\"landcolor\":\"white\",\"showlakes\":true,\"showland\":true,\"subunitcolor\":\"white\"},\"hoverlabel\":{\"align\":\"left\"},\"hovermode\":\"closest\",\"mapbox\":{\"style\":\"light\"},\"paper_bgcolor\":\"white\",\"plot_bgcolor\":\"white\",\"polar\":{\"angularaxis\":{\"gridcolor\":\"rgb(232,232,232)\",\"linecolor\":\"rgb(36,36,36)\",\"showgrid\":false,\"showline\":true,\"ticks\":\"outside\"},\"bgcolor\":\"white\",\"radialaxis\":{\"gridcolor\":\"rgb(232,232,232)\",\"linecolor\":\"rgb(36,36,36)\",\"showgrid\":false,\"showline\":true,\"ticks\":\"outside\"}},\"scene\":{\"xaxis\":{\"backgroundcolor\":\"white\",\"gridcolor\":\"rgb(232,232,232)\",\"gridwidth\":2,\"linecolor\":\"rgb(36,36,36)\",\"showbackground\":true,\"showgrid\":false,\"showline\":true,\"ticks\":\"outside\",\"zeroline\":false,\"zerolinecolor\":\"rgb(36,36,36)\"},\"yaxis\":{\"backgroundcolor\":\"white\",\"gridcolor\":\"rgb(232,232,232)\",\"gridwidth\":2,\"linecolor\":\"rgb(36,36,36)\",\"showbackground\":true,\"showgrid\":false,\"showline\":true,\"ticks\":\"outside\",\"zeroline\":false,\"zerolinecolor\":\"rgb(36,36,36)\"},\"zaxis\":{\"backgroundcolor\":\"white\",\"gridcolor\":\"rgb(232,232,232)\",\"gridwidth\":2,\"linecolor\":\"rgb(36,36,36)\",\"showbackground\":true,\"showgrid\":false,\"showline\":true,\"ticks\":\"outside\",\"zeroline\":false,\"zerolinecolor\":\"rgb(36,36,36)\"}},\"shapedefaults\":{\"fillcolor\":\"black\",\"line\":{\"width\":0},\"opacity\":0.3},\"ternary\":{\"aaxis\":{\"gridcolor\":\"rgb(232,232,232)\",\"linecolor\":\"rgb(36,36,36)\",\"showgrid\":false,\"showline\":true,\"ticks\":\"outside\"},\"baxis\":{\"gridcolor\":\"rgb(232,232,232)\",\"linecolor\":\"rgb(36,36,36)\",\"showgrid\":false,\"showline\":true,\"ticks\":\"outside\"},\"bgcolor\":\"white\",\"caxis\":{\"gridcolor\":\"rgb(232,232,232)\",\"linecolor\":\"rgb(36,36,36)\",\"showgrid\":false,\"showline\":true,\"ticks\":\"outside\"}},\"title\":{\"x\":0.05},\"xaxis\":{\"automargin\":true,\"gridcolor\":\"rgb(232,232,232)\",\"linecolor\":\"rgb(36,36,36)\",\"showgrid\":false,\"showline\":true,\"ticks\":\"outside\",\"title\":{\"standoff\":15},\"zeroline\":false,\"zerolinecolor\":\"rgb(36,36,36)\"},\"yaxis\":{\"automargin\":true,\"gridcolor\":\"rgb(232,232,232)\",\"linecolor\":\"rgb(36,36,36)\",\"showgrid\":false,\"showline\":true,\"ticks\":\"outside\",\"title\":{\"standoff\":15},\"zeroline\":false,\"zerolinecolor\":\"rgb(36,36,36)\"}}},\"xaxis\":{\"showgrid\":true,\"title\":{\"text\":\"Frequency\"}},\"yaxis\":{\"showgrid\":true,\"title\":{\"text\":\"Class\"}},\"title\":{\"font\":{\"size\":22,\"color\":\"Black\"},\"text\":\"<b>Topics per Class\",\"y\":0.95,\"x\":0.4,\"xanchor\":\"center\",\"yanchor\":\"top\"},\"hoverlabel\":{\"font\":{\"size\":16,\"family\":\"Rockwell\"},\"bgcolor\":\"white\"},\"width\":1250,\"height\":900,\"legend\":{\"title\":{\"text\":\"<b>Global Topic Representation\"}}},                        {\"responsive\": true}                    ).then(function(){\n",
       "                            \n",
       "var gd = document.getElementById('421e481c-034e-4c7b-b862-11eb874d59d7');\n",
       "var x = new MutationObserver(function (mutations, observer) {{\n",
       "        var display = window.getComputedStyle(gd).display;\n",
       "        if (!display || display === 'none') {{\n",
       "            console.log([gd, 'removed!']);\n",
       "            Plotly.purge(gd);\n",
       "            observer.disconnect();\n",
       "        }}\n",
       "}});\n",
       "\n",
       "// Listen for the removal of the full notebook cells\n",
       "var notebookContainer = gd.closest('#notebook-container');\n",
       "if (notebookContainer) {{\n",
       "    x.observe(notebookContainer, {childList: true});\n",
       "}}\n",
       "\n",
       "// Listen for the clearing of the current output cell\n",
       "var outputEl = gd.closest('.output');\n",
       "if (outputEl) {{\n",
       "    x.observe(outputEl, {childList: true});\n",
       "}}\n",
       "\n",
       "                        })                };                });            </script>        </div>"
      ]
     },
     "metadata": {},
     "output_type": "display_data"
    }
   ],
   "source": [
    "topic_model.visualize_topics_per_class(topics_per_class)\n"
   ]
  },
  {
   "cell_type": "code",
   "execution_count": null,
   "id": "4586715b",
   "metadata": {},
   "outputs": [],
   "source": []
  }
 ],
 "metadata": {
  "kernelspec": {
   "display_name": "Python 3 (ipykernel)",
   "language": "python",
   "name": "python3"
  },
  "language_info": {
   "codemirror_mode": {
    "name": "ipython",
    "version": 3
   },
   "file_extension": ".py",
   "mimetype": "text/x-python",
   "name": "python",
   "nbconvert_exporter": "python",
   "pygments_lexer": "ipython3",
   "version": "3.9.7"
  }
 },
 "nbformat": 4,
 "nbformat_minor": 5
}
